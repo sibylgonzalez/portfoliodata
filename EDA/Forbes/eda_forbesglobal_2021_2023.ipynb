{
 "cells": [
  {
   "cell_type": "markdown",
   "metadata": {},
   "source": [
    "**Anális Exploratorio de datos de Forbes Global 2021**\n",
    "\n",
    "\n",
    "Fuente: https://www.forbes.com/\n",
    "\n",
    "Realizado por: Sibyl González\n",
    "\n",
    "Email: sibylgonzalez@gmail.com\n",
    "\n",
    "\n",
    "En este notebook se utiliza la API de Forbes Global 2000 para el 2021 y compararlo con el año 2023.La lista Forbes Global 2000 es un ranking anual de 2000 empresas privadas en el mundo por la revista Forbes. La clasificación se basa en una combinación de cuatro indicadores: ventas, utilidades, activos y valor de mercado."
   ]
  },
  {
   "cell_type": "markdown",
   "metadata": {},
   "source": [
    "***Importar librerias***"
   ]
  },
  {
   "cell_type": "code",
   "execution_count": 8,
   "metadata": {},
   "outputs": [],
   "source": [
    "import pandas as pd\n",
    "import requests\n",
    "import seaborn as sns\n",
    "import matplotlib.pyplot as plt\n",
    "import plotly.express as px\n"
   ]
  },
  {
   "cell_type": "markdown",
   "metadata": {},
   "source": [
    "***Extracción de datos***"
   ]
  },
  {
   "cell_type": "code",
   "execution_count": 9,
   "metadata": {},
   "outputs": [],
   "source": [
    "#Construyo una función que extraiga los datos del 2021 y del 2023\n",
    "\n",
    "def obtener_datos_forbes_global2000(year):\n",
    "    # Construir la URL del API según el año proporcionado\n",
    "    api_url = f\"https://www.forbes.com/forbesapi/org/global2000/{year}/position/true.json?limit=2000\"\n",
    "\n",
    "    # Definir los encabezados y las cookies\n",
    "    headers = {\n",
    "        \"accept\": \"application/json, text/plain, */*\",\n",
    "        \"referer\": \"https://www.forbes.com/global2000/\",\n",
    "        \"user-agent\": \"Mozilla/5.0 (X11; Linux x86_64) AppleWebKit/537.36 (KHTML, like Gecko) Chrome/87.0.4280.67 Safari/537.36\",\n",
    "    }\n",
    "\n",
    "    cookies = {\n",
    "        \"notice_behavior\": \"expressed,eu\",\n",
    "        \"notice_gdpr_prefs\": \"0,1,2:1a8b5228dd7ff0717196863a5d28ce6c\",\n",
    "    }\n",
    "\n",
    "    # Realizar la solicitud HTTP y obtener la respuesta en formato JSON\n",
    "    response = requests.get(api_url, headers=headers, cookies=cookies).json()\n",
    "\n",
    "    # Crear una lista de listas (tabla) con los datos relevantes de la respuesta JSON\n",
    "    tabla = [\n",
    "        [\n",
    "            item[\"organizationName\"],\n",
    "            item[\"country\"],\n",
    "            item[\"revenue\"],\n",
    "            item[\"profits\"],\n",
    "            item.get(\"assets\", None),\n",
    "            item[\"marketValue\"]\n",
    "        ] for item in\n",
    "        sorted(response[\"organizationList\"][\"organizationsLists\"], key=lambda k: k[\"position\"])\n",
    "    ]\n",
    "\n",
    "    # Crear un DataFrame de pandas con la tabla\n",
    "    df = pd.DataFrame(tabla, columns=[\"empresa\", \"pais\", \"ventas\", \"beneficios\", \"activos\", \"valor de mercado\"])\n",
    "\n",
    "    return df\n",
    "\n",
    "# Obtener el DataFrame para el año 2021\n",
    "df_2021 = obtener_datos_forbes_global2000(2021)\n",
    "df_2023 = obtener_datos_forbes_global2000(2023)\n"
   ]
  },
  {
   "cell_type": "code",
   "execution_count": 10,
   "metadata": {},
   "outputs": [
    {
     "data": {
      "text/html": [
       "<div>\n",
       "<style scoped>\n",
       "    .dataframe tbody tr th:only-of-type {\n",
       "        vertical-align: middle;\n",
       "    }\n",
       "\n",
       "    .dataframe tbody tr th {\n",
       "        vertical-align: top;\n",
       "    }\n",
       "\n",
       "    .dataframe thead th {\n",
       "        text-align: right;\n",
       "    }\n",
       "</style>\n",
       "<table border=\"1\" class=\"dataframe\">\n",
       "  <thead>\n",
       "    <tr style=\"text-align: right;\">\n",
       "      <th></th>\n",
       "      <th>empresa</th>\n",
       "      <th>pais</th>\n",
       "      <th>ventas</th>\n",
       "      <th>beneficios</th>\n",
       "      <th>activos</th>\n",
       "      <th>valor de mercado</th>\n",
       "    </tr>\n",
       "  </thead>\n",
       "  <tbody>\n",
       "    <tr>\n",
       "      <th>0</th>\n",
       "      <td>ICBC</td>\n",
       "      <td>China</td>\n",
       "      <td>190467.0</td>\n",
       "      <td>45768.7</td>\n",
       "      <td>4914670.0</td>\n",
       "      <td>249532.0</td>\n",
       "    </tr>\n",
       "    <tr>\n",
       "      <th>1</th>\n",
       "      <td>JPMorgan Chase</td>\n",
       "      <td>United States</td>\n",
       "      <td>136187.0</td>\n",
       "      <td>40371.0</td>\n",
       "      <td>3689336.0</td>\n",
       "      <td>464822.0</td>\n",
       "    </tr>\n",
       "    <tr>\n",
       "      <th>2</th>\n",
       "      <td>Berkshire Hathaway</td>\n",
       "      <td>United States</td>\n",
       "      <td>245510.0</td>\n",
       "      <td>42521.0</td>\n",
       "      <td>873729.0</td>\n",
       "      <td>624408.0</td>\n",
       "    </tr>\n",
       "    <tr>\n",
       "      <th>3</th>\n",
       "      <td>China Construction Bank</td>\n",
       "      <td>China</td>\n",
       "      <td>173478.0</td>\n",
       "      <td>39299.2</td>\n",
       "      <td>4301700.0</td>\n",
       "      <td>210435.0</td>\n",
       "    </tr>\n",
       "    <tr>\n",
       "      <th>4</th>\n",
       "      <td>Saudi Arabian Oil Company (Saudi Aramco)</td>\n",
       "      <td>Saudi Arabia</td>\n",
       "      <td>229747.0</td>\n",
       "      <td>49282.8</td>\n",
       "      <td>510252.0</td>\n",
       "      <td>1897165.0</td>\n",
       "    </tr>\n",
       "    <tr>\n",
       "      <th>...</th>\n",
       "      <td>...</td>\n",
       "      <td>...</td>\n",
       "      <td>...</td>\n",
       "      <td>...</td>\n",
       "      <td>...</td>\n",
       "      <td>...</td>\n",
       "    </tr>\n",
       "    <tr>\n",
       "      <th>1995</th>\n",
       "      <td>JTEKT</td>\n",
       "      <td>Japan</td>\n",
       "      <td>13050.0</td>\n",
       "      <td>-34.9</td>\n",
       "      <td>11996.0</td>\n",
       "      <td>3467.0</td>\n",
       "    </tr>\n",
       "    <tr>\n",
       "      <th>1996</th>\n",
       "      <td>Insurance Australia Group</td>\n",
       "      <td>Australia</td>\n",
       "      <td>5407.0</td>\n",
       "      <td>-212.0</td>\n",
       "      <td>24971.0</td>\n",
       "      <td>9269.0</td>\n",
       "    </tr>\n",
       "    <tr>\n",
       "      <th>1997</th>\n",
       "      <td>Sumec Corporation</td>\n",
       "      <td>China</td>\n",
       "      <td>13013.0</td>\n",
       "      <td>79.2</td>\n",
       "      <td>7075.0</td>\n",
       "      <td>1346.0</td>\n",
       "    </tr>\n",
       "    <tr>\n",
       "      <th>1998</th>\n",
       "      <td>Gold Fields</td>\n",
       "      <td>South Africa</td>\n",
       "      <td>3888.0</td>\n",
       "      <td>718.1</td>\n",
       "      <td>7473.0</td>\n",
       "      <td>8864.0</td>\n",
       "    </tr>\n",
       "    <tr>\n",
       "      <th>1999</th>\n",
       "      <td>Paycom</td>\n",
       "      <td>United States</td>\n",
       "      <td>841.0</td>\n",
       "      <td>143.4</td>\n",
       "      <td>2608.0</td>\n",
       "      <td>23982.0</td>\n",
       "    </tr>\n",
       "  </tbody>\n",
       "</table>\n",
       "<p>2000 rows × 6 columns</p>\n",
       "</div>"
      ],
      "text/plain": [
       "                                       empresa           pais    ventas  \\\n",
       "0                                         ICBC          China  190467.0   \n",
       "1                               JPMorgan Chase  United States  136187.0   \n",
       "2                           Berkshire Hathaway  United States  245510.0   \n",
       "3                      China Construction Bank          China  173478.0   \n",
       "4     Saudi Arabian Oil Company (Saudi Aramco)   Saudi Arabia  229747.0   \n",
       "...                                        ...            ...       ...   \n",
       "1995                                     JTEKT          Japan   13050.0   \n",
       "1996                 Insurance Australia Group      Australia    5407.0   \n",
       "1997                         Sumec Corporation          China   13013.0   \n",
       "1998                               Gold Fields   South Africa    3888.0   \n",
       "1999                                    Paycom  United States     841.0   \n",
       "\n",
       "      beneficios    activos  valor de mercado  \n",
       "0        45768.7  4914670.0          249532.0  \n",
       "1        40371.0  3689336.0          464822.0  \n",
       "2        42521.0   873729.0          624408.0  \n",
       "3        39299.2  4301700.0          210435.0  \n",
       "4        49282.8   510252.0         1897165.0  \n",
       "...          ...        ...               ...  \n",
       "1995       -34.9    11996.0            3467.0  \n",
       "1996      -212.0    24971.0            9269.0  \n",
       "1997        79.2     7075.0            1346.0  \n",
       "1998       718.1     7473.0            8864.0  \n",
       "1999       143.4     2608.0           23982.0  \n",
       "\n",
       "[2000 rows x 6 columns]"
      ]
     },
     "execution_count": 10,
     "metadata": {},
     "output_type": "execute_result"
    }
   ],
   "source": [
    "df_2021"
   ]
  },
  {
   "cell_type": "code",
   "execution_count": 11,
   "metadata": {},
   "outputs": [
    {
     "data": {
      "text/html": [
       "<div>\n",
       "<style scoped>\n",
       "    .dataframe tbody tr th:only-of-type {\n",
       "        vertical-align: middle;\n",
       "    }\n",
       "\n",
       "    .dataframe tbody tr th {\n",
       "        vertical-align: top;\n",
       "    }\n",
       "\n",
       "    .dataframe thead th {\n",
       "        text-align: right;\n",
       "    }\n",
       "</style>\n",
       "<table border=\"1\" class=\"dataframe\">\n",
       "  <thead>\n",
       "    <tr style=\"text-align: right;\">\n",
       "      <th></th>\n",
       "      <th>empresa</th>\n",
       "      <th>pais</th>\n",
       "      <th>ventas</th>\n",
       "      <th>beneficios</th>\n",
       "      <th>activos</th>\n",
       "      <th>valor de mercado</th>\n",
       "    </tr>\n",
       "  </thead>\n",
       "  <tbody>\n",
       "    <tr>\n",
       "      <th>0</th>\n",
       "      <td>JPMorgan Chase</td>\n",
       "      <td>United States</td>\n",
       "      <td>179933.0</td>\n",
       "      <td>41795.0</td>\n",
       "      <td>3744305.0</td>\n",
       "      <td>399594.0</td>\n",
       "    </tr>\n",
       "    <tr>\n",
       "      <th>1</th>\n",
       "      <td>Saudi Arabian Oil Company (Saudi Aramco)</td>\n",
       "      <td>Saudi Arabia</td>\n",
       "      <td>589467.0</td>\n",
       "      <td>156357.0</td>\n",
       "      <td>660990.0</td>\n",
       "      <td>2055222.0</td>\n",
       "    </tr>\n",
       "    <tr>\n",
       "      <th>2</th>\n",
       "      <td>ICBC</td>\n",
       "      <td>China</td>\n",
       "      <td>216767.0</td>\n",
       "      <td>52470.8</td>\n",
       "      <td>6116824.0</td>\n",
       "      <td>203012.0</td>\n",
       "    </tr>\n",
       "    <tr>\n",
       "      <th>3</th>\n",
       "      <td>China Construction Bank</td>\n",
       "      <td>China</td>\n",
       "      <td>203083.0</td>\n",
       "      <td>48252.5</td>\n",
       "      <td>4977476.0</td>\n",
       "      <td>172992.0</td>\n",
       "    </tr>\n",
       "    <tr>\n",
       "      <th>4</th>\n",
       "      <td>Agricultural Bank of China</td>\n",
       "      <td>China</td>\n",
       "      <td>186144.0</td>\n",
       "      <td>37924.7</td>\n",
       "      <td>5356862.0</td>\n",
       "      <td>141822.0</td>\n",
       "    </tr>\n",
       "    <tr>\n",
       "      <th>...</th>\n",
       "      <td>...</td>\n",
       "      <td>...</td>\n",
       "      <td>...</td>\n",
       "      <td>...</td>\n",
       "      <td>...</td>\n",
       "      <td>...</td>\n",
       "    </tr>\n",
       "    <tr>\n",
       "      <th>1995</th>\n",
       "      <td>Alfa Laval</td>\n",
       "      <td>Sweden</td>\n",
       "      <td>5353.0</td>\n",
       "      <td>489.5</td>\n",
       "      <td>7822.0</td>\n",
       "      <td>15595.0</td>\n",
       "    </tr>\n",
       "    <tr>\n",
       "      <th>1996</th>\n",
       "      <td>Gap</td>\n",
       "      <td>United States</td>\n",
       "      <td>15616.0</td>\n",
       "      <td>-202.0</td>\n",
       "      <td>11386.0</td>\n",
       "      <td>3175.0</td>\n",
       "    </tr>\n",
       "    <tr>\n",
       "      <th>1997</th>\n",
       "      <td>Yes Bank</td>\n",
       "      <td>India</td>\n",
       "      <td>3338.0</td>\n",
       "      <td>91.6</td>\n",
       "      <td>43221.0</td>\n",
       "      <td>5603.0</td>\n",
       "    </tr>\n",
       "    <tr>\n",
       "      <th>1998</th>\n",
       "      <td>BEKB-BCBE</td>\n",
       "      <td>Switzerland</td>\n",
       "      <td>556.0</td>\n",
       "      <td>167.1</td>\n",
       "      <td>42972.0</td>\n",
       "      <td>2490.0</td>\n",
       "    </tr>\n",
       "    <tr>\n",
       "      <th>1999</th>\n",
       "      <td>Ipsen</td>\n",
       "      <td>France</td>\n",
       "      <td>3179.0</td>\n",
       "      <td>681.7</td>\n",
       "      <td>5985.0</td>\n",
       "      <td>10205.0</td>\n",
       "    </tr>\n",
       "  </tbody>\n",
       "</table>\n",
       "<p>2000 rows × 6 columns</p>\n",
       "</div>"
      ],
      "text/plain": [
       "                                       empresa           pais    ventas  \\\n",
       "0                               JPMorgan Chase  United States  179933.0   \n",
       "1     Saudi Arabian Oil Company (Saudi Aramco)   Saudi Arabia  589467.0   \n",
       "2                                         ICBC          China  216767.0   \n",
       "3                      China Construction Bank          China  203083.0   \n",
       "4                   Agricultural Bank of China          China  186144.0   \n",
       "...                                        ...            ...       ...   \n",
       "1995                                Alfa Laval         Sweden    5353.0   \n",
       "1996                                       Gap  United States   15616.0   \n",
       "1997                                  Yes Bank          India    3338.0   \n",
       "1998                                 BEKB-BCBE    Switzerland     556.0   \n",
       "1999                                     Ipsen         France    3179.0   \n",
       "\n",
       "      beneficios    activos  valor de mercado  \n",
       "0        41795.0  3744305.0          399594.0  \n",
       "1       156357.0   660990.0         2055222.0  \n",
       "2        52470.8  6116824.0          203012.0  \n",
       "3        48252.5  4977476.0          172992.0  \n",
       "4        37924.7  5356862.0          141822.0  \n",
       "...          ...        ...               ...  \n",
       "1995       489.5     7822.0           15595.0  \n",
       "1996      -202.0    11386.0            3175.0  \n",
       "1997        91.6    43221.0            5603.0  \n",
       "1998       167.1    42972.0            2490.0  \n",
       "1999       681.7     5985.0           10205.0  \n",
       "\n",
       "[2000 rows x 6 columns]"
      ]
     },
     "execution_count": 11,
     "metadata": {},
     "output_type": "execute_result"
    }
   ],
   "source": [
    "df_2023\n"
   ]
  },
  {
   "cell_type": "markdown",
   "metadata": {},
   "source": [
    "***Procesamiento de los datos***"
   ]
  },
  {
   "cell_type": "code",
   "execution_count": 12,
   "metadata": {
    "tags": []
   },
   "outputs": [],
   "source": [
    "df_2021 = df_2021.sort_values(by='valor de mercado', ascending=False)\n",
    "\n",
    "df_2023 = df_2023.sort_values(by='valor de mercado', ascending=False)"
   ]
  },
  {
   "cell_type": "code",
   "execution_count": 13,
   "metadata": {
    "tags": []
   },
   "outputs": [],
   "source": [
    "# Definir una función para obtener empresas viejas comparando DataFrames de diferentes años\n",
    "def viejas():\n",
    "    # Obtener la lista de empresas del DataFrame del año 2021\n",
    "    empresas_2021 = df_2021['empresa'].tolist()\n",
    "    \n",
    "    # Obtener la lista de empresas del DataFrame del año 2023\n",
    "    empresas_actual = df_2023['empresa'].tolist()\n",
    "    \n",
    "    # Calcular las empresas únicas presentes en el DataFrame del año 2021 pero no en el del año 2023\n",
    "    empresas_unicas_2021 = list(set(empresas_2021) - set(empresas_actual))\n",
    "    \n",
    "    # Filtrar el DataFrame del año 2021 para obtener solo las empresas viejas\n",
    "    df_empresas_viejas = df_2021[df_2021['empresa'].isin(empresas_unicas_2021)]\n",
    "    \n",
    "    # Devolver el DataFrame resultante\n",
    "    return df_empresas_viejas\n",
    "\n",
    "# Definir una función para obtener empresas nuevas comparando DataFrames de diferentes años\n",
    "def nuevas():\n",
    "    # Obtener la lista de empresas del DataFrame del año 2021\n",
    "    empresas_2021 = df_2021['empresa'].tolist()\n",
    "    \n",
    "    # Obtener la lista de empresas del DataFrame del año 2023\n",
    "    empresas_actual = df_2023['empresa'].tolist()\n",
    "    \n",
    "    # Calcular las empresas únicas presentes en el DataFrame del año 2023 pero no en el del año 2021\n",
    "    empresas_unicas_actual = list(set(empresas_actual) - set(empresas_2021))\n",
    "    \n",
    "    # Filtrar el DataFrame del año 2023 para obtener solo las empresas nuevas\n",
    "    df_empresas_nuevas = df_2023[df_2023['empresa'].isin(empresas_unicas_actual)]\n",
    "    \n",
    "    # Devolver el DataFrame resultante\n",
    "    return df_empresas_nuevas\n"
   ]
  },
  {
   "cell_type": "code",
   "execution_count": 12,
   "metadata": {
    "tags": []
   },
   "outputs": [],
   "source": [
    "# Obtener DataFrame de empresas viejas utilizando la función 'viejas'\n",
    "df_dropped = viejas()\n",
    "\n",
    "# Obtener DataFrame de empresas nuevas utilizando la función 'nuevas'\n",
    "df_new = nuevas()\n"
   ]
  },
  {
   "cell_type": "code",
   "execution_count": 17,
   "metadata": {
    "tags": []
   },
   "outputs": [],
   "source": [
    "# Restablecer el índice del DataFrame de empresas viejas, descartando el índice anterior\n",
    "df_empresas_viejas = df_empresas_viejas.reset_index(drop=True)\n",
    "\n",
    "# Restablecer el índice del DataFrame de empresas nuevas, descartando el índice anterior\n",
    "df_empresas_nuevas = df_empresas_nuevas.reset_index(drop=True)\n"
   ]
  },
  {
   "cell_type": "code",
   "execution_count": 18,
   "metadata": {
    "tags": []
   },
   "outputs": [
    {
     "data": {
      "text/html": [
       "<div>\n",
       "<style scoped>\n",
       "    .dataframe tbody tr th:only-of-type {\n",
       "        vertical-align: middle;\n",
       "    }\n",
       "\n",
       "    .dataframe tbody tr th {\n",
       "        vertical-align: top;\n",
       "    }\n",
       "\n",
       "    .dataframe thead th {\n",
       "        text-align: right;\n",
       "    }\n",
       "</style>\n",
       "<table border=\"1\" class=\"dataframe\">\n",
       "  <thead>\n",
       "    <tr style=\"text-align: right;\">\n",
       "      <th></th>\n",
       "      <th>empresa</th>\n",
       "      <th>pais</th>\n",
       "      <th>ventas</th>\n",
       "      <th>beneficios</th>\n",
       "      <th>activos</th>\n",
       "      <th>valor de mercado</th>\n",
       "    </tr>\n",
       "  </thead>\n",
       "  <tbody>\n",
       "    <tr>\n",
       "      <th>0</th>\n",
       "      <td>Meta Platforms</td>\n",
       "      <td>United States</td>\n",
       "      <td>117346.0</td>\n",
       "      <td>21443.0</td>\n",
       "      <td>184491.0</td>\n",
       "      <td>599818.0</td>\n",
       "    </tr>\n",
       "    <tr>\n",
       "      <th>1</th>\n",
       "      <td>The Home Depot</td>\n",
       "      <td>United States</td>\n",
       "      <td>157403.0</td>\n",
       "      <td>17105.0</td>\n",
       "      <td>76445.0</td>\n",
       "      <td>293953.0</td>\n",
       "    </tr>\n",
       "    <tr>\n",
       "      <th>2</th>\n",
       "      <td>Shell</td>\n",
       "      <td>United Kingdom</td>\n",
       "      <td>365892.0</td>\n",
       "      <td>43513.1</td>\n",
       "      <td>429154.0</td>\n",
       "      <td>205451.0</td>\n",
       "    </tr>\n",
       "    <tr>\n",
       "      <th>3</th>\n",
       "      <td>Salesforce</td>\n",
       "      <td>United States</td>\n",
       "      <td>31352.0</td>\n",
       "      <td>208.0</td>\n",
       "      <td>102583.0</td>\n",
       "      <td>197590.0</td>\n",
       "    </tr>\n",
       "    <tr>\n",
       "      <th>4</th>\n",
       "      <td>TotalEnergies</td>\n",
       "      <td>France</td>\n",
       "      <td>257588.0</td>\n",
       "      <td>21120.7</td>\n",
       "      <td>293032.0</td>\n",
       "      <td>151640.0</td>\n",
       "    </tr>\n",
       "    <tr>\n",
       "      <th>...</th>\n",
       "      <td>...</td>\n",
       "      <td>...</td>\n",
       "      <td>...</td>\n",
       "      <td>...</td>\n",
       "      <td>...</td>\n",
       "      <td>...</td>\n",
       "    </tr>\n",
       "    <tr>\n",
       "      <th>368</th>\n",
       "      <td>Schweizerische Nationalbank</td>\n",
       "      <td>Switzerland</td>\n",
       "      <td>-74515.0</td>\n",
       "      <td>-76169.8</td>\n",
       "      <td>1044932.0</td>\n",
       "      <td>531.0</td>\n",
       "    </tr>\n",
       "    <tr>\n",
       "      <th>369</th>\n",
       "      <td>PT Garuda Indonesia (Persero)</td>\n",
       "      <td>Indonesia</td>\n",
       "      <td>2110.0</td>\n",
       "      <td>3669.0</td>\n",
       "      <td>6235.0</td>\n",
       "      <td>393.0</td>\n",
       "    </tr>\n",
       "    <tr>\n",
       "      <th>370</th>\n",
       "      <td>Coinshares International</td>\n",
       "      <td>United Kingdom</td>\n",
       "      <td>2536.0</td>\n",
       "      <td>2717.9</td>\n",
       "      <td>1660.0</td>\n",
       "      <td>204.0</td>\n",
       "    </tr>\n",
       "    <tr>\n",
       "      <th>371</th>\n",
       "      <td>Pakistan State Oil</td>\n",
       "      <td>Pakistan</td>\n",
       "      <td>15779.0</td>\n",
       "      <td>149.5</td>\n",
       "      <td>4160.0</td>\n",
       "      <td>188.0</td>\n",
       "    </tr>\n",
       "    <tr>\n",
       "      <th>372</th>\n",
       "      <td>AirAsia X</td>\n",
       "      <td>Malaysia</td>\n",
       "      <td>102.0</td>\n",
       "      <td>7661.5</td>\n",
       "      <td>105.0</td>\n",
       "      <td>128.0</td>\n",
       "    </tr>\n",
       "  </tbody>\n",
       "</table>\n",
       "<p>373 rows × 6 columns</p>\n",
       "</div>"
      ],
      "text/plain": [
       "                           empresa            pais    ventas  beneficios  \\\n",
       "0                   Meta Platforms   United States  117346.0     21443.0   \n",
       "1                   The Home Depot   United States  157403.0     17105.0   \n",
       "2                            Shell  United Kingdom  365892.0     43513.1   \n",
       "3                       Salesforce   United States   31352.0       208.0   \n",
       "4                    TotalEnergies          France  257588.0     21120.7   \n",
       "..                             ...             ...       ...         ...   \n",
       "368    Schweizerische Nationalbank     Switzerland  -74515.0    -76169.8   \n",
       "369  PT Garuda Indonesia (Persero)       Indonesia    2110.0      3669.0   \n",
       "370       Coinshares International  United Kingdom    2536.0      2717.9   \n",
       "371             Pakistan State Oil        Pakistan   15779.0       149.5   \n",
       "372                      AirAsia X        Malaysia     102.0      7661.5   \n",
       "\n",
       "       activos  valor de mercado  \n",
       "0     184491.0          599818.0  \n",
       "1      76445.0          293953.0  \n",
       "2     429154.0          205451.0  \n",
       "3     102583.0          197590.0  \n",
       "4     293032.0          151640.0  \n",
       "..         ...               ...  \n",
       "368  1044932.0             531.0  \n",
       "369     6235.0             393.0  \n",
       "370     1660.0             204.0  \n",
       "371     4160.0             188.0  \n",
       "372      105.0             128.0  \n",
       "\n",
       "[373 rows x 6 columns]"
      ]
     },
     "execution_count": 18,
     "metadata": {},
     "output_type": "execute_result"
    }
   ],
   "source": [
    "df_empresas_nuevas"
   ]
  },
  {
   "cell_type": "code",
   "execution_count": 19,
   "metadata": {
    "tags": []
   },
   "outputs": [
    {
     "data": {
      "text/html": [
       "<div>\n",
       "<style scoped>\n",
       "    .dataframe tbody tr th:only-of-type {\n",
       "        vertical-align: middle;\n",
       "    }\n",
       "\n",
       "    .dataframe tbody tr th {\n",
       "        vertical-align: top;\n",
       "    }\n",
       "\n",
       "    .dataframe thead th {\n",
       "        text-align: right;\n",
       "    }\n",
       "</style>\n",
       "<table border=\"1\" class=\"dataframe\">\n",
       "  <thead>\n",
       "    <tr style=\"text-align: right;\">\n",
       "      <th></th>\n",
       "      <th>empresa</th>\n",
       "      <th>pais</th>\n",
       "      <th>ventas</th>\n",
       "      <th>beneficios</th>\n",
       "      <th>activos</th>\n",
       "      <th>valor de mercado</th>\n",
       "    </tr>\n",
       "  </thead>\n",
       "  <tbody>\n",
       "    <tr>\n",
       "      <th>0</th>\n",
       "      <td>Facebook</td>\n",
       "      <td>United States</td>\n",
       "      <td>85966.0</td>\n",
       "      <td>29145.0</td>\n",
       "      <td>159316.0</td>\n",
       "      <td>870476.0</td>\n",
       "    </tr>\n",
       "    <tr>\n",
       "      <th>1</th>\n",
       "      <td>Home Depot</td>\n",
       "      <td>United States</td>\n",
       "      <td>132110.0</td>\n",
       "      <td>12866.0</td>\n",
       "      <td>70581.0</td>\n",
       "      <td>352758.0</td>\n",
       "    </tr>\n",
       "    <tr>\n",
       "      <th>2</th>\n",
       "      <td>Salesforce.com</td>\n",
       "      <td>United States</td>\n",
       "      <td>21252.0</td>\n",
       "      <td>4072.0</td>\n",
       "      <td>66301.0</td>\n",
       "      <td>213589.0</td>\n",
       "    </tr>\n",
       "    <tr>\n",
       "      <th>3</th>\n",
       "      <td>Royal Dutch Shell</td>\n",
       "      <td>Netherlands</td>\n",
       "      <td>170189.0</td>\n",
       "      <td>-22166.3</td>\n",
       "      <td>379268.0</td>\n",
       "      <td>151972.0</td>\n",
       "    </tr>\n",
       "    <tr>\n",
       "      <th>4</th>\n",
       "      <td>Total</td>\n",
       "      <td>France</td>\n",
       "      <td>119715.0</td>\n",
       "      <td>-7579.0</td>\n",
       "      <td>266132.0</td>\n",
       "      <td>118449.0</td>\n",
       "    </tr>\n",
       "    <tr>\n",
       "      <th>...</th>\n",
       "      <td>...</td>\n",
       "      <td>...</td>\n",
       "      <td>...</td>\n",
       "      <td>...</td>\n",
       "      <td>...</td>\n",
       "      <td>...</td>\n",
       "    </tr>\n",
       "    <tr>\n",
       "      <th>368</th>\n",
       "      <td>Hyakujushi Bank</td>\n",
       "      <td>Japan</td>\n",
       "      <td>612.0</td>\n",
       "      <td>37.9</td>\n",
       "      <td>51288.0</td>\n",
       "      <td>427.0</td>\n",
       "    </tr>\n",
       "    <tr>\n",
       "      <th>369</th>\n",
       "      <td>First Heartland Jusan Bank</td>\n",
       "      <td>Kazakhstan</td>\n",
       "      <td>533.0</td>\n",
       "      <td>1063.0</td>\n",
       "      <td>3837.0</td>\n",
       "      <td>323.0</td>\n",
       "    </tr>\n",
       "    <tr>\n",
       "      <th>370</th>\n",
       "      <td>Piraeus Bank</td>\n",
       "      <td>Greece</td>\n",
       "      <td>2652.0</td>\n",
       "      <td>-753.5</td>\n",
       "      <td>87577.0</td>\n",
       "      <td>289.0</td>\n",
       "    </tr>\n",
       "    <tr>\n",
       "      <th>371</th>\n",
       "      <td>RMB Holdings</td>\n",
       "      <td>South Africa</td>\n",
       "      <td>2.0</td>\n",
       "      <td>2032.6</td>\n",
       "      <td>330.0</td>\n",
       "      <td>191.0</td>\n",
       "    </tr>\n",
       "    <tr>\n",
       "      <th>372</th>\n",
       "      <td>Fareast Islami Life Insurance Company</td>\n",
       "      <td>Bangladesh</td>\n",
       "      <td>1290.0</td>\n",
       "      <td>1174.9</td>\n",
       "      <td>510.0</td>\n",
       "      <td>34.0</td>\n",
       "    </tr>\n",
       "  </tbody>\n",
       "</table>\n",
       "<p>373 rows × 6 columns</p>\n",
       "</div>"
      ],
      "text/plain": [
       "                                   empresa           pais    ventas  \\\n",
       "0                                 Facebook  United States   85966.0   \n",
       "1                               Home Depot  United States  132110.0   \n",
       "2                           Salesforce.com  United States   21252.0   \n",
       "3                        Royal Dutch Shell    Netherlands  170189.0   \n",
       "4                                    Total         France  119715.0   \n",
       "..                                     ...            ...       ...   \n",
       "368                        Hyakujushi Bank          Japan     612.0   \n",
       "369             First Heartland Jusan Bank     Kazakhstan     533.0   \n",
       "370                           Piraeus Bank         Greece    2652.0   \n",
       "371                           RMB Holdings   South Africa       2.0   \n",
       "372  Fareast Islami Life Insurance Company     Bangladesh    1290.0   \n",
       "\n",
       "     beneficios   activos  valor de mercado  \n",
       "0       29145.0  159316.0          870476.0  \n",
       "1       12866.0   70581.0          352758.0  \n",
       "2        4072.0   66301.0          213589.0  \n",
       "3      -22166.3  379268.0          151972.0  \n",
       "4       -7579.0  266132.0          118449.0  \n",
       "..          ...       ...               ...  \n",
       "368        37.9   51288.0             427.0  \n",
       "369      1063.0    3837.0             323.0  \n",
       "370      -753.5   87577.0             289.0  \n",
       "371      2032.6     330.0             191.0  \n",
       "372      1174.9     510.0              34.0  \n",
       "\n",
       "[373 rows x 6 columns]"
      ]
     },
     "execution_count": 19,
     "metadata": {},
     "output_type": "execute_result"
    }
   ],
   "source": [
    "df_empresas_viejas"
   ]
  },
  {
   "cell_type": "markdown",
   "metadata": {},
   "source": [
    "***Visualizaciones***"
   ]
  },
  {
   "cell_type": "code",
   "execution_count": 21,
   "metadata": {
    "tags": []
   },
   "outputs": [
    {
     "data": {
      "application/vnd.plotly.v1+json": {
       "config": {
        "plotlyServerURL": "https://plot.ly"
       },
       "data": [
        {
         "customdata": [
          [
           "Apple"
          ],
          [
           "Microsoft"
          ],
          [
           "Saudi Arabian Oil Company (Saudi Aramco)"
          ],
          [
           "Amazon"
          ],
          [
           "Alphabet"
          ],
          [
           "Facebook"
          ],
          [
           "Tencent Holdings"
          ],
          [
           "Tesla"
          ],
          [
           "Alibaba Group"
          ],
          [
           "Berkshire Hathaway"
          ],
          [
           "Taiwan Semiconductor"
          ],
          [
           "Samsung Electronics"
          ],
          [
           "Visa"
          ],
          [
           "JPMorgan Chase"
          ],
          [
           "Johnson & Johnson"
          ],
          [
           "NVIDIA"
          ],
          [
           "Walmart"
          ],
          [
           "Kweichow Moutai"
          ],
          [
           "Mastercard"
          ],
          [
           "LVMH Moët Hennessy Louis Vuitton"
          ],
          [
           "UnitedHealth Group"
          ],
          [
           "Home Depot"
          ],
          [
           "Walt Disney"
          ],
          [
           "Procter & Gamble"
          ],
          [
           "Bank of America"
          ],
          [
           "Nestlé"
          ],
          [
           "PayPal"
          ],
          [
           "Roche Holding"
          ],
          [
           "ASML Holding"
          ],
          [
           "Intel"
          ],
          [
           "Comcast"
          ],
          [
           "Adobe"
          ],
          [
           "ICBC"
          ],
          [
           "Netflix"
          ],
          [
           "Verizon Communications"
          ],
          [
           "ExxonMobil"
          ],
          [
           "Coca-Cola"
          ],
          [
           "Oracle"
          ],
          [
           "L'Oréal"
          ],
          [
           "Cisco Systems"
          ],
          [
           "Abbott Laboratories"
          ],
          [
           "Toyota Motor"
          ],
          [
           "Meituan "
          ],
          [
           "Pfizer"
          ],
          [
           "AT&T"
          ],
          [
           "Salesforce.com"
          ],
          [
           "Nike"
          ],
          [
           "Ping An Insurance Group"
          ],
          [
           "China Construction Bank"
          ],
          [
           "PepsiCo"
          ],
          [
           "Novartis"
          ],
          [
           "Chevron"
          ],
          [
           "Merck & Co."
          ],
          [
           "Broadcom"
          ],
          [
           "Thermo Fisher Scientific"
          ],
          [
           "China Merchants Bank"
          ],
          [
           "Accenture"
          ],
          [
           "AbbVie"
          ],
          [
           "BHP Group"
          ],
          [
           "Wells Fargo"
          ],
          [
           "Eli Lilly"
          ],
          [
           "Texas Instruments"
          ],
          [
           "McDonald's"
          ],
          [
           "Danaher"
          ],
          [
           "Medtronic"
          ],
          [
           "Novo Nordisk"
          ],
          [
           "Reliance Industries"
          ],
          [
           "SAP"
          ],
          [
           "Costco Wholesale"
          ],
          [
           "Softbank"
          ],
          [
           "Honeywell International"
          ],
          [
           "Tata Consultancy Services"
          ],
          [
           "NextEra Energy"
          ],
          [
           "Qualcomm"
          ],
          [
           "United Parcel Service"
          ],
          [
           "Wuliangye Yibin"
          ],
          [
           "AIA Group"
          ],
          [
           "Royal Dutch Shell"
          ],
          [
           "Linde"
          ],
          [
           "Citigroup"
          ],
          [
           "Unilever"
          ],
          [
           "Shopify"
          ],
          [
           "Lowe's"
          ],
          [
           "Union Pacific"
          ],
          [
           "Amgen"
          ],
          [
           "Volkswagen Group"
          ],
          [
           "Bristol Myers Squibb"
          ],
          [
           "Boeing"
          ],
          [
           "Philip Morris International"
          ],
          [
           "Agricultural Bank of China"
          ],
          [
           "Siemens"
          ],
          [
           "Starbucks"
          ],
          [
           "Sony"
          ],
          [
           "Rio Tinto"
          ],
          [
           "RBC"
          ],
          [
           "China Mobile"
          ],
          [
           "Anheuser-Busch InBev"
          ],
          [
           "AstraZeneca"
          ],
          [
           "Kuaishou Technology"
          ],
          [
           "Hermès International"
          ],
          [
           "Sanofi "
          ],
          [
           "Caterpillar"
          ],
          [
           "Charter Communications"
          ],
          [
           "Morgan Stanley"
          ],
          [
           "BlackRock"
          ],
          [
           "Applied Materials"
          ],
          [
           "Commonwealth Bank"
          ],
          [
           "TD Bank Group"
          ],
          [
           "American Express"
          ],
          [
           "HSBC Holdings"
          ],
          [
           "Deere & Company"
          ],
          [
           "IBM"
          ],
          [
           "JD.com"
          ],
          [
           "Raytheon Technologies"
          ],
          [
           "Total"
          ],
          [
           "Contemporary Amperex Technology"
          ],
          [
           "General Electric"
          ],
          [
           "Charles Schwab"
          ],
          [
           "Bank of China"
          ],
          [
           "Pinduoduo"
          ],
          [
           "Goldman Sachs Group"
          ],
          [
           "Square"
          ],
          [
           "Keyence"
          ],
          [
           "3M"
          ],
          [
           "Intuit"
          ],
          [
           "The Estée Lauder Companies"
          ],
          [
           "Uber"
          ],
          [
           "Postal Savings Bank Of China (PSBC)"
          ],
          [
           "American Tower"
          ],
          [
           "ServiceNow"
          ],
          [
           "Lockheed Martin"
          ],
          [
           "Allianz"
          ],
          [
           "AirBnB"
          ],
          [
           "Naspers"
          ],
          [
           "Inditex"
          ],
          [
           "HDFC Bank"
          ],
          [
           "Enel"
          ],
          [
           "Diageo"
          ],
          [
           "Target"
          ],
          [
           "Booking Holdings"
          ],
          [
           "Micron Technology"
          ],
          [
           "Advanced Micro Devices"
          ],
          [
           "CVS Health"
          ],
          [
           "Daimler"
          ],
          [
           "Vale"
          ],
          [
           "AIRBUS"
          ],
          [
           "Zoom Video Communications"
          ],
          [
           "Altria Group"
          ],
          [
           "Stryker"
          ],
          [
           "Nippon Telegraph & Tel"
          ],
          [
           "Intuitive Surgical"
          ],
          [
           "Kering"
          ],
          [
           "Fidelity National Information"
          ],
          [
           "CSL"
          ],
          [
           "Saudi Basic Industries"
          ],
          [
           "GlaxoSmithKline"
          ],
          [
           "Snap"
          ],
          [
           "Anthem"
          ],
          [
           "Lam Research"
          ],
          [
           "British American Tobacco"
          ],
          [
           "Deutsche Telekom"
          ],
          [
           "Schneider Electric"
          ],
          [
           "S&P Global"
          ],
          [
           "Cigna"
          ],
          [
           "US Bancorp"
          ],
          [
           "Iberdrola"
          ],
          [
           "Sberbank"
          ],
          [
           "China International Travel Service"
          ],
          [
           "Midea Group"
          ],
          [
           "Fast Retailing"
          ],
          [
           "General Motors"
          ],
          [
           "BP"
          ],
          [
           "Xiaomi  "
          ],
          [
           "Canadian National Railway"
          ],
          [
           "TJX Cos"
          ],
          [
           "SK Hynix"
          ],
          [
           "Prologis"
          ],
          [
           "Gilead Sciences"
          ],
          [
           "Fiserv"
          ],
          [
           "Foshan Haitian Flavouring and Food"
          ],
          [
           "Sinopec"
          ],
          [
           "Mondelez International"
          ],
          [
           "Automatic Data Processing"
          ],
          [
           "Hikvision"
          ],
          [
           "Atlas Copco"
          ],
          [
           "Air Liquide"
          ],
          [
           "BASF"
          ],
          [
           "Zoetis"
          ],
          [
           "MercadoLibre"
          ],
          [
           "BNP Paribas"
          ],
          [
           "Coupang"
          ],
          [
           "Truist Financial"
          ],
          [
           "Rosneft"
          ],
          [
           "Crown Castle International"
          ],
          [
           "EMD Group"
          ],
          [
           "Infosys"
          ],
          [
           "Duke Energy"
          ],
          [
           "Dell Technologies"
          ],
          [
           "Recruit Holdings "
          ],
          [
           "FedEx"
          ],
          [
           "Hong Kong Exchanges"
          ],
          [
           "PNC Financial Services"
          ],
          [
           "Becton Dickinson"
          ],
          [
           "Enbridge"
          ],
          [
           "Baidu"
          ],
          [
           "Bank of Nova Scotia"
          ],
          [
           "Nidec"
          ],
          [
           "Shenzhen Mindray Bio-Medical Electronics"
          ],
          [
           "CSX"
          ],
          [
           "Activision Blizzard"
          ],
          [
           "CME Group"
          ],
          [
           "Adyen"
          ],
          [
           "Norfolk Southern"
          ],
          [
           "Gazprom"
          ],
          [
           "NetEase"
          ],
          [
           "Chubb"
          ],
          [
           "EssilorLuxottica"
          ],
          [
           "Shin-Etsu Chemical"
          ],
          [
           "KDDI"
          ],
          [
           "Deutsche Post"
          ],
          [
           "Westpac Banking Group"
          ],
          [
           "Sherwin-Williams"
          ],
          [
           "China Yangtze Power"
          ],
          [
           "Nintendo"
          ],
          [
           "Illinois Tool Works"
          ],
          [
           "Tokyo Electron"
          ],
          [
           "BMW Group"
          ],
          [
           "Mitsubishi UFJ Financial"
          ],
          [
           "Brookfield Asset Management"
          ],
          [
           "ConocoPhillips"
          ],
          [
           "VMware"
          ],
          [
           "Southern Company"
          ],
          [
           "Colgate-Palmolive"
          ],
          [
           "Moderna"
          ],
          [
           "Coinbase"
          ],
          [
           "NAB - National Australia Bank"
          ],
          [
           "IntercontinentalExchange"
          ],
          [
           "ABB"
          ],
          [
           "AXA Group"
          ],
          [
           "Snowflake"
          ],
          [
           "Orsted"
          ],
          [
           "Safran"
          ],
          [
           "PetroChina"
          ],
          [
           "Industrial Bank "
          ],
          [
           "HCA Healthcare"
          ],
          [
           "Investor AB"
          ],
          [
           "Dominion Energy"
          ],
          [
           "Autodesk"
          ],
          [
           "Jiangsu Hengrui Medicine"
          ],
          [
           "Twilio"
          ],
          [
           "Reckitt Benckiser Group"
          ],
          [
           "Saudi National Bank"
          ],
          [
           "Adidas"
          ],
          [
           "Marsh & McLennan"
          ],
          [
           "BYD"
          ],
          [
           "Saudi Telecom"
          ],
          [
           "Global Payments"
          ],
          [
           "Ecolab"
          ],
          [
           "Equinor"
          ],
          [
           "Air Products & Chemicals"
          ],
          [
           "Bayer "
          ],
          [
           "Wuxi Apptec"
          ],
          [
           "ANZ"
          ],
          [
           "Equinix"
          ],
          [
           "Al Rajhi Bank"
          ],
          [
           "LG Chem"
          ],
          [
           "HDFC"
          ],
          [
           "Capital One"
          ],
          [
           "Workday"
          ],
          [
           "Zurich Insurance Group"
          ],
          [
           "VINCI"
          ],
          [
           "Daikin Industries"
          ],
          [
           "Hon Hai Precision "
          ],
          [
           "Moody's"
          ],
          [
           "Dassault Systemes"
          ],
          [
           "Santander"
          ],
          [
           "Bank of Montreal"
          ],
          [
           "Richemont"
          ],
          [
           "Analog Devices"
          ],
          [
           "Atlassian"
          ],
          [
           "Novatek"
          ],
          [
           "Illumina"
          ],
          [
           "Boston Scientific"
          ],
          [
           "Nongfu Spring"
          ],
          [
           "Progressive"
          ],
          [
           "Muyuan Foodstuff"
          ],
          [
           "UBS"
          ],
          [
           "China Life Insurance"
          ],
          [
           "Stellantis"
          ],
          [
           "Waste Management"
          ],
          [
           "Vertex Pharmaceuticals"
          ],
          [
           "Wuxi Biologics"
          ],
          [
           "Eaton"
          ],
          [
           "Humana"
          ],
          [
           "Twitter"
          ],
          [
           "MetLife"
          ],
          [
           "Northrop Grumman"
          ],
          [
           "Prudential"
          ],
          [
           "Freeport-McMoRan"
          ],
          [
           "DBS"
          ],
          [
           "Edwards Lifesciences"
          ],
          [
           "Emerson Electric"
          ],
          [
           "Infineon Technologies"
          ],
          [
           "Gree Electric Appliances"
          ],
          [
           "Glencore International"
          ],
          [
           "NXP Semiconductors"
          ],
          [
           "Philips"
          ],
          [
           "Spotify Technology"
          ],
          [
           "Anglo American"
          ],
          [
           "MediaTek"
          ],
          [
           "Aon"
          ],
          [
           "Hyundai Motor"
          ],
          [
           "Regeneron Pharmaceuticals"
          ],
          [
           "Pernod Ricard"
          ],
          [
           "Intesa Sanpaolo"
          ],
          [
           "Takeda Pharmaceutical"
          ],
          [
           "Petrobras"
          ],
          [
           "Norilsk Nickel"
          ],
          [
           "Luzhou Lao Jiao"
          ],
          [
           "Bank Central Asia"
          ],
          [
           "Murata Manufacturing"
          ],
          [
           "Honda Motor"
          ],
          [
           "ICICI Bank"
          ],
          [
           "Vodafone"
          ],
          [
           "Newmont Mining"
          ],
          [
           "M3"
          ],
          [
           "General Dynamics"
          ],
          [
           "LukOil"
          ],
          [
           "Volvo Group"
          ],
          [
           "Dollar General"
          ],
          [
           "Etisalat"
          ],
          [
           "Monster Beverage"
          ],
          [
           "Naver"
          ],
          [
           "RELX"
          ],
          [
           "Henkel"
          ],
          [
           "KLA"
          ],
          [
           "Denso"
          ],
          [
           "Keurig Dr Pepper"
          ],
          [
           "Longi Green Energy Technology"
          ],
          [
           "Kraft Heinz Company"
          ],
          [
           "Wanhua Chemical Group"
          ],
          [
           "Fortescue Metals Group"
          ],
          [
           "ING Group"
          ],
          [
           "London Stock Exchange"
          ],
          [
           "Canadian Pacific Railway"
          ],
          [
           "Sumitomo Mitsui Financial"
          ],
          [
           "Pinterest"
          ],
          [
           "Ford Motor"
          ],
          [
           "Wesfarmers"
          ],
          [
           "Anta Sports Products"
          ],
          [
           "Itaú Unibanco Holding"
          ],
          [
           "CNOOC"
          ],
          [
           "Daiichi Sankyo"
          ],
          [
           "Marriott International"
          ],
          [
           "Roku"
          ],
          [
           "América Móvil"
          ],
          [
           "Dow"
          ],
          [
           "CrowdStrike"
          ],
          [
           "DoorDash"
          ],
          [
           "Fanuc"
          ],
          [
           "Align Technology"
          ],
          [
           "Bank of Communications"
          ],
          [
           "Møller-Maersk"
          ],
          [
           "DSV Panalpina"
          ],
          [
           "Itochu"
          ],
          [
           "Shanghai Pudong Development"
          ],
          [
           "Kotak Mahindra Bank"
          ],
          [
           "Kimberly-Clark"
          ],
          [
           "Oriental Land"
          ],
          [
           "Ericsson"
          ],
          [
           "Public Storage"
          ],
          [
           "TC Energy"
          ],
          [
           "Las Vegas Sands"
          ],
          [
           "Shanxi Xinghuacun Fen Wine Factory"
          ],
          [
           "Hoya"
          ],
          [
           "Danone"
          ],
          [
           "Ross Stores"
          ],
          [
           "Banco Btg Pactual"
          ],
          [
           "Walgreens"
          ],
          [
           "Kakao"
          ],
          [
           "Hitachi"
          ],
          [
           "Thomson Reuters"
          ],
          [
           "IDEXX Laboratories"
          ],
          [
           "Constellation Brands"
          ],
          [
           "Neste"
          ],
          [
           "Qatar National Bank"
          ],
          [
           "Lonza Group"
          ],
          [
           "DocuSign"
          ],
          [
           "Exelon"
          ],
          [
           "Johnson Controls International"
          ],
          [
           "Barclays"
          ],
          [
           "Canadian Imperial Bank"
          ],
          [
           "Kone"
          ],
          [
           "International Holding Company"
          ],
          [
           "Sun Hung Kai Properties"
          ],
          [
           "Roper Technologies"
          ],
          [
           "EDF "
          ],
          [
           "S.F. Holding"
          ],
          [
           "Eni"
          ],
          [
           "National Grid"
          ],
          [
           "eBay"
          ],
          [
           "TE Connectivity"
          ],
          [
           "American Electric"
          ],
          [
           "Baxter International"
          ],
          [
           "Beijing-Shanghai High-Speed Railway"
          ],
          [
           "Munich Re"
          ],
          [
           "L3Harris Technologies"
          ],
          [
           "Chipotle Mexican Grill"
          ],
          [
           "First Abu Dhabi Bank"
          ],
          [
           "Chongqing Zhifei Biological Products"
          ],
          [
           "Cognizant"
          ],
          [
           "Microchip Technology"
          ],
          [
           "HP"
          ],
          [
           "Lloyds Banking Group"
          ],
          [
           "China Shenhua Energy"
          ],
          [
           "Lululemon Athletica"
          ],
          [
           "China Vanke"
          ],
          [
           "BCE"
          ],
          [
           "Nordea Bank"
          ],
          [
           "TAQA"
          ],
          [
           "Manulife"
          ],
          [
           "Haier Smart Home"
          ],
          [
           "Macquarie Group"
          ],
          [
           "Sempra Energy"
          ],
          [
           "Roblox"
          ],
          [
           "Sika"
          ],
          [
           "Mitsubishi"
          ],
          [
           "Samsung SDI"
          ],
          [
           "Veeva Systems"
          ],
          [
           "Parker-Hannifin"
          ],
          [
           "IHS Markit"
          ],
          [
           "IQVIA"
          ],
          [
           "Woolworths"
          ],
          [
           "DuPont de Nemours"
          ],
          [
           "EOG Resources"
          ],
          [
           "Sany Heavy Industry"
          ],
          [
           "Sysco"
          ],
          [
           "Cadence Design"
          ],
          [
           "Amphenol"
          ],
          [
           "Digital Realty Trust"
          ],
          [
           "Agilent Technologies"
          ],
          [
           "Credit Agricole"
          ],
          [
           "Trane Technologies"
          ],
          [
           "Palantir Technologies"
          ],
          [
           "H&M - Hennes & Mauritz"
          ],
          [
           "Banco Bradesco"
          ],
          [
           "State Bank of India"
          ],
          [
           "Biogen"
          ],
          [
           "American International Group"
          ],
          [
           "Electronic Arts"
          ],
          [
           "T Rowe Price"
          ],
          [
           "Grupo Mexico"
          ],
          [
           "Bank of New York Mellon"
          ],
          [
           "SMC"
          ],
          [
           "Vestas Wind Systems"
          ],
          [
           "Oversea-Chinese Banking"
          ],
          [
           "Bharti Airtel"
          ],
          [
           "Vonovia"
          ],
          [
           "Synopsys"
          ],
          [
           "PPG "
          ],
          [
           "Barrick Gold"
          ],
          [
           "Longfor Group Holdings"
          ],
          [
           "Smoore International Holdings"
          ],
          [
           "Bilibili"
          ],
          [
           "Travelers"
          ],
          [
           "MSCI"
          ],
          [
           "Compass Group"
          ],
          [
           "Prudential Financial"
          ],
          [
           "Match Group"
          ],
          [
           "LafargeHolcim"
          ],
          [
           "Cummins"
          ],
          [
           "DexCom"
          ],
          [
           "Givaudan"
          ],
          [
           "Galaxy Entertainment"
          ],
          [
           "Sartorius"
          ],
          [
           "Simon Property Group"
          ],
          [
           "Delivery Hero"
          ],
          [
           "CRH"
          ],
          [
           "Aptiv"
          ],
          [
           "Carrier Global"
          ],
          [
           "Flutter Entertainment"
          ],
          [
           "Partners Group Holding"
          ],
          [
           "Xcel Energy"
          ],
          [
           "Centene"
          ],
          [
           "Hexagon "
          ],
          [
           "East Money Information  "
          ],
          [
           "Celltrion"
          ],
          [
           "Aier Eye Hospital Group"
          ],
          [
           "Kinder Morgan"
          ],
          [
           "General Mills"
          ],
          [
           "Vivendi"
          ],
          [
           "O'Reilly Automotive"
          ],
          [
           "Ferrari"
          ],
          [
           "Alcon"
          ],
          [
           "HCL Technologies"
          ],
          [
           "Kuehne & Nagel International"
          ],
          [
           "Seven & I Holdings"
          ],
          [
           "Southwest Airlines"
          ],
          [
           "Cintas"
          ],
          [
           "Schlumberger"
          ],
          [
           "Aflac"
          ],
          [
           "Allstate"
          ],
          [
           "Jiangsu Yanghe Brewery"
          ],
          [
           "Canadian Natural Resources"
          ],
          [
           "Bank Rakyat Indonesia (BRI)"
          ],
          [
           "Will Semiconductor"
          ],
          [
           "SAIC Motor"
          ],
          [
           "PTT "
          ],
          [
           "China Pacific Insurance"
          ],
          [
           "Inner Mongolia Yili "
          ],
          [
           "Mizuho Financial"
          ],
          [
           "Sandvik"
          ],
          [
           "Alexion Pharmaceuticals"
          ],
          [
           "Porsche Automobil Holding"
          ],
          [
           "LyondellBasell Industries"
          ],
          [
           "Couche Tard"
          ],
          [
           "ENGIE "
          ],
          [
           "Wipro"
          ],
          [
           "Zimmer Biomet"
          ],
          [
           "CoStar Group"
          ],
          [
           "Luxshare Precision Industry"
          ],
          [
           "Hilton"
          ],
          [
           "Palo Alto Networks"
          ],
          [
           "International Flavors & Fragrances"
          ],
          [
           "Brown-Forman"
          ],
          [
           "Evolution Gaming Group AB"
          ],
          [
           "Okta"
          ],
          [
           "STMicroelectronics"
          ],
          [
           "Marathon Petroleum"
          ],
          [
           "Nippon Paint"
          ],
          [
           "Yum! Brands"
          ],
          [
           "Corning"
          ],
          [
           "Corteva"
          ],
          [
           "Paychex"
          ],
          [
           "MTR"
          ],
          [
           "D.R. Horton"
          ],
          [
           "Mitsui"
          ],
          [
           "Chewy"
          ],
          [
           "Zijin Mining Group"
          ],
          [
           "Japan Post Holdings"
          ],
          [
           "Bank of Ningbo"
          ],
          [
           "BBVA-Banco Bilbao Vizcaya"
          ],
          [
           "Tokio Marine Holdings"
          ],
          [
           "China Resources Land"
          ],
          [
           "DNB"
          ],
          [
           "Phillips 66"
          ],
          [
           "ITC"
          ],
          [
           "Asian Paints"
          ],
          [
           "Haidilao International Holding"
          ],
          [
           "Formosa Petrochemical"
          ],
          [
           "Experian"
          ],
          [
           "Peloton Interactive"
          ],
          [
           "Shenzhou International Group Holdings"
          ],
          [
           "Coloplast"
          ],
          [
           "Japan Tobacco"
          ],
          [
           "Trade Desk"
          ],
          [
           "Lufax Holding"
          ],
          [
           "EQT AB"
          ],
          [
           "Saint-Gobain"
          ],
          [
           "TransDigm Group"
          ],
          [
           "Assa Abloy"
          ],
          [
           "Fortinet"
          ],
          [
           "Schindler Holding"
          ],
          [
           "NatWest Group"
          ],
          [
           "Wayfair"
          ],
          [
           "Hershey"
          ],
          [
           "Republic Services"
          ],
          [
           "Archer Daniels Midland"
          ],
          [
           "VF"
          ],
          [
           "Lennar"
          ],
          [
           "Mitsubishi Electric"
          ],
          [
           "Stanley Black & Decker"
          ],
          [
           "China State Construction Engineering"
          ],
          [
           "Anhui Conch Cement"
          ],
          [
           "Orange"
          ],
          [
           "AutoZone"
          ],
          [
           "Paccar"
          ],
          [
           "United Overseas Bank"
          ],
          [
           "Ansys"
          ],
          [
           "Deutsche Boerse"
          ],
          [
           "Techtronic Industries"
          ],
          [
           "Zillow Group"
          ],
          [
           "Marvell Technology Group"
          ],
          [
           "Generali Group"
          ],
          [
           "Constellation Software"
          ],
          [
           "Pioneer Natural Resources"
          ],
          [
           "Citic Securities"
          ],
          [
           "Kao "
          ],
          [
           "Public Service Enterprise Group"
          ],
          [
           "Nutrien"
          ],
          [
           "Motorola Solutions"
          ],
          [
           "Suncor Energy"
          ],
          [
           "ArcelorMittal"
          ],
          [
           "CK Hutchison"
          ],
          [
           "Xilinx"
          ],
          [
           "First Republic Bank"
          ],
          [
           "Welltower"
          ],
          [
           "Telstra"
          ],
          [
           "Amadeus IT Group "
          ],
          [
           "Hengli Petrochemical"
          ],
          [
           "SBA Communications"
          ],
          [
           "SingTel"
          ],
          [
           "Discover Financial Services"
          ],
          [
           "Skyworks Solutions"
          ],
          [
           "KBC Group"
          ],
          [
           "KIA"
          ],
          [
           "Chunghwa Telecom"
          ],
          [
           "Willis Towers Watson"
          ],
          [
           "DSM"
          ],
          [
           "Rockwell Automation"
          ],
          [
           "Eversource Energy"
          ],
          [
           "E.ON"
          ],
          [
           "McKesson"
          ],
          [
           "Ametek"
          ],
          [
           "Waste Connections"
          ],
          [
           "Sun Life Financial"
          ],
          [
           "Carnival"
          ],
          [
           "WEC Energy Group"
          ],
          [
           "Capgemini"
          ],
          [
           "Otis Worldwide"
          ],
          [
           "Fujitsu"
          ],
          [
           "ResMed"
          ],
          [
           "Panasonic"
          ],
          [
           "Verisk Analytics"
          ],
          [
           "Best Buy"
          ],
          [
           "Airports of Thailand"
          ],
          [
           "Mettler-Toledo International"
          ],
          [
           "Ball"
          ],
          [
           "Delta Air Lines"
          ],
          [
           "Country Garden Services Holdings"
          ],
          [
           "Valero Energy"
          ],
          [
           "Epiroc"
          ],
          [
           "NEXON"
          ],
          [
           "CITIC"
          ],
          [
           "RingCentral"
          ],
          [
           "Weyerhaeuser"
          ],
          [
           "Transurban Group"
          ],
          [
           "Old Dominion Freight Line"
          ],
          [
           "Shiseido"
          ],
          [
           "Liberty Broadband"
          ],
          [
           "Teladoc Health"
          ],
          [
           "Komatsu"
          ],
          [
           "Copart"
          ],
          [
           "American Water Works"
          ],
          [
           "Fastenal"
          ],
          [
           "Ameriprise Financial"
          ],
          [
           "Ashtead Group"
          ],
          [
           "Ferguson"
          ],
          [
           "Magna International"
          ],
          [
           "Central Japan Railway"
          ],
          [
           "Great Wall Motor "
          ],
          [
           "WEG"
          ],
          [
           "XPeng"
          ],
          [
           "Bridgestone"
          ],
          [
           "Williams"
          ],
          [
           "Femsa"
          ],
          [
           "Royal Ahold Delhaize N.V."
          ],
          [
           "Kubota"
          ],
          [
           "Zhangzhou Pientzehuang Pharmaceutical"
          ],
          [
           "Cellnex Telecom"
          ],
          [
           "Afterpay"
          ],
          [
           "Swiss Re "
          ],
          [
           "Rongsheng Petrochemical"
          ],
          [
           "BeiGene"
          ],
          [
           "Zalando"
          ],
          [
           "Towngas"
          ],
          [
           "Kroger"
          ],
          [
           "Terumo"
          ],
          [
           "Tyson Foods"
          ],
          [
           "Continental"
          ],
          [
           "Astellas Pharma"
          ],
          [
           "TELUS"
          ],
          [
           "State Street"
          ],
          [
           "Baoshan Iron & Steel"
          ],
          [
           "SVB Financial Group"
          ],
          [
           "Unity Software"
          ],
          [
           "SEB AB"
          ],
          [
           "Etsy"
          ],
          [
           "RWE Group"
          ],
          [
           "China Telecom"
          ],
          [
           "Datadog"
          ],
          [
           "Axis Bank"
          ],
          [
           "Geely Automobile Holdings"
          ],
          [
           "CBRE Group"
          ],
          [
           "Zebra Technologies"
          ],
          [
           "Verbund"
          ],
          [
           "Dollar Tree"
          ],
          [
           "Olympus"
          ],
          [
           "Heineken"
          ],
          [
           "Hansoh Pharmaceutical Group "
          ],
          [
           "DTE Energy"
          ],
          [
           "Toyota Industries"
          ],
          [
           "Saudi Electricity"
          ],
          [
           "LG Electronics"
          ],
          [
           "Delta Electronics"
          ],
          [
           "Country Garden Holdings"
          ],
          [
           "Fifth Third Bank"
          ],
          [
           "Sampo"
          ],
          [
           "Goodman Group"
          ],
          [
           "Equity Residential"
          ],
          [
           "Keysight Technologies"
          ],
          [
           "Swisscom"
          ],
          [
           "Changchun High & New Technology"
          ],
          [
           "Garmin"
          ],
          [
           "Consolidated Edison"
          ],
          [
           "China Resources Beer (Holdings)"
          ],
          [
           "Gallagher"
          ],
          [
           "Polyus"
          ],
          [
           "Legrand"
          ],
          [
           "Michelin Group"
          ],
          [
           "Poly Developments & Holdings Group"
          ],
          [
           "EnBW-Energie Baden"
          ],
          [
           "Associated British Foods"
          ],
          [
           "AvalonBay Communities"
          ],
          [
           "China Citic Bank"
          ],
          [
           "NASDAQ"
          ],
          [
           "Seagen"
          ],
          [
           "Ecopetrol"
          ],
          [
           "East Japan Railway"
          ],
          [
           "Franco-Nevada"
          ],
          [
           "Semiconductor Manufacturing International"
          ],
          [
           "Zscaler"
          ],
          [
           "Sunny Optical Technology Group"
          ],
          [
           "Credit Suisse Group"
          ],
          [
           "Wilmar International"
          ],
          [
           "China Tower Corp."
          ],
          [
           "CDW"
          ],
          [
           "Deutsche Bank"
          ],
          [
           "China Feihe"
          ],
          [
           "Telenor"
          ],
          [
           "Larsen & Toubro"
          ],
          [
           "Siemens Energy"
          ],
          [
           "LabCorp"
          ],
          [
           "Antofagasta"
          ],
          [
           "Maxim Integrated Products"
          ],
          [
           "Avenue Supermarts"
          ],
          [
           "Fresenius"
          ],
          [
           "ViacomCBS"
          ],
          [
           "Hormel Foods"
          ],
          [
           "Hyundai Mobis"
          ],
          [
           "Yum China Holdings"
          ],
          [
           "New Oriental Education & Technology Group"
          ],
          [
           "Magazine Luiza"
          ],
          [
           "Fujifilm Holdings"
          ],
          [
           "Nan Ya Plastics"
          ],
          [
           "Realty Income"
          ],
          [
           "EPAM Systems"
          ],
          [
           "Expedia Group"
          ],
          [
           "Coca-Cola European Partners"
          ],
          [
           "Aena"
          ],
          [
           "Canon"
          ],
          [
           "Beiersdorf"
          ],
          [
           "CLP Holdings"
          ],
          [
           "Aeon"
          ],
          [
           "CaixaBank"
          ],
          [
           "Tesco"
          ],
          [
           "Slack Technologies"
          ],
          [
           "AmerisourceBergen"
          ],
          [
           "AB Sagax"
          ],
          [
           "Formosa Plastics"
          ],
          [
           "Rogers Communications"
          ],
          [
           "Fortive"
          ],
          [
           "China Minsheng Bank"
          ],
          [
           "Telefónica"
          ],
          [
           "SM Investments"
          ],
          [
           "FleetCor Technologies "
          ],
          [
           "Unicharm"
          ],
          [
           "Carlsberg"
          ],
          [
           "Rede D'Oro Luiz"
          ],
          [
           "Arista Networks"
          ],
          [
           "Wolters Kluwer"
          ],
          [
           "HubSpot"
          ],
          [
           "Naturgy Energy Group"
          ],
          [
           "Synchrony Financial"
          ],
          [
           "ZTO Express (Cayman)"
          ],
          [
           "Alexandria Real Estate Equities"
          ],
          [
           "Fortum"
          ],
          [
           "Clorox"
          ],
          [
           "Paycom"
          ],
          [
           "China Evergrande Group"
          ],
          [
           "Kyocera"
          ],
          [
           "China Everbright Bank"
          ],
          [
           "Edp-energias De Portugal"
          ],
          [
           "Offcn Education Technology"
          ],
          [
           "Geberit"
          ],
          [
           "Nucor"
          ],
          [
           "Nokia"
          ],
          [
           "United Rentals"
          ],
          [
           "McCormick"
          ],
          [
           "National Bank of Canada"
          ],
          [
           "Hartford Financial Services"
          ],
          [
           "United Microelectronics"
          ],
          [
           "VeriSign"
          ],
          [
           "Mitsubishi Estate"
          ],
          [
           "Kansas City Southern"
          ],
          [
           "LG Household & Health Care"
          ],
          [
           "Posco"
          ],
          [
           "Lindt & Sprungli"
          ],
          [
           "Equifax"
          ],
          [
           "Teleperformance"
          ],
          [
           "Essity Ab"
          ],
          [
           "Vulcan Materials"
          ],
          [
           "Edison International"
          ],
          [
           "BAE Systems"
          ],
          [
           "West Pharmaceutical Services"
          ],
          [
           "Cathay Financial"
          ],
          [
           "Kerry Group"
          ],
          [
           "Akzo Nobel"
          ],
          [
           "Trip.com Group"
          ],
          [
           "Shimano"
          ],
          [
           "Genmab"
          ],
          [
           "Oneok"
          ],
          [
           "PG&E"
          ],
          [
           "CK Asset Holdings"
          ],
          [
           "Maybank"
          ],
          [
           "UniCredit"
          ],
          [
           "Legal & General Group"
          ],
          [
           "Telkom Indonesia"
          ],
          [
           "China Mengniu Dairy"
          ],
          [
           "Cerner"
          ],
          [
           "Svenska Handelsbanken"
          ],
          [
           "Occidental Petroleum"
          ],
          [
           "Altice USA"
          ],
          [
           "International Paper"
          ],
          [
           "PPL"
          ],
          [
           "Fox"
          ],
          [
           "Aviva"
          ],
          [
           "China Gas Holdings"
          ],
          [
           "Northern Trust"
          ],
          [
           "Mitsui Fudosan"
          ],
          [
           "Asahi Group Holdings"
          ],
          [
           "Yandex NV"
          ],
          [
           "SGS"
          ],
          [
           "CGI"
          ],
          [
           "Thales"
          ],
          [
           "Martin Marietta Materials"
          ],
          [
           "Henderson Land"
          ],
          [
           "Tongwei"
          ],
          [
           "Qorvo"
          ],
          [
           "Yunnan Baiyao Group"
          ],
          [
           "Royal Caribbean Group"
          ],
          [
           "Fubon Financial"
          ],
          [
           "Sysmex"
          ],
          [
           "Ryanair Holdings"
          ],
          [
           "CNH Industrial"
          ],
          [
           "Burlington Stores"
          ],
          [
           "Teradyne"
          ],
          [
           "Kellogg"
          ],
          [
           "Church & Dwight"
          ],
          [
           "Otsuka Holding"
          ],
          [
           "Carvana"
          ],
          [
           "Ameren"
          ],
          [
           "Entergy"
          ],
          [
           "EMS-Chemie Holding"
          ],
          [
           "Nitori Holdings"
          ],
          [
           "Shenzhen Transsion Holding"
          ],
          [
           "SSE"
          ],
          [
           "WW Grainger"
          ],
          [
           "Hess"
          ],
          [
           "Industries Qatar"
          ],
          [
           "Standard Chartered"
          ],
          [
           "NARI Technology Development"
          ],
          [
           "BT Group"
          ],
          [
           "CarMax"
          ],
          [
           "Ingersoll Rand"
          ],
          [
           "Western Digital"
          ],
          [
           "Swedbank"
          ],
          [
           "Tractor Supply"
          ],
          [
           "Suzuki Motor"
          ],
          [
           "Bajaj Finserv "
          ],
          [
           "Vingroup"
          ],
          [
           "Société Générale"
          ],
          [
           "Novolipetsk Steel"
          ],
          [
           "Horizon Therapeutics Public Limited Company"
          ],
          [
           "Generac Holdings Inc."
          ],
          [
           "Sun Pharma Industries"
          ],
          [
           "Ventas"
          ],
          [
           "Hewlett Packard Enterprise"
          ],
          [
           "Dai-ichi Life Insurance"
          ],
          [
           "Evergrande Property Services Group"
          ],
          [
           "Nissan Motor"
          ],
          [
           "SK Innovation "
          ],
          [
           "Imperial Brands"
          ],
          [
           "Adani Ports & Special Economic Zone"
          ],
          [
           "Daiwa House Industry"
          ],
          [
           "Trimble"
          ],
          [
           "Take-Two Interactive Software"
          ],
          [
           "UPM-Kymmene"
          ],
          [
           "Fortis (Canada)"
          ],
          [
           "Emirates NBD"
          ],
          [
           "FirstRand"
          ],
          [
           "Beijing Oriental Yuhong Waterproof Technology"
          ],
          [
           "Samsung C&T"
          ],
          [
           "Renesas Electronics"
          ],
          [
           "Regions Financial"
          ],
          [
           "Focus Media Information Technology"
          ],
          [
           "Restaurant Brands International"
          ],
          [
           "Dover"
          ],
          [
           "Teleflex"
          ],
          [
           "Bank Mandiri"
          ],
          [
           "Eurofins Scientific Societe Europeenne"
          ],
          [
           "Link REIT"
          ],
          [
           "JSW Steel"
          ],
          [
           "Weichai Power"
          ],
          [
           "Kuwait Finance House"
          ],
          [
           "KeyCorp"
          ],
          [
           "Alstom"
          ],
          [
           "DISH Network"
          ],
          [
           "Riyad Bank"
          ],
          [
           "Orix"
          ],
          [
           "MGM Resorts"
          ],
          [
           "Knorr-Bremse"
          ],
          [
           "B3"
          ],
          [
           "National Bank of Kuwait "
          ],
          [
           "M&T Bank"
          ],
          [
           "Public Bank"
          ],
          [
           "Hologic"
          ],
          [
           "Lens Technology"
          ],
          [
           "Cooper Companies"
          ],
          [
           "Severstal"
          ],
          [
           "Ferrovial"
          ],
          [
           "Caesars Entertainment"
          ],
          [
           "Sino Biopharmaceutical"
          ],
          [
           "FirstEnergy"
          ],
          [
           "TCL "
          ],
          [
           "SK Telecom"
          ],
          [
           "ENN Energy Holdings"
          ],
          [
           "Unibail-Rodamco"
          ],
          [
           "Repsol "
          ],
          [
           "Toshiba"
          ],
          [
           "Darden Restaurants"
          ],
          [
           "AES"
          ],
          [
           "HeidelbergCement"
          ],
          [
           "China Steel"
          ],
          [
           "Logitech International"
          ],
          [
           "Guangdong Haid Group"
          ],
          [
           "Eisai"
          ],
          [
           "Wheaton Precious Metals"
          ],
          [
           "Extra Space Storage"
          ],
          [
           "Cosco Shipping"
          ],
          [
           "Citizens Bank (Rhode IsIand)"
          ],
          [
           "JDE Peet's"
          ],
          [
           "Jardine Matheson"
          ],
          [
           "Seagate Technology"
          ],
          [
           "Advantest"
          ],
          [
           "Formosa Chemicals"
          ],
          [
           "Invitation Homes"
          ],
          [
           "Latour Ab Investment"
          ],
          [
           "Essex Property Trust"
          ],
          [
           "Grifols"
          ],
          [
           "Expeditors International"
          ],
          [
           "Cheniere Energy"
          ],
          [
           "Avantor"
          ],
          [
           "Intact Financial"
          ],
          [
           "Saudi Arabian Mining"
          ],
          [
           "Bio-Rad Laboratories"
          ],
          [
           "Power Corp of Canada"
          ],
          [
           "Amcor"
          ],
          [
           "L Brands"
          ],
          [
           "SS&C Technologies"
          ],
          [
           "Sunac China Holdings"
          ],
          [
           "UCB"
          ],
          [
           "Waters"
          ],
          [
           "Ulta Beauty"
          ],
          [
           "Deutsche Wohnen"
          ],
          [
           "CMS Energy"
          ],
          [
           "Secom"
          ],
          [
           "TransUnion "
          ],
          [
           "CP All"
          ],
          [
           "KB Financial Group"
          ],
          [
           "Wingtech Technology"
          ],
          [
           "Halliburton"
          ],
          [
           "Snam"
          ],
          [
           "NVR"
          ],
          [
           "Sonova Holding"
          ],
          [
           "Aristocrat Leisure"
          ],
          [
           "J.B. Hunt Transport Services"
          ],
          [
           "Discovery"
          ],
          [
           "Broadridge Financial"
          ],
          [
           "Oil & Natural Gas"
          ],
          [
           "Boston Properties"
          ],
          [
           "TDK"
          ],
          [
           "Novozymes"
          ],
          [
           "United Airlines Holdings"
          ],
          [
           "Bank Of Shanghai"
          ],
          [
           "Ubiquiti"
          ],
          [
           "Wharf Real Estate "
          ],
          [
           "Celanese"
          ],
          [
           "Conagra Brands"
          ],
          [
           "Cardinal Health"
          ],
          [
           "China International Capital"
          ],
          [
           "Healthpeak Properties"
          ],
          [
           "Woodside Petroleum"
          ],
          [
           "Raymond James Financial"
          ],
          [
           "Ally Financial"
          ],
          [
           "Sumitomo"
          ],
          [
           "Steris"
          ],
          [
           "Albemarle"
          ],
          [
           "BOE Technology Group"
          ],
          [
           "Nomura Research Institute"
          ],
          [
           "Industrivarden"
          ],
          [
           "Telia"
          ],
          [
           "Symrise"
          ],
          [
           "Shinhan Financial Group"
          ],
          [
           "Ningxia Baofeng Energy Group"
          ],
          [
           "Banorte"
          ],
          [
           "China Unicom"
          ],
          [
           "Newcrest Mining"
          ],
          [
           "Smith & Nephew"
          ],
          [
           "Jacobs"
          ],
          [
           "Genuine Parts"
          ],
          [
           "LG "
          ],
          [
           "NetApp"
          ],
          [
           "Akamai Technologies"
          ],
          [
           "Tatneft"
          ],
          [
           "Citrix Systems"
          ],
          [
           "Principal Financial Group"
          ],
          [
           "Cincinnati Financial"
          ],
          [
           "Omnicom Group"
          ],
          [
           "Evonik"
          ],
          [
           "Quest Diagnostics"
          ],
          [
           "Suzano Papel e Celulose"
          ],
          [
           "ASE Technology Holding"
          ],
          [
           "Rakuten"
          ],
          [
           "Bandai Namco Holdings"
          ],
          [
           "Danske Bank"
          ],
          [
           "Shaanxi Coal Industry"
          ],
          [
           "NCSOFT"
          ],
          [
           "Poste Italiane"
          ],
          [
           "MS&AD Insurance"
          ],
          [
           "OMV Group"
          ],
          [
           "Lenovo Group"
          ],
          [
           "3i Group"
          ],
          [
           "IDEX"
          ],
          [
           "Markel"
          ],
          [
           "Surgutneftegas"
          ],
          [
           "Zhongsheng Group Holdings"
          ],
          [
           "Nippon Steel "
          ],
          [
           "Huntington Bank"
          ],
          [
           "Veolia Environnement"
          ],
          [
           "Avery Dennison"
          ],
          [
           "OMRON"
          ],
          [
           "Shanghai International Port"
          ],
          [
           "Puma"
          ],
          [
           "Masco"
          ],
          [
           "Swiss Life Holding"
          ],
          [
           "Nomura"
          ],
          [
           "Sumitomo Realty"
          ],
          [
           "Guosen Securities"
          ],
          [
           "WPP"
          ],
          [
           "Check Point Software"
          ],
          [
           "Publicis Groupe"
          ],
          [
           "NEC"
          ],
          [
           "Royalty Pharma"
          ],
          [
           "Pembina Pipeline"
          ],
          [
           "Charles River Labs"
          ],
          [
           "Segro"
          ],
          [
           "Chow Tai Fook Jewellery"
          ],
          [
           "Kingspan Group PLC"
          ],
          [
           "Viatris"
          ],
          [
           "Arch Capital Group"
          ],
          [
           "Shionogi"
          ],
          [
           "Cenovus Energy"
          ],
          [
           "Atlantia"
          ],
          [
           "VICI Properties"
          ],
          [
           "Tata Motors"
          ],
          [
           "Coles Group"
          ],
          [
           "Advanced Info Service"
          ],
          [
           "Asahi Kasei"
          ],
          [
           "Kirin Holdings"
          ],
          [
           "Teledyne Technologies"
          ],
          [
           "Bouygues"
          ],
          [
           "Stora Enso"
          ],
          [
           "TrygVesta"
          ],
          [
           "NN Group"
          ],
          [
           "News Corp"
          ],
          [
           "Swatch Group"
          ],
          [
           "Siam Cement"
          ],
          [
           "Daqin Railway"
          ],
          [
           "Agnico Eagle Mines"
          ],
          [
           "First Quantum Minerals"
          ],
          [
           "Grupo Elektra"
          ],
          [
           "bioMerieux"
          ],
          [
           "Eastman Chemical"
          ],
          [
           "Penn National Gaming"
          ],
          [
           "Saudi British Bank"
          ],
          [
           "Impala Platinum Holdings"
          ],
          [
           "Kinnevik"
          ],
          [
           "Toyota Tsusho"
          ],
          [
           "Joint Stock Commercial Bank for Foreign Trade of Vietnam"
          ],
          [
           "Itaúsa"
          ],
          [
           "Baker Hughes Company"
          ],
          [
           "Mega Financial Holding"
          ],
          [
           "Petronas Chemicals"
          ],
          [
           "Bank of Beijing"
          ],
          [
           "Natixis"
          ],
          [
           "Goertek"
          ],
          [
           "Domino's Pizza"
          ],
          [
           "XPO Logistics"
          ],
          [
           "HelloFresh"
          ],
          [
           "CTBC Financial"
          ],
          [
           "Liberty Global"
          ],
          [
           "Westinghouse Air Brake Technologies"
          ],
          [
           "Franklin Resources"
          ],
          [
           "Subaru"
          ],
          [
           "Wens Foodstuff Group"
          ],
          [
           "Banco do Brasil"
          ],
          [
           "HAL Trust"
          ],
          [
           "Sibanye Stillwater"
          ],
          [
           "Xinyi Solar Holdings"
          ],
          [
           "Campbell Soup"
          ],
          [
           "PerkinElmer"
          ],
          [
           "LARGAN Precision"
          ],
          [
           "JBS"
          ],
          [
           "Huaxia Bank"
          ],
          [
           "Terna"
          ],
          [
           "Power Grid of India"
          ],
          [
           "Sodexo"
          ],
          [
           "CEZ Group"
          ],
          [
           "CSPC Pharmaceutical Group"
          ],
          [
           "Whirlpool"
          ],
          [
           "Crown Holdings"
          ],
          [
           "FMC"
          ],
          [
           "China Shipbuilding Industry"
          ],
          [
           "Uni-President"
          ],
          [
           "Carrefour"
          ],
          [
           "Sekisui House"
          ],
          [
           "CapitaLand"
          ],
          [
           "Hydro One"
          ],
          [
           "Pan Pacific International Holdings"
          ],
          [
           "Marubeni"
          ],
          [
           "Molina Healthcare"
          ],
          [
           "SG Holdings"
          ],
          [
           "Loews"
          ],
          [
           "Lundbergs"
          ],
          [
           "PICC"
          ],
          [
           "China Merchants Shekou Industrial Zone Holdings"
          ],
          [
           "China Molybdenum"
          ],
          [
           "BioMarin Pharmaceutical"
          ],
          [
           "JM Smucker"
          ],
          [
           "Equitable Holdings"
          ],
          [
           "WestRock"
          ],
          [
           "Leidos"
          ],
          [
           "Evergy"
          ],
          [
           "PulteGroup"
          ],
          [
           "Tata Steel"
          ],
          [
           "International Airlines"
          ],
          [
           "Dollarama"
          ],
          [
           "Safaricom"
          ],
          [
           "Mohawk Industries"
          ],
          [
           "Fortune Brands Home & Security"
          ],
          [
           "Erste Group Bank"
          ],
          [
           "China National Nuclear Power"
          ],
          [
           "ENEOS Holdings"
          ],
          [
           "Brenntag"
          ],
          [
           "Bank of Nanjing"
          ],
          [
           "Howmet Aerospace"
          ],
          [
           "WR Berkley"
          ],
          [
           "Bajaj Auto"
          ],
          [
           "Randstad N.V."
          ],
          [
           "Persimmon"
          ],
          [
           "American Airlines Group"
          ],
          [
           "Julius Baer Group"
          ],
          [
           "Lumen Technologies"
          ],
          [
           "Alliant Energy"
          ],
          [
           "Brown & Brown"
          ],
          [
           "Thai Beverage"
          ],
          [
           "Zhongtai Securities"
          ],
          [
           "Bank Of Jiangsu"
          ],
          [
           "Alfa Laval"
          ],
          [
           "Shaw Communications"
          ],
          [
           "Transneft"
          ],
          [
           "Tenaga Nasional"
          ],
          [
           "Norsk Hydro"
          ],
          [
           "Yara International"
          ],
          [
           "Almarai"
          ],
          [
           "SKF Group"
          ],
          [
           "KPN"
          ],
          [
           "New World Development"
          ],
          [
           "China Hongqiao Group"
          ],
          [
           "George Weston"
          ],
          [
           "Korea Electric Power"
          ],
          [
           "Mahindra & Mahindra"
          ],
          [
           "Japan Exchange Group"
          ],
          [
           "Maroc Telecom"
          ],
          [
           "Sompo"
          ],
          [
           "Standard Bank Group"
          ],
          [
           "Umicore"
          ],
          [
           "Schroders"
          ],
          [
           "Bank Of Hangzhou"
          ],
          [
           "CNP Assurances"
          ],
          [
           "Covestro"
          ],
          [
           "LKQ"
          ],
          [
           "Xinyi Glass Holdings"
          ],
          [
           "Swedish Match"
          ],
          [
           "SK Holdings "
          ],
          [
           "NTPC"
          ],
          [
           "Packaging Corp of America"
          ],
          [
           "Quanta Computer"
          ],
          [
           "Samsung SDS"
          ],
          [
           "Textron"
          ],
          [
           "Williams-Sonoma"
          ],
          [
           "CenterPoint Energy"
          ],
          [
           "Scotts Miracle-Gro"
          ],
          [
           "JD Sports Fashion"
          ],
          [
           "Mondi"
          ],
          [
           "Quanta Services"
          ],
          [
           "C.H. Robinson"
          ],
          [
           "Sonic Healthcare"
          ],
          [
           "Tech Mahindra"
          ],
          [
           "Admiral Group "
          ],
          [
           "Huatai Securities"
          ],
          [
           "Signature Bank"
          ],
          [
           "Samsung Electro-Mechanics"
          ],
          [
           "Atmos Energy"
          ],
          [
           "Solvay"
          ],
          [
           "Saputo"
          ],
          [
           "KION Group"
          ],
          [
           "Samsung Life Insurance"
          ],
          [
           "Sumitomo Mitsui Trust"
          ],
          [
           "Fidelity National Financial"
          ],
          [
           "Barry Callebaut"
          ],
          [
           "China National Building"
          ],
          [
           "ONO Pharmaceutical"
          ],
          [
           "Power Assets Holdings"
          ],
          [
           "WH Group "
          ],
          [
           "Medical Properties Trust"
          ],
          [
           "Snap-on"
          ],
          [
           "Smurfit Kappa Group"
          ],
          [
           "Evraz Group"
          ],
          [
           "W.P. Carey"
          ],
          [
           "Makita"
          ],
          [
           "Mosaic"
          ],
          [
           "Coca-Cola HBC"
          ],
          [
           "Advance Auto Parts"
          ],
          [
           "Renault"
          ],
          [
           "Shenzhen Overseas"
          ],
          [
           "China Railway Group"
          ],
          [
           "CRRC"
          ],
          [
           "Lincoln National"
          ],
          [
           "Guotai Junan Securities"
          ],
          [
           "Universal Health Services"
          ],
          [
           "Sofina"
          ],
          [
           "Zoomlion Heavy Industry"
          ],
          [
           "Annaly Capital Management"
          ],
          [
           "DaVita"
          ],
          [
           "Falabella"
          ],
          [
           "Fairfax Financial"
          ],
          [
           "Westlake Chemical"
          ],
          [
           "Invesco"
          ],
          [
           "Gap"
          ],
          [
           "CNPC Capital"
          ],
          [
           "Nitto Denko"
          ],
          [
           "Kesko"
          ],
          [
           "Sumitomo Electric"
          ],
          [
           "Fosun International"
          ],
          [
           "RPM International"
          ],
          [
           "Rolls-Royce Holdings"
          ],
          [
           "Bharat Petroleum"
          ],
          [
           "Aeroports de Paris"
          ],
          [
           "OTP Bank"
          ],
          [
           "China Merchants Securities"
          ],
          [
           "Shanghai Fosun Pharmaceutical"
          ],
          [
           "New Hope Liuhe"
          ],
          [
           "China Resources Gas Group"
          ],
          [
           "Amerco"
          ],
          [
           "Melrose Industries "
          ],
          [
           "Singapore Airlines"
          ],
          [
           "Zhejiang NHU"
          ],
          [
           "Sumitomo Metal Mining"
          ],
          [
           "Grasim Industries"
          ],
          [
           "Autohome"
          ],
          [
           "Interpublic Group"
          ],
          [
           "E.Sun Financial"
          ],
          [
           "Teva Pharmaceutical"
          ],
          [
           "Swire Pacific"
          ],
          [
           "Brambles"
          ],
          [
           "Abu Dhabi Commercial Bank"
          ],
          [
           "New China Life Insurance"
          ],
          [
           "Ramsay Health Care"
          ],
          [
           "CGN Power"
          ],
          [
           "Teck Resources"
          ],
          [
           "Sharp"
          ],
          [
           "Everest Re Group"
          ],
          [
           "Qatar Islamic Bank"
          ],
          [
           "LPL Financial Holdings"
          ],
          [
           "Bunge"
          ],
          [
           "CSN"
          ],
          [
           "Gjensidige Forsikring"
          ],
          [
           "BorgWarner"
          ],
          [
           "Metro"
          ],
          [
           "Haitong Securities"
          ],
          [
           "Evergreen Marine Corp. (Taiwan)"
          ],
          [
           "Booz Allen Hamilton Holding"
          ],
          [
           "MTN Group"
          ],
          [
           "Molson Coors Brewing"
          ],
          [
           "Vedanta Limited"
          ],
          [
           "Bunzl"
          ],
          [
           "ZTE"
          ],
          [
           "Scentre Group"
          ],
          [
           "China CSSC Holdings"
          ],
          [
           "Hotai Motor"
          ],
          [
           "Ageas"
          ],
          [
           "AGCO"
          ],
          [
           "Emera"
          ],
          [
           "Cemex"
          ],
          [
           "Adecco"
          ],
          [
           "GF Securities"
          ],
          [
           "Indian Oil"
          ],
          [
           "Newell Brands"
          ],
          [
           "Siam Commercial Bank"
          ],
          [
           "Banque Saudi Fransi"
          ],
          [
           "Skanska"
          ],
          [
           "Telecom Italia"
          ],
          [
           "Credicorp"
          ],
          [
           "Hindalco Industries"
          ],
          [
           "China Longyuan Power"
          ],
          [
           "QBE Insurance Group"
          ],
          [
           "Iliad"
          ],
          [
           "Ajinomoto"
          ],
          [
           "Zhejiang Chint Electrics"
          ],
          [
           "Mitsubishi Chemical"
          ],
          [
           "Boliden"
          ],
          [
           "China Southern Airlines"
          ],
          [
           "Barratt Developments"
          ],
          [
           "Talanx"
          ],
          [
           "Inner Mongolia Baotou Steel"
          ],
          [
           "Suntory Beverage & Food"
          ],
          [
           "Lear"
          ],
          [
           "PKO Bank Polski"
          ],
          [
           "Steel Dynamics"
          ],
          [
           "Minebea"
          ],
          [
           "Top Glove"
          ],
          [
           "Zhejiang Dahua Technology"
          ],
          [
           "Jeronimo Martins"
          ],
          [
           "Globe Life"
          ],
          [
           "Fastighets Balder"
          ],
          [
           "Bank Hapoalim"
          ],
          [
           "Hana Financial Group"
          ],
          [
           "Shimao Property Holdings"
          ],
          [
           "Bausch Health Companies"
          ],
          [
           "Coal India"
          ],
          [
           "SDIC Power Holdings"
          ],
          [
           "Athene Holding"
          ],
          [
           "All Nippon Airways"
          ],
          [
           "Western Union"
          ],
          [
           "Pgnig Group"
          ],
          [
           "Yuanta Financial Holding"
          ],
          [
           "East West Bancorp"
          ],
          [
           "Tingyi Holding"
          ],
          [
           "KGHM Polska Miedz"
          ],
          [
           "West Fraser Timber Co."
          ],
          [
           "Phoenix Group Holdings"
          ],
          [
           "FinecoBank"
          ],
          [
           "Inpex"
          ],
          [
           "Lithia Motors"
          ],
          [
           "Greenland Holdings Group"
          ],
          [
           "Mitsubishi Heavy Industries"
          ],
          [
           "Suncorp Group"
          ],
          [
           "Western Alliance Bancorp."
          ],
          [
           "Kingfisher"
          ],
          [
           "CIMB Group Holdings"
          ],
          [
           "Kasikornbank"
          ],
          [
           "Standard Life"
          ],
          [
           "Builders FirstSource"
          ],
          [
           "First Financial Holding"
          ],
          [
           "West Japan Railway"
          ],
          [
           "LEG Immobilien AG"
          ],
          [
           "Toray Industries"
          ],
          [
           "Chailease Holding"
          ],
          [
           "Guangdong Investment"
          ],
          [
           "American Financial Group"
          ],
          [
           "Taiwan Cement"
          ],
          [
           "Eiffage"
          ],
          [
           "Asustek Computer"
          ],
          [
           "Polymetal International "
          ],
          [
           "Eletrobrás"
          ],
          [
           "Bank Leumi"
          ],
          [
           "Henry Schein"
          ],
          [
           "AGC"
          ],
          [
           "Sasol"
          ],
          [
           "Magnitogorsk Iron & Steel"
          ],
          [
           "Kirkland Lake Gold"
          ],
          [
           "Aramark"
          ],
          [
           "Yamato Holdings"
          ],
          [
           "President Chain Store"
          ],
          [
           "Suning.com"
          ],
          [
           "Aisin Seiki"
          ],
          [
           "Taiwan Cooperative Financial"
          ],
          [
           "Amdocs"
          ],
          [
           "Reliance Steel"
          ],
          [
           "St. James's Place"
          ],
          [
           "AECOM Technology"
          ],
          [
           "Gerdau (Cosigua)"
          ],
          [
           "Ayala Corp"
          ],
          [
           "Comerica"
          ],
          [
           "RSA Insurance Group"
          ],
          [
           "First Horizon"
          ],
          [
           "ICA Gruppen"
          ],
          [
           "Tele2"
          ],
          [
           "Red Eléctrica"
          ],
          [
           "Mediobanca"
          ],
          [
           "Csc Financial"
          ],
          [
           "Galp Energia"
          ],
          [
           "Algonquin Power & Utilities"
          ],
          [
           "Dassault Aviation"
          ],
          [
           "Aegon"
          ],
          [
           "Arkema"
          ],
          [
           "Grupo ACS"
          ],
          [
           "Pinnacle West"
          ],
          [
           "China Zheshang Bank"
          ],
          [
           "Guangzhou Automobile Group"
          ],
          [
           "Resona Holdings"
          ],
          [
           "BDO Unibank"
          ],
          [
           "Alleghany"
          ],
          [
           "Kinross Gold"
          ],
          [
           "NRG Energy"
          ],
          [
           "Canadian Tire"
          ],
          [
           "SEB SA"
          ],
          [
           "Grupo Bimbo"
          ],
          [
           "Tokyo Gas"
          ],
          [
           "Attijariwafa Bank"
          ],
          [
           "Alinma Bank"
          ],
          [
           "Kohl's"
          ],
          [
           "Masraf Al Rayan"
          ],
          [
           "AngloGold Ashanti"
          ],
          [
           "Albertsons"
          ],
          [
           "AGNC Investment"
          ],
          [
           "Insurance Australia Group"
          ],
          [
           "Flex"
          ],
          [
           "Otsuka"
          ],
          [
           "Arca Continental"
          ],
          [
           "Assurant"
          ],
          [
           "Meiji Holdings"
          ],
          [
           "Yonghui Superstores"
          ],
          [
           "KT&G"
          ],
          [
           "RTL Group"
          ],
          [
           "Zions Bancorp"
          ],
          [
           "Acciona"
          ],
          [
           "UGI"
          ],
          [
           "Chubu Electric Power"
          ],
          [
           "Jones Lang LaSalle"
          ],
          [
           "Power Construction Corporation of China"
          ],
          [
           "Yamaha Motor"
          ],
          [
           "Dangote Cement"
          ],
          [
           "Wharf (Holdings)"
          ],
          [
           "Commerce Bank"
          ],
          [
           "XCMG Construction Machinery"
          ],
          [
           "PTT Global Chemical"
          ],
          [
           "Reinsurance Group of America"
          ],
          [
           "Aroundtown "
          ],
          [
           "China Railway Construction"
          ],
          [
           "China Industrial Securities"
          ],
          [
           "Sinopharm Group"
          ],
          [
           "Banque Cantonale Vaudoise"
          ],
          [
           "Logan Property Holdings"
          ],
          [
           "Dentsu"
          ],
          [
           "Gold Fields"
          ],
          [
           "Kansai Electric Power"
          ],
          [
           "Dubai Islamic Bank"
          ],
          [
           "IndusInd Bank"
          ],
          [
           "Sekisui Chemical"
          ],
          [
           "DCC"
          ],
          [
           "Lotte Chemical"
          ],
          [
           "Hua Nan Financial"
          ],
          [
           "Arrow Electronics"
          ],
          [
           "Sumitomo Chemical"
          ],
          [
           "Korea Shipbuilding & Offshore Engineering"
          ],
          [
           "Zain"
          ],
          [
           "China Conch Venture Holdings"
          ],
          [
           "Covivio"
          ],
          [
           "Mitsubishi UFJ Lease"
          ],
          [
           "US Foods"
          ],
          [
           "Vistra Energy"
          ],
          [
           "X5 Retail Group"
          ],
          [
           "Kimco Realty"
          ],
          [
           "Electrolux Group"
          ],
          [
           "ThyssenKrupp Group"
          ],
          [
           "Arab National Bank"
          ],
          [
           "Johnson Matthey"
          ],
          [
           "RenaissanceRe Holdings"
          ],
          [
           "Empire"
          ],
          [
           "Berry Global Group"
          ],
          [
           "First Citizens Bank (NC)"
          ],
          [
           "Huntington Ingalls Industries"
          ],
          [
           "Lixil Group"
          ],
          [
           "SDIC Capital"
          ],
          [
           "GAIL India"
          ],
          [
           "Tokyo Century"
          ],
          [
           "PIK Group"
          ],
          [
           "Gemdale"
          ],
          [
           "Voya Financial"
          ],
          [
           "Aluminum Corp of China"
          ],
          [
           "Indorama Ventures"
          ],
          [
           "BCI-Banco Credito"
          ],
          [
           "S-Oil"
          ],
          [
           "Sanlam"
          ],
          [
           "Samhallsbyggnadsbolaget I Norden"
          ],
          [
           "Daiwa Securities"
          ],
          [
           "VTB Bank"
          ],
          [
           "Bancolombia"
          ],
          [
           "Jabil Circuit"
          ],
          [
           "Dongfeng Motor Group"
          ],
          [
           "Valeo"
          ],
          [
           "Hulic "
          ],
          [
           "DXC Technology"
          ],
          [
           "Ford Otosan"
          ],
          [
           "Taisei"
          ],
          [
           "Jefferies Financial "
          ],
          [
           "AutoNation"
          ],
          [
           "ATOS"
          ],
          [
           "Voestalpine"
          ],
          [
           "FAW Jiefang Group"
          ],
          [
           "China Resources Cement Holdings"
          ],
          [
           "Charoen Pokphand Foods"
          ],
          [
           "M&G"
          ],
          [
           "Daito Trust Construction"
          ],
          [
           "Bâloise Group"
          ],
          [
           "LG Display"
          ],
          [
           "Tokyu"
          ],
          [
           "Ricoh"
          ],
          [
           "Jiangxi Copper"
          ],
          [
           "Intco Medical Technology"
          ],
          [
           "Osaka Gas"
          ],
          [
           "Colruyt"
          ],
          [
           "China Communications Construction"
          ],
          [
           "China Cinda Asset Management"
          ],
          [
           "Ternium"
          ],
          [
           "Thor Industries"
          ],
          [
           "Zhejiang Zheneng Electric Power"
          ],
          [
           "Shengjing Bank"
          ],
          [
           "China Bohai Bank"
          ],
          [
           "China Eastern Airlines"
          ],
          [
           "Performance Food Group"
          ],
          [
           "Seazen Group"
          ],
          [
           "J Sainsbury"
          ],
          [
           "People's United Bank"
          ],
          [
           "Deutsche Lufthansa"
          ],
          [
           "Bank Negara Indonesia"
          ],
          [
           "Sinotruk Hong Kong"
          ],
          [
           "AIB Group"
          ],
          [
           "PKN Orlen"
          ],
          [
           "Emaar Properties"
          ],
          [
           "JFE Holdings"
          ],
          [
           "Toll Brothers"
          ],
          [
           "Dick's Sporting Goods"
          ],
          [
           "Hopson Development Holdings"
          ],
          [
           "OneMain Holdings"
          ],
          [
           "ENN Natural Gas"
          ],
          [
           "CIFI Holdings Group"
          ],
          [
           "Bangkok Bank"
          ],
          [
           "Commerzbank"
          ],
          [
           "Xinjiang Goldwind Science & Technology"
          ],
          [
           "Absa Group"
          ],
          [
           "Grupa PZU"
          ],
          [
           "T&D Holdings"
          ],
          [
           "Stifel Financial"
          ],
          [
           "Iida Group Holdings"
          ],
          [
           "Idemitsu Kosan"
          ],
          [
           "TCF Financial"
          ],
          [
           "Hengyi Petrochemical "
          ],
          [
           "Commercial Bank For Investment & Development Of Vietnam"
          ],
          [
           "Starwood Property Trust"
          ],
          [
           "Samsung Fire & Marine"
          ],
          [
           "Cullen/Frost Bankers"
          ],
          [
           "Hunan Valin Steel"
          ],
          [
           "Grupo Aval"
          ],
          [
           "Shanghai Yuyuan Tourist Mart"
          ],
          [
           "Old Republic International"
          ],
          [
           "SBI Holdings"
          ],
          [
           "Kajima"
          ],
          [
           "Ahli United Bank"
          ],
          [
           "Proximus"
          ],
          [
           "Raiffeisen Bank International"
          ],
          [
           "Prosperity Bancshares"
          ],
          [
           "Royal Mail"
          ],
          [
           "Braskem"
          ],
          [
           "Isuzu Motors"
          ],
          [
           "Penske Automotive"
          ],
          [
           "Pinnacle Bank"
          ],
          [
           "SLM"
          ],
          [
           "Synovus Financial"
          ],
          [
           "Shenwan Hongyuan Group"
          ],
          [
           "Nippon Express"
          ],
          [
           "Interactive Brokers Group"
          ],
          [
           "China Taiping Insurance"
          ],
          [
           "Mizrahi Tefahot Bank"
          ],
          [
           "Pegatron"
          ],
          [
           "Banca Mediolanum"
          ],
          [
           "Obayashi"
          ],
          [
           "Magnit"
          ],
          [
           "Nine Dragons Paper Holdings"
          ],
          [
           "Cencosud"
          ],
          [
           "China Coal Energy"
          ],
          [
           "Vietin Bank"
          ],
          [
           "GD Power Development"
          ],
          [
           "First American Financial"
          ],
          [
           "Yanzhou Coal Mining"
          ],
          [
           "Shanghai Commercial & Savings Bank"
          ],
          [
           "Nexstar Media Group"
          ],
          [
           "Kingboard Holdings"
          ],
          [
           "Woori Financial Group"
          ],
          [
           "Schaeffler"
          ],
          [
           "Lanxess"
          ],
          [
           "Chang Hwa Bank"
          ],
          [
           "Scor"
          ],
          [
           "China International Marine"
          ],
          [
           "Oji Holdings"
          ],
          [
           "Mapfre"
          ],
          [
           "Asr Nederland"
          ],
          [
           "Mitsui Chemicals"
          ],
          [
           "SYNNEX"
          ],
          [
           "CPFL Energia"
          ],
          [
           "Shimizu"
          ],
          [
           "Jiangxi Zhengbang Technology"
          ],
          [
           "BOK Financial"
          ],
          [
           "Helvetia Holding"
          ],
          [
           "Rexel"
          ],
          [
           "China Resources Power"
          ],
          [
           "Grupo Inbursa"
          ],
          [
           "Ooredoo Q.P.S.C"
          ],
          [
           "Bank of East Asia"
          ],
          [
           "Bankinter"
          ],
          [
           "China Galaxy Securities"
          ],
          [
           "BJ's Wholesale Club"
          ],
          [
           "Agile Group Holdings"
          ],
          [
           "Hyundai Glovis"
          ],
          [
           "Angang Steel"
          ],
          [
           "KT "
          ],
          [
           "Vietnam Technological & Commercial Joint Stock Bank"
          ],
          [
           "Popular"
          ],
          [
           "Toppan Printing"
          ],
          [
           "Industrial Bank of Korea"
          ],
          [
           "Manpower"
          ],
          [
           "China Merchants Port Holdings"
          ],
          [
           "Commercial Bank of Qatar "
          ],
          [
           "Far Eastern New Century"
          ],
          [
           "CJ Cheiljedang"
          ],
          [
           "Wm Morrison Supermarkets"
          ],
          [
           "Nippon Yusen"
          ],
          [
           "Bank of Changsha"
          ],
          [
           "Unum"
          ],
          [
           "EN+ Group International "
          ],
          [
           "Cathay Pacific Airways"
          ],
          [
           "China Development Financial"
          ],
          [
           "Dai Nippon Printing"
          ],
          [
           "iA Financial Corporation"
          ],
          [
           "Jinke Property Group"
          ],
          [
           "Shanghai Pharmaceuticals"
          ],
          [
           "Open House"
          ],
          [
           "New York Community Bancorp"
          ],
          [
           "Bank Of Chengdu"
          ],
          [
           "Origin Energy"
          ],
          [
           "A2A"
          ],
          [
           "Tenet Healthcare"
          ],
          [
           "Banque Centrale Populaire"
          ],
          [
           "Hyundai Steel"
          ],
          [
           "AntarChile"
          ],
          [
           "Koç Holding"
          ],
          [
           "Mirae Asset Daewoo"
          ],
          [
           "Enstar Group"
          ],
          [
           "Valley Natl Bancorp"
          ],
          [
           "Bank of Ireland"
          ],
          [
           "Youngor Group"
          ],
          [
           "Korea Investment Holdings"
          ],
          [
           "Air Lease "
          ],
          [
           "Huaneng Power International"
          ],
          [
           "Shanghai Electric Group"
          ],
          [
           "Metallurgical Corp of China"
          ],
          [
           "KWG Group Holdings"
          ],
          [
           "AVIC Capita"
          ],
          [
           "Taishin Financial Holdings"
          ],
          [
           "Bank Pekao"
          ],
          [
           "Macy's"
          ],
          [
           "Moscow Exchange"
          ],
          [
           "CIT Group"
          ],
          [
           "China Gezhouba"
          ],
          [
           "SinoPac Financial"
          ],
          [
           "Financiere de l'Odet"
          ],
          [
           "Mazda Motor"
          ],
          [
           "RHB Bank"
          ],
          [
           "LG Uplus"
          ],
          [
           "China Huarong Asset Management"
          ],
          [
           "Commercial International Bank"
          ],
          [
           "Krung Thai Bank"
          ],
          [
           "Qurate Retail Group"
          ],
          [
           "Nedbank"
          ],
          [
           "Steel Authority of India"
          ],
          [
           "Sichuan Road & Bridge"
          ],
          [
           "Israel Discount Bank"
          ],
          [
           "China National Chemical"
          ],
          [
           "Jointown Pharmaceutical Group"
          ],
          [
           "China Jinmao"
          ],
          [
           "Punjab National Bank"
          ],
          [
           "Chongqing Rural Bank"
          ],
          [
           "Abu Dhabi Islamic Bank"
          ],
          [
           "Bank of Guizhou"
          ],
          [
           "Leonardo"
          ],
          [
           "Inter Rao"
          ],
          [
           "Guangzhou R&F"
          ],
          [
           "Gudang Garam"
          ],
          [
           "RusHydro"
          ],
          [
           "Tokyo Electric Power"
          ],
          [
           "Brilliance China Automotive Holdings"
          ],
          [
           "Far East Horizon"
          ],
          [
           "Chiba Bank"
          ],
          [
           "Kerry Properties"
          ],
          [
           "Hyundai Engineering"
          ],
          [
           "Storebrand"
          ],
          [
           "Concordia Financial Group"
          ],
          [
           "Bawag Group"
          ],
          [
           "Tohoku Electric Power"
          ],
          [
           "Bank of Baroda"
          ],
          [
           "Tongling Nonferrous Metals"
          ],
          [
           "Sistema"
          ],
          [
           "Hong Leong Financial"
          ],
          [
           "China Railway Signal & Communication"
          ],
          [
           "Huishang Bank"
          ],
          [
           "Showa Denko"
          ],
          [
           "Centrica"
          ],
          [
           "Orient Securities"
          ],
          [
           "Shizuoka Bank"
          ],
          [
           "Powerlong Real Estate "
          ],
          [
           "China Reinsurance Group"
          ],
          [
           "Chongqing Changan Auto"
          ],
          [
           "Wintrust Financial"
          ],
          [
           "MOL Hungarian Oil"
          ],
          [
           "Guangzhou Rural Commercial Bank"
          ],
          [
           "Kyushu Electric Power"
          ],
          [
           "Bank of Kyoto"
          ],
          [
           "Old Mutual"
          ],
          [
           "Avnet"
          ],
          [
           "Shin Kong Financial"
          ],
          [
           "Bendigo & Adelaide Bank"
          ],
          [
           "RiseSun Real Estate Development"
          ],
          [
           "Yamada Denki"
          ],
          [
           "Halyk Bank"
          ],
          [
           "China Life Insurance (Taiwan)"
          ],
          [
           "Banco BPM"
          ],
          [
           "Beijing Enterprises"
          ],
          [
           "Mitsubishi Motors"
          ],
          [
           "Chugoku Electric Power"
          ],
          [
           "HBIS"
          ],
          [
           "Sumitomo Forestry Co.,"
          ],
          [
           "Mitsui OSK Lines"
          ],
          [
           "PGE Polska Grupa Energetyczna"
          ],
          [
           "Medipal Holdings"
          ],
          [
           "Compal Electronics"
          ],
          [
           "Jiangsu Zhongnan Construction Group"
          ],
          [
           "Metropolitan Bank & Trust"
          ],
          [
           "Haseko"
          ],
          [
           "Beijing Shougang"
          ],
          [
           "Olam International"
          ],
          [
           "Legend Holding"
          ],
          [
           "Brighthouse Financial"
          ],
          [
           "Unipol Gruppo"
          ],
          [
           "Goodyear"
          ],
          [
           "Tokyu Fudosan"
          ],
          [
           "E-mart "
          ],
          [
           "Luzerner Kantonalbank"
          ],
          [
           "Ultrapar Participacoes"
          ],
          [
           "Kawasaki Heavy Industries"
          ],
          [
           "Shanghai Construction "
          ],
          [
           "Nanjing Iron & Steel"
          ],
          [
           "China Everbright International"
          ],
          [
           "Yango Group"
          ],
          [
           "Alfresa Holdings"
          ],
          [
           "PennyMac Financial Services"
          ],
          [
           "Guangzhou Baiyunshan Pharmaceutical Holdings"
          ],
          [
           "ALSO Holding"
          ],
          [
           "China Grand Automotive Services"
          ],
          [
           "Bank Of Guiyang"
          ],
          [
           "China Fortune Land Development"
          ],
          [
           "Metro Group"
          ],
          [
           "Power Finance"
          ],
          [
           "Quilter"
          ],
          [
           "Virgin Money UK"
          ],
          [
           "Murphy USA"
          ],
          [
           "Aurubis"
          ],
          [
           "Xiamen C&D"
          ],
          [
           "STRABAG"
          ],
          [
           "Cannae Holdings"
          ],
          [
           "Indian Railway Finance"
          ],
          [
           "Huaibei Mining Holdings"
          ],
          [
           "Wuchan Zhongda Group"
          ],
          [
           "Rosseti"
          ],
          [
           "Garanti Bank"
          ],
          [
           "Bank of Jinzhou"
          ],
          [
           "Quinenco"
          ],
          [
           "Hyundai Heavy Industries Holdings"
          ],
          [
           "Bank of Suzhou"
          ],
          [
           "Qingdao Rural Commercial Bank"
          ],
          [
           "Yuexiu Property "
          ],
          [
           "Bank Muscat"
          ],
          [
           "TMB Bank"
          ],
          [
           "GS Holdings"
          ],
          [
           "Jyske Bank"
          ],
          [
           "Vienna Insurance Group"
          ],
          [
           "JTEKT"
          ],
          [
           "Sojitz"
          ],
          [
           "Inventec"
          ],
          [
           "Vodafone Idea"
          ],
          [
           "Kaisa Group Holdings"
          ],
          [
           "Fukuoka Financial Group"
          ],
          [
           "Bank of Xi'an"
          ],
          [
           "Eurobank Ergasias"
          ],
          [
           "Suzuken"
          ],
          [
           "Vipshop Holdings"
          ],
          [
           "Shenzhen Investment"
          ],
          [
           "China Nuclear Engineering Corporation"
          ],
          [
           "Bank of Jiujiang"
          ],
          [
           "Samsung Securities"
          ],
          [
           "Wistron"
          ],
          [
           "Kiwoom Securities"
          ],
          [
           "Technipfmc"
          ],
          [
           "Shinsei Bank"
          ],
          [
           "NH Investment & Securities"
          ],
          [
           "Akbank"
          ],
          [
           "BPER Banca"
          ],
          [
           "Investec"
          ],
          [
           "Fluor"
          ],
          [
           "Sinotrans Ltd."
          ],
          [
           "China Communications Services"
          ],
          [
           "Taiheiyo Cement"
          ],
          [
           "Lotte Shopping"
          ],
          [
           "Hubei Biocause Pharmaceutical"
          ],
          [
           "Xinyu Iron & Steel"
          ],
          [
           "Banco de Sabadell"
          ],
          [
           "Greentown China Holdings"
          ],
          [
           "Bank of India"
          ],
          [
           "Huadian Power International"
          ],
          [
           "Tronox"
          ],
          [
           "American Equity Investment"
          ],
          [
           "LT Group"
          ],
          [
           "American National Group"
          ],
          [
           "Mitsubishi Materials"
          ],
          [
           "China Energy Engineering"
          ],
          [
           "Electric Power Development"
          ],
          [
           "Rocket Companies"
          ],
          [
           "ALFA"
          ],
          [
           "Zhenro Properties Group"
          ],
          [
           "IHI"
          ],
          [
           "National Bank of Greece"
          ],
          [
           "Canara Bank"
          ],
          [
           "Union Bank of India"
          ],
          [
           "Midea Real Estate Holding"
          ],
          [
           "Bank of Zhengzhou"
          ],
          [
           "Bank of Qingdao"
          ],
          [
           "Times Property Holdings"
          ],
          [
           "China Aoyuan Group"
          ],
          [
           "Datang International Power"
          ],
          [
           "WPG Holdings"
          ],
          [
           "Credit Bank of Moscow"
          ],
          [
           "Zhongyuan Bank"
          ],
          [
           "Fannie Mae"
          ],
          [
           "BAIC Motor"
          ],
          [
           "Isbank"
          ],
          [
           "Navient"
          ],
          [
           "LIC Housing Finance"
          ],
          [
           "Meritz Securities"
          ],
          [
           "Bank Of Gansu"
          ],
          [
           "Taiwan Business Bank"
          ],
          [
           "Mebuki Financial Group"
          ],
          [
           "Ruchi Soya Industries"
          ],
          [
           "TP ICAP"
          ],
          [
           "Bank of Tianjin"
          ],
          [
           "Aozora Bank"
          ],
          [
           "CJ Corporation"
          ],
          [
           "Korea Gas"
          ],
          [
           "Air France-KLM"
          ],
          [
           "Jiangxi Bank"
          ],
          [
           "Shinsun Holdings (Group)"
          ],
          [
           "Kobe Steel"
          ],
          [
           "Zhongliang Holdings "
          ],
          [
           "EFG International"
          ],
          [
           "China Petroleum Engineering"
          ],
          [
           "YPF "
          ],
          [
           "Uniqa"
          ],
          [
           "Db Insurance"
          ],
          [
           "Iluka Resources"
          ],
          [
           "Big Lots"
          ],
          [
           "Radiance Holdings (Group)"
          ],
          [
           "Marfrig Global Foods"
          ],
          [
           "Orient"
          ],
          [
           "Beijing Capital Development"
          ],
          [
           "Flagstar Bancorp"
          ],
          [
           "Dixons Carphone"
          ],
          [
           "C&D International Investment Group"
          ],
          [
           "Harel Insurance Investments & Financial Services"
          ],
          [
           "Xiamen Xiangyu"
          ],
          [
           "China Overseas Grand Oceans Group"
          ],
          [
           "BBMG"
          ],
          [
           "World Fuel Services"
          ],
          [
           "Bohai Leasing"
          ],
          [
           "Banco Comercial Portugues"
          ],
          [
           "Alpha Bank"
          ],
          [
           "Ceconomy"
          ],
          [
           "Wuestenrot & Wuerttembergische"
          ],
          [
           "Huafa Industrial"
          ],
          [
           "Sabanci Holding"
          ],
          [
           "Fuyo General Lease"
          ],
          [
           "United Natural Foods"
          ],
          [
           "Xiamen International Trade Group"
          ],
          [
           "Meritz Financial Group"
          ],
          [
           "Turkish Airlines"
          ],
          [
           "Rajesh Exports"
          ],
          [
           "Credito Emiliano"
          ],
          [
           "Core-Mark Holding"
          ],
          [
           "Hanwha"
          ],
          [
           "China SCE Group Holdings"
          ],
          [
           "BNK Financial Group"
          ],
          [
           "Cosmo Energy Holdings"
          ],
          [
           "Sichuan Language Development"
          ],
          [
           "China Development Bank Financial Leasing"
          ],
          [
           "Genworth Financial"
          ],
          [
           "Kyushu Financial Group"
          ],
          [
           "Iyo Bank"
          ],
          [
           "Hirogin Holdings"
          ],
          [
           "Digital China Group"
          ],
          [
           "Companhia Brasileira de Distribuicao"
          ],
          [
           "Bombardier"
          ],
          [
           "BayWa"
          ],
          [
           "Hachijuni Bank"
          ],
          [
           "Aareal Bank"
          ],
          [
           "Sino-Ocean Group Holding"
          ],
          [
           "Hyundai Marine & Fire"
          ],
          [
           "VakifBank"
          ],
          [
           "PBF Energy"
          ],
          [
           "Zenith Bank"
          ],
          [
           "Banca Popolare di Sondrio"
          ],
          [
           "Indian Bank"
          ],
          [
           "Chugoku Bank"
          ],
          [
           "Deutsche Pfandbriefbank"
          ],
          [
           "Yamaguchi Financial"
          ],
          [
           "Just Group"
          ],
          [
           "Jiangsu Zhangjiagang Rural Commercial Bank"
          ],
          [
           "Freddie Mac"
          ],
          [
           "Unicaja Banco"
          ],
          [
           "First Pacific"
          ],
          [
           "CenTra"
          ],
          [
           "Gunma Bank"
          ],
          [
           "Harbin Bank"
          ],
          [
           "Banca MPS"
          ],
          [
           "Halkbank"
          ],
          [
           "Central Bank of India"
          ],
          [
           "Sumec Corporation"
          ],
          [
           "Community Health Systems"
          ],
          [
           "StoneX Group"
          ],
          [
           "Hanwa"
          ],
          [
           "Migdal Insurance"
          ],
          [
           "DGB Financial Group"
          ],
          [
           "FIBI Holdings"
          ],
          [
           "Nippon Steel Trading"
          ],
          [
           "Clal Insurance Enterprises "
          ],
          [
           "Ronshine China Holdings"
          ],
          [
           "Hokuhoku Financial Group"
          ],
          [
           "JB Financial Group"
          ],
          [
           "Nuernberger Beteiligungs"
          ],
          [
           "Bank of Chongqing"
          ],
          [
           "Shiga Bank"
          ],
          [
           "North Pacific Bank"
          ],
          [
           "Liberbank"
          ],
          [
           "PSG Group"
          ],
          [
           "Daishi Hokuetsu Financial Group"
          ],
          [
           "Sparebanken Nord-Norge"
          ],
          [
           "Cattolica Assicurazioni"
          ],
          [
           "Rite Aid"
          ],
          [
           "Nishi-nippon Financial Holdings"
          ],
          [
           "77 Bank"
          ],
          [
           "Kiyo Bank "
          ],
          [
           "Tenneco"
          ],
          [
           "Top Frontier Investment Holdings"
          ],
          [
           "HNA Technology"
          ],
          [
           "Zheshang Development Group"
          ],
          [
           "Hokkaido Electric Power"
          ],
          [
           "Ogaki Kyoritsu Bank"
          ],
          [
           "Doosan"
          ],
          [
           "San-In Godo Bank"
          ],
          [
           "Hyakugo Bank"
          ],
          [
           "Juroku Bank"
          ],
          [
           "Japan Securities"
          ],
          [
           "Mercuries & Associates"
          ],
          [
           "Hokkoku Bank"
          ],
          [
           "Heimstaden AB Pref. Shs"
          ],
          [
           "Nanto Bank"
          ],
          [
           "Musashino Bank"
          ],
          [
           "Toho Bank"
          ],
          [
           "Keiyo Bank"
          ],
          [
           "Daou Data"
          ],
          [
           "Bank of Nagoya"
          ],
          [
           "Senshu Ikeda Holdings"
          ],
          [
           "Hyakujushi Bank"
          ],
          [
           "Basler Kantonalbank"
          ],
          [
           "Bank of Greece"
          ],
          [
           "Tokyo Kiraboshi Financial Group"
          ],
          [
           "First Heartland Jusan Bank"
          ],
          [
           "Piraeus Bank"
          ],
          [
           "Finatis"
          ],
          [
           "RMB Holdings"
          ],
          [
           "Fareast Islami Life Insurance Company"
          ],
          [
           "Apple"
          ],
          [
           "Microsoft"
          ],
          [
           "Saudi Arabian Oil Company (Saudi Aramco)"
          ],
          [
           "Alphabet"
          ],
          [
           "Amazon"
          ],
          [
           "NVIDIA"
          ],
          [
           "Berkshire Hathaway"
          ],
          [
           "Meta Platforms"
          ],
          [
           "Tesla"
          ],
          [
           "LVMH Moët Hennessy Louis Vuitton"
          ],
          [
           "Visa"
          ],
          [
           "UnitedHealth Group"
          ],
          [
           "ExxonMobil"
          ],
          [
           "Taiwan Semiconductor"
          ],
          [
           "Johnson & Johnson"
          ],
          [
           "Tencent Holdings"
          ],
          [
           "Walmart"
          ],
          [
           "Eli Lilly"
          ],
          [
           "JPMorgan Chase"
          ],
          [
           "Procter & Gamble"
          ],
          [
           "Mastercard"
          ],
          [
           "Novo Nordisk"
          ],
          [
           "Nestlé"
          ],
          [
           "Samsung Electronics"
          ],
          [
           "Kweichow Moutai"
          ],
          [
           "Chevron"
          ],
          [
           "Merck & Co."
          ],
          [
           "The Home Depot"
          ],
          [
           "Coca-Cola"
          ],
          [
           "PepsiCo"
          ],
          [
           "Broadcom"
          ],
          [
           "AbbVie"
          ],
          [
           "Oracle"
          ],
          [
           "ASML Holding"
          ],
          [
           "Roche Holding"
          ],
          [
           "L'Oréal"
          ],
          [
           "International Holding Company"
          ],
          [
           "AstraZeneca"
          ],
          [
           "Hermès International"
          ],
          [
           "Costco Wholesale"
          ],
          [
           "Bank of America"
          ],
          [
           "Alibaba Group"
          ],
          [
           "McDonald's"
          ],
          [
           "Pfizer"
          ],
          [
           "Thermo Fisher Scientific"
          ],
          [
           "Novartis"
          ],
          [
           "Shell"
          ],
          [
           "ICBC"
          ],
          [
           "Salesforce"
          ],
          [
           "Nike"
          ],
          [
           "Abbott Laboratories"
          ],
          [
           "Cisco Systems"
          ],
          [
           "Reliance Industries"
          ],
          [
           "Toyota Motor"
          ],
          [
           "China Mobile"
          ],
          [
           "Walt Disney"
          ],
          [
           "Linde"
          ],
          [
           "Danaher"
          ],
          [
           "Accenture"
          ],
          [
           "China Construction Bank"
          ],
          [
           "Comcast"
          ],
          [
           "Adobe"
          ],
          [
           "Verizon Communications"
          ],
          [
           "SAP"
          ],
          [
           "NextEra Energy"
          ],
          [
           "TotalEnergies"
          ],
          [
           "HSBC Holdings"
          ],
          [
           "United Parcel Service"
          ],
          [
           "Texas Instruments"
          ],
          [
           "BHP Group"
          ],
          [
           "Philip Morris International"
          ],
          [
           "Advanced Micro Devices"
          ],
          [
           "Tata Consultancy Services"
          ],
          [
           "Contemporary Amperex Technology"
          ],
          [
           "Netflix"
          ],
          [
           "Bristol Myers Squibb"
          ],
          [
           "Wells Fargo"
          ],
          [
           "Agricultural Bank of China"
          ],
          [
           "Morgan Stanley"
          ],
          [
           "Raytheon Technologies"
          ],
          [
           "Sanofi "
          ],
          [
           "Unilever"
          ],
          [
           "Ping An Insurance Group"
          ],
          [
           "RBC"
          ],
          [
           "Honeywell International"
          ],
          [
           "Siemens"
          ],
          [
           "China Merchants Bank"
          ],
          [
           "Intel"
          ],
          [
           "Anheuser-Busch InBev"
          ],
          [
           "Amgen"
          ],
          [
           "PetroChina"
          ],
          [
           "Starbucks"
          ],
          [
           "Lowe's"
          ],
          [
           "Union Pacific"
          ],
          [
           "Bank of China"
          ],
          [
           "AT&T"
          ],
          [
           "ConocoPhillips"
          ],
          [
           "Qualcomm"
          ],
          [
           "AIA Group"
          ],
          [
           "Medtronic"
          ],
          [
           "Intuit"
          ],
          [
           "Boeing"
          ],
          [
           "Prologis"
          ],
          [
           "Deutsche Telekom"
          ],
          [
           "Porsche Automobil Holding"
          ],
          [
           "Lockheed Martin"
          ],
          [
           "Sony"
          ],
          [
           "Sinopec"
          ],
          [
           "Keyence"
          ],
          [
           "S&P Global"
          ],
          [
           "American Express"
          ],
          [
           "Deere & Company"
          ],
          [
           "TD Bank Group"
          ],
          [
           "IBM"
          ],
          [
           "Caterpillar"
          ],
          [
           "HDFC Bank"
          ],
          [
           "Postal Savings Bank Of China (PSBC)"
          ],
          [
           "Elevance Health"
          ],
          [
           "Commonwealth Bank"
          ],
          [
           "General Electric"
          ],
          [
           "Goldman Sachs Group"
          ],
          [
           "Inditex"
          ],
          [
           "BP"
          ],
          [
           "Meituan "
          ],
          [
           "Stryker"
          ],
          [
           "Intuitive Surgical"
          ],
          [
           "Nippon Telegraph & Tel"
          ],
          [
           "AIRBUS"
          ],
          [
           "Mondelez International"
          ],
          [
           "Diageo"
          ],
          [
           "Rio Tinto"
          ],
          [
           "Gilead Sciences"
          ],
          [
           "Blackstone"
          ],
          [
           "Applied Materials"
          ],
          [
           "CSL"
          ],
          [
           "Schneider Electric"
          ],
          [
           "Wuliangye Yibin"
          ],
          [
           "TAQA"
          ],
          [
           "BlackRock"
          ],
          [
           "Allianz"
          ],
          [
           "Booking Holdings"
          ],
          [
           "Richemont"
          ],
          [
           "Air Liquide"
          ],
          [
           "Analog Devices"
          ],
          [
           "Equinor"
          ],
          [
           "American Tower"
          ],
          [
           "CVS Health"
          ],
          [
           "TJX Cos"
          ],
          [
           "EssilorLuxottica"
          ],
          [
           "Citigroup"
          ],
          [
           "Vertex Pharmaceuticals"
          ],
          [
           "Automatic Data Processing"
          ],
          [
           "Marsh & McLennan"
          ],
          [
           "ServiceNow"
          ],
          [
           "Charles Schwab"
          ],
          [
           "BYD"
          ],
          [
           "Zoetis"
          ],
          [
           "PayPal"
          ],
          [
           "Altria Group"
          ],
          [
           "Regeneron Pharmaceuticals"
          ],
          [
           "PDD Holdings"
          ],
          [
           "Chubb"
          ],
          [
           "Southern Company"
          ],
          [
           "Iberdrola"
          ],
          [
           "Enbridge"
          ],
          [
           "Canadian National Railway"
          ],
          [
           "Al Rajhi Bank"
          ],
          [
           "Merck KGaA, Darmstadt, Germany and its affiliates"
          ],
          [
           "Shopify"
          ],
          [
           "ICICI Bank"
          ],
          [
           "British American Tobacco"
          ],
          [
           "BNP Paribas"
          ],
          [
           "Mercedes-Benz Group"
          ],
          [
           "China Yangtze Power"
          ],
          [
           "Cigna"
          ],
          [
           "Mitsubishi UFJ Financial"
          ],
          [
           "HCA Healthcare"
          ],
          [
           "Duke Energy"
          ],
          [
           "Uber"
          ],
          [
           "Progressive"
          ],
          [
           "BMW Group"
          ],
          [
           "AirBnB"
          ],
          [
           "Bank Central Asia"
          ],
          [
           "Kering"
          ],
          [
           "Canadian Pacific Kansas City"
          ],
          [
           "GSK"
          ],
          [
           "Fiserv"
          ],
          [
           "Boston Scientific"
          ],
          [
           "CNOOC"
          ],
          [
           "The Estée Lauder Companies"
          ],
          [
           "Fast Retailing"
          ],
          [
           "Becton Dickinson"
          ],
          [
           "Target"
          ],
          [
           "Lam Research"
          ],
          [
           "Atlas Copco"
          ],
          [
           "Zurich Insurance Group"
          ],
          [
           "Volkswagen Group"
          ],
          [
           "AXA Group"
          ],
          [
           "Glencore International"
          ],
          [
           "Illinois Tool Works"
          ],
          [
           "Enel"
          ],
          [
           "KDDI"
          ],
          [
           "Equinix"
          ],
          [
           "WM"
          ],
          [
           "Eaton"
          ],
          [
           "Northrop Grumman"
          ],
          [
           "VINCI"
          ],
          [
           "China Shenhua Energy"
          ],
          [
           "Aon"
          ],
          [
           "Micron Technology"
          ],
          [
           "Colgate-Palmolive"
          ],
          [
           "Humana"
          ],
          [
           "América Móvil"
          ],
          [
           "EOG Resources"
          ],
          [
           "ABB"
          ],
          [
           "Daiichi Sankyo"
          ],
          [
           "CME Group"
          ],
          [
           "Air Products & Chemicals"
          ],
          [
           "Investor AB"
          ],
          [
           "Schlumberger"
          ],
          [
           "ITC"
          ],
          [
           "CSX"
          ],
          [
           "Safran"
          ],
          [
           "Infosys"
          ],
          [
           "Bayer "
          ],
          [
           "Canadian Natural Resources"
          ],
          [
           "Petrobras"
          ],
          [
           "State Bank of India"
          ],
          [
           "Monster Beverage"
          ],
          [
           "Bank of Montreal"
          ],
          [
           "MercadoLibre"
          ],
          [
           "DBS"
          ],
          [
           "Vale"
          ],
          [
           "IntercontinentalExchange"
          ],
          [
           "HDFC"
          ],
          [
           "Pernod Ricard"
          ],
          [
           "Nongfu Spring"
          ],
          [
           "Shin-Etsu Chemical"
          ],
          [
           "Activision Blizzard"
          ],
          [
           "Oriental Land"
          ],
          [
           "Sherwin-Williams"
          ],
          [
           "Bank of Nova Scotia"
          ],
          [
           "Alpha Dhabi Holding"
          ],
          [
           "UBS"
          ],
          [
           "The Saudi National Bank"
          ],
          [
           "RELX"
          ],
          [
           "O'Reilly Automotive"
          ],
          [
           "Reckitt Benckiser Group"
          ],
          [
           "General Dynamics"
          ],
          [
           "FedEx"
          ],
          [
           "Saudi Telecom"
          ],
          [
           "3M"
          ],
          [
           "NetEase"
          ],
          [
           "Harbour Energy"
          ],
          [
           "Sumitomo Mitsui Financial"
          ],
          [
           "Synopsys"
          ],
          [
           "Thomson Reuters"
          ],
          [
           "JD.com"
          ],
          [
           "Midea Group"
          ],
          [
           "Santander"
          ],
          [
           "The Hershey Company"
          ],
          [
           "NAB - National Australia Bank"
          ],
          [
           "Softbank"
          ],
          [
           "Cadence Design"
          ],
          [
           "Chipotle Mexican Grill"
          ],
          [
           "Moody's"
          ],
          [
           "China Life Insurance"
          ],
          [
           "Palo Alto Networks"
          ],
          [
           "Etisalat"
          ],
          [
           "Deutsche Post"
          ],
          [
           "Shenzhen Mindray Bio-Medical Electronics"
          ],
          [
           "Daikin Industries"
          ],
          [
           "Occidental Petroleum"
          ],
          [
           "Tokyo Electron"
          ],
          [
           "Ferrari"
          ],
          [
           "Edwards Lifesciences"
          ],
          [
           "Bank Rakyat Indonesia (BRI)"
          ],
          [
           "Hitachi"
          ],
          [
           "Bharti Airtel"
          ],
          [
           "Marriott International"
          ],
          [
           "Charter Communications"
          ],
          [
           "Mitsubishi"
          ],
          [
           "London Stock Exchange"
          ],
          [
           "National Grid"
          ],
          [
           "VMware"
          ],
          [
           "KLA"
          ],
          [
           "EDF "
          ],
          [
           "Dassault Systemes"
          ],
          [
           "Takeda Pharmaceutical"
          ],
          [
           "General Mills"
          ],
          [
           "Freeport-McMoRan"
          ],
          [
           "Moderna"
          ],
          [
           "Public Storage"
          ],
          [
           "Bank of Communications"
          ],
          [
           "Hong Kong Exchanges"
          ],
          [
           "Industrial Bank "
          ],
          [
           "Crown Castle International"
          ],
          [
           "Itaú Unibanco Holding"
          ],
          [
           "Munich Re"
          ],
          [
           "Couche Tard"
          ],
          [
           "China Telecom"
          ],
          [
           "Banco Btg Pactual"
          ],
          [
           "Kraft Heinz Company"
          ],
          [
           "Fortinet"
          ],
          [
           "Hikvision"
          ],
          [
           "Westpac Banking Group"
          ],
          [
           "Snowflake"
          ],
          [
           "McKesson"
          ],
          [
           "Eni"
          ],
          [
           "Stellantis"
          ],
          [
           "Pioneer Natural Resources"
          ],
          [
           "AutoZone"
          ],
          [
           "Ecolab"
          ],
          [
           "Itochu"
          ],
          [
           "Lululemon Athletica"
          ],
          [
           "Nintendo"
          ],
          [
           "Kimberly-Clark"
          ],
          [
           "Adyen"
          ],
          [
           "Intesa Sanpaolo"
          ],
          [
           "Brookfield Corporation"
          ],
          [
           "Roper Technologies"
          ],
          [
           "Sempra"
          ],
          [
           "Lonza Group"
          ],
          [
           "Emerson Electric"
          ],
          [
           "Mitsui"
          ],
          [
           "ANZ"
          ],
          [
           "BASF"
          ],
          [
           "Apollo Global Management"
          ],
          [
           "Dollar General"
          ],
          [
           "Ford Motor"
          ],
          [
           "Infineon Technologies"
          ],
          [
           "Norfolk Southern"
          ],
          [
           "Hon Hai Precision "
          ],
          [
           "Cintas"
          ],
          [
           "Luzhou Lao Jiao"
          ],
          [
           "American Electric"
          ],
          [
           "Motorola Solutions"
          ],
          [
           "Dominion Energy"
          ],
          [
           "Las Vegas Sands"
          ],
          [
           "US Bancorp"
          ],
          [
           "Workday"
          ],
          [
           "Bayan Resources"
          ],
          [
           "DexCom"
          ],
          [
           "Kotak Mahindra Bank"
          ],
          [
           "Keurig Dr Pepper"
          ],
          [
           "Foshan Haitian Flavouring and Food"
          ],
          [
           "PNC Financial Services"
          ],
          [
           "General Motors"
          ],
          [
           "Republic Services"
          ],
          [
           "SK Hynix"
          ],
          [
           "Biogen"
          ],
          [
           "Zijin Mining Group"
          ],
          [
           "Compass Group"
          ],
          [
           "Kenvue"
          ],
          [
           "Marathon Petroleum"
          ],
          [
           "Gallagher"
          ],
          [
           "Amphenol"
          ],
          [
           "Honda Motor"
          ],
          [
           "Denso"
          ],
          [
           "Saudi Arabian Mining"
          ],
          [
           "Recruit Holdings "
          ],
          [
           "KKR"
          ],
          [
           "Macquarie Group"
          ],
          [
           "BCE"
          ],
          [
           "Jiangsu Hengrui Medicine"
          ],
          [
           "NXP Semiconductors"
          ],
          [
           "ING Group"
          ],
          [
           "Life Insurance Corp. of India"
          ],
          [
           "LG Chem"
          ],
          [
           "Qatar National Bank"
          ],
          [
           "Oversea-Chinese Banking"
          ],
          [
           "Sika"
          ],
          [
           "Phillips 66"
          ],
          [
           "Parker-Hannifin"
          ],
          [
           "Johnson Controls International"
          ],
          [
           "Exelon"
          ],
          [
           "Arista Networks"
          ],
          [
           "Danone"
          ],
          [
           "First Abu Dhabi Bank"
          ],
          [
           "Realty Income"
          ],
          [
           "Shanxi Xinghuacun Fen Wine Factory"
          ],
          [
           "Woodside Energy Group"
          ],
          [
           "Travelers"
          ],
          [
           "Baidu"
          ],
          [
           "Fortescue Metals Group"
          ],
          [
           "TransDigm Group"
          ],
          [
           "Autodesk"
          ],
          [
           "MetLife"
          ],
          [
           "Hess"
          ],
          [
           "TC Energy"
          ],
          [
           "Corteva"
          ],
          [
           "China State Construction Engineering"
          ],
          [
           "Archer Daniels Midland"
          ],
          [
           "Anglo American"
          ],
          [
           "BBVA-Banco Bilbao Vizcaya"
          ],
          [
           "DSV Panalpina"
          ],
          [
           "Microchip Technology"
          ],
          [
           "Prudential"
          ],
          [
           "Constellation Software"
          ],
          [
           "Volvo Group"
          ],
          [
           "Constellation Brands"
          ],
          [
           "Wanhua Chemical Group"
          ],
          [
           "Larsen & Toubro"
          ],
          [
           "Sun Hung Kai Properties"
          ],
          [
           "Aflac"
          ],
          [
           "Seven & I Holdings"
          ],
          [
           "Beijing-Shanghai High-Speed Railway"
          ],
          [
           "China Tourism Group Duty Free "
          ],
          [
           "IDEXX Laboratories"
          ],
          [
           "Trane Technologies"
          ],
          [
           "UniCredit"
          ],
          [
           "Tokio Marine Holdings"
          ],
          [
           "Haleon"
          ],
          [
           "Holcim"
          ],
          [
           "American International Group"
          ],
          [
           "Agilent Technologies"
          ],
          [
           "Wesfarmers"
          ],
          [
           "Hoya"
          ],
          [
           "Orsted"
          ],
          [
           "Welltower"
          ],
          [
           "Suncor Energy"
          ],
          [
           "Hyundai Motor"
          ],
          [
           "Sysco"
          ],
          [
           "Paychex"
          ],
          [
           "ENGIE "
          ],
          [
           "TE Connectivity"
          ],
          [
           "Newmont Mining"
          ],
          [
           "Valero Energy"
          ],
          [
           "Japan Tobacco"
          ],
          [
           "Nordea Bank"
          ],
          [
           "Yum! Brands"
          ],
          [
           "Dow"
          ],
          [
           "CITIC"
          ],
          [
           "Universal Music Group"
          ],
          [
           "Xcel Energy"
          ],
          [
           "Hilton Worldwide Holdings"
          ],
          [
           "STMicroelectronics"
          ],
          [
           "S.F. Holding"
          ],
          [
           "Truist Financial"
          ],
          [
           "Kinder Morgan"
          ],
          [
           "BAE Systems"
          ],
          [
           "Paccar"
          ],
          [
           "MSCI"
          ],
          [
           "Lloyds Banking Group"
          ],
          [
           "Grupo Mexico"
          ],
          [
           "Canadian Imperial Bank"
          ],
          [
           "Copart"
          ],
          [
           "Centene"
          ],
          [
           "Mizuho Financial"
          ],
          [
           "Seagen"
          ],
          [
           "PICC"
          ],
          [
           "D.R. Horton"
          ],
          [
           "Williams"
          ],
          [
           "Manulife"
          ],
          [
           "Murata Manufacturing"
          ],
          [
           "Longi Green Energy Technology"
          ],
          [
           "CRH"
          ],
          [
           "Waste Connections"
          ],
          [
           "Muyuan Foodstuff"
          ],
          [
           "Kuehne & Nagel International"
          ],
          [
           "Cheniere Energy"
          ],
          [
           "GE Healthcare"
          ],
          [
           "Alcon"
          ],
          [
           "Neste"
          ],
          [
           "Nucor"
          ],
          [
           "Simon Property Group"
          ],
          [
           "Ross Stores"
          ],
          [
           "East Money Information  "
          ],
          [
           "Block"
          ],
          [
           "Naspers"
          ],
          [
           "L3Harris Technologies"
          ],
          [
           "Deutsche Boerse"
          ],
          [
           "Otis Worldwide"
          ],
          [
           "Xiaomi  "
          ],
          [
           "Carrier Global"
          ],
          [
           "United Overseas Bank"
          ],
          [
           "Barrick Gold"
          ],
          [
           "Kroger"
          ],
          [
           "Asian Paints"
          ],
          [
           "Kuwait Finance House"
          ],
          [
           "Swisscom"
          ],
          [
           "Marvell Technology"
          ],
          [
           "ON Semiconductor Corp."
          ],
          [
           "MediaTek"
          ],
          [
           "Femsa"
          ],
          [
           "HCL Technologies"
          ],
          [
           "IQVIA"
          ],
          [
           "Atlassian"
          ],
          [
           "Old Dominion Freight Line"
          ],
          [
           "E.ON"
          ],
          [
           "Samsung SDI"
          ],
          [
           "Consolidated Edison"
          ],
          [
           "Anta Sports Products"
          ],
          [
           "Flutter Entertainment"
          ],
          [
           "Credit Agricole"
          ],
          [
           "Dollar Tree"
          ],
          [
           "Electronic Arts"
          ],
          [
           "PG&E"
          ],
          [
           "Henkel"
          ],
          [
           "Orange"
          ],
          [
           "ResMed"
          ],
          [
           "AmerisourceBergen"
          ],
          [
           "RWE Group"
          ],
          [
           "WW Grainger"
          ],
          [
           "SMC"
          ],
          [
           "Telstra"
          ],
          [
           "Capital One"
          ],
          [
           "Adidas"
          ],
          [
           "Ametek"
          ],
          [
           "Dell Technologies"
          ],
          [
           "WEG"
          ],
          [
           "China Resources Land"
          ],
          [
           "Bank of New York Mellon"
          ],
          [
           "Fidelity National Information (FIS)"
          ],
          [
           "Shanghai Pudong Development"
          ],
          [
           "VICI Properties"
          ],
          [
           "Devon Energy"
          ],
          [
           "Fanuc"
          ],
          [
           "Lennar"
          ],
          [
           "Givaudan"
          ],
          [
           "Bank Mandiri"
          ],
          [
           "Rockwell Automation"
          ],
          [
           "Globalfoundries"
          ],
          [
           "Axis Bank"
          ],
          [
           "PPG "
          ],
          [
           "Royal Ahold Delhaize N.V."
          ],
          [
           "Vodafone"
          ],
          [
           "Nutrien"
          ],
          [
           "SingTel"
          ],
          [
           "Jiangsu Yanghe Brewery"
          ],
          [
           "Cognizant"
          ],
          [
           "Citic Securities"
          ],
          [
           "Woolworths"
          ],
          [
           "Cummins"
          ],
          [
           "Chunghwa Telecom"
          ],
          [
           "Public Service Enterprise Group"
          ],
          [
           "Capgemini"
          ],
          [
           "Banco Bradesco"
          ],
          [
           "Illumina"
          ],
          [
           "Generali Group"
          ],
          [
           "Ferguson"
          ],
          [
           "MTR"
          ],
          [
           "Mettler-Toledo International"
          ],
          [
           "Beiersdorf"
          ],
          [
           "Warner Bros. Discovery"
          ],
          [
           "Fastenal"
          ],
          [
           "ACWA Power"
          ],
          [
           "Amadeus IT Group "
          ],
          [
           "Thales"
          ],
          [
           "NatWest Group"
          ],
          [
           "Hygon Information Technology"
          ],
          [
           "China Pacific Insurance"
          ],
          [
           "Experian"
          ],
          [
           "Brown-Forman"
          ],
          [
           "Coupang"
          ],
          [
           "Trade Desk"
          ],
          [
           "Airports of Thailand"
          ],
          [
           "Coloplast"
          ],
          [
           "Hexagon "
          ],
          [
           "Transurban Group"
          ],
          [
           "Verisk Analytics"
          ],
          [
           "CoStar Group"
          ],
          [
           "Allstate"
          ],
          [
           "Franco-Nevada"
          ],
          [
           "Ameriprise Financial"
          ],
          [
           "Cenovus Energy"
          ],
          [
           "CEZ Group"
          ],
          [
           "WEC Energy Group"
          ],
          [
           "Møller-Maersk"
          ],
          [
           "Naturgy Energy Group"
          ],
          [
           "Mobileye Global"
          ],
          [
           "Verbund"
          ],
          [
           "TELUS"
          ],
          [
           "Kone"
          ],
          [
           "DuPont De Nemours"
          ],
          [
           "LyondellBasell Industries"
          ],
          [
           "Barclays"
          ],
          [
           "Coca-Cola Europacific Partners"
          ],
          [
           "Galaxy Entertainment"
          ],
          [
           "Prudential Financial"
          ],
          [
           "Wolters Kluwer"
          ],
          [
           "Cellnex Telecom"
          ],
          [
           "Aier Eye Hospital Group"
          ],
          [
           "HP"
          ],
          [
           "Titan (India)"
          ],
          [
           "Saint-Gobain"
          ],
          [
           "Lindt & Sprungli"
          ],
          [
           "Haier Smart Home"
          ],
          [
           "KBC Group"
          ],
          [
           "Nidec"
          ],
          [
           "BeiGene"
          ],
          [
           "Zimmer Biomet"
          ],
          [
           "Japan Post Holdings"
          ],
          [
           "CrowdStrike"
          ],
          [
           "American Water Works"
          ],
          [
           "Oneok"
          ],
          [
           "Swiss Re "
          ],
          [
           "Veeva Systems"
          ],
          [
           "Kuaishou Technology"
          ],
          [
           "Baker Hughes Company"
          ],
          [
           "Avenue Supermarts"
          ],
          [
           "Sun Pharma Industries"
          ],
          [
           "Sun Life Financial"
          ],
          [
           "Edison International"
          ],
          [
           "Gree Electric Appliances"
          ],
          [
           "Vestas Wind Systems"
          ],
          [
           "Telkom Indonesia"
          ],
          [
           "Digital Realty Trust"
          ],
          [
           "Arch Capital Group"
          ],
          [
           "Bridgestone"
          ],
          [
           "Beijing Kingsoft Office Software."
          ],
          [
           "Shaanxi Coal Industry"
          ],
          [
           "Walgreens Boots Alliance"
          ],
          [
           "Dr. Sulaiman Al-Habib Medical Services Group"
          ],
          [
           "Astellas Pharma"
          ],
          [
           "Heineken"
          ],
          [
           "Inner Mongolia Yili "
          ],
          [
           "Global Payments"
          ],
          [
           "Sartorius"
          ],
          [
           "West Pharmaceutical Services"
          ],
          [
           "Saudi Electricity"
          ],
          [
           "DNB Bank"
          ],
          [
           "China Citic Bank"
          ],
          [
           "Evolution Gaming Group AB"
          ],
          [
           "Spotify Technology"
          ],
          [
           "Eversource Energy"
          ],
          [
           "Mitsubishi Electric"
          ],
          [
           "Halliburton"
          ],
          [
           "NASDAQ"
          ],
          [
           "EnBW-Energie Baden"
          ],
          [
           "Adani Enterprises"
          ],
          [
           "Corning"
          ],
          [
           "Luxshare Precision Industry"
          ],
          [
           "Wuxi Apptec"
          ],
          [
           "Assa Abloy"
          ],
          [
           "CaixaBank"
          ],
          [
           "Bajaj Finserv "
          ],
          [
           "Formosa Petrochemical"
          ],
          [
           "Bank of Ningbo"
          ],
          [
           "Alnylam Pharmaceuticals"
          ],
          [
           "Genmab"
          ],
          [
           "Daimler Truck Holding"
          ],
          [
           "Tractor Supply"
          ],
          [
           "CK Hutchison"
          ],
          [
           "Yum China Holdings"
          ],
          [
           "Ansys"
          ],
          [
           "Ulta Beauty"
          ],
          [
           "Intact Financial"
          ],
          [
           "KIA"
          ],
          [
           "Tesco"
          ],
          [
           "SBA Communications"
          ],
          [
           "Chongqing Zhifei Biological Products"
          ],
          [
           "Constellation Energy"
          ],
          [
           "Vulcan Materials"
          ],
          [
           "Horizon Therapeutics Public Limited Company"
          ],
          [
           "Fujitsu"
          ],
          [
           "Delta Electronics"
          ],
          [
           "Riyad Bank"
          ],
          [
           "Nu Holdings"
          ],
          [
           "PTT "
          ],
          [
           "Ashtead Group"
          ],
          [
           "Keysight Technologies"
          ],
          [
           "Sampo"
          ],
          [
           "WuXi Biologics"
          ],
          [
           "Telefónica"
          ],
          [
           "National Bank of Canada"
          ],
          [
           "SSE"
          ],
          [
           "Sandvik"
          ],
          [
           "Wipro"
          ],
          [
           "National Bank of Kuwait "
          ],
          [
           "Straumann Holding"
          ],
          [
           "Goodman Group"
          ],
          [
           "Aptiv"
          ],
          [
           "AvalonBay Communities"
          ],
          [
           "NARI Technology Development"
          ],
          [
           "Partners Group Holding"
          ],
          [
           "Legrand"
          ],
          [
           "Tongwei"
          ],
          [
           "EQT AB"
          ],
          [
           "Banco do Brasil"
          ],
          [
           "Quanta Services"
          ],
          [
           "Central Japan Railway"
          ],
          [
           "Rogers Communications"
          ],
          [
           "Banorte"
          ],
          [
           "Poly Developments & Holdings Group"
          ],
          [
           "Renesas Electronics"
          ],
          [
           "Oil & Natural Gas"
          ],
          [
           "Martin Marietta Materials"
          ],
          [
           "Grupo Bimbo"
          ],
          [
           "International Flavors & Fragrances"
          ],
          [
           "NAURA Technology GroupLtd"
          ],
          [
           "Equifax"
          ],
          [
           "Unicharm"
          ],
          [
           "Datadog"
          ],
          [
           "DoorDash"
          ],
          [
           "Genuine Parts"
          ],
          [
           "eBay"
          ],
          [
           "Discover Financial Services"
          ],
          [
           "China Unicom"
          ],
          [
           "Canon"
          ],
          [
           "Advanced Micro-Fabrication Equipment Inc. China"
          ],
          [
           "Epiroc"
          ],
          [
           "Schindler Holding"
          ],
          [
           "WTW"
          ],
          [
           "Emirates NBD"
          ],
          [
           "T Rowe Price"
          ],
          [
           "Aena"
          ],
          [
           "Kellogg"
          ],
          [
           "Diamondback Energy"
          ],
          [
           "Align Technology"
          ],
          [
           "Equity Residential"
          ],
          [
           "Gartner"
          ],
          [
           "Ingersoll Rand"
          ],
          [
           "Fubon Financial"
          ],
          [
           "Zhangzhou Pientzehuang Pharmaceutical"
          ],
          [
           "McCormick"
          ],
          [
           "Marubeni"
          ],
          [
           "Church & Dwight"
          ],
          [
           "Maybank"
          ],
          [
           "Ameren"
          ],
          [
           "CGI"
          ],
          [
           "SEB AB"
          ],
          [
           "China Resources Beer (Holdings)"
          ],
          [
           "Komatsu"
          ],
          [
           "United Rentals"
          ],
          [
           "Wheaton Precious Metals"
          ],
          [
           "DTE Energy"
          ],
          [
           "Baxter International"
          ],
          [
           "Heico"
          ],
          [
           "H&M - Hennes & Mauritz"
          ],
          [
           "CBRE Group"
          ],
          [
           "Michelin Group"
          ],
          [
           "Sungrow Power Supply  "
          ],
          [
           "Panasonic"
          ],
          [
           "Nokia"
          ],
          [
           "Li Auto"
          ],
          [
           "SAIC Motor"
          ],
          [
           "State Street"
          ],
          [
           "Anhui Gujing Distillery"
          ],
          [
           "Fortive"
          ],
          [
           "Insulet Corp"
          ],
          [
           "VeriSign"
          ],
          [
           "Sumitomo"
          ],
          [
           "FirstEnergy"
          ],
          [
           "Entergy"
          ],
          [
           "Ferrovial"
          ],
          [
           "Shenzhen Inovance Technology"
          ],
          [
           "NIBE Industrier"
          ],
          [
           "China Three Gorges Renewables (Group)"
          ],
          [
           "Cathay Financial"
          ],
          [
           "Hormel Foods"
          ],
          [
           "Tata Motors"
          ],
          [
           "Olympus"
          ],
          [
           "CDW"
          ],
          [
           "arGEN-X"
          ],
          [
           "Teck Resources"
          ],
          [
           "Edp-energias De Portugal"
          ],
          [
           "Terumo"
          ],
          [
           "Naver"
          ],
          [
           "ZTO Express (Cayman)"
          ],
          [
           "Restaurant Brands International"
          ],
          [
           "Borouge"
          ],
          [
           "China Tower Corp."
          ],
          [
           "HubSpot"
          ],
          [
           "Nippon Paint"
          ],
          [
           "Carlsberg"
          ],
          [
           "Imperial Brands"
          ],
          [
           "Industries Qatar"
          ],
          [
           "East Japan Railway"
          ],
          [
           "Fortis (Canada)"
          ],
          [
           "Veolia Environnement"
          ],
          [
           "Enphase Energy"
          ],
          [
           "Delta Air Lines"
          ],
          [
           "BOE Technology Group"
          ],
          [
           "Posco"
          ],
          [
           "Weyerhaeuser"
          ],
          [
           "JSW Steel"
          ],
          [
           "Deutsche Bank"
          ],
          [
           "Hartford Financial Services"
          ],
          [
           "3i Group"
          ],
          [
           "Essity"
          ],
          [
           "Roblox"
          ],
          [
           "Alexandria Real Estate Equities"
          ],
          [
           "Standard Chartered"
          ],
          [
           "CK Asset Holdings"
          ],
          [
           "Fujifilm Holdings"
          ],
          [
           "PPL"
          ],
          [
           "Cardinal Health"
          ],
          [
           "Tyson Foods"
          ],
          [
           "Semiconductor Manufacturing International"
          ],
          [
           "ArcelorMittal"
          ],
          [
           "Albemarle"
          ],
          [
           "Invitation Homes"
          ],
          [
           "Take-Two Interactive Software"
          ],
          [
           "Clorox"
          ],
          [
           "Extra Space Storage"
          ],
          [
           "NTPC"
          ],
          [
           "Hologic"
          ],
          [
           "Rollins"
          ],
          [
           "Power Grid of India"
          ],
          [
           "Trip.com Group"
          ],
          [
           "Baoshan Iron & Steel"
          ],
          [
           "SM Investments"
          ],
          [
           "Shiseido"
          ],
          [
           "United Microelectronics"
          ],
          [
           "Dover"
          ],
          [
           "Chow Tai Fook Jewellery"
          ],
          [
           "Nan Ya Plastics"
          ],
          [
           "NEXON"
          ],
          [
           "KE Holdings"
          ],
          [
           "Moncler SpA"
          ],
          [
           "Rentokil Initial"
          ],
          [
           "M&T Bank"
          ],
          [
           "Sany Heavy Industry"
          ],
          [
           "Techtronic Industries"
          ],
          [
           "Garmin"
          ],
          [
           "Labcorp"
          ],
          [
           "Asahi Group Holdings"
          ],
          [
           "Nippon Steel "
          ],
          [
           "China Everbright Bank"
          ],
          [
           "Xylem"
          ],
          [
           "Orix"
          ],
          [
           "Siemens Energy"
          ],
          [
           "iflytek"
          ],
          [
           "Publicis Groupe"
          ],
          [
           "Formosa Plastics"
          ],
          [
           "Monolithic Power Systems"
          ],
          [
           "Teledyne Technologies"
          ],
          [
           "Sonova Holding"
          ],
          [
           "China National Nuclear Power"
          ],
          [
           "Royal Caribbean Group"
          ],
          [
           "SQM"
          ],
          [
           "Shanghai International Port"
          ],
          [
           "BT Group"
          ],
          [
           "Power Construction Corporation of China"
          ],
          [
           "FirstRand"
          ],
          [
           "Coterra Energy "
          ],
          [
           "CenterPoint Energy"
          ],
          [
           "EMS-Chemie Holding"
          ],
          [
           "EXOR"
          ],
          [
           "Ventas"
          ],
          [
           "Ajinomoto"
          ],
          [
           "Geberit"
          ],
          [
           "CLP Holdings"
          ],
          [
           "Kyocera"
          ],
          [
           "CNH Industrial"
          ],
          [
           "Saudi British Bank"
          ],
          [
           "NVR"
          ],
          [
           "Swedbank"
          ],
          [
           "Eve Energy"
          ],
          [
           "Kao "
          ],
          [
           "Kakao"
          ],
          [
           "Associated British Foods"
          ],
          [
           "Otsuka Holding"
          ],
          [
           "Repsol "
          ],
          [
           "China Railway Group"
          ],
          [
           "TCL Zhonghuan Renewable Energy Technology"
          ],
          [
           "Ecopetrol"
          ],
          [
           "Snam"
          ],
          [
           "Prada"
          ],
          [
           "Advanced Info Service"
          ],
          [
           "CRRC"
          ],
          [
           "Li Ning"
          ],
          [
           "Ryanair Holdings"
          ],
          [
           "China Minsheng Bank"
          ],
          [
           "Kerry Group"
          ],
          [
           "Philips"
          ],
          [
           "J.B. Hunt Transport Services"
          ],
          [
           "Raymond James Financial"
          ],
          [
           "Rongsheng Petrochemical"
          ],
          [
           "ASM International"
          ],
          [
           "Brown & Brown"
          ],
          [
           "Darden Restaurants"
          ],
          [
           "Cosco Shipping"
          ],
          [
           "First Quantum Minerals"
          ],
          [
           "Ball"
          ],
          [
           "Mahindra & Mahindra"
          ],
          [
           "China Vanke"
          ],
          [
           "Mitsui Fudosan"
          ],
          [
           "Kubota"
          ],
          [
           "Hewlett Packard Enterprise"
          ],
          [
           "Fairfax Financial"
          ],
          [
           "Antofagasta"
          ],
          [
           "Wilmar International"
          ],
          [
           "Toyota Industries"
          ],
          [
           "Wens Foodstuff Group"
          ],
          [
           "Howmet Aerospace"
          ],
          [
           "George Weston"
          ],
          [
           "Swiss Life Holding"
          ],
          [
           "Joint Stock Commercial Bank for Foreign Trade of Vietnam"
          ],
          [
           "Ericsson"
          ],
          [
           "CMS Energy"
          ],
          [
           "Adani Ports & Special Economic Zone"
          ],
          [
           "JA Solar Technology"
          ],
          [
           "Markel"
          ],
          [
           "Conagra Brands"
          ],
          [
           "Broadridge Financial"
          ],
          [
           "Dai-ichi Life Insurance"
          ],
          [
           "Dollarama"
          ],
          [
           "Expeditors International"
          ],
          [
           "Newcrest Mining"
          ],
          [
           "Omnicom Group"
          ],
          [
           "Coal India"
          ],
          [
           "Westinghouse Air Brake Technologies"
          ],
          [
           "Pembina Pipeline"
          ],
          [
           "Mid-america Apartment Communities"
          ],
          [
           "Power Corp of Canada"
          ],
          [
           "Live Nation Entertainment"
          ],
          [
           "MS&AD Insurance"
          ],
          [
           "UPM-Kymmene"
          ],
          [
           "Southwest Airlines"
          ],
          [
           "Hydro One"
          ],
          [
           "Henderson Land"
          ],
          [
           "Jinko Solar"
          ],
          [
           "Terna"
          ],
          [
           "PKN Orlen"
          ],
          [
           "Public Bank"
          ],
          [
           "Waters"
          ],
          [
           "Molina Healthcare"
          ],
          [
           "Aeon"
          ],
          [
           "Arca Continental"
          ],
          [
           "Principal Financial Group"
          ],
          [
           "Eletrobrás"
          ],
          [
           "Swatch Group"
          ],
          [
           "UCB"
          ],
          [
           "Suzuki Motor"
          ],
          [
           "Danske Bank"
          ],
          [
           "Longfor Group Holdings"
          ],
          [
           "Liberty Media Corporation Series A Liberty Formula One"
          ],
          [
           "Fox"
          ],
          [
           "Legal & General Group"
          ],
          [
           "Itaúsa"
          ],
          [
           "Svenska Handelsbanken"
          ],
          [
           "Daqin Railway"
          ],
          [
           "SGS"
          ],
          [
           "Sun Communities"
          ],
          [
           "Towngas"
          ],
          [
           "FleetCor Technologies "
          ],
          [
           "Atmos Energy"
          ],
          [
           "CP All"
          ],
          [
           "Telenor"
          ],
          [
           "Fifth Third Bank"
          ],
          [
           "Chongqing Changan Auto"
          ],
          [
           "JM Smucker"
          ],
          [
           "Steel Dynamics"
          ],
          [
           "Abu Dhabi Commercial Bank"
          ],
          [
           "Daiwa House Industry"
          ],
          [
           "Link REIT"
          ],
          [
           "Aristocrat Leisure"
          ],
          [
           "China Mengniu Dairy"
          ],
          [
           "Skyworks Solutions"
          ],
          [
           "Cincinnati Financial"
          ],
          [
           "WSP"
          ],
          [
           "ADNOC Drilling"
          ],
          [
           "Alinma Bank"
          ],
          [
           "Coles Group"
          ],
          [
           "Bank Of Jiangsu"
          ],
          [
           "Iron Mountain"
          ],
          [
           "Anhui Conch Cement"
          ],
          [
           "Revvity"
          ],
          [
           "Wharf Real Estate Investment"
          ],
          [
           "Campbell Soup"
          ],
          [
           "Vonovia"
          ],
          [
           "Yankuang Energy Group"
          ],
          [
           "Lamb Weston Holdings"
          ],
          [
           "China CSSC Holdings"
          ],
          [
           "Kaspi.kz JSC"
          ],
          [
           "Targa Resources"
          ],
          [
           "Tata Steel"
          ],
          [
           "Société Générale"
          ],
          [
           "Tenaris"
          ],
          [
           "Best Buy"
          ],
          [
           "China Shipbuilding Industry"
          ],
          [
           "Rolls-Royce Holdings"
          ],
          [
           "IDEX"
          ],
          [
           "Jeronimo Martins"
          ],
          [
           "Santos"
          ],
          [
           "Mitsubishi Estate"
          ],
          [
           "Royalty Pharma"
          ],
          [
           "Hengli Petrochemical"
          ],
          [
           "Almarai"
          ],
          [
           "MGM Resorts"
          ],
          [
           "ENN Energy Holdings"
          ],
          [
           "W. P. Carey"
          ],
          [
           "China Merchants Shekou Industrial Zone Holdings"
          ],
          [
           "Fresenius"
          ],
          [
           "Alfa Laval"
          ],
          [
           "Mega Financial Holding"
          ],
          [
           "ICON (Ireland)"
          ],
          [
           "Sodexo"
          ],
          [
           "Westlake Chemical"
          ],
          [
           "Aeroports de Paris"
          ],
          [
           "Regions Financial"
          ],
          [
           "Dassault Aviation"
          ],
          [
           "QBE Insurance Group"
          ],
          [
           "Bajaj Auto"
          ],
          [
           "Qinghai Salt Lake Industry"
          ],
          [
           "Magna International"
          ],
          [
           "DiDi Global"
          ],
          [
           "Amcor"
          ],
          [
           "W. R. Berkley"
          ],
          [
           "Quest Diagnostics"
          ],
          [
           "LKQ"
          ],
          [
           "Northern Trust"
          ],
          [
           "Advantest"
          ],
          [
           "CNPC Capital"
          ],
          [
           "AES"
          ],
          [
           "OMV Group"
          ],
          [
           "Yunnan Baiyao Group"
          ],
          [
           "Hyundai Mobis"
          ],
          [
           "Jacobs Solutions"
          ],
          [
           "Bandai Namco Holdings"
          ],
          [
           "PulteGroup"
          ],
          [
           "Trina Solar"
          ],
          [
           "Toyota Tsusho"
          ],
          [
           "JDE Peet's"
          ],
          [
           "LG Electronics"
          ],
          [
           "LPL Financial Holdings"
          ],
          [
           "Bank of Beijing"
          ],
          [
           "Everest Re Group"
          ],
          [
           "CTBC Financial"
          ],
          [
           "Grupo Inbursa"
          ],
          [
           "Nomura Research Institute"
          ],
          [
           "Tourmaline Oil"
          ],
          [
           "United Airlines Holdings"
          ],
          [
           "Standard Bank Group"
          ],
          [
           "KPN"
          ],
          [
           "China Steel"
          ],
          [
           "Weichai Power"
          ],
          [
           "Check Point Software"
          ],
          [
           "CapitaLand Investment"
          ],
          [
           "Hubbell"
          ],
          [
           "First Citizens Bank (NC)"
          ],
          [
           "Nissan Motor"
          ],
          [
           "Erste Group Bank"
          ],
          [
           "Julius Baer Group"
          ],
          [
           "Agnico Eagle Mines"
          ],
          [
           "Nitori Holdings"
          ],
          [
           "ASE Technology Holding"
          ],
          [
           "Teradyne"
          ],
          [
           "Emaar Properties"
          ],
          [
           "Ares Management"
          ],
          [
           "Shenzhou International Group Holdings"
          ],
          [
           "Gold Fields"
          ],
          [
           "Aviva"
          ],
          [
           "Evergy"
          ],
          [
           "Inpex"
          ],
          [
           "HeidelbergCement"
          ],
          [
           "Carrefour"
          ],
          [
           "Reliance Steel"
          ],
          [
           "ZTE"
          ],
          [
           "Indian Oil"
          ],
          [
           "Builders FirstSource"
          ],
          [
           "Jardine Matheson"
          ],
          [
           "Huntington Bank"
          ],
          [
           "Shimano"
          ],
          [
           "FMC"
          ],
          [
           "Marathon Oil"
          ],
          [
           "Toshiba"
          ],
          [
           "KB Financial Group"
          ],
          [
           "Chewy"
          ],
          [
           "Norsk Hydro"
          ],
          [
           "Continental"
          ],
          [
           "Grasim Industries"
          ],
          [
           "Akzo Nobel"
          ],
          [
           "Bank of Nanjing"
          ],
          [
           "Sompo"
          ],
          [
           "Molson Coors Brewing"
          ],
          [
           "Expedia Group"
          ],
          [
           "Ganfeng Lithium"
          ],
          [
           "Secom"
          ],
          [
           "Avery Dennison"
          ],
          [
           "Shinhan Financial Group"
          ],
          [
           "B3"
          ],
          [
           "Alliant Energy"
          ],
          [
           "Huaxia Bank"
          ],
          [
           "Pool"
          ],
          [
           "Snap-on"
          ],
          [
           "SS&C Technologies"
          ],
          [
           "Eurofins Scientific Societe Europeenne"
          ],
          [
           "CGN Power"
          ],
          [
           "Ningxia Baofeng Energy Group"
          ],
          [
           "Interpublic Group"
          ],
          [
           "TDK"
          ],
          [
           "Uni-President"
          ],
          [
           "AerCap Holdings"
          ],
          [
           "Tsingtao Brewery"
          ],
          [
           "NetApp"
          ],
          [
           "Guosen Securities"
          ],
          [
           "Coinbase"
          ],
          [
           "Bunge"
          ],
          [
           "Samsung C&T"
          ],
          [
           "CF Industries Holdings"
          ],
          [
           "SDIC Power Holdings"
          ],
          [
           "Sichuan Road & Bridge"
          ],
          [
           "Poste Italiane"
          ],
          [
           "Avantor"
          ],
          [
           "Bank Of Shanghai"
          ],
          [
           "Commerzbank"
          ],
          [
           "Bunzl"
          ],
          [
           "Fortum"
          ],
          [
           "NIO"
          ],
          [
           "Gaming And Leisure Properties"
          ],
          [
           "Beijing Wantai Biological Pharmacy Enterprise"
          ],
          [
           "Sumitomo Mitsui Trust"
          ],
          [
           "Loews"
          ],
          [
           "Textron"
          ],
          [
           "Metro"
          ],
          [
           "Brambles"
          ],
          [
           "Shionogi"
          ],
          [
           "Kirin Holdings"
          ],
          [
           "Sekisui House"
          ],
          [
           "Singapore Airlines"
          ],
          [
           "Formosa Chemicals"
          ],
          [
           "Stanley Black & Decker"
          ],
          [
           "Watsco"
          ],
          [
           "BDO Unibank"
          ],
          [
           "Mitsubishi Heavy Industries"
          ],
          [
           "The Mosaic Company"
          ],
          [
           "China Molybdenum"
          ],
          [
           "Bouygues"
          ],
          [
           "Guangdong Haid Group"
          ],
          [
           "Citizens Financial Group"
          ],
          [
           "Franklin Resources"
          ],
          [
           "Segro"
          ],
          [
           "DISCO Corp."
          ],
          [
           "Petronas Chemicals"
          ],
          [
           "Rheinmetall"
          ],
          [
           "Brenntag"
          ],
          [
           "Brookfield Renewable"
          ],
          [
           "Host Hotels & Resorts"
          ],
          [
           "South32"
          ],
          [
           "Carnival Corporation"
          ],
          [
           "China Northern Rare Earth High-Tech"
          ],
          [
           "TBEA"
          ],
          [
           "Subaru"
          ],
          [
           "Grupo Carso"
          ],
          [
           "China Southern Airlines"
          ],
          [
           "Power Assets Holdings"
          ],
          [
           "Vedanta Limited"
          ],
          [
           "China Railway Construction"
          ],
          [
           "Taiwan Cooperative Financial"
          ],
          [
           "Geely Automobile Holdings"
          ],
          [
           "Banque Saudi Fransi"
          ],
          [
           "Hyatt Hotels"
          ],
          [
           "Tech Mahindra"
          ],
          [
           "Lenovo Group"
          ],
          [
           "CIMB Group Holdings"
          ],
          [
           "Industrivarden"
          ],
          [
           "Solvay"
          ],
          [
           "Booz Allen Hamilton Holding"
          ],
          [
           "Kingspan Group PLC"
          ],
          [
           "HAL Trust"
          ],
          [
           "E.Sun Financial"
          ],
          [
           "Hoshine Silicon Industry"
          ],
          [
           "CSPC Pharmaceutical Group"
          ],
          [
           "Worldline"
          ],
          [
           "Packaging Corp of America"
          ],
          [
           "C.H. Robinson"
          ],
          [
           "Huatai Securities"
          ],
          [
           "U-Haul Holding"
          ],
          [
           "Dick's Sporting Goods"
          ],
          [
           "Talanx"
          ],
          [
           "Deutsche Lufthansa"
          ],
          [
           "Bank Leumi"
          ],
          [
           "Croda International Plc"
          ],
          [
           "Xinjiang Daqo New Energy"
          ],
          [
           "WPP"
          ],
          [
           "Masco"
          ],
          [
           "Zhejiang Huayou Cobalt"
          ],
          [
           "Barry Callebaut"
          ],
          [
           "Siam Makro"
          ],
          [
           "Burlington Stores"
          ],
          [
           "Albertsons"
          ],
          [
           "Thai Beverage"
          ],
          [
           "Hindalco Industries"
          ],
          [
           "Lundbergs"
          ],
          [
           "OMRON"
          ],
          [
           "Jiangsu Eastern Shenghong"
          ],
          [
           "Inner Mongolia Baotou Steel"
          ],
          [
           "Emera"
          ],
          [
           "Hotai Motor"
          ],
          [
           "NEC"
          ],
          [
           "Qatar Islamic Bank"
          ],
          [
           "NiSource"
          ],
          [
           "Camden Property Trust"
          ],
          [
           "Bank Negara Indonesia"
          ],
          [
           "Healthpeak Properties"
          ],
          [
           "Guotai Junan Securities"
          ],
          [
           "Celanese"
          ],
          [
           "Suntory Beverage & Food"
          ],
          [
           "Bank Hapoalim"
          ],
          [
           "Synchrony Financial"
          ],
          [
           "Liberty Broadband"
          ],
          [
           "Guangzhou Tinci Materials Technology"
          ],
          [
           "Coca-Cola HBC"
          ],
          [
           "EQT"
          ],
          [
           "First Financial Holding"
          ],
          [
           "Nippon Yusen"
          ],
          [
           "Tenaga Nasional"
          ],
          [
           "AECOM Technology"
          ],
          [
           "Resona Holdings"
          ],
          [
           "Bank of Baroda"
          ],
          [
           "Seagate Technology"
          ],
          [
           "MTN Group"
          ],
          [
           "SK Innovation "
          ],
          [
           "Aldar Properties"
          ],
          [
           "Unisplendour"
          ],
          [
           "Knorr-Bremse"
          ],
          [
           "Siam Cement"
          ],
          [
           "GF Securities"
          ],
          [
           "Chailease Holding"
          ],
          [
           "Pan Pacific International Holdings"
          ],
          [
           "China Coal Energy"
          ],
          [
           "Sonic Healthcare"
          ],
          [
           "Swire Pacific"
          ],
          [
           "Adani Power Limited"
          ],
          [
           "Delivery Hero"
          ],
          [
           "Volvo Car"
          ],
          [
           "Quanta Computer"
          ],
          [
           "Credicorp"
          ],
          [
           "Sasa Polyester Sanayi"
          ],
          [
           "International Paper"
          ],
          [
           "CarMax"
          ],
          [
           "Viatris"
          ],
          [
           "Leidos"
          ],
          [
           "Bank Of Hangzhou"
          ],
          [
           "AIB Group"
          ],
          [
           "Vivendi"
          ],
          [
           "Dubai Islamic Bank"
          ],
          [
           "XCMG Construction Machinery"
          ],
          [
           "Paramount"
          ],
          [
           "Suzano "
          ],
          [
           "Sinopharm Group"
          ],
          [
           "Eiffage"
          ],
          [
           "China Communications Construction"
          ],
          [
           "Ningbo Port"
          ],
          [
           "Carlisle Cos"
          ],
          [
           "Prysmian"
          ],
          [
           "Sumitomo Realty"
          ],
          [
           "Bank Albilad"
          ],
          [
           "China Resources Power"
          ],
          [
           "Arab National Bank"
          ],
          [
           "Corebridge Financial"
          ],
          [
           "West Japan Railway"
          ],
          [
           "Nomura"
          ],
          [
           "Western Digital"
          ],
          [
           "Abu Dhabi Islamic Bank"
          ],
          [
           "Nexi S.p.A."
          ],
          [
           "Suncorp Group"
          ],
          [
           "LG "
          ],
          [
           "JD Sports Fashion"
          ],
          [
           "Saputo"
          ],
          [
           "Tianqi Lithium"
          ],
          [
           "Chesapeake Energy"
          ],
          [
           "RPM International"
          ],
          [
           "Bank of Ireland"
          ],
          [
           "Next"
          ],
          [
           "Evergreen Marine Corp. (Taiwan)"
          ],
          [
           "Henry Schein"
          ],
          [
           "Fuyao Glass Industry Group"
          ],
          [
           "BorgWarner"
          ],
          [
           "Globe Life"
          ],
          [
           "Renault"
          ],
          [
           "Stora Enso"
          ],
          [
           "CapitaMall Trust"
          ],
          [
           "Grupo Elektra"
          ],
          [
           "Yara International"
          ],
          [
           "Zhongsheng Group Holdings"
          ],
          [
           "Aluminum Corp of China"
          ],
          [
           "Teleperformance"
          ],
          [
           "All Nippon Airways"
          ],
          [
           "GD Power Development"
          ],
          [
           "China International Capital"
          ],
          [
           "NN Group"
          ],
          [
           "Crown Holdings"
          ],
          [
           "Jabil Circuit"
          ],
          [
           "APA"
          ],
          [
           "SCB X Public Company "
          ],
          [
           "Acciona"
          ],
          [
           "Ipsen"
          ],
          [
           "Sumitomo Metal Mining"
          ],
          [
           "IndusInd Bank"
          ],
          [
           "Scentre Group"
          ],
          [
           "Evonik Industries"
          ],
          [
           "Telia"
          ],
          [
           "ENEOS Holdings"
          ],
          [
           "Universal Health Services"
          ],
          [
           "BJ's Wholesale Club"
          ],
          [
           "United Therapeutics"
          ],
          [
           "Sumitomo Electric"
          ],
          [
           "ONO Pharmaceutical"
          ],
          [
           "Tingyi Holding"
          ],
          [
           "Huaneng Power International"
          ],
          [
           "Cemex"
          ],
          [
           "Dangote Cement"
          ],
          [
           "American Financial Group"
          ],
          [
           "Red Eléctrica"
          ],
          [
           "Boliden"
          ],
          [
           "News Corp"
          ],
          [
           "Great Wall Motor "
          ],
          [
           "Koç Holding"
          ],
          [
           "Asahi Kasei"
          ],
          [
           "Hua Nan Financial"
          ],
          [
           "Origin Energy"
          ],
          [
           "Reinsurance Group of America"
          ],
          [
           "Teva Pharmaceutical"
          ],
          [
           "Alstom"
          ],
          [
           "SG Holdings"
          ],
          [
           "Kansai Electric Power"
          ],
          [
           "Bharat Petroleum"
          ],
          [
           "Performance Food Group"
          ],
          [
           "New China Life Insurance"
          ],
          [
           "Carlyle Group"
          ],
          [
           "President Chain Store"
          ],
          [
           "Randstad N.V."
          ],
          [
           "Eastman"
          ],
          [
           "Caesars Entertainment"
          ],
          [
           "Dentsu"
          ],
          [
           "Smurfit Kappa Group"
          ],
          [
           "Nitto Denko"
          ],
          [
           "Penske Automotive"
          ],
          [
           "Ooredoo Q.P.S.C"
          ],
          [
           "AGCO"
          ],
          [
           "Galp Energia"
          ],
          [
           "Owens Corning"
          ],
          [
           "Multiply Group"
          ],
          [
           "Annaly Capital Management"
          ],
          [
           "United Utilities"
          ],
          [
           "International Airlines"
          ],
          [
           "Haitong Securities"
          ],
          [
           "Commercial Bank For Investment & Development Of Vietnam"
          ],
          [
           "Mowi ASA"
          ],
          [
           "PKO Bank Polski"
          ],
          [
           "Knight-swift Transportation Holdings"
          ],
          [
           "Yuanta Financial Holding"
          ],
          [
           "Zalando"
          ],
          [
           "Ford Otosan"
          ],
          [
           "Fidelity National Financial"
          ],
          [
           "China Hongqiao Group"
          ],
          [
           "Isuzu Motors"
          ],
          [
           "Zhejiang Zheneng Electric Power"
          ],
          [
           "Schroders"
          ],
          [
           "Flex"
          ],
          [
           "Mediobanca"
          ],
          [
           "Darling Ingredients"
          ],
          [
           "Korea Electric Power"
          ],
          [
           "Tapestry"
          ],
          [
           "KeyCorp"
          ],
          [
           "Hana Financial Group"
          ],
          [
           "TFI International"
          ],
          [
           "Toray Industries"
          ],
          [
           "YTO Express Group"
          ],
          [
           "China Longyuan Power"
          ],
          [
           "China Merchants Securities"
          ],
          [
           "FinecoBank"
          ],
          [
           "Samsung Life Insurance"
          ],
          [
           "RenaissanceRe Holdings"
          ],
          [
           "Aramark"
          ],
          [
           "China National Chemical"
          ],
          [
           "American Airlines Group"
          ],
          [
           "YPF "
          ],
          [
           "Tokyo Gas"
          ],
          [
           "Boston Properties"
          ],
          [
           "CPI Property Group"
          ],
          [
           "US Foods"
          ],
          [
           "Vistra Energy"
          ],
          [
           "Aegon"
          ],
          [
           "Pilbara Minerals"
          ],
          [
           "Bangkok Bank"
          ],
          [
           "Turkish Airlines"
          ],
          [
           "TCL "
          ],
          [
           "Kasikornbank"
          ],
          [
           "Grupo ACS"
          ],
          [
           "Yamaha Motor"
          ],
          [
           "Csc Financial"
          ],
          [
           "China Jushi"
          ],
          [
           "ENN Natural Gas"
          ],
          [
           "Gerdau (Cosigua)"
          ],
          [
           "Banque Cantonale Vaudoise"
          ],
          [
           "China Eastern Airlines"
          ],
          [
           "OTP Bank"
          ],
          [
           "Casey's General Stores"
          ],
          [
           "Unum"
          ],
          [
           "Equitable Holdings"
          ],
          [
           "Shanxi Lu'an Environmental"
          ],
          [
           "Liberty Global"
          ],
          [
           "GAIL India"
          ],
          [
           "Chubu Electric Power"
          ],
          [
           "VF"
          ],
          [
           "Shanghai Rural Commercial Bank"
          ],
          [
           "Japan Airlines"
          ],
          [
           "Keppel"
          ],
          [
           "Mizrahi Tefahot Bank"
          ],
          [
           "Goertek"
          ],
          [
           "Mitsui OSK Lines"
          ],
          [
           "Japan Exchange Group"
          ],
          [
           "Zhejiang Chint Electrics"
          ],
          [
           "KakaoBank"
          ],
          [
           "Euronext"
          ],
          [
           "Guanghui Energy Co. Ltd."
          ],
          [
           "J Sainsbury"
          ],
          [
           "Ovintiv"
          ],
          [
           "China Industrial Securities"
          ],
          [
           "Covestro"
          ],
          [
           "Mitsubishi Chemical"
          ],
          [
           "Impala Platinum Holdings"
          ],
          [
           "XP"
          ],
          [
           "AGC"
          ],
          [
           "TD SYNNEX"
          ],
          [
           "Kesko"
          ],
          [
           "China Merchants Expressway Network & Technology Holdings"
          ],
          [
           "New Hope Liuhe"
          ],
          [
           "Ageas"
          ],
          [
           "JBS"
          ],
          [
           "Grupa PZU"
          ],
          [
           "Kingdom Holding"
          ],
          [
           "El Puerto de Liverpool"
          ],
          [
           "Centrica"
          ],
          [
           "Attijariwafa Bank"
          ],
          [
           "Fertiglobe"
          ],
          [
           "DaVita"
          ],
          [
           "Sasol"
          ],
          [
           "Aisin Seiki"
          ],
          [
           "SK Telecom"
          ],
          [
           "China Resources Gas Group"
          ],
          [
           "Rakuten"
          ],
          [
           "Graphic Packaging"
          ],
          [
           "HII"
          ],
          [
           "Interactive Brokers Group"
          ],
          [
           "Samsung Electro-Mechanics"
          ],
          [
           "China Zheshang Bank"
          ],
          [
           "ARC Resources"
          ],
          [
           "Mondi"
          ],
          [
           "Wacker Chemie"
          ],
          [
           "Williams-Sonoma"
          ],
          [
           "Umicore"
          ],
          [
           "St. James's Place"
          ],
          [
           "Bath & Body Works"
          ],
          [
           "Ternium"
          ],
          [
           "Cleveland-Cliffs"
          ],
          [
           "Shanxi Xishan Coal & Electricity Power Co. Ltd."
          ],
          [
           "Shanghai Pharmaceuticals"
          ],
          [
           "Korea Zinc"
          ],
          [
           "Ally Financial"
          ],
          [
           "Invesco"
          ],
          [
           "Old Republic International"
          ],
          [
           "Vipshop Holdings"
          ],
          [
           "Vienna Insurance Group"
          ],
          [
           "Helvetia Holding"
          ],
          [
           "Krung Thai Bank"
          ],
          [
           "Bank Of Chengdu"
          ],
          [
           "China Merchants Port Group"
          ],
          [
           "Whirlpool"
          ],
          [
           "Mitsubishi UFJ Lease"
          ],
          [
           "Financiere de l'Odet"
          ],
          [
           "HMM"
          ],
          [
           "HF Sinclair"
          ],
          [
           "Absa Group"
          ],
          [
           "Bancolombia"
          ],
          [
           "Canadian Tire Corporation"
          ],
          [
           "Country Garden Holdings"
          ],
          [
           "Advance Auto Parts"
          ],
          [
           "Shanghai Commercial & Savings Bank"
          ],
          [
           "China Development Financial"
          ],
          [
           "Lear"
          ],
          [
           "Samsung Fire & Marine"
          ],
          [
           "Phoenix Group Holdings"
          ],
          [
           "WestRock"
          ],
          [
           "WH Group "
          ],
          [
           "CPFL Energia"
          ],
          [
           "China Gas Holdings"
          ],
          [
           "Arkema"
          ],
          [
           "NRG Energy"
          ],
          [
           "Bâloise Group"
          ],
          [
           "Meritz Financial Group"
          ],
          [
           "Olin"
          ],
          [
           "Jefferies Financial "
          ],
          [
           "Tenet Healthcare"
          ],
          [
           "Canara Bank"
          ],
          [
           "Punjab National Bank"
          ],
          [
           "Toll Brothers"
          ],
          [
           "SDIC Capital"
          ],
          [
           "Asustek Computer"
          ],
          [
           "T&D Holdings"
          ],
          [
           "Dai Nippon Printing"
          ],
          [
           "Yang Ming Marine Transport"
          ],
          [
           "IDBI Bank"
          ],
          [
           "Quinenco"
          ],
          [
           "Assurant"
          ],
          [
           "Unibail-Rodamco-Westfield "
          ],
          [
           "Toppan Printing"
          ],
          [
           "JFE Holdings"
          ],
          [
           "Samsung SDS"
          ],
          [
           "Voya Financial"
          ],
          [
           "Commercial Bank of Qatar "
          ],
          [
           "Osaka Gas"
          ],
          [
           "Berry Global Group"
          ],
          [
           "New York Community Bancorp"
          ],
          [
           "Masraf Al Rayan"
          ],
          [
           "Taishin Financial Holdings"
          ],
          [
           "Sibanye Stillwater"
          ],
          [
           "Raizen"
          ],
          [
           "Daiwa Securities"
          ],
          [
           "iA Financial Corporation"
          ],
          [
           "Arrow Electronics"
          ],
          [
           "SinoPac Financial"
          ],
          [
           "Empire"
          ],
          [
           "SK"
          ],
          [
           "Rexel"
          ],
          [
           "New World Development"
          ],
          [
           "Avis Budget Group"
          ],
          [
           "WESCO International"
          ],
          [
           "Leonardo"
          ],
          [
           "Banca Mediolanum"
          ],
          [
           "Cullen/Frost Bankers"
          ],
          [
           "MOL Hungarian Oil"
          ],
          [
           "Mashreq Bank"
          ],
          [
           "Kintetsu"
          ],
          [
           "Shengjing Bank"
          ],
          [
           "Taisei"
          ],
          [
           "Jones Lang LaSalle"
          ],
          [
           "Kajima"
          ],
          [
           "Daito Trust Construction"
          ],
          [
           "Idemitsu Kosan"
          ],
          [
           "GCL Technology Holdings"
          ],
          [
           "Woori Financial Group"
          ],
          [
           "Sunshine Insurance Group"
          ],
          [
           "Metallurgical Corp of China"
          ],
          [
           "Asr Nederland"
          ],
          [
           "Union Bank of India"
          ],
          [
           "China Resources Pharmaceutical Group"
          ],
          [
           "Korean Air"
          ],
          [
           "S-Oil"
          ],
          [
           "Guangzhou Automobile Group"
          ],
          [
           "Murphy USA"
          ],
          [
           "Antero Resources"
          ],
          [
           "Jiangxi Copper"
          ],
          [
           "Telecom Italia"
          ],
          [
           "Var Energi ASA"
          ],
          [
           "Chang Hwa Bank"
          ],
          [
           "West Fraser Timber Co."
          ],
          [
           "East West Bancorp"
          ],
          [
           "Skanska"
          ],
          [
           "China Merchants Port Holdings"
          ],
          [
           "Stifel Financial"
          ],
          [
           "Greenland Holdings Group"
          ],
          [
           "Banco BPM"
          ],
          [
           "Kingfisher"
          ],
          [
           "Mapfre"
          ],
          [
           "Israel Discount Bank"
          ],
          [
           "Sanlam"
          ],
          [
           "Range Resources"
          ],
          [
           "Voestalpine"
          ],
          [
           "Pegatron"
          ],
          [
           "Bluescope Steel"
          ],
          [
           "AutoNation"
          ],
          [
           "DCC"
          ],
          [
           "China Galaxy Securities"
          ],
          [
           "Industrial Bank of Korea"
          ],
          [
           "Shriram Transport Finance Co."
          ],
          [
           "Obayashi"
          ],
          [
           "Polaris Inc."
          ],
          [
           "Bank Pekao"
          ],
          [
           "Lithia Motors"
          ],
          [
           "Dongguan Rural Commercial Bank"
          ],
          [
           "M&G"
          ],
          [
           "Adaro Energy"
          ],
          [
           "Webster Financial"
          ],
          [
           "KT "
          ],
          [
           "First Horizon"
          ],
          [
           "CTP"
          ],
          [
           "China National Building"
          ],
          [
           "Kawasaki Kisen Kaisha"
          ],
          [
           "Chord Energy"
          ],
          [
           "Tokyo Electric Power"
          ],
          [
           "Mazda Motor"
          ],
          [
           "Shenzhen Overseas"
          ],
          [
           "Mitsubishi Motors"
          ],
          [
           "Vietin Bank"
          ],
          [
           "KGHM Polska Miedz"
          ],
          [
           "Cencosud"
          ],
          [
           "Prosperity Bancshares"
          ],
          [
           "Pdc Energy"
          ],
          [
           "Univar"
          ],
          [
           "Fosun International"
          ],
          [
           "Falabella"
          ],
          [
           "Yes Bank"
          ],
          [
           "Banco de Sabadell"
          ],
          [
           "Indorama Ventures"
          ],
          [
           "Indian Railway Finance"
          ],
          [
           "A2A"
          ],
          [
           "Adecco Group"
          ],
          [
           "Beijing Enterprises"
          ],
          [
           "Cosan"
          ],
          [
           "Nedbank"
          ],
          [
           "Sumitomo Chemical"
          ],
          [
           "OCI"
          ],
          [
           "Gemdale"
          ],
          [
           "Lotte Chemical"
          ],
          [
           "Eurobank Ergasias"
          ],
          [
           "PTT Global Chemical"
          ],
          [
           "Isbank"
          ],
          [
           "KION Group"
          ],
          [
           "Wan Hai Lines"
          ],
          [
           "Power Finance"
          ],
          [
           "AGNC Investment"
          ],
          [
           "Civitas Resources"
          ],
          [
           "Shenwan Hongyuan Group"
          ],
          [
           "Murphy Oil"
          ],
          [
           "BOK Financial"
          ],
          [
           "NIPPON EXPRESS HOLDINGS"
          ],
          [
           "SBI Holdings"
          ],
          [
           "Air Canada"
          ],
          [
           "Guangzhou Baiyunshan Pharmaceutical Holdings"
          ],
          [
           "Fibra Uno"
          ],
          [
           "RHB Bank"
          ],
          [
           "Bank Muscat"
          ],
          [
           "Orient Securities"
          ],
          [
           "Yuexiu Property "
          ],
          [
           "Starwood Property Trust"
          ],
          [
           "Southwestern Energy"
          ],
          [
           "Covivio"
          ],
          [
           "Commercial Metals"
          ],
          [
           "DXC Technology"
          ],
          [
           "Ricoh"
          ],
          [
           "Commercial International Bank"
          ],
          [
           "BCI-Banco Credito"
          ],
          [
           "Dillard's"
          ],
          [
           "Huadian Power International"
          ],
          [
           "Fastighets Balder"
          ],
          [
           "Indian Bank"
          ],
          [
           "Bankinter"
          ],
          [
           "Raiffeisen Bank International"
          ],
          [
           "Iida Group Holdings"
          ],
          [
           "Charoen Pokphand Foods"
          ],
          [
           "National Bank of Greece"
          ],
          [
           "AVIC Capital"
          ],
          [
           "Hunan Valin Steel"
          ],
          [
           "South State"
          ],
          [
           "Mitsui Chemicals"
          ],
          [
           "Yunnan Yuntianhua"
          ],
          [
           "US Steel"
          ],
          [
           "Bank of Changsha"
          ],
          [
           "Tongling Nonferrous Metals"
          ],
          [
           "Metropolitan Bank & Trust"
          ],
          [
           "Petro Rabigh"
          ],
          [
           "Huaibei Mining Holdings"
          ],
          [
           "Investec"
          ],
          [
           "Comerica"
          ],
          [
           "City Developments"
          ],
          [
           "Chiba Bank"
          ],
          [
           "Schaeffler"
          ],
          [
           "Hyundai Glovis"
          ],
          [
           "China Cinda Asset Management"
          ],
          [
           "Ampol "
          ],
          [
           "Inner Mongolia Yitai Coal"
          ],
          [
           "Hong Leong Financial"
          ],
          [
           "LG Innotek Co.,"
          ],
          [
           "Taylor Morrison Home"
          ],
          [
           "Kangmei Pharmaceutical"
          ],
          [
           "Banque Centrale Populaire"
          ],
          [
           "Chongqing Rural Bank"
          ],
          [
           "Sharp"
          ],
          [
           "Xiamen C&D"
          ],
          [
           "STRABAG"
          ],
          [
           "Wistron"
          ],
          [
           "Valeo"
          ],
          [
           "Scor"
          ],
          [
           "ThyssenKrupp Group"
          ],
          [
           "SITC International Holdings"
          ],
          [
           "Latam Airlines"
          ],
          [
           "Hera"
          ],
          [
           "Shimizu"
          ],
          [
           "Johnson Matthey"
          ],
          [
           "Hangzhou Binjiang Real Estate Group Co., Ltd."
          ],
          [
           "Sojitz"
          ],
          [
           "Aker"
          ],
          [
           "Korea Shipbuilding & Offshore Engineering"
          ],
          [
           "China Taiping Insurance"
          ],
          [
           "Jointown Pharmaceutical Group"
          ],
          [
           "Huishang Bank"
          ],
          [
           "FCC"
          ],
          [
           "Jyske Bank"
          ],
          [
           "Thor Industries"
          ],
          [
           "Concordia Financial Group"
          ],
          [
           "Olam Group"
          ],
          [
           "Shanghai Yuyuan Tourist Mart"
          ],
          [
           "China Huarong Asset Management"
          ],
          [
           "Bank of India"
          ],
          [
           "Sumitomo Forestry Co.,"
          ],
          [
           "OneMain Holdings"
          ],
          [
           "Parkland"
          ],
          [
           "Vietnam Technological & Commercial Joint Stock Bank"
          ],
          [
           "Shanxi Coal International Energy Group"
          ],
          [
           "Shin Kong Financial"
          ],
          [
           "Asbury Automotive Group"
          ],
          [
           "Tokyo Century"
          ],
          [
           "Shizuoka Financial Group"
          ],
          [
           "TMB Bank"
          ],
          [
           "AviChina Industry & Technology"
          ],
          [
           "Columbia Bank"
          ],
          [
           "Steel Authority of India"
          ],
          [
           "Beijing Shougang"
          ],
          [
           "Macy's"
          ],
          [
           "Shanghai Electric Group"
          ],
          [
           "China Energy Engineering"
          ],
          [
           "PBF Energy"
          ],
          [
           "Air France-KLM"
          ],
          [
           "Arab Bank"
          ],
          [
           "Synovus"
          ],
          [
           "Dongfeng Motor Group"
          ],
          [
           "Popular"
          ],
          [
           "Penn Entertainment"
          ],
          [
           "Aurubis"
          ],
          [
           "Akbank"
          ],
          [
           "BPER Banca"
          ],
          [
           "Wuchan Zhongda Group"
          ],
          [
           "VakifBank"
          ],
          [
           "Bank of Suzhou"
          ],
          [
           "Unipol Gruppo"
          ],
          [
           "Empresas CMPC"
          ],
          [
           "Wintrust Financial"
          ],
          [
           "Whitehaven Coal"
          ],
          [
           "China Nuclear Engineering Corporation"
          ],
          [
           "LG Display"
          ],
          [
           "AntarChile"
          ],
          [
           "F.N.B."
          ],
          [
           "Avnet"
          ],
          [
           "Sabanci Holding"
          ],
          [
           "Oji Holdings"
          ],
          [
           "Valley National Bancorp"
          ],
          [
           "Ryder System"
          ],
          [
           "Halyk Bank"
          ],
          [
           "Bank OZK"
          ],
          [
           "Faurecia"
          ],
          [
           "Far East Horizon"
          ],
          [
           "Zhejiang Expressway Co. Ltd."
          ],
          [
           "Shanghai Construction "
          ],
          [
           "Bawag Group"
          ],
          [
           "Braskem"
          ],
          [
           "Lufax Holding"
          ],
          [
           "Pinnacle Bank"
          ],
          [
           "China Communications Services"
          ],
          [
           "Bank of Guizhou"
          ],
          [
           "DISH Network"
          ],
          [
           "Hengyi Petrochemical "
          ],
          [
           "Luzerner Kantonalbank"
          ],
          [
           "Inventec"
          ],
          [
           "Shaanxi Construction Engineering Group"
          ],
          [
           "Datang International Power"
          ],
          [
           "CJ Cheiljedang"
          ],
          [
           "General Insurance Corporation Of India"
          ],
          [
           "K+S"
          ],
          [
           "Old National Bank"
          ],
          [
           "Shinsei Bank"
          ],
          [
           "Kawasaki Heavy Industries"
          ],
          [
           "Banco Comercial Portugues"
          ],
          [
           "Taiwan Business Bank"
          ],
          [
           "Bank of Kyoto"
          ],
          [
           "Halkbank"
          ],
          [
           "PGE Polska Grupa Energetyczna"
          ],
          [
           "Db Insurance"
          ],
          [
           "Ultrapar Participacoes"
          ],
          [
           "LG Uplus"
          ],
          [
           "Yunnan Copper Co. Ltd."
          ],
          [
           "Manpower"
          ],
          [
           "Bank of East Asia"
          ],
          [
           "Hyundai Steel"
          ],
          [
           "Fukuoka Financial Group"
          ],
          [
           "Zions Bancorp"
          ],
          [
           "Xinte Energy"
          ],
          [
           "Storebrand"
          ],
          [
           "Cadence Bank"
          ],
          [
           "Military Commercial Joint Stock Bank"
          ],
          [
           "HBIS"
          ],
          [
           "China International Marine"
          ],
          [
           "Lincoln National"
          ],
          [
           "Hyundai Engineering"
          ],
          [
           "Credit Suisse Group"
          ],
          [
           "Compal Electronics"
          ],
          [
           "TUI"
          ],
          [
           "Synnex Technology Intl"
          ],
          [
           "Public Power"
          ],
          [
           "China Reinsurance Group"
          ],
          [
           "Huafa Industrial"
          ],
          [
           "Peabody Energy"
          ],
          [
           "American Equity Investment"
          ],
          [
           "Kyndryl Holdings"
          ],
          [
           "St. Galler Kantonalbank"
          ],
          [
           "St. Mary Land & Exploration Co."
          ],
          [
           "Goodyear"
          ],
          [
           "Piraeus Financial Holdings"
          ],
          [
           "Bendigo & Adelaide Bank"
          ],
          [
           "Gap"
          ],
          [
           "Jiangsu Changshu Rural Commercial Bank"
          ],
          [
           "Viva Energy Group"
          ],
          [
           "Group 1 Automotive"
          ],
          [
           "Xiamen Xiangyu"
          ],
          [
           "Greentown China Holdings"
          ],
          [
           "ALFA"
          ],
          [
           "Bank Of Guiyang"
          ],
          [
           "Angang Steel"
          ],
          [
           "HD HYUNDAI"
          ],
          [
           "Vibra Energia"
          ],
          [
           "Shanghai Tunnel Engineering Co. Ltd."
          ],
          [
           "Old Mutual"
          ],
          [
           "Metro Group"
          ],
          [
           "Guangzhou Rural Commercial Bank"
          ],
          [
           "Mirae Asset Financial Group"
          ],
          [
           "China Bohai Bank"
          ],
          [
           "Hancock Holding"
          ],
          [
           "Central Bank of India"
          ],
          [
           "Alpha Bank"
          ],
          [
           "Alfresa Holdings"
          ],
          [
           "Western Alliance Bancorp."
          ],
          [
           "International Distributions Services"
          ],
          [
           "Electric Power Development"
          ],
          [
           "Kobe Steel"
          ],
          [
           "Kyushu Electric Power"
          ],
          [
           "Medipal Holdings"
          ],
          [
           "Bank of Jiujiang"
          ],
          [
           "Grupo Aval"
          ],
          [
           "Jackson Financial"
          ],
          [
           "Brighthouse Financial"
          ],
          [
           "Qilu Bank"
          ],
          [
           "EFG International"
          ],
          [
           "Banca MPS"
          ],
          [
           "Xiamen International Trade Group"
          ],
          [
           "GS Holdings"
          ],
          [
           "Cosmo Energy Holdings"
          ],
          [
           "Zhongyuan Bank"
          ],
          [
           "Uniqa"
          ],
          [
           "Suning.com"
          ],
          [
           "Thai Oil"
          ],
          [
           "Andon Health"
          ],
          [
           "WPG Holdings"
          ],
          [
           "Mebuki Financial Group"
          ],
          [
           "Northern Oil and Gas"
          ],
          [
           "Zhejiang Construction Investment Group"
          ],
          [
           "Tohoku Electric Power"
          ],
          [
           "Comstock Resources"
          ],
          [
           "Unicaja Banco"
          ],
          [
           "Credito Emiliano"
          ],
          [
           "Digital China Group"
          ],
          [
           "OSB Group"
          ],
          [
           "Frasers Property"
          ],
          [
           "Hopson Development Holdings"
          ],
          [
           "Hubei Biocause Pharmaceutical"
          ],
          [
           "Bank of Queensland"
          ],
          [
           "Bank of Lanzhou"
          ],
          [
           "Golden Agri-Resources"
          ],
          [
           "Sinotrans Ltd."
          ],
          [
           "Motor Oil"
          ],
          [
           "China Grand Automotive Services"
          ],
          [
           "CNX Resources"
          ],
          [
           "BEKB-BCBE"
          ],
          [
           "Virgin Money UK"
          ],
          [
           "China Jinmao"
          ],
          [
           "Legend Holding"
          ],
          [
           "Bank of Xi'an"
          ],
          [
           "Genworth Financial"
          ],
          [
           "Grandjoy Holdings Group"
          ],
          [
           "Hellenic Petroleum"
          ],
          [
           "CVR Energy"
          ],
          [
           "Outokumpu"
          ],
          [
           "Metalurgica Gerdau"
          ],
          [
           "Qingdao Rural Commercial Bank"
          ],
          [
           "Korea Investment Holdings"
          ],
          [
           "Iveco Group"
          ],
          [
           "BAIC Motor"
          ],
          [
           "Hertz Global Holdings"
          ],
          [
           "Weihai City Commercial Bank"
          ],
          [
           "Arch Resources"
          ],
          [
           "Kohl's"
          ],
          [
           "Lumen Technologies"
          ],
          [
           "CJ Corporation"
          ],
          [
           "Banpu"
          ],
          [
           "Alpha Metallurgical Resources"
          ],
          [
           "Suzuken"
          ],
          [
           "Nippon Steel Trading"
          ],
          [
           "Israel Corp"
          ],
          [
           "Xiamen Bank"
          ],
          [
           "Hyundai Marine & Fire"
          ],
          [
           "Aareal Bank"
          ],
          [
           "Rajesh Exports"
          ],
          [
           "Bausch Health Companies"
          ],
          [
           "Aozora Bank"
          ],
          [
           "ZIM Integrated Shipping Services"
          ],
          [
           "Banca Popolare di Sondrio"
          ],
          [
           "Salzgitter"
          ],
          [
           "Callon Petroleum"
          ],
          [
           "Hachijuni Bank"
          ],
          [
           "Bank of Chongqing"
          ],
          [
           "China Overseas Grand Oceans Group"
          ],
          [
           "E-mart "
          ],
          [
           "Bank of Qingdao"
          ],
          [
           "Chugoku Electric Power"
          ],
          [
           "Navient"
          ],
          [
           "WT Microelectronics"
          ],
          [
           "SBI Sumishin Net Bank"
          ],
          [
           "Seadrill"
          ],
          [
           "StoneX Group"
          ],
          [
           "Brookfield Business"
          ],
          [
           "Iyogin Holdings,Inc."
          ],
          [
           "China Development Bank Financial Leasing"
          ],
          [
           "Korea Gas"
          ],
          [
           "Bank Of Gansu"
          ],
          [
           "Lotte Shopping"
          ],
          [
           "Beijing Capital Development"
          ],
          [
           "Gulfport Energy"
          ],
          [
           "Wuestenrot & Wuerttembergische"
          ],
          [
           "Zenith Bank"
          ],
          [
           "BNK Financial Group"
          ],
          [
           "Sansteel Minguang"
          ],
          [
           "United Natural Foods"
          ],
          [
           "Midea Real Estate Holding"
          ],
          [
           "Anhui Water Resources Development"
          ],
          [
           "BayWa"
          ],
          [
           "First Pacific"
          ],
          [
           "Hirogin Holdings"
          ],
          [
           "Kyushu Financial Group"
          ],
          [
           "ATOS"
          ],
          [
           "Seazen Group"
          ],
          [
           "Hanwha"
          ],
          [
           "Quilter"
          ],
          [
           "Bank of Tianjin"
          ],
          [
           "World Fuel Services"
          ],
          [
           "China Fortune Land Development"
          ],
          [
           "Yamaguchi Financial"
          ],
          [
           "BBMG"
          ],
          [
           "Delek US Holdings"
          ],
          [
           "Gunma Bank"
          ],
          [
           "FIBI Holdings"
          ],
          [
           "Ceconomy"
          ],
          [
           "Altice USA"
          ],
          [
           "Sumec Corporation"
          ],
          [
           "Brookfield Reinsurance"
          ],
          [
           "Hanwa"
          ],
          [
           "Andersons"
          ],
          [
           "Par Pacific Holdings"
          ],
          [
           "Chugin Financial Group,Inc."
          ],
          [
           "Deutsche Pfandbriefbank"
          ],
          [
           "JB Financial Group"
          ],
          [
           "77 Bank"
          ],
          [
           "Saras"
          ],
          [
           "Migdal Insurance"
          ],
          [
           "Doosan"
          ],
          [
           "Bank of Zhengzhou"
          ],
          [
           "JSW Group"
          ],
          [
           "Nishi-nippon Financial Holdings"
          ],
          [
           "Grupo Bolivar"
          ],
          [
           "Jinke Property Group"
          ],
          [
           "RiseSun Real Estate Development"
          ],
          [
           "Jiangsu Zhongnan Construction Group"
          ],
          [
           "Daishi Hokuetsu Financial Group"
          ],
          [
           "Zheshang Development Group"
          ],
          [
           "Shiga Bank"
          ],
          [
           "Jinshang Bank"
          ],
          [
           "Hokuhoku Financial Group"
          ],
          [
           "Agile Group Holdings"
          ],
          [
           "Marfrig Global Foods"
          ],
          [
           "DGB Financial Group"
          ],
          [
           "San-In Godo Bank"
          ],
          [
           "Juroku  Financial Group"
          ],
          [
           "North Pacific Bank"
          ],
          [
           "Yango Group"
          ],
          [
           "Kiyo Bank "
          ],
          [
           "Jiangxi Bank"
          ],
          [
           "Hyakugo Bank"
          ],
          [
           "Logan Property Holdings"
          ],
          [
           "Guangzhou R&F"
          ],
          [
           "PacWest Bancorp"
          ],
          [
           "Sino-Ocean Group Holding"
          ],
          [
           "DSM"
          ],
          [
           "Tokyo Kiraboshi Financial Group"
          ],
          [
           "Daou Technology"
          ],
          [
           "China Aviation Oil"
          ],
          [
           "Top Frontier Investment Holdings"
          ],
          [
           "Japan Securities"
          ],
          [
           "Nanto Bank"
          ],
          [
           "Ogaki Kyoritsu Bank"
          ],
          [
           "Zall Smart Commerce Group"
          ],
          [
           "Schweizerische Nationalbank"
          ],
          [
           "Keiyo Bank"
          ],
          [
           "Fannie Mae"
          ],
          [
           "Senshu Ikeda Holdings"
          ],
          [
           "Daou Data"
          ],
          [
           "Mercuries & Associates"
          ],
          [
           "Toho Bank"
          ],
          [
           "PT Garuda Indonesia (Persero)"
          ],
          [
           "Harbin Bank"
          ],
          [
           "Basler Kantonalbank"
          ],
          [
           "Bank of Greece"
          ],
          [
           "Freddie Mac"
          ],
          [
           "Coinshares International"
          ],
          [
           "Pakistan State Oil"
          ],
          [
           "AirAsia X"
          ],
          [
           "Rite Aid"
          ],
          [
           "Finatis"
          ]
         ],
         "hovertemplate": "Ventas=%{x}<br>Beneficios=%{y}<br>empresa=%{customdata[0]}<extra></extra>",
         "legendgroup": "",
         "marker": {
          "color": "#636efa",
          "symbol": "circle"
         },
         "mode": "markers",
         "name": "",
         "showlegend": false,
         "type": "scattergl",
         "x": [
          293971,
          153284,
          229747,
          386064,
          182350,
          85966,
          69990,
          31536,
          93828,
          245510,
          48057,
          200703,
          21479,
          136187,
          82572,
          16675,
          559151,
          12185,
          15301,
          50901,
          262916,
          132110,
          60409,
          73975,
          98841,
          89859,
          21434,
          62137,
          15935,
          77867,
          103564,
          13697,
          190467,
          24996,
          128292,
          178170,
          33029,
          39692,
          31910,
          48022,
          34608,
          249370,
          16723,
          47644,
          171760,
          21252,
          38456,
          169127,
          173478,
          71312,
          48631,
          94402,
          47823,
          24685,
          32218,
          60414,
          45677,
          45804,
          46061,
          85902,
          24540,
          14461,
          19208,
          22284,
          27927,
          19413,
          61195,
          31656,
          178626,
          70291,
          32640,
          22116,
          17228,
          26690,
          84432,
          6832,
          42617,
          170189,
          27243,
          84370,
          57833,
          2929,
          89597,
          19533,
          25246,
          254081,
          42518,
          58161,
          28697,
          153920,
          58017,
          23168,
          79871,
          44514,
          42870,
          111262,
          46752,
          27656,
          8516,
          7284,
          41086,
          41746,
          48097,
          56690,
          18086,
          18200,
          22381,
          38796,
          38185,
          60626,
          37038,
          73621,
          108331,
          63519,
          119715,
          6309,
          79857,
          13824,
          134016,
          8717,
          61843,
          9498,
          4845,
          32184,
          7717,
          14178,
          12084,
          67249,
          8042,
          4519,
          65398,
          129859,
          3378,
          4783,
          23427,
          20677,
          71389,
          14652,
          93561,
          6796,
          23503,
          9763,
          268654,
          175908,
          40427,
          56898,
          2651,
          20841,
          14351,
          110283,
          4358,
          14934,
          12553,
          9882,
          31337,
          43727,
          2507,
          121885,
          11926,
          33054,
          115136,
          28681,
          7442,
          160550,
          23145,
          37784,
          47260,
          6665,
          39071,
          18905,
          122485,
          180022,
          35734,
          10303,
          32137,
          27037,
          4439,
          24642,
          14852,
          3271,
          271077,
          26581,
          14591,
          9148,
          10841,
          23353,
          67428,
          6675,
          3973,
          102681,
          11967,
          24334,
          70790,
          5840,
          19988,
          13534,
          23868,
          94329,
          21036,
          78652,
          2474,
          17354,
          18207,
          28161,
          15549,
          30656,
          14613,
          2858,
          10583,
          8090,
          4884,
          4151,
          9789,
          90453,
          10689,
          36052,
          16449,
          13674,
          49251,
          76157,
          21921,
          18362,
          8261,
          15832,
          12574,
          12019,
          112846,
          56018,
          63400,
          18765,
          11767,
          20241,
          16471,
          803,
          1277,
          18403,
          7642,
          26043,
          129497,
          592,
          5674,
          18959,
          280663,
          53806,
          51533,
          9574,
          15182,
          3791,
          3640,
          1762,
          17944,
          6581,
          22622,
          17198,
          22336,
          15710,
          7424,
          12351,
          45428,
          8977,
          47195,
          2402,
          20339,
          5976,
          5646,
          25819,
          16181,
          31600,
          4299,
          58351,
          50079,
          22859,
          181970,
          5371,
          5076,
          73588,
          24516,
          13798,
          5858,
          1803,
          9646,
          3239,
          9913,
          3314,
          42638,
          6794,
          32242,
          113848,
          98808,
          15218,
          6209,
          818,
          17858,
          77085,
          3716,
          67842,
          36799,
          54751,
          13873,
          13194,
          4386,
          16797,
          10580,
          24314,
          142360,
          8612,
          22269,
          9009,
          30801,
          10941,
          11069,
          88142,
          8497,
          9073,
          45811,
          29964,
          52745,
          15724,
          2234,
          5950,
          14832,
          121803,
          21294,
          49742,
          11417,
          1484,
          37925,
          71800,
          36769,
          33747,
          14077,
          4599,
          5516,
          9118,
          21945,
          6070,
          44648,
          11618,
          6251,
          26184,
          10541,
          15534,
          20106,
          3134,
          5748,
          38587,
          1693,
          127144,
          22888,
          5162,
          37248,
          22519,
          9025,
          10593,
          1778,
          47294,
          38542,
          874,
          2886,
          4655,
          2472,
          67589,
          39649,
          17729,
          96597,
          52256,
          7453,
          19140,
          1980,
          25247,
          2905,
          9568,
          3612,
          1560,
          4979,
          26885,
          12532,
          3091,
          138463,
          3523,
          78694,
          5979,
          2707,
          8614,
          13396,
          13115,
          4803,
          1453,
          33431,
          22082,
          27912,
          17572,
          11330,
          1918,
          11719,
          5527,
          78694,
          22255,
          50144,
          18840,
          10697,
          12526,
          14908,
          11673,
          3572,
          73867,
          18194,
          5985,
          7384,
          2194,
          16652,
          5298,
          57663,
          43436,
          33890,
          4402,
          62581,
          17090,
          12658,
          7749,
          57212,
          30330,
          9769,
          11351,
          924,
          8393,
          116708,
          9573,
          1465,
          13505,
          4327,
          11358,
          46201,
          20397,
          9934,
          14386,
          45902,
          2683,
          8599,
          3907,
          5530,
          43523,
          12455,
          1093,
          19120,
          26676,
          50560,
          10608,
          43736,
          5668,
          6207,
          10325,
          15896,
          4889,
          16886,
          24479,
          13486,
          4781,
          3820,
          14338,
          12521,
          27039,
          1456,
          1747,
          31995,
          1695,
          25407,
          57033,
          2391,
          24656,
          19811,
          1927,
          6735,
          1082,
          2663,
          4608,
          1862,
          27536,
          13066,
          17456,
          5660,
          1709,
          11526,
          111115,
          4285,
          1745,
          1567,
          1541,
          11473,
          18626,
          18342,
          11604,
          3944,
          6815,
          10031,
          21715,
          54423,
          9048,
          6900,
          23601,
          22147,
          44791,
          2650,
          12594,
          9973,
          2594,
          106686,
          51627,
          61183,
          13524,
          30318,
          9387,
          6065,
          122,
          27749,
          43059,
          63555,
          8344,
          7024,
          1659,
          11980,
          4336,
          3783,
          5084,
          3336,
          638,
          835,
          10162,
          74991,
          7316,
          5652,
          11310,
          14217,
          3943,
          5485,
          22224,
          59850,
          7146,
          26591,
          106586,
          9316,
          32934,
          49650,
          27084,
          7486,
          63693,
          6302,
          2657,
          4170,
          14097,
          5170,
          2954,
          3344,
          2840,
          19599,
          836,
          8296,
          805,
          43465,
          4749,
          9522,
          2592,
          11336,
          18050,
          14145,
          8150,
          10154,
          64395,
          8759,
          23288,
          38897,
          14535,
          215338,
          22673,
          48187,
          13390,
          18724,
          9478,
          1681,
          4282,
          9811,
          3340,
          2969,
          89998,
          3964,
          7024,
          12377,
          12944,
          9298,
          21005,
          7414,
          18387,
          53223,
          34347,
          3053,
          4607,
          4599,
          15017,
          2478,
          17821,
          2076,
          12058,
          12954,
          3970,
          13639,
          50147,
          7051,
          9369,
          9773,
          6211,
          8904,
          69475,
          237621,
          4540,
          5444,
          26973,
          831,
          7242,
          18066,
          12756,
          34017,
          3092,
          61893,
          2785,
          47262,
          551,
          3085,
          11759,
          12653,
          2269,
          64878,
          3924,
          2744,
          71293,
          1184,
          7532,
          1931,
          4015,
          8625,
          51,
          1094,
          19928,
          2286,
          3777,
          5697,
          12066,
          6284,
          21174,
          32451,
          9363,
          14625,
          3387,
          860,
          28047,
          7719,
          22958,
          85198,
          17357,
          936,
          1829,
          444,
          42695,
          14028,
          309,
          9099,
          5277,
          132498,
          5689,
          42830,
          42924,
          11738,
          11437,
          11384,
          39139,
          3953,
          772,
          6955,
          1726,
          15604,
          57043,
          603,
          10875,
          13396,
          23826,
          4454,
          3687,
          25509,
          6759,
          22475,
          1261,
          12280,
          19392,
          18311,
          53617,
          9598,
          67312,
          7404,
          11002,
          1305,
          2539,
          4306,
          11826,
          1226,
          4187,
          12238,
          4548,
          6854,
          5034,
          6953,
          23334,
          34315,
          22451,
          17730,
          2297,
          50383,
          5628,
          2176,
          13751,
          18603,
          1018,
          3945,
          536,
          5507,
          32583,
          50463,
          11755,
          18468,
          35446,
          2697,
          13046,
          17827,
          30734,
          13978,
          5115,
          2355,
          3101,
          41355,
          25934,
          9685,
          31042,
          8263,
          3596,
          5656,
          20232,
          10278,
          1661,
          2659,
          5199,
          12137,
          2486,
          29599,
          8008,
          10262,
          81199,
          11584,
          74835,
          903,
          194546,
          320,
          7061,
          10375,
          6512,
          49023,
          49106,
          7604,
          2389,
          6814,
          8952,
          2720,
          2318,
          5247,
          883,
          17493,
          12827,
          3669,
          1876,
          55876,
          7524,
          841,
          74001,
          14074,
          37127,
          14355,
          1489,
          3181,
          20140,
          24930,
          8530,
          5871,
          8081,
          20523,
          6005,
          1265,
          11734,
          2607,
          6649,
          48982,
          4280,
          4128,
          6534,
          13227,
          4857,
          13578,
          24720,
          2147,
          37886,
          7927,
          9724,
          2654,
          3541,
          1546,
          8561,
          18469,
          8357,
          10512,
          26620,
          64414,
          9182,
          11020,
          5506,
          6514,
          19659,
          9895,
          20580,
          7607,
          12662,
          58956,
          7560,
          6083,
          19465,
          18992,
          3004,
          5971,
          9043,
          19367,
          4730,
          3254,
          6391,
          3730,
          4720,
          2209,
          35197,
          2769,
          3097,
          26032,
          5764,
          3121,
          13770,
          4896,
          13326,
          5587,
          5794,
          9965,
          1920,
          6766,
          5465,
          8365,
          11797,
          4248,
          2032,
          20956,
          5015,
          28102,
          18950,
          4910,
          16327,
          6366,
          10620,
          28453,
          7759,
          4747,
          41447,
          9233,
          2200,
          2485,
          4474,
          3795,
          26918,
          57919,
          1528,
          72016,
          28956,
          21177,
          1600,
          39534,
          3148,
          3294,
          9781,
          6661,
          9745,
          7802,
          3139,
          25609,
          6703,
          6352,
          1571,
          4958,
          6684,
          2537,
          8567,
          6200,
          1386,
          9520,
          28499,
          3502,
          7341,
          8483,
          15493,
          3635,
          21236,
          5162,
          7019,
          1625,
          3814,
          6087,
          4542,
          4536,
          5330,
          2465,
          7313,
          7229,
          3474,
          3423,
          10790,
          11088,
          15785,
          10400,
          3016,
          37941,
          28387,
          6187,
          9661,
          20070,
          10691,
          4382,
          8756,
          6630,
          1095,
          1338,
          24876,
          7371,
          7582,
          32647,
          10172,
          2720,
          8602,
          1709,
          1633,
          1512,
          6088,
          10116,
          9388,
          6394,
          9345,
          4952,
          2546,
          43856,
          12484,
          11846,
          4668,
          34127,
          6095,
          2365,
          6152,
          3190,
          6680,
          9808,
          2716,
          16804,
          30784,
          8308,
          14445,
          3118,
          7367,
          2666,
          2803,
          9974,
          10640,
          4827,
          47340,
          2767,
          12992,
          2143,
          15355,
          14039,
          1606,
          2000,
          5655,
          11733,
          156452,
          5257,
          2203,
          3612,
          8403,
          10475,
          43624,
          3057,
          3129,
          18705,
          5084,
          3255,
          9690,
          4013,
          22942,
          2277,
          9415,
          44034,
          4304,
          4552,
          13505,
          17004,
          4601,
          5580,
          3198,
          10213,
          3237,
          14742,
          7536,
          13171,
          13908,
          9437,
          5905,
          16199,
          13633,
          6883,
          20911,
          13336,
          2048,
          27631,
          42778,
          18867,
          55683,
          157,
          2352,
          9739,
          18755,
          21580,
          45850,
          4984,
          29651,
          6972,
          6081,
          3713,
          5967,
          7188,
          23883,
          16475,
          8910,
          3053,
          15392,
          2065,
          12298,
          27762,
          2122,
          4624,
          2924,
          554,
          6674,
          5217,
          11944,
          8309,
          2865,
          9861,
          8986,
          1226,
          30175,
          27060,
          5525,
          19667,
          17323,
          3061,
          39550,
          9751,
          3449,
          21148,
          8720,
          5961,
          12780,
          10349,
          3138,
          5211,
          5754,
          3555,
          8464,
          3579,
          2661,
          6071,
          575,
          56954,
          3724,
          1140,
          20705,
          2794,
          3418,
          17924,
          23172,
          8337,
          4117,
          16252,
          4275,
          13386,
          11980,
          7556,
          5818,
          27484,
          10849,
          23972,
          6056,
          7737,
          1588,
          8965,
          3783,
          1900,
          52384,
          22937,
          2807,
          5299,
          18781,
          9116,
          3613,
          19449,
          11561,
          4642,
          5472,
          15192,
          82249,
          23014,
          4878,
          5435,
          15698,
          57997,
          19295,
          11801,
          12583,
          1975,
          82443,
          17468,
          16294,
          1842,
          8174,
          12416,
          17557,
          12297,
          4913,
          11036,
          18187,
          8921,
          3007,
          2451,
          9552,
          6090,
          10578,
          6931,
          72791,
          13424,
          9540,
          6834,
          8036,
          3502,
          23618,
          4268,
          17338,
          4323,
          20712,
          3416,
          2613,
          8127,
          1500,
          14892,
          4505,
          4061,
          14263,
          10465,
          14587,
          11589,
          4107,
          8132,
          6022,
          7951,
          12499,
          40785,
          49640,
          11022,
          1254,
          3874,
          34382,
          10541,
          23609,
          3294,
          6766,
          37534,
          12205,
          11629,
          2400,
          1814,
          69389,
          15060,
          6658,
          37048,
          9338,
          11651,
          6783,
          7418,
          4514,
          7932,
          7594,
          11203,
          16207,
          5397,
          5075,
          1667,
          6739,
          2018,
          6957,
          2860,
          11074,
          10866,
          9509,
          24299,
          12061,
          10791,
          7132,
          37023,
          2829,
          164,
          25589,
          1249,
          3942,
          9730,
          9760,
          1218,
          5250,
          8682,
          7002,
          10106,
          49559,
          10688,
          141613,
          32925,
          17429,
          5767,
          11559,
          97,
          9454,
          1484,
          11551,
          11525,
          19253,
          7504,
          6157,
          13800,
          4365,
          6898,
          12163,
          26691,
          19824,
          5821,
          15084,
          30015,
          2436,
          4952,
          4518,
          4377,
          15894,
          7203,
          4304,
          11246,
          11645,
          1476,
          8429,
          9836,
          1257,
          9061,
          2336,
          16614,
          10319,
          4893,
          4819,
          29851,
          8098,
          10164,
          6671,
          21820,
          9598,
          1774,
          5872,
          41417,
          5828,
          3136,
          10165,
          13603,
          6511,
          7033,
          7849,
          10894,
          9654,
          10735,
          12966,
          14719,
          1489,
          6299,
          7797,
          12500,
          9150,
          3954,
          12945,
          22312,
          4734,
          48867,
          9385,
          5603,
          2273,
          17420,
          18017,
          5158,
          16297,
          4154,
          12143,
          6693,
          9958,
          4402,
          30020,
          6119,
          13451,
          4678,
          45657,
          8443,
          11034,
          17045,
          4371,
          9601,
          9032,
          3561,
          3811,
          21994,
          4738,
          884,
          4725,
          12550,
          19781,
          8027,
          12263,
          5556,
          14764,
          8614,
          4824,
          9783,
          4726,
          1785,
          9802,
          5978,
          4361,
          27877,
          1254,
          7222,
          13124,
          68662,
          35481,
          8878,
          1345,
          15876,
          6136,
          8190,
          2245,
          8559,
          2854,
          9381,
          1007,
          17771,
          2013,
          2988,
          7788,
          3884,
          18991,
          14018,
          2855,
          5638,
          4743,
          10119,
          13228,
          11125,
          6397,
          2457,
          11320,
          15624,
          8779,
          37350,
          32006,
          3885,
          4213,
          8812,
          12206,
          13318,
          8494,
          3904,
          3070,
          8451,
          3413,
          13719,
          2918,
          2264,
          3455,
          4542,
          12983,
          1645,
          6260,
          26394,
          8988,
          39827,
          3587,
          14196,
          9183,
          7448,
          4309,
          8897,
          4208,
          8934,
          11087,
          7911,
          15413,
          16828,
          4226,
          1838,
          15955,
          1068,
          4422,
          69355,
          341,
          5407,
          23343,
          7833,
          7875,
          10084,
          11260,
          13381,
          4493,
          6859,
          2947,
          7378,
          6474,
          27141,
          16681,
          53283,
          13780,
          2710,
          2707,
          1427,
          9558,
          10522,
          14595,
          2184,
          131860,
          2999,
          66263,
          1146,
          10363,
          8797,
          3888,
          28166,
          3558,
          4784,
          9950,
          17042,
          10359,
          2286,
          28673,
          20771,
          12729,
          5303,
          960,
          1179,
          8367,
          22885,
          11062,
          27360,
          1693,
          12598,
          32594,
          1807,
          18779,
          5161,
          21184,
          12029,
          1961,
          9361,
          12489,
          2471,
          8035,
          11456,
          2661,
          8150,
          7649,
          26997,
          10593,
          3529,
          14264,
          7822,
          556,
          5447,
          17129,
          5963,
          28297,
          15662,
          18737,
          3181,
          18159,
          7036,
          14534,
          8104,
          20390,
          12746,
          12669,
          16370,
          5169,
          18844,
          19011,
          14514,
          9154,
          20536,
          9199,
          15995,
          46107,
          1997,
          12710,
          11025,
          90841,
          10486,
          8624,
          9271,
          7301,
          6513,
          9594,
          8532,
          26667,
          21454,
          36735,
          2216,
          15491,
          5045,
          14262,
          3198,
          22108,
          6093,
          30502,
          7310,
          9584,
          4798,
          4941,
          12681,
          10494,
          5207,
          13008,
          8181,
          8247,
          9824,
          18872,
          3828,
          14394,
          43988,
          2264,
          11213,
          5229,
          1136,
          17972,
          1475,
          16786,
          10289,
          6094,
          7166,
          4115,
          18378,
          1726,
          6205,
          8293,
          1281,
          14456,
          11350,
          17513,
          20444,
          1257,
          2286,
          2303,
          4900,
          18848,
          2498,
          35676,
          3093,
          47524,
          2717,
          17342,
          21474,
          7823,
          13969,
          20473,
          4187,
          15965,
          7087,
          10012,
          1819,
          4501,
          5610,
          10129,
          14363,
          6958,
          1336,
          17389,
          13597,
          12896,
          20997,
          8878,
          11215,
          24350,
          5990,
          13956,
          5641,
          1927,
          10874,
          14355,
          8967,
          3243,
          7928,
          3526,
          2474,
          3828,
          15430,
          11871,
          14001,
          14518,
          20270,
          1664,
          2591,
          13732,
          8995,
          18001,
          1153,
          1953,
          7022,
          20549,
          22635,
          14621,
          4516,
          13162,
          10356,
          6051,
          12375,
          12573,
          11634,
          12273,
          27013,
          5658,
          1769,
          3568,
          8603,
          7601,
          17640,
          2737,
          15276,
          18017,
          20537,
          2150,
          1397,
          1555,
          6059,
          1874,
          2315,
          2015,
          24322,
          18406,
          57912,
          4317,
          3038,
          2018,
          2730,
          18098,
          699,
          3070,
          16148,
          1818,
          27483,
          26538,
          2647,
          11372,
          12434,
          2955,
          4852,
          14177,
          5857,
          8365,
          8345,
          3564,
          15311,
          15153,
          8817,
          12012,
          7205,
          1732,
          3073,
          15287,
          13631,
          12548,
          7872,
          5291,
          53455,
          485,
          4418,
          1953,
          1976,
          14383,
          8555,
          2667,
          1749,
          20092,
          11899,
          13505,
          9559,
          2026,
          5828,
          8434,
          9120,
          15708,
          2593,
          2017,
          5172,
          24047,
          11178,
          1930,
          13024,
          5902,
          19266,
          1002,
          8900,
          17861,
          17146,
          1575,
          10453,
          15704,
          2520,
          12086,
          5140,
          8820,
          14575,
          12050,
          15322,
          10488,
          9552,
          11741,
          30049,
          35624,
          10668,
          2895,
          7386,
          11515,
          25968,
          60631,
          8503,
          15155,
          12321,
          8940,
          18674,
          682,
          15750,
          14409,
          33395,
          7657,
          5535,
          11737,
          24550,
          3184,
          8904,
          13573,
          22906,
          4281,
          12953,
          27838,
          9051,
          6041,
          2978,
          11264,
          15290,
          55595,
          16595,
          586,
          1982,
          8624,
          56611,
          13842,
          7222,
          5408,
          6557,
          16256,
          2622,
          2404,
          6698,
          1552,
          2949,
          12961,
          1942,
          11803,
          13050,
          14947,
          17263,
          5949,
          8121,
          2610,
          1971,
          3439,
          19988,
          14843,
          2437,
          10265,
          2856,
          1393,
          28698,
          1479,
          13117,
          2710,
          2028,
          5734,
          3561,
          3635,
          15668,
          12239,
          17811,
          8187,
          13717,
          6045,
          9746,
          7087,
          9573,
          6633,
          12812,
          2765,
          3716,
          1904,
          3786,
          13781,
          39326,
          7905,
          16252,
          13528,
          5256,
          11532,
          3288,
          11491,
          9954,
          7691,
          3915,
          2813,
          5668,
          9853,
          13679,
          20713,
          2533,
          4953,
          109639,
          25699,
          13696,
          3662,
          2664,
          1772,
          2254,
          1073,
          2061,
          1850,
          2318,
          4953,
          1388,
          27120,
          17656,
          12640,
          3068,
          6757,
          15848,
          9603,
          1563,
          10582,
          9467,
          6901,
          13850,
          715,
          6199,
          5055,
          13082,
          2198,
          5644,
          1974,
          13175,
          6299,
          5437,
          52145,
          6322,
          15429,
          20089,
          5050,
          3309,
          3646,
          24480,
          7481,
          5598,
          8841,
          6899,
          26983,
          40003,
          9848,
          6609,
          32560,
          2163,
          16958,
          43162,
          4810,
          3756,
          21266,
          6423,
          2663,
          8658,
          1650,
          1117,
          1068,
          13325,
          9936,
          10158,
          19557,
          1314,
          1220,
          8581,
          12278,
          7866,
          15116,
          1699,
          1148,
          5567,
          1062,
          1738,
          1469,
          5957,
          5531,
          68693,
          1424,
          7131,
          6376,
          1289,
          4572,
          4568,
          7663,
          3635,
          13013,
          11789,
          52145,
          16195,
          6368,
          2961,
          1483,
          19622,
          5509,
          7115,
          1603,
          1921,
          4913,
          1885,
          777,
          1284,
          940,
          1018,
          1351,
          481,
          5756,
          24043,
          1279,
          942,
          704,
          15379,
          15769,
          45822,
          15687,
          6874,
          693,
          14387,
          800,
          819,
          1037,
          280,
          6646,
          688,
          766,
          679,
          552,
          543,
          585,
          5810,
          596,
          656,
          612,
          704,
          1324,
          867,
          533,
          2652,
          36397,
          2,
          1290,
          385095,
          207591,
          589467,
          282845,
          524897,
          26974,
          302089,
          117346,
          86035,
          83220,
          30983,
          335944,
          393162,
          75032,
          96306,
          82414,
          611289,
          27691,
          179933,
          80968,
          22815,
          26319,
          98867,
          220069,
          16646,
          232120,
          57090,
          157403,
          43313,
          88045,
          34412,
          56741,
          47958,
          25360,
          66258,
          40211,
          13847,
          43846,
          12193,
          234390,
          133841,
          128259,
          23415,
          92952,
          43807,
          50953,
          365892,
          216767,
          31352,
          50636,
          41505,
          53161,
          109433,
          270487,
          140529,
          84073,
          33346,
          30950,
          63144,
          203083,
          120108,
          17823,
          136193,
          32483,
          24272,
          257588,
          73976,
          98554,
          19502,
          59955,
          31807,
          23067,
          27900,
          53665,
          31909,
          45848,
          108934,
          186144,
          74161,
          68572,
          45189,
          63112,
          166365,
          60217,
          35941,
          77298,
          72445,
          56416,
          57834,
          25934,
          457405,
          33968,
          97059,
          25071,
          158230,
          121168,
          75196,
          41070,
          41669,
          30772,
          13684,
          70537,
          6523,
          120715,
          41270,
          66146,
          85154,
          453565,
          6807,
          11951,
          59291,
          55626,
          56723,
          60584,
          61700,
          25467,
          82513,
          160672,
          25327,
          74020,
          79453,
          34099,
          248111,
          32581,
          18952,
          6431,
          97362,
          60865,
          32898,
          20836,
          55336,
          26845,
          12489,
          26141,
          11725,
          35918,
          9663,
          13728,
          17388,
          134260,
          18173,
          21605,
          31460,
          12579,
          141919,
          10818,
          331171,
          49936,
          25743,
          120418,
          9024,
          17662,
          21074,
          7619,
          23861,
          68058,
          8094,
          27056,
          20632,
          12370,
          19278,
          44700,
          29124,
          59549,
          37689,
          13386,
          10293,
          23365,
          5904,
          23166,
          34065,
          99466,
          158776,
          8235,
          182796,
          60223,
          60879,
          29136,
          33846,
          52048,
          154248,
          8399,
          6714,
          21388,
          6985,
          35000,
          18146,
          13045,
          59081,
          15796,
          19001,
          18809,
          109120,
          18839,
          14540,
          41891,
          293466,
          110916,
          254932,
          16012,
          132188,
          42697,
          7527,
          19929,
          21392,
          37106,
          65439,
          51977,
          12679,
          23063,
          18338,
          95642,
          43568,
          28431,
          30370,
          9434,
          5114,
          12880,
          8111,
          29935,
          8885,
          15146,
          20518,
          18262,
          53325,
          30420,
          124166,
          56543,
          6491,
          37560,
          11326,
          16107,
          41433,
          9082,
          19038,
          12462,
          4944,
          20727,
          8143,
          3565,
          22593,
          40240,
          10913,
          39886,
          11766,
          10535,
          14822,
          17803,
          39896,
          92619,
          17958,
          33431,
          14339,
          5391,
          41539,
          5165,
          6699,
          155261,
          52990,
          87736,
          10741,
          26272,
          55246,
          3682,
          8983,
          5416,
          124427,
          6156,
          14186,
          96468,
          4585,
          28837,
          36253,
          16845,
          5552,
          5501,
          13163,
          80293,
          17123,
          22189,
          54475,
          161017,
          9538,
          26722,
          13349,
          10590,
          150790,
          6006,
          29991,
          19955,
          22374,
          14919,
          4308,
          78286,
          2465,
          59080,
          7017,
          53172,
          79522,
          71780,
          70292,
          15494,
          26928,
          4725,
          11990,
          18712,
          2066,
          273903,
          132380,
          188747,
          22833,
          16890,
          14493,
          104494,
          8111,
          12699,
          20275,
          9391,
          36361,
          94472,
          5562,
          18209,
          6516,
          17499,
          105569,
          28272,
          87601,
          6858,
          37845,
          165055,
          16465,
          12962,
          222286,
          8606,
          3299,
          19718,
          9390,
          16844,
          5287,
          31423,
          6198,
          4725,
          3022,
          8514,
          14332,
          3672,
          26181,
          160741,
          14122,
          34534,
          9523,
          40306,
          32538,
          14929,
          174051,
          8440,
          12645,
          124682,
          47236,
          10727,
          25557,
          5288,
          17218,
          18424,
          3077,
          13190,
          19508,
          100346,
          41812,
          21177,
          25391,
          10985,
          167865,
          18157,
          26093,
          19314,
          4856,
          29071,
          13110,
          3479,
          3412,
          16968,
          37788,
          18355,
          17045,
          5633,
          4945,
          69530,
          12459,
          11010,
          17738,
          303784,
          102284,
          35051,
          51936,
          30122,
          8439,
          -7339,
          6637,
          48072,
          9454,
          24038,
          22620,
          8331,
          19030,
          88029,
          3296,
          8317,
          3431,
          16302,
          21026,
          48673,
          13498,
          30562,
          51417,
          6930,
          28764,
          5378,
          16904,
          6018,
          44925,
          114546,
          75554,
          4922,
          98650,
          16457,
          11641,
          174429,
          20231,
          17973,
          6940,
          53489,
          98478,
          10867,
          15616,
          9375,
          16840,
          38668,
          27997,
          18251,
          26185,
          30833,
          2281,
          27972,
          13929,
          28828,
          3673,
          146251,
          32033,
          2056,
          93377,
          33658,
          10896,
          12231,
          12447,
          20131,
          32845,
          7469,
          18510,
          37668,
          33304,
          18341,
          8716,
          26500,
          39729,
          5346,
          18696,
          1976,
          17532,
          7569,
          17430,
          5738,
          13617,
          41726,
          21040,
          11999,
          10839,
          148259,
          4273,
          6327,
          11609,
          5920,
          8341,
          16501,
          35858,
          12624,
          14488,
          3180,
          6205,
          121556,
          16364,
          15975,
          7971,
          9476,
          51302,
          28327,
          7219,
          21680,
          23539,
          45687,
          4016,
          247543,
          40322,
          15672,
          6177,
          15430,
          41327,
          23381,
          6289,
          101565,
          5968,
          30612,
          23045,
          14547,
          56247,
          3062,
          20643,
          6287,
          33981,
          7452,
          9997,
          8348,
          8108,
          13209,
          17724,
          91419,
          49741,
          37748,
          10898,
          4020,
          19414,
          13555,
          43066,
          30142,
          7224,
          11044,
          23116,
          56264,
          4447,
          91782,
          30011,
          6106,
          3951,
          9248,
          41358,
          7136,
          1473,
          4715,
          18464,
          22712,
          755,
          68072,
          6475,
          4139,
          20583,
          1578,
          657,
          3322,
          5500,
          2868,
          2774,
          2251,
          52861,
          1252,
          15977,
          47583,
          15159,
          9577,
          76610,
          35696,
          1869,
          10873,
          14330,
          11462,
          12761,
          47538,
          30935,
          18204,
          1073,
          62288,
          5731,
          3798,
          2468,
          58577,
          5049,
          53807,
          5204,
          36128,
          18460,
          16550,
          1557,
          7108,
          83794,
          2241,
          3888,
          21713,
          46294,
          2155,
          13949,
          22037,
          5218,
          5393,
          31556,
          17218,
          27508,
          15224,
          9834,
          4903,
          10713,
          31249,
          589,
          23356,
          133290,
          2213,
          11206,
          30183,
          18212,
          9112,
          4215,
          2882,
          19196,
          12413,
          55184,
          1626,
          12598,
          12614,
          36923,
          21690,
          6224,
          58857,
          17044,
          13645,
          32360,
          5844,
          12181,
          15430,
          10236,
          27861,
          14687,
          1143,
          2062,
          53542,
          14480,
          33522,
          9818,
          2150,
          10209,
          16215,
          70169,
          79690,
          2689,
          5893,
          25028,
          7424,
          3576,
          27404,
          12983,
          4944,
          3734,
          96005,
          9328,
          5551,
          9450,
          2267,
          42032,
          12282,
          13639,
          11391,
          11259,
          5561,
          2430,
          1425,
          18129,
          2704,
          6847,
          2196,
          8857,
          21873,
          1568,
          53976,
          17537,
          10333,
          11799,
          16824,
          40072,
          11172,
          86061,
          6284,
          20739,
          12440,
          2374,
          5061,
          6828,
          1794,
          7162,
          22566,
          9659,
          16947,
          52785,
          30426,
          730,
          5049,
          11880,
          8956,
          14648,
          6163,
          4720,
          15696,
          9160,
          3705,
          2782,
          5622,
          6209,
          9756,
          1298,
          6394,
          73471,
          5508,
          9899,
          8140,
          10332,
          10839,
          5282,
          26248,
          12403,
          970,
          18238,
          15055,
          2339,
          22235,
          30906,
          30047,
          7016,
          62268,
          26438,
          6668,
          102498,
          14038,
          2532,
          5910,
          1368,
          1442,
          50331,
          12701,
          13764,
          7936,
          3337,
          3960,
          3602,
          8650,
          12385,
          40504,
          6861,
          22903,
          419,
          13136,
          21886,
          6066,
          6362,
          5262,
          6644,
          3997,
          13704,
          1837,
          9945,
          9926,
          21574,
          5161,
          17751,
          8712,
          45071,
          2616,
          53993,
          24023,
          63213,
          8953,
          21098,
          44541,
          22879,
          871,
          15858,
          2225,
          2675,
          28572,
          7285,
          20978,
          8535,
          198662,
          53609,
          7273,
          79535,
          8773,
          2255,
          4834,
          7171,
          1984,
          21499,
          4057,
          2763,
          5596,
          2966,
          52563,
          9620,
          8115,
          8863,
          8535,
          12949,
          11914,
          2689,
          8982,
          2736,
          4574,
          10099,
          11393,
          13253,
          4835,
          14755,
          19092,
          59517,
          41476,
          5718,
          20047,
          31640,
          2639,
          14920,
          8441,
          1867,
          5517,
          3819,
          10377,
          10666,
          10795,
          4663,
          26662,
          83904,
          10835,
          9083,
          9337,
          2557,
          681,
          4129,
          10050,
          3551,
          12855,
          15280,
          24276,
          3602,
          10137,
          8775,
          5928,
          11793,
          5494,
          22630,
          13214,
          76117,
          171531,
          10356,
          33666,
          3674,
          4407,
          5289,
          32341,
          3833,
          10619,
          45006,
          9219,
          18736,
          14555,
          12592,
          39860,
          2708,
          3785,
          10322,
          58337,
          7016,
          15045,
          14605,
          75645,
          17185,
          20367,
          28971,
          28323,
          5900,
          73405,
          24941,
          12979,
          5942,
          43821,
          21316,
          4399,
          26850,
          8506,
          2350,
          11791,
          12721,
          12214,
          5958,
          57610,
          3862,
          15000,
          4599,
          14322,
          16890,
          8629,
          8919,
          2073,
          55775,
          18006,
          37893,
          12480,
          24826,
          5976,
          3248,
          10519,
          2928,
          62443,
          4571,
          2972,
          32353,
          67947,
          10801,
          17201,
          6792,
          7852,
          5798,
          33505,
          16941,
          37001,
          2594,
          14285,
          -109991,
          1643,
          10086,
          11263,
          6954,
          3075,
          7784,
          3539,
          4564,
          23639,
          10138,
          10409,
          17103,
          8328,
          21584,
          6891,
          35841,
          1527,
          3967,
          13789,
          5304,
          7583,
          9166,
          2673,
          2893,
          27611,
          19884,
          5170,
          19532,
          3942,
          1589,
          9177,
          6881,
          22975,
          4809,
          8065,
          2842,
          19954,
          30281,
          53330,
          13514,
          46298,
          6153,
          16654,
          3276,
          27741,
          7902,
          10273,
          2237,
          31655,
          5135,
          14146,
          16406,
          1553,
          25130,
          42712,
          5353,
          3303,
          7818,
          23923,
          15094,
          4927,
          8021,
          7304,
          14861,
          4536,
          3848,
          38910,
          20908,
          14932,
          11146,
          9603,
          12795,
          8714,
          4134,
          5502,
          12618,
          59729,
          5450,
          40172,
          15309,
          7634,
          16617,
          13242,
          72674,
          8566,
          63313,
          8953,
          18584,
          12449,
          13962,
          4005,
          5108,
          5797,
          48818,
          12178,
          5595,
          14000,
          27295,
          2353,
          2132,
          5077,
          5100,
          74283,
          17545,
          4731,
          5921,
          6455,
          21620,
          3015,
          7091,
          3134,
          4129,
          4274,
          -25511,
          5932,
          17674,
          22170,
          87324,
          16504,
          17971,
          103420,
          20929,
          37724,
          8722,
          4508,
          5796,
          7346,
          25485,
          44379,
          10099,
          21925,
          41418,
          14368,
          11417,
          12732,
          33794,
          10833,
          12083,
          6085,
          8195,
          8755,
          33376,
          1760,
          4213,
          24856,
          5974,
          4933,
          5351,
          7054,
          12100,
          4115,
          10880,
          16093,
          17604,
          6868,
          4594,
          6461,
          4263,
          2800,
          66674,
          32805,
          10330,
          7542,
          21473,
          29301,
          7342,
          15282,
          15546,
          14830,
          91170,
          7272,
          1352,
          1582,
          11749,
          14425,
          12892,
          14755,
          5727,
          3451,
          15126,
          22056,
          9629,
          12087,
          16431,
          7301,
          4690,
          31575,
          18807,
          25096,
          46581,
          15756,
          10349,
          7835,
          824,
          2097,
          6578,
          6767,
          20420,
          3778,
          5214,
          8901,
          14977,
          5318,
          15116,
          26952,
          10181,
          12921,
          162,
          18933,
          160595,
          2531,
          21838,
          2805,
          6292,
          6631,
          66007,
          6305,
          606,
          16626,
          9064,
          8766,
          10555,
          1344,
          3291,
          4603,
          4587,
          8318,
          22492,
          5181,
          5874,
          12368,
          56191,
          35800,
          5262,
          2574,
          3977,
          17773,
          8458,
          9988,
          8624,
          13289,
          8703,
          77650,
          7949,
          28375,
          2823,
          6465,
          11218,
          9863,
          5779,
          8150,
          24447,
          1903,
          5943,
          1492,
          5023,
          2088,
          5703,
          9673,
          11027,
          5239,
          14103,
          983,
          3112,
          9672,
          11478,
          3505,
          20186,
          15174,
          13264,
          6352,
          12810,
          8410,
          12642,
          61804,
          3163,
          10933,
          7514,
          15467,
          5487,
          2905,
          14385,
          32896,
          5939,
          11643,
          4976,
          9015,
          33831,
          42949,
          5884,
          1872,
          20944,
          29685,
          16174,
          14601,
          9655,
          3616,
          10084,
          4173,
          11908,
          30091,
          9962,
          81974,
          21931,
          106770,
          3654,
          6275,
          16886,
          7032,
          1840,
          13193,
          2531,
          26413,
          10298,
          18350,
          15752,
          2219,
          5710,
          10144,
          4553,
          11946,
          13313,
          5965,
          14123,
          7224,
          8115,
          6151,
          21041,
          12647,
          4167,
          16107,
          5228,
          48756,
          12066,
          1057,
          8191,
          22026,
          26712,
          43284,
          8570,
          12600,
          27541,
          2480,
          18141,
          12752,
          35127,
          10414,
          5543,
          11766,
          3179,
          10738,
          5542,
          1704,
          19430,
          8860,
          111198,
          13574,
          19315,
          1981,
          29201,
          3261,
          11697,
          36416,
          15934,
          3690,
          7001,
          2118,
          8139,
          10165,
          18595,
          54645,
          20353,
          2687,
          11561,
          16567,
          14940,
          17380,
          10586,
          29161,
          58395,
          56287,
          33279,
          3845,
          9809,
          28563,
          10233,
          11359,
          9457,
          13462,
          6855,
          28178,
          6258,
          13299,
          27376,
          9746,
          314,
          3758,
          2359,
          24283,
          5655,
          6039,
          5197,
          6118,
          7239,
          4028,
          10811,
          11800,
          10903,
          19622,
          23375,
          12388,
          3607,
          29720,
          3543,
          6512,
          55149,
          6594,
          8675,
          29413,
          8450,
          18882,
          7942,
          5694,
          4930,
          1096,
          23146,
          6362,
          16979,
          24102,
          52262,
          18625,
          24275,
          3158,
          1696,
          34057,
          17837,
          20068,
          2134,
          5744,
          19681,
          24041,
          8179,
          35329,
          17095,
          4684,
          2705,
          22227,
          15701,
          1239,
          8022,
          7002,
          15225,
          12031,
          12430,
          7022,
          7196,
          17774,
          29418,
          11727,
          7035,
          9046,
          4800,
          4851,
          15538,
          11895,
          992,
          7416,
          1396,
          1522,
          10069,
          38160,
          14337,
          2091,
          17708,
          34083,
          7359,
          2655,
          15479,
          61999,
          12406,
          1225,
          21245,
          9296,
          72582,
          9306,
          672,
          8748,
          29244,
          4484,
          5028,
          11610,
          18784,
          32489,
          13393,
          12048,
          14658,
          9633,
          10774,
          5197,
          7294,
          17444,
          6272,
          9349,
          8628,
          8674,
          26732,
          -7578,
          7561,
          15402,
          22329,
          9206,
          35103,
          8683,
          13236,
          5829,
          7635,
          15303,
          12732,
          10873,
          4648,
          5695,
          2279,
          19453,
          14165,
          21730,
          14382,
          38311,
          9744,
          7854,
          13681,
          63442,
          11155,
          2288,
          9293,
          21518,
          16465,
          -38603,
          21123,
          28137,
          7620,
          11794,
          11634,
          31110,
          6294,
          10697,
          8759,
          8008,
          19450,
          13221,
          11739,
          10265,
          2647,
          18019,
          18827,
          10386,
          12609,
          3132,
          11699,
          10353,
          3163,
          12560,
          39356,
          12557,
          6243,
          2832,
          16268,
          13495,
          3026,
          1514,
          3070,
          8445,
          47315,
          6429,
          11968,
          36787,
          2282,
          23625,
          104642,
          19655,
          9341,
          12119,
          22010,
          15463,
          4032,
          2160,
          26610,
          3352,
          9887,
          6989,
          12483,
          20862,
          17869,
          12232,
          70334,
          5316,
          20467,
          19475,
          89918,
          5743,
          11277,
          32451,
          10909,
          32252,
          16295,
          23405,
          8238,
          71330,
          16593,
          9828,
          1708,
          8167,
          2977,
          15840,
          1602,
          4727,
          63321,
          5357,
          15958,
          26350,
          3942,
          5540,
          5034,
          18510,
          44196,
          13099,
          26631,
          26848,
          4244,
          15899,
          3270,
          15113,
          8987,
          2423,
          28500,
          3759,
          -9091,
          8133,
          3090,
          19851,
          3825,
          589,
          34247,
          7065,
          3890,
          57548,
          27783,
          10560,
          18461,
          5450,
          7646,
          16491,
          1318,
          4238,
          11475,
          26038,
          14592,
          3338,
          7871,
          18711,
          3001,
          24116,
          24852,
          11787,
          7694,
          7085,
          22691,
          9699,
          17181,
          17240,
          4105,
          19501,
          17008,
          11629,
          8686,
          9227,
          1101,
          3630,
          3075,
          4189,
          2412,
          19918,
          7365,
          12717,
          10453,
          1171,
          2579,
          1906,
          2499,
          10731,
          1700,
          14177,
          1266,
          9168,
          14847,
          15290,
          3376,
          4474,
          6996,
          15589,
          1042,
          6350,
          2819,
          14671,
          10525,
          17512,
          2804,
          3107,
          24326,
          1880,
          14267,
          11013,
          20290,
          6185,
          18505,
          2611,
          14901,
          10124,
          4446,
          4124,
          2388,
          1832,
          16615,
          20609,
          9256,
          26513,
          8222,
          2032,
          15161,
          8184,
          484,
          2689,
          8052,
          19529,
          123662,
          17894,
          33027,
          21058,
          16954,
          43233,
          4113,
          9425,
          21106,
          13683,
          18834,
          6479,
          18299,
          854,
          14458,
          38916,
          21439,
          10159,
          10419,
          2690,
          13934,
          2275,
          39812,
          7598,
          5951,
          6357,
          12486,
          5111,
          27216,
          2384,
          6556,
          7420,
          15108,
          9881,
          2071,
          2440,
          9350,
          1104,
          13491,
          16661,
          25305,
          16469,
          55523,
          46984,
          29407,
          2196,
          2799,
          13762,
          3336,
          6511,
          19139,
          7389,
          5326,
          85384,
          8486,
          4131,
          15221,
          7839,
          2489,
          5051,
          14731,
          18350,
          30778,
          1807,
          26355,
          14571,
          12783,
          2582,
          12109,
          3804,
          1563,
          26756,
          5942,
          2197,
          43403,
          1875,
          18689,
          8690,
          1893,
          20924,
          3639,
          16679,
          21430,
          866,
          18172,
          27851,
          17159,
          23280,
          6080,
          5966,
          2029,
          2497,
          12609,
          3900,
          1270,
          915,
          9433,
          16731,
          13679,
          27673,
          10762,
          19784,
          19436,
          3793,
          20426,
          2385,
          3713,
          5483,
          2564,
          2213,
          3018,
          20928,
          19305,
          18710,
          17658,
          39829,
          35999,
          18876,
          14240,
          11429,
          24970,
          8813,
          5776,
          3768,
          17326,
          636,
          3072,
          20838,
          2681,
          1811,
          15616,
          2158,
          18301,
          16508,
          77705,
          19074,
          18268,
          4509,
          18411,
          50196,
          35133,
          9616,
          6914,
          31798,
          7087,
          3144,
          10212,
          1600,
          3498,
          2744,
          20286,
          3325,
          15914,
          13508,
          18113,
          16391,
          25478,
          3290,
          6575,
          14461,
          8473,
          3001,
          1841,
          4283,
          78084,
          22272,
          21196,
          7222,
          7292,
          11977,
          15100,
          3996,
          26003,
          2082,
          1970,
          14672,
          22191,
          3548,
          2104,
          2586,
          16665,
          1325,
          2835,
          3812,
          7714,
          2208,
          2928,
          11442,
          14765,
          17479,
          21087,
          3626,
          556,
          3779,
          12253,
          71901,
          2248,
          7430,
          6656,
          15248,
          10808,
          10452,
          15701,
          2752,
          8584,
          15089,
          28206,
          8922,
          2438,
          3727,
          18098,
          17478,
          31673,
          7763,
          4102,
          17537,
          16330,
          9996,
          1971,
          12206,
          1667,
          39432,
          8150,
          1158,
          12562,
          1475,
          13193,
          3014,
          1432,
          4498,
          8652,
          22701,
          3512,
          12505,
          4192,
          18528,
          740,
          1069,
          64484,
          11296,
          1185,
          3626,
          40024,
          2271,
          11977,
          6339,
          2203,
          6462,
          1786,
          5503,
          9696,
          29863,
          10959,
          11852,
          28441,
          10305,
          1131,
          1549,
          11919,
          17235,
          48199,
          -4976,
          5230,
          59281,
          5327,
          1052,
          14955,
          20246,
          1268,
          1510,
          23101,
          9520,
          20611,
          5405,
          20121,
          17229,
          7657,
          1271,
          1725,
          2517,
          846,
          16581,
          1928,
          13739,
          4428,
          4621,
          1104,
          5877,
          13836,
          6952,
          8636,
          1069,
          27664,
          807,
          1867,
          1269,
          8154,
          25294,
          4232,
          763,
          902,
          944,
          5564,
          611,
          3552,
          796,
          6264,
          5368,
          1833,
          7033,
          8818,
          843,
          7128,
          16442,
          27632,
          462,
          564,
          618,
          16443,
          -74515,
          484,
          125569,
          549,
          7544,
          2792,
          448,
          2110,
          4478,
          838,
          2152,
          90361,
          2536,
          15779,
          102,
          24092,
          35341
         ],
         "xaxis": "x",
         "y": [
          63930,
          51310,
          49282.8,
          21331,
          40269,
          29145,
          23326.7,
          690,
          23298,
          42521,
          18676.1,
          22113,
          10359,
          40371,
          14714,
          4332,
          13510,
          6765.5,
          6411,
          5360.2,
          16883,
          12866,
          -4954,
          13848,
          17894,
          13032,
          4202,
          15229.9,
          4051,
          20899,
          10534,
          5566,
          45768.7,
          2761.4,
          17801,
          -22440,
          7747,
          12830,
          4062.2,
          10129,
          4452,
          14341.7,
          659.6,
          9615,
          -5176,
          4072,
          3428,
          20754.6,
          39299.2,
          7496,
          8074.3,
          -5543,
          7068,
          3953,
          6375,
          14091.9,
          5457.3,
          4551,
          6930,
          7390,
          6193.7,
          5568,
          4730.5,
          3646.9,
          2892,
          6443.8,
          5699.9,
          6291.3,
          4344,
          14934.9,
          4779,
          4368.6,
          2920,
          6728,
          1427,
          2769.1,
          5778.2,
          -22166.3,
          2501,
          17068,
          6346.1,
          319.5,
          5811,
          5349,
          7264,
          9500.5,
          -9015,
          -11873,
          8036,
          31300.2,
          4932.7,
          664.8,
          10091.2,
          9714.2,
          8794,
          15616.7,
          -742,
          3190,
          -16898.2,
          1588.7,
          14037.6,
          2998,
          3222,
          13418,
          5325,
          3857,
          5748.4,
          9100.3,
          3114,
          3975,
          3458,
          5589,
          7233.5,
          -3519,
          -7579,
          635.5,
          5581,
          3988,
          27945.8,
          -1038.2,
          15082,
          213.1,
          1711,
          5384,
          1747,
          928,
          -6768,
          9280.8,
          1690.6,
          118.5,
          6833,
          7759.8,
          -4584.7,
          3103.7,
          1270,
          4139.1,
          2975.3,
          1441.4,
          4368,
          59,
          3197,
          2490,
          7179,
          4134.7,
          5178.7,
          -1291.6,
          671.6,
          4459,
          1599,
          8331.7,
          1060.6,
          2451.4,
          157,
          2620,
          37,
          7372.3,
          -944.8,
          4572,
          2964.1,
          8207.1,
          4738.9,
          2423.6,
          2340,
          8458,
          6052,
          4116.4,
          10447.1,
          513.4,
          3555.4,
          903.8,
          6427,
          -20913,
          2976.2,
          2655.6,
          90.5,
          4030.1,
          1481.8,
          123,
          958,
          927.7,
          4770,
          3572,
          2482,
          1921.7,
          1605.6,
          2776,
          -1208.4,
          1638,
          -0.7,
          7553.5,
          -475,
          4899,
          2031.7,
          1056,
          2265.1,
          2606.7,
          1377,
          3250,
          1226.3,
          3023,
          1483.4,
          8410,
          1600,
          2507.3,
          3266.4,
          5078.6,
          876.9,
          909.4,
          2765,
          2197,
          2105.2,
          275.3,
          2010,
          -921.2,
          1729.8,
          3533,
          96.9,
          2627.3,
          6159.3,
          3396,
          1549.7,
          2030.4,
          3798,
          4110.9,
          2109,
          2016.8,
          4303.4,
          5159.9,
          -175.9,
          -2701,
          2058,
          3134,
          2695,
          -747.1,
          322.3,
          1733.3,
          2089,
          5078.9,
          3405.1,
          -539.1,
          2310.7,
          401.3,
          2863.8,
          9652.8,
          3754,
          5735.1,
          -401,
          1208.2,
          835.1,
          -491,
          1522.2,
          3048.8,
          493.6,
          2016,
          584.7,
          2954.2,
          584.5,
          -1205.1,
          -5369.7,
          1897.1,
          -11964,
          425.2,
          2422.8,
          369.8,
          2823.7,
          434.5,
          2361.8,
          2674,
          -282.4,
          3792.9,
          1414.7,
          1418.5,
          3457.2,
          1778,
          559.7,
          -9998.7,
          4124.7,
          248.9,
          1405.4,
          -1187.1,
          937.5,
          656,
          -139,
          763.5,
          5698.2,
          3669.8,
          6536.8,
          7255.4,
          33.1,
          1496,
          2711.6,
          245.3,
          1410,
          3367,
          -1135.6,
          5407,
          3189,
          2098.6,
          590,
          3422.5,
          823.4,
          2084,
          473.1,
          2323,
          -1963.2,
          52,
          1365,
          -658,
          2068.7,
          1389.6,
          1969,
          1207.3,
          3513.2,
          299.8,
          3735.7,
          1692.5,
          1378,
          3509.3,
          873.9,
          1865.7,
          1990.8,
          3882.8,
          1989.9,
          2825.8,
          2829,
          297.5,
          3167,
          209.7,
          2098.6,
          2655.1,
          2457.4,
          1409.6,
          849.3,
          1569.6,
          1605.1,
          1367.5,
          -233.6,
          1325,
          1163.4,
          356,
          1454.8,
          6282.9,
          2831.7,
          539.9,
          1822.1,
          4935.8,
          -128.3,
          -1279,
          1292.2,
          752.8,
          3663.3,
          3627.2,
          661.2,
          -267,
          -17.5,
          2179,
          1216,
          -92.6,
          -461,
          676.2,
          1775.9,
          11144.7,
          2789.7,
          649.9,
          4111.4,
          8450.2,
          1255.5,
          2352,
          -351.3,
          1899.3,
          1353.7,
          3441.4,
          -1685,
          385.9,
          1071.3,
          2212.7,
          85.4,
          1019.8,
          -616,
          131.9,
          3187.5,
          1109.1,
          581.8,
          1998,
          812.8,
          2950.9,
          925.8,
          -243.3,
          1964,
          923,
          1956.9,
          3141.7,
          1070.8,
          781.1,
          2795.3,
          949.7,
          741,
          1061.4,
          -9761.6,
          1865.4,
          5667,
          114,
          2200.1,
          1102,
          608.8,
          1380.5,
          1119,
          355.8,
          2757.6,
          478.2,
          1392,
          333.3,
          3234,
          1109.2,
          5154.2,
          588.9,
          6094.6,
          1806.5,
          2534.2,
          98.8,
          4377.1,
          1291.7,
          1479.9,
          3943,
          -253.3,
          878.4,
          3102,
          487.1,
          380,
          1431.7,
          535,
          279,
          972.8,
          -2951,
          -604.6,
          2217.1,
          -337.5,
          590.6,
          1203.4,
          356.4,
          810,
          2643.6,
          854.9,
          -1166.4,
          -194.9,
          3207.8,
          3128.6,
          4000.6,
          -5944,
          1179,
          2307.4,
          1850.5,
          3561,
          986.5,
          870.5,
          2599.7,
          -2843.9,
          3680.4,
          722.6,
          1194,
          2324,
          2917.6,
          353.7,
          -437.9,
          2675,
          601.8,
          169.5,
          -408,
          128.6,
          1788.8,
          1789,
          493.6,
          791.6,
          -512.3,
          258.5,
          1227.5,
          -1034.5,
          1116.5,
          1804,
          1982,
          48.6,
          857.4,
          1473,
          1808,
          701,
          692.5,
          433.3,
          241.8,
          106,
          2548.7,
          1641.6,
          1752.3,
          692.9,
          -544.6,
          1783,
          839.5,
          1691.8,
          -3074,
          980.5,
          -10518,
          4779,
          5572,
          1082.8,
          -324.3,
          1282.8,
          293.6,
          2960.1,
          1201.8,
          3552,
          1045.7,
          3737.1,
          949,
          603.4,
          2990.2,
          1424,
          2718.4,
          -1751,
          1454.1,
          -138.9,
          227.1,
          928.5,
          -715,
          -368.2,
          364.1,
          911,
          323.6,
          -266.3,
          1084.4,
          -9920,
          418.2,
          904,
          512,
          681,
          1055.2,
          -620,
          2734.2,
          2391.8,
          -92.5,
          1185.6,
          4231,
          2036.9,
          1487.7,
          1366.1,
          4337.2,
          1987.7,
          -3982,
          1789.2,
          370.9,
          50.7,
          955.6,
          658,
          166.4,
          740.2,
          648.5,
          2905.9,
          242.3,
          1789.9,
          299.9,
          519.8,
          394,
          996.2,
          486.2,
          769.2,
          -477,
          185,
          1278.7,
          967.3,
          1772,
          -165.4,
          3031.7,
          1591.3,
          1233.8,
          6141.9,
          4897.9,
          5498.1,
          1871.7,
          1298.4,
          2047.3,
          433.9,
          1240.1,
          800.7,
          -162.1,
          -277.3,
          1988.1,
          433.9,
          -128,
          2151.6,
          1181.5,
          1905,
          478.9,
          949,
          -3220,
          -838,
          3757.5,
          620.9,
          1180.3,
          -109.6,
          1224,
          -575.9,
          1870,
          24.1,
          783.3,
          1129,
          1067,
          1584.6,
          1260.8,
          1134.5,
          996,
          578,
          1304.7,
          1205.2,
          1030.5,
          -4184,
          872.4,
          192.8,
          1862.4,
          -11427,
          1201.1,
          1091,
          906,
          1634.7,
          698.9,
          1664.3,
          712.7,
          1798,
          -206.3,
          602.7,
          585,
          -13028,
          389.4,
          -1428,
          586.5,
          526.6,
          7301.2,
          -83,
          797,
          -495,
          672.7,
          -109.2,
          397.6,
          -485.1,
          791.3,
          706.7,
          709,
          867.1,
          1534,
          788.2,
          1313,
          712.7,
          -952.8,
          786.6,
          453.8,
          -398.6,
          -218.2,
          211,
          -89.6,
          1592.5,
          1203.8,
          238,
          -151.7,
          -46.4,
          -918.3,
          858.1,
          -1596.8,
          257.7,
          774.5,
          2585,
          720.4,
          1971,
          -1096.5,
          1295.4,
          899.9,
          2305,
          1628,
          1208.4,
          -282.3,
          1710.5,
          349.2,
          1134.3,
          3002.6,
          -24.5,
          403.6,
          794.6,
          752,
          504,
          719.8,
          1341.9,
          363.4,
          -116.3,
          372.6,
          1366,
          1183.9,
          559.2,
          1668.2,
          865.5,
          5092.5,
          1432,
          43.3,
          1194.4,
          879.4,
          636,
          1630.1,
          441.4,
          992.3,
          1101,
          298,
          818.8,
          1647.1,
          776.6,
          715.9,
          3445.9,
          679.5,
          579.8,
          825.7,
          7100.6,
          932,
          614,
          456.7,
          -3256.3,
          323,
          634,
          -191.4,
          709.5,
          2843.6,
          1530,
          932.7,
          788.5,
          566.6,
          1082.7,
          1670.2,
          2053.3,
          -1797.7,
          1556.1,
          495.1,
          721.9,
          129.1,
          1945.9,
          2422,
          887.5,
          1296,
          784,
          379.6,
          75.9,
          1225.2,
          1463.2,
          395.5,
          327.2,
          -2612,
          577.9,
          -144.5,
          780.4,
          638.4,
          1477.1,
          -670.3,
          1574.3,
          1136.3,
          -300.4,
          -3221.5,
          403.2,
          1220.6,
          1186.9,
          1613.3,
          4911.8,
          1518.4,
          471.6,
          704.2,
          490.2,
          922.1,
          83,
          634.6,
          821.9,
          -85,
          -395.6,
          1385,
          626.8,
          758.7,
          2082.7,
          1225,
          143.4,
          1157,
          659.2,
          5480.2,
          913.5,
          309.2,
          684.3,
          716.7,
          -2769,
          890,
          764.5,
          1649.3,
          1737,
          991.3,
          814.9,
          1410.4,
          618.2,
          676,
          1352.2,
          342.7,
          507.2,
          369.4,
          1111.2,
          584.5,
          739,
          1665.8,
          346.2,
          2532.9,
          631.7,
          718.2,
          -470,
          594.5,
          727.6,
          612.8,
          -1304,
          2105.7,
          1542.3,
          -3313.9,
          2053.1,
          1304.9,
          513.7,
          780.1,
          1693.1,
          -14831,
          436.2,
          482,
          1467,
          1530,
          3553.4,
          1205,
          1197.2,
          1691.2,
          869.4,
          352.5,
          511.4,
          873,
          551.1,
          720.4,
          1314.1,
          511.8,
          485.3,
          799.2,
          -5797.5,
          3065.8,
          296.6,
          -1508.3,
          -493,
          -216.5,
          784.1,
          1251,
          785.9,
          1387.4,
          -171.1,
          871,
          1406.7,
          462.7,
          869.3,
          379.5,
          1658.2,
          695,
          -3093,
          542.4,
          425.8,
          677.2,
          1939.3,
          746.9,
          -33.3,
          167,
          1404.6,
          749,
          1226.1,
          497.3,
          212.9,
          -990.6,
          1250.1,
          389.8,
          348.3,
          325.1,
          439.1,
          -432,
          657.6,
          384.6,
          -10098.6,
          -1841.5,
          1904.9,
          545.2,
          1809.3,
          389.9,
          492.8,
          638.4,
          949.8,
          1717.5,
          923,
          491.9,
          907.8,
          426.8,
          1094,
          387.8,
          486.3,
          683.5,
          335.3,
          1177.3,
          615,
          -3596,
          532.1,
          1332.4,
          483.8,
          1336,
          441,
          1762.7,
          1256.5,
          1876.9,
          -997.2,
          564.9,
          805,
          718.6,
          1347.3,
          1159.3,
          1383.6,
          706.8,
          2249,
          1667.1,
          -467.4,
          -1756.6,
          404.2,
          1003,
          635.8,
          1262.5,
          912,
          -8222.2,
          -3749.4,
          698.8,
          -219.2,
          43,
          -2438.6,
          30.1,
          924.6,
          322.9,
          877.4,
          506.1,
          472.9,
          1458.6,
          1634,
          351.1,
          -394,
          989,
          480.8,
          663.8,
          154.3,
          578,
          568.9,
          705.1,
          696.1,
          -85,
          116.6,
          806.7,
          -55.7,
          3806.3,
          1525.4,
          777.6,
          845.3,
          625.2,
          5200.9,
          834.5,
          521.6,
          175.8,
          1713,
          755,
          706.2,
          343.2,
          482.5,
          2909,
          425.6,
          -2945,
          1255.1,
          901.2,
          345.7,
          933.1,
          547.8,
          1219,
          518.6,
          122.6,
          876.8,
          528.7,
          432,
          -7069,
          2710.1,
          512.5,
          -1201,
          1985,
          1190.7,
          1382,
          1033.1,
          411,
          -4227.7,
          861,
          2201,
          -1439.6,
          431.9,
          375.8,
          363.8,
          547.6,
          5086.6,
          -2459.5,
          349.8,
          2821.7,
          669.8,
          1418.9,
          1803.3,
          957.7,
          443.6,
          443.6,
          183.5,
          1242.2,
          592,
          557.1,
          1430.3,
          504.4,
          1395.8,
          1216,
          945.3,
          547.2,
          1425,
          -2079.2,
          937.1,
          -1069.6,
          518.8,
          617.5,
          1563.6,
          497.8,
          1318.9,
          216.9,
          1434.1,
          960.6,
          903.4,
          377.8,
          787.3,
          8377.4,
          805.2,
          -1853.8,
          817,
          101.2,
          555.9,
          363.4,
          1203.5,
          89.9,
          631,
          1114.4,
          2566.8,
          1465.7,
          958.5,
          -3815.5,
          846.6,
          656.6,
          986.3,
          974.9,
          -235.6,
          364.3,
          1829.8,
          463.1,
          425.9,
          -669.9,
          1405.5,
          1091.4,
          -1773.7,
          -1341.8,
          891.7,
          -2123.6,
          722.2,
          876.6,
          750.1,
          673.7,
          401.9,
          793.4,
          714.8,
          424.1,
          2103.3,
          -862,
          -54.3,
          1091,
          1495.8,
          511.6,
          -185.8,
          -89,
          461,
          478,
          -669.5,
          -1087.5,
          2291.6,
          4375.4,
          1014.7,
          793.9,
          1367.9,
          -9928,
          849.7,
          387.7,
          2843.8,
          -21.7,
          412.6,
          491.3,
          91,
          420.3,
          1455.4,
          -1628,
          413.9,
          767.5,
          1078,
          1066.9,
          2297.6,
          716.5,
          1780.3,
          588,
          806,
          728,
          833.2,
          891.5,
          2965.6,
          895.5,
          1595.2,
          -764,
          234.2,
          749,
          1081,
          579,
          550.1,
          -118.9,
          731.6,
          730.7,
          1162,
          -1141.3,
          1333,
          506.3,
          -1716.6,
          673,
          678.6,
          -931,
          390.1,
          2889.6,
          1775.2,
          338.6,
          859.1,
          951.3,
          -635,
          -677.5,
          628,
          618.3,
          1394.9,
          -85.7,
          -7882.1,
          421.5,
          682.8,
          515.6,
          553.1,
          762.1,
          832.9,
          -2299.2,
          531.8,
          1805.6,
          261,
          530.7,
          628.7,
          346.6,
          818.7,
          -8885,
          743.7,
          -1232,
          624.5,
          465.4,
          729.9,
          394.2,
          2097,
          423.2,
          553.9,
          2100.1,
          855,
          397.8,
          683.5,
          529.7,
          466.9,
          639.5,
          140.8,
          1533.6,
          718,
          1687.7,
          -79.9,
          483.8,
          571.3,
          931.9,
          799.4,
          148.8,
          610.8,
          980.9,
          1491.3,
          523.2,
          638.4,
          828,
          524.2,
          160.5,
          1556.3,
          457.4,
          860.2,
          375.8,
          309,
          680.7,
          -773,
          483.3,
          288.5,
          661.5,
          445.6,
          506.4,
          654.7,
          560,
          678.1,
          1562.9,
          526.6,
          511.9,
          640,
          -1256.3,
          455.7,
          244.4,
          1072.8,
          1270.7,
          1427,
          327,
          1823.6,
          696.5,
          790.6,
          827.9,
          429.3,
          627,
          621.4,
          851.2,
          455.4,
          525,
          666.1,
          476.3,
          493,
          -9128.9,
          1810.6,
          3436.8,
          1654.8,
          499,
          1546.1,
          941,
          1572.1,
          1055.2,
          -891.2,
          783.3,
          -36.3,
          202.4,
          329,
          761.6,
          -665,
          21905.9,
          558.3,
          494.1,
          216.4,
          1172.3,
          452.2,
          -4065.1,
          541.8,
          -1332.6,
          841.7,
          1261.3,
          531.4,
          635.6,
          664.2,
          659.4,
          -677.1,
          -154.5,
          516.7,
          510.9,
          546.4,
          495.8,
          351.1,
          612.2,
          -3962,
          -1418.1,
          458,
          960.7,
          2065.6,
          173.2,
          1375.9,
          -644.2,
          92.8,
          507.8,
          859,
          472.6,
          1155,
          735.6,
          526.2,
          500,
          608.4,
          1347.1,
          827.5,
          546.6,
          1033.9,
          -949,
          -993.6,
          551.4,
          618.7,
          -2569.1,
          67.3,
          470.3,
          1300.4,
          427.1,
          732.9,
          -1535.5,
          -109.1,
          1450.7,
          651.5,
          -770,
          869.7,
          412.1,
          1072.8,
          8235.2,
          91.5,
          300,
          680.4,
          -1513.4,
          493.6,
          546.3,
          563.1,
          -655.9,
          738.6,
          -1557.2,
          520.4,
          767.2,
          -50.5,
          489,
          158.5,
          678.6,
          550.8,
          409.7,
          1642.7,
          565.4,
          355.8,
          731.8,
          721.5,
          597.8,
          2188.9,
          1835.3,
          -560,
          1720.3,
          804,
          1541,
          -3450.1,
          744.3,
          1883,
          818.6,
          567.8,
          586.8,
          461,
          578.5,
          993.8,
          368.9,
          -1046.2,
          470.3,
          1313.6,
          -102.9,
          529.4,
          615.1,
          761.4,
          284.2,
          916.9,
          1087.4,
          313.5,
          570.8,
          -1775.6,
          1551.6,
          163.4,
          572.5,
          581.5,
          732,
          852.4,
          427.5,
          902,
          1080.4,
          1229,
          611.2,
          402.2,
          306.4,
          -4899.7,
          611.8,
          785.3,
          -688.5,
          447.6,
          347.7,
          -476.7,
          154.4,
          563.2,
          676.1,
          369.1,
          336,
          -200.8,
          458.6,
          345.6,
          472,
          421.9,
          845,
          451.2,
          797.7,
          708.1,
          619.3,
          1325,
          -628.1,
          777,
          345.1,
          -166.4,
          378.5,
          654.3,
          550.6,
          1780,
          867.7,
          1342.5,
          569.5,
          101.8,
          1325.3,
          510,
          560.5,
          342.6,
          421.9,
          516.3,
          318,
          523.9,
          -163,
          597.5,
          951.8,
          1062.2,
          -266,
          -212,
          421.1,
          368.2,
          477.9,
          441.8,
          601.9,
          293.1,
          993.1,
          560.9,
          708,
          434.3,
          623,
          1568.4,
          402.5,
          1037.4,
          497.1,
          720.7,
          498,
          430.4,
          433.1,
          6.4,
          415,
          742.9,
          3257.8,
          580,
          1045.1,
          352.4,
          1863.7,
          -1494.8,
          718.1,
          1023.2,
          745.7,
          312.9,
          370,
          365,
          134.3,
          293.9,
          584.4,
          143.1,
          -706.7,
          603.6,
          1105.6,
          410.1,
          506.8,
          -226,
          636,
          392.8,
          995.7,
          456.8,
          -5925.6,
          552.9,
          131.2,
          751.8,
          528.4,
          642,
          491.7,
          696,
          387.8,
          601,
          1130.3,
          525.4,
          1193.9,
          1376.1,
          33,
          15073.4,
          53.2,
          401,
          -674.7,
          173.9,
          957.3,
          646.7,
          901.1,
          74.7,
          368.9,
          1576.3,
          -1241.4,
          595.9,
          -2846,
          596.8,
          1035.6,
          1237.5,
          381.6,
          627,
          -232,
          387.1,
          1155.2,
          812.3,
          1459.3,
          780,
          462.7,
          -75.7,
          -282.5,
          -228.5,
          324.5,
          1015.2,
          605.1,
          540.2,
          2275.2,
          1403.7,
          767.8,
          389.5,
          838.3,
          162.7,
          1079.1,
          -1701.2,
          -174.5,
          1492.4,
          -6.4,
          572.6,
          -7666.3,
          225.6,
          995.2,
          -914.3,
          754.5,
          712.5,
          -2756.8,
          486.2,
          530.3,
          1757.8,
          730,
          305.3,
          1167.2,
          549,
          -3252.3,
          413.2,
          357.1,
          490.5,
          1472.9,
          503.5,
          640.2,
          -893.3,
          222.8,
          577.2,
          304.7,
          325.8,
          639.9,
          328.1,
          926.5,
          635.7,
          523.1,
          558.6,
          569.7,
          1034.3,
          418.6,
          644.1,
          830.7,
          528.9,
          28,
          -1297.3,
          396.3,
          543.6,
          312.3,
          880.7,
          373.7,
          1120.8,
          283.2,
          195,
          844.4,
          468.2,
          686.3,
          495.3,
          866.3,
          456,
          859.3,
          162.2,
          775.1,
          588.7,
          144.3,
          696.4,
          908.2,
          457.2,
          811.4,
          606.4,
          1066.5,
          -483.3,
          1008.9,
          239.1,
          266.8,
          801.3,
          346,
          600.3,
          693.1,
          410.4,
          489.3,
          706.3,
          752.5,
          1003.2,
          432.8,
          282.1,
          -297.8,
          977.7,
          588.9,
          309.4,
          363.8,
          361.5,
          1050,
          421,
          1370.8,
          513.8,
          288.9,
          557.7,
          530.4,
          506.6,
          814,
          1301.6,
          23.8,
          664.1,
          357.4,
          273.8,
          581.1,
          123.5,
          606.5,
          739.3,
          793,
          1016,
          -2791.1,
          429.8,
          61.2,
          471.9,
          1018.5,
          592.3,
          604.5,
          505.3,
          819.7,
          -346.3,
          415,
          399,
          129.5,
          -364.5,
          124.8,
          1319.3,
          647.7,
          1755,
          390.6,
          -845.9,
          924.7,
          731.8,
          516.3,
          64.8,
          536.3,
          1148.8,
          931.7,
          474.4,
          492.2,
          282.6,
          -3943,
          347.7,
          -615.3,
          620.4,
          415.7,
          244,
          -922.5,
          470.6,
          395.6,
          -126.7,
          647.4,
          534.6,
          1204,
          222.3,
          448.7,
          368.1,
          283.5,
          483.8,
          406.6,
          552.7,
          140.4,
          1207.5,
          359.6,
          531.4,
          274.7,
          1036.4,
          1308.5,
          525.9,
          640.6,
          -2375.7,
          1077.2,
          664.2,
          445.1,
          696.6,
          103.7,
          249.1,
          385.5,
          324,
          601.9,
          370.7,
          124.1,
          98,
          470.9,
          554.2,
          1311.9,
          -714.7,
          65.4,
          381.4,
          390.7,
          887.3,
          829.5,
          497.1,
          293,
          -51.8,
          733.4,
          501.4,
          184.4,
          -309.6,
          -76.2,
          455.9,
          200.3,
          1232.6,
          398.2,
          851.6,
          528,
          151.4,
          681.7,
          -2416.3,
          346.8,
          276.8,
          379.6,
          454.7,
          28.2,
          249.9,
          318,
          796.8,
          278.8,
          456,
          209.1,
          137.2,
          567.3,
          -1061,
          806.4,
          -1254,
          267.2,
          288.8,
          237,
          173.2,
          -0.6,
          445.5,
          412.3,
          775.6,
          724,
          293.7,
          1646.9,
          419.7,
          148.6,
          186.7,
          821.9,
          1733.3,
          676,
          1254,
          114.1,
          -280.3,
          386.1,
          413.8,
          808.4,
          398.3,
          1786.2,
          524.1,
          493.9,
          404.5,
          546.5,
          947,
          57.5,
          312.9,
          -516.3,
          359.3,
          419.7,
          616.2,
          446.4,
          323.1,
          -205.7,
          220.4,
          263.9,
          -34.9,
          375.1,
          256.3,
          -6591,
          789,
          5,
          378.9,
          -1382.8,
          131.2,
          863.1,
          480,
          180.7,
          241.5,
          430.4,
          294.9,
          596.1,
          -3287.6,
          249.6,
          489,
          870.3,
          280,
          1258.6,
          -435,
          398.5,
          446.3,
          428.7,
          -663.7,
          190.6,
          378.8,
          1.6,
          166.7,
          -216,
          468.9,
          969,
          671.5,
          423.8,
          468,
          -673.4,
          685.7,
          558.3,
          3757.3,
          182.7,
          386.5,
          28.2,
          43.3,
          -204.4,
          -150.9,
          627.6,
          425.4,
          333.8,
          720.9,
          858.8,
          263.1,
          275.9,
          370.1,
          476.6,
          11805,
          277.9,
          1039.3,
          411,
          372.2,
          463.8,
          80.4,
          159.7,
          285,
          1078.7,
          123.1,
          621.5,
          191,
          73.4,
          -145.8,
          -8068.7,
          267.7,
          383,
          -668.8,
          545.9,
          122.8,
          145.4,
          -981.6,
          22.1,
          473.6,
          1660.4,
          629.2,
          453.1,
          640.1,
          169.2,
          250.7,
          538,
          -94.5,
          339.9,
          210.8,
          188.3,
          634.7,
          406.7,
          109.5,
          -482.7,
          166.4,
          118.3,
          -283.9,
          239.3,
          401,
          678.3,
          249.7,
          198.4,
          248.3,
          402.5,
          -795.1,
          111,
          229.8,
          63.2,
          181.2,
          550,
          412.3,
          -295.1,
          480.3,
          475.7,
          178,
          158.5,
          212.6,
          223.2,
          90.4,
          422.4,
          -867.2,
          41.7,
          172.6,
          -102.6,
          416.4,
          266.8,
          1059.7,
          -1392.5,
          603.7,
          121.5,
          156,
          118.6,
          114,
          211.4,
          212.2,
          1457.4,
          7326,
          87.7,
          201.6,
          262,
          176.2,
          100.2,
          -1925.4,
          524.2,
          -167.1,
          79.2,
          511,
          169,
          -106.1,
          102.5,
          273.5,
          104.4,
          122,
          -156.3,
          353.4,
          193.2,
          292.2,
          88.2,
          641,
          117.3,
          87.8,
          46.7,
          1675.3,
          89.5,
          1956.4,
          41,
          -90.9,
          208.5,
          165.3,
          84.5,
          -1521,
          -44.5,
          100.6,
          79.1,
          361,
          63.9,
          -474.1,
          84.2,
          110.3,
          150.8,
          35.6,
          47.5,
          83.9,
          481.4,
          52.3,
          60.6,
          21.1,
          65.7,
          81.5,
          34.4,
          63.2,
          37.9,
          115.4,
          942.8,
          68.2,
          1063,
          -753.5,
          -544.9,
          2032.6,
          1174.9,
          94321,
          69020,
          156357,
          58587,
          4294,
          4368,
          -22819,
          21443,
          11788,
          14801.9,
          15485,
          20704,
          61690,
          33571.5,
          12724,
          27255.1,
          11680,
          5686.8,
          41795,
          14321,
          9660,
          8544.5,
          9706.1,
          34492.5,
          9665.3,
          35780,
          13030,
          17105,
          9868,
          6581,
          12797,
          7545,
          8374,
          7159.8,
          13005.4,
          5997.5,
          3444.7,
          4734.1,
          3538.6,
          6051,
          28622,
          4459.9,
          6875.3,
          29037,
          6024,
          7002.9,
          43513.1,
          52470.8,
          208,
          5478,
          5780,
          11302,
          8299.8,
          18497.4,
          18764.4,
          3320,
          4489,
          6934,
          6939.8,
          48252.5,
          5656,
          4737,
          21585,
          2109,
          6684,
          21120.7,
          22188.6,
          10781,
          8216,
          19508.5,
          8688,
          395,
          5244.4,
          5696.9,
          4199.6,
          7311,
          14502,
          37924.7,
          10343,
          5539,
          8797.7,
          8050,
          12640,
          11398.2,
          5226,
          3737.3,
          20564.7,
          -2857,
          6064.3,
          7917,
          22183.9,
          3554.7,
          6414,
          6998,
          33226.1,
          -9106,
          15841,
          10542,
          282.9,
          4065,
          1946,
          -4130,
          2678.7,
          8407.8,
          5562.8,
          5688,
          6915.2,
          9846,
          2678.3,
          2808,
          7176,
          8187,
          11677.2,
          1833,
          7111,
          5723.4,
          12782.3,
          6209,
          6964.2,
          8558,
          10556,
          4324,
          25888.8,
          -1038.7,
          2627,
          1312,
          8996.3,
          3633.6,
          3943,
          4408.5,
          12149,
          5584,
          616.6,
          6450,
          2174.4,
          3654.2,
          4143.7,
          2186.2,
          4899,
          7081.5,
          4024,
          127.8,
          2899.4,
          3430,
          28979,
          1389.9,
          3973,
          3497.6,
          2262.7,
          15024,
          3259.7,
          3260.6,
          3214,
          400,
          7384,
          2885.7,
          2071,
          2419,
          5580,
          4182.7,
          4628.2,
          5231,
          3362,
          4889.2,
          2109.3,
          4096.2,
          4516.1,
          3494.5,
          -1918,
          4235.2,
          8150.7,
          10108.3,
          15553.7,
          3177.4,
          6752,
          3068.7,
          5733,
          2669,
          -3369,
          855.5,
          11668.4,
          1893.3,
          2933.3,
          3798.2,
          2817,
          5347,
          2424,
          902,
          21089.5,
          1091,
          2085.9,
          1646,
          2780,
          4917.3,
          2385.1,
          4605.8,
          15625.9,
          6825,
          16975.4,
          3086,
          1337.4,
          4946.8,
          815.7,
          2258,
          2567,
          4783,
          4477.2,
          8001.9,
          2616,
          1611,
          1598,
          3115,
          3840,
          9392,
          2891.7,
          805.7,
          2867.2,
          2255.3,
          2623,
          3865,
          2316.2,
          4294,
          -2584.3,
          2998.2,
          4361.5,
          7281.8,
          36465.8,
          5990.7,
          1294.9,
          8293.6,
          618,
          5941.3,
          15981.2,
          1444,
          3255.2,
          2521.3,
          1267.6,
          5226.2,
          1858,
          595.7,
          2126.7,
          6875.8,
          1986.5,
          6546.7,
          5086.3,
          2012.7,
          2207.7,
          2878.7,
          3390,
          2987,
          3241.3,
          5454,
          2931.6,
          -88.5,
          6446.2,
          942.4,
          1176.2,
          1491.1,
          4417.7,
          10094.6,
          1698.5,
          4994.3,
          -23111.4,
          855.4,
          1032.5,
          1377,
          4874.6,
          34.3,
          2657.3,
          5115.6,
          1469.2,
          1885.1,
          13217,
          3647.5,
          1029.7,
          1488.8,
          3445.3,
          4790,
          934.5,
          2738,
          4873,
          9492.5,
          1044.6,
          3998.3,
          1314,
          3508,
          -19497.7,
          959.4,
          2087.2,
          2801.8,
          2594,
          4784,
          4352.9,
          12900.9,
          1380.1,
          12968.6,
          1671,
          5751.2,
          3607,
          2889.4,
          4097.8,
          1518.4,
          2423,
          966.6,
          1803.4,
          4050.3,
          -796.7,
          3141,
          13119.1,
          17655.3,
          7041,
          2418.5,
          1153.2,
          6262.1,
          854.8,
          3471,
          1977,
          592.9,
          5825.9,
          1996,
          1168.3,
          2496,
          1272.2,
          2001,
          8343.1,
          4877.4,
          -297.4,
          -3259,
          2416,
          2886,
          2917.1,
          3030,
          4745.7,
          1290.6,
          1633.9,
          1989.5,
          1374,
          994,
          -542,
          5945,
          -366.7,
          2184.2,
          292.5,
          1857.1,
          1318,
          887.4,
          6281,
          9391,
          1519.4,
          1725.5,
          3131,
          2843.2,
          1419.5,
          2087,
          16391,
          1114.2,
          1915.8,
          5383.4,
          2321.7,
          2481.8,
          2250.8,
          -841.1,
          3427.7,
          2061.7,
          570.1,
          2745,
          3860.2,
          553.6,
          1394.5,
          3841.8,
          4168.3,
          1217.2,
          12392,
          1502.8,
          1391,
          2242,
          1516.7,
          993.2,
          3192.1,
          895.1,
          1342.6,
          6609.6,
          2779,
          1086,
          5749.3,
          853,
          823,
          1950,
          2152,
          1281,
          1178,
          7697.1,
          4456,
          4371.9,
          6723.4,
          2302.7,
          2237.7,
          1036.6,
          513.9,
          3714.1,
          -71,
          2175.1,
          1285.1,
          2398.8,
          4357,
          2094.1,
          208.5,
          701.5,
          699.2,
          1803.4,
          6787.2,
          2416.2,
          1330.9,
          3445.8,
          6046,
          1323,
          1749,
          1258.3,
          1649.8,
          105,
          6972.4,
          7024.2,
          1546.4,
          1503.3,
          228.1,
          2132,
          -537,
          13640,
          3418.7,
          4640.5,
          1226,
          2901,
          9639,
          821.9,
          1774,
          1249,
          4590.2,
          1002.3,
          6358,
          2546,
          1959.8,
          3145,
          880.9,
          7052.9,
          3255.4,
          3652.7,
          1081.9,
          1483,
          4524.5,
          -648.6,
          3478,
          5180.6,
          2596,
          5602.8,
          1872,
          2302.3,
          3828.7,
          851.7,
          1970.1,
          2425.1,
          7727,
          1916,
          331.6,
          1546.4,
          6625.4,
          2155.6,
          1512,
          1220.4,
          -540.7,
          3757.2,
          924,
          1608.7,
          1273,
          344.3,
          2528,
          3316.2,
          77.4,
          2222,
          473.5,
          1419.4,
          1671.5,
          -163.5,
          1833.7,
          3347,
          3456.1,
          1847.9,
          1055,
          -355.3,
          1362.4,
          1928.5,
          1573.1,
          2491,
          1126.8,
          -372,
          5281.1,
          1615.4,
          1039,
          1814,
          1322.1,
          2045.2,
          863,
          1616.8,
          2855.5,
          1667,
          1731.5,
          1224.1,
          5841,
          93.6,
          1192.8,
          2442,
          886.5,
          4141.2,
          2776,
          -16699,
          7630.1,
          1396,
          5958,
          1258.8,
          4653.8,
          896.3,
          2716.1,
          1316.3,
          1448,
          1341.5,
          1272,
          2675.8,
          2245.3,
          7606.7,
          1578.1,
          1481.7,
          2307,
          3145,
          1189.6,
          2523,
          1218.7,
          2320,
          1625.9,
          3487,
          -4488,
          3060.4,
          2095,
          1255,
          886.9,
          793.5,
          -8896,
          1112.4,
          351.9,
          1075.1,
          1177.7,
          4701.5,
          119.3,
          4155.2,
          937.4,
          727,
          -92,
          53.4,
          -184.6,
          653.5,
          1112.7,
          113,
          504.5,
          367.3,
          -2287,
          674,
          2215,
          4127.2,
          3457.5,
          1350.9,
          24827.6,
          1733,
          -82,
          1804.6,
          1093.6,
          862,
          5567,
          3034,
          6500.5,
          1580.7,
          -438.5,
          19,
          1079.4,
          -306.8,
          393,
          2604,
          404.4,
          3156.1,
          596.5,
          2221.2,
          2954.3,
          332.1,
          -1923,
          449.8,
          3607.7,
          -183.2,
          832,
          2380.1,
          473.7,
          487.7,
          -2077.2,
          -98,
          298.3,
          535.7,
          2404.3,
          943,
          3589.9,
          -1652.2,
          1397.5,
          373.3,
          1996.1,
          1975.6,
          165.4,
          5300.4,
          -3147,
          439.6,
          728.4,
          1411.5,
          1389.6,
          -144.3,
          588.1,
          552.1,
          4031,
          3501.6,
          9327.9,
          934.8,
          -817,
          1452.6,
          1578.5,
          1960,
          1144,
          1826.6,
          307.7,
          911,
          1367.8,
          1308.5,
          1359.1,
          3424.6,
          798.5,
          171,
          3493.7,
          -1064.9,
          780.1,
          2800.8,
          1084.6,
          4684.3,
          631,
          553.3,
          1242.4,
          1862,
          4960.7,
          900.4,
          374,
          1115.5,
          -169,
          604.5,
          371.9,
          1587.9,
          1102.2,
          1993,
          -364.6,
          2605.7,
          1578.6,
          1155,
          1500.8,
          661.1,
          2059.9,
          2552,
          1311.4,
          1041.2,
          1412.3,
          1643.6,
          455.2,
          1738.8,
          667,
          1019.8,
          961.6,
          1052.2,
          1114.5,
          4249.3,
          180.6,
          5755.2,
          501.6,
          1619.1,
          1359.6,
          2256.4,
          2703.7,
          2228.2,
          5376.6,
          966.8,
          2364.1,
          -1840,
          399.3,
          586.9,
          514,
          -84,
          -1359,
          1240.8,
          639,
          4100,
          2519.1,
          1877.2,
          193.7,
          836.2,
          638.7,
          1090,
          4583.2,
          1377.9,
          1176.7,
          836,
          4281,
          315.1,
          918.2,
          931.1,
          662.1,
          471,
          372.3,
          666.2,
          4241,
          412.7,
          1871,
          1086,
          1155.2,
          2884.8,
          664,
          2406.4,
          2189,
          622.1,
          1131,
          -2460,
          357.8,
          377.3,
          1132,
          2101,
          684.1,
          1692.2,
          4489.5,
          -299.2,
          1952.2,
          2718,
          527.1,
          763.7,
          0.6,
          695,
          4507.2,
          410,
          1097.1,
          195.5,
          634.4,
          429.9,
          1023.6,
          1253.1,
          978.1,
          -512.1,
          1036.2,
          1094.4,
          -703.3,
          2187.2,
          713.2,
          663.7,
          588.4,
          1002.4,
          1011.3,
          724.3,
          1305.2,
          -141.7,
          632.1,
          -150.2,
          2002.4,
          2420.5,
          732.3,
          1119.3,
          752.3,
          492.4,
          1895,
          497.3,
          2432,
          1260,
          472.4,
          5586.7,
          1905,
          4559.5,
          762.5,
          -924.4,
          737.8,
          2842.6,
          2769,
          1579.4,
          725,
          463,
          2433,
          1818,
          9044.1,
          3675,
          356.3,
          -403.4,
          74,
          852.2,
          2189.9,
          753,
          380.4,
          1939.9,
          182.8,
          1502.3,
          798.6,
          260,
          2748.6,
          1067.8,
          826.8,
          1077,
          762.9,
          -221.4,
          637.6,
          285.8,
          2327.1,
          611.7,
          1077.1,
          964.3,
          1000.4,
          1152.3,
          4915.8,
          6651,
          372,
          2373.5,
          -790.3,
          57.3,
          1284.3,
          1212.3,
          467.9,
          754.7,
          684,
          1334.4,
          -1036.7,
          3937.1,
          2228.8,
          2214.1,
          1705.4,
          2192.1,
          4134,
          851,
          557.1,
          425,
          -47.4,
          536.8,
          739.5,
          118,
          1120.4,
          2178,
          1301.2,
          1643.8,
          2388.4,
          602,
          654.1,
          104.5,
          910.1,
          1018.9,
          4129.7,
          4367.1,
          1132,
          7846,
          705.2,
          486.3,
          741.6,
          1742.6,
          606.2,
          1437.8,
          4699.1,
          637.3,
          -1690,
          923.8,
          1673,
          -181.4,
          652,
          674.8,
          948.5,
          16423.5,
          712.6,
          450,
          1256.8,
          3331,
          1525.6,
          1187.4,
          856,
          1245.2,
          1582.4,
          2403,
          1423.1,
          919.4,
          486,
          1399.5,
          1517.2,
          1147,
          1664.7,
          688,
          647.3,
          1074.2,
          307.9,
          805,
          554.5,
          1983.7,
          612.9,
          1237.3,
          856.9,
          1370.2,
          3729.6,
          653,
          2282.1,
          662.1,
          1509.4,
          176.5,
          1111,
          1630.7,
          658,
          806.5,
          1179.9,
          319.9,
          904,
          7943.5,
          1390.4,
          707.8,
          855,
          159.4,
          820.7,
          4295.3,
          705,
          845,
          439.3,
          1581.1,
          -384.7,
          3572.6,
          484,
          1507,
          2822,
          2647.7,
          2177.7,
          1733.4,
          615.7,
          220.3,
          670.2,
          951.2,
          829.2,
          356.2,
          538.8,
          2508,
          1492,
          710.2,
          3396.1,
          1785.3,
          1703.4,
          1866.3,
          675,
          800.8,
          1184.7,
          12,
          331.7,
          801.8,
          997,
          791.7,
          3941.1,
          579.3,
          2381.6,
          563.4,
          -1131,
          813,
          -2719.6,
          4558.7,
          542.1,
          23.8,
          1267.4,
          1113.7,
          1090.1,
          1494.5,
          3165.7,
          1419,
          -166,
          -1380.8,
          586.7,
          666.6,
          2103.6,
          1298.9,
          42.9,
          -129,
          525.7,
          1936.3,
          874.3,
          736.5,
          596.9,
          1441.9,
          489.5,
          615,
          510,
          831.9,
          1874,
          542.3,
          2309,
          752.7,
          786.3,
          754.1,
          2084.7,
          445.8,
          -3532,
          977,
          1084.6,
          789,
          1146,
          1269.4,
          962.2,
          785.5,
          -546,
          3615.9,
          525.8,
          1923.4,
          645.7,
          878.1,
          2679.7,
          715.4,
          2096.8,
          810.3,
          336.8,
          1050.8,
          3631.8,
          651.1,
          1049.2,
          1099.3,
          563.1,
          2373.7,
          1920,
          2176.3,
          799.8,
          206.8,
          831.9,
          811.6,
          624.4,
          546,
          1098,
          982.6,
          2297.3,
          994.3,
          2412.4,
          674.8,
          1808.8,
          637.1,
          1860.1,
          153.4,
          679.7,
          692.7,
          -1449.8,
          772.8,
          3332.2,
          1678,
          1416.7,
          1699.9,
          1247.8,
          781.9,
          2443.5,
          354,
          2380,
          882.9,
          723.5,
          2725,
          1244.9,
          3311.8,
          49.2,
          2510.7,
          70,
          1047.4,
          303.7,
          2745,
          598.6,
          -254.3,
          329,
          3017.3,
          705.7,
          680.1,
          3464.7,
          818.3,
          657,
          3684.8,
          668.9,
          943,
          604.1,
          641.3,
          1557.9,
          837.4,
          904.6,
          842.6,
          575.9,
          1706.9,
          602,
          1288,
          1568.3,
          -2274.2,
          1554,
          1706.3,
          3023,
          679,
          1804.8,
          1613,
          617.6,
          3277.4,
          1508.1,
          584.4,
          -2540.2,
          -2129,
          748.3,
          678.2,
          1314.6,
          1049,
          859,
          672.8,
          621.2,
          1526,
          844,
          1389.5,
          584.6,
          17.5,
          722.9,
          549.5,
          1117.2,
          988.1,
          2835.6,
          678.8,
          1022.6,
          434.5,
          2164,
          812.5,
          -2373.6,
          611.7,
          1436.2,
          495,
          932,
          1503,
          804,
          2287.8,
          -4895,
          780,
          2550.4,
          1228.3,
          1025.4,
          -4811,
          721.4,
          1843.1,
          3929.5,
          679.2,
          750.3,
          952.1,
          586,
          601.2,
          1906.7,
          1236,
          1699.5,
          1887.5,
          427.7,
          628.5,
          679.8,
          575,
          598,
          905.2,
          314.5,
          958.1,
          785.1,
          1654,
          964.9,
          1043.1,
          1231.7,
          944.3,
          2294.4,
          799.8,
          2584.6,
          840.9,
          815,
          543.7,
          388.4,
          219.5,
          230.1,
          1513.5,
          879.2,
          1467.3,
          149.6,
          545,
          84.2,
          -112.3,
          774.3,
          -648.4,
          844.9,
          1113.6,
          710.3,
          613.9,
          1232.9,
          545.5,
          1640.6,
          1894,
          625.9,
          1944.1,
          2685,
          1027,
          716.3,
          437.7,
          4505.6,
          690.8,
          9406.9,
          786.9,
          337,
          814.7,
          1485.7,
          -161,
          1180.9,
          552.3,
          789.3,
          324.5,
          512.5,
          823.5,
          1416.5,
          913.1,
          521.3,
          2984.3,
          703.8,
          464.7,
          1288.3,
          -3142.4,
          1475.6,
          971.3,
          1207.8,
          638.1,
          1805,
          484.8,
          2078.6,
          672,
          1797.3,
          737.8,
          -1061.5,
          1414.9,
          449.1,
          -447,
          3552,
          1262,
          941.7,
          2774.3,
          603.5,
          830.2,
          529.7,
          1194.1,
          572.8,
          899.4,
          817.7,
          8149,
          653.3,
          684.7,
          -93,
          1024.9,
          147.2,
          591.3,
          972.7,
          427.5,
          384.1,
          3556,
          4936,
          522.4,
          1034.7,
          869.7,
          11209.9,
          538,
          707.4,
          961,
          799,
          -355.2,
          1507.9,
          524.6,
          -365.4,
          1922.9,
          992.8,
          626.8,
          677.9,
          660.3,
          398.7,
          1048.6,
          464.5,
          613,
          963,
          2033,
          1545.4,
          463.5,
          681.7,
          2005.2,
          926.2,
          208.4,
          568.6,
          -1440,
          2291,
          684.2,
          513.2,
          728.3,
          762.1,
          848.1,
          390.9,
          -1510.9,
          581.3,
          870.4,
          820,
          698.6,
          1226.3,
          299,
          1014.7,
          4483,
          663.5,
          580.6,
          -623.2,
          938,
          -2352.9,
          -614.1,
          933.5,
          130.5,
          -246.3,
          266.2,
          1485.1,
          754.1,
          326.6,
          908.9,
          692,
          -355,
          455,
          989.1,
          805.6,
          1310.4,
          730.9,
          970.4,
          1914.6,
          1320,
          4927.3,
          -1141.2,
          653.5,
          474.4,
          989.8,
          779.6,
          820.1,
          747.3,
          667.3,
          719.7,
          41.2,
          1188,
          680,
          1332.6,
          1120.5,
          -405.7,
          590.9,
          819,
          984,
          737.7,
          -18935.7,
          836.7,
          1781,
          2803.8,
          781.1,
          528.3,
          576.9,
          771.1,
          1465.7,
          450.3,
          1225.4,
          -112.2,
          226,
          809.3,
          1772,
          2210.5,
          2072.9,
          783,
          585.6,
          265,
          -1228,
          -795.6,
          1171.4,
          915.7,
          2785.8,
          -239.2,
          1000.2,
          702.3,
          1326.3,
          988.3,
          830.6,
          954.9,
          2270.5,
          406.6,
          -3985.4,
          998.2,
          450.4,
          1419,
          1389,
          2199.9,
          626.8,
          1072.9,
          282.1,
          414.3,
          1657.2,
          -249.9,
          672,
          1331,
          259.8,
          5874.2,
          342,
          676.5,
          227.7,
          460.1,
          1769.4,
          250.8,
          3637,
          482.7,
          -742.5,
          547.9,
          1965.5,
          693.8,
          -24,
          682.1,
          614.1,
          721.8,
          -39,
          1062.1,
          2993.1,
          756,
          1853,
          863.9,
          -963.3,
          596.6,
          1249.5,
          546.9,
          2354.5,
          278,
          694.7,
          604.5,
          -2835,
          622,
          568,
          455,
          758.9,
          2061.4,
          2226.9,
          1521.7,
          1314.8,
          1127.9,
          598.9,
          498.9,
          800,
          1341.1,
          477,
          1565.8,
          867.8,
          604.1,
          1378,
          868,
          580.1,
          926.6,
          481.8,
          602.1,
          991.3,
          1519.6,
          485.4,
          -2012,
          833.1,
          -1571.5,
          7780,
          3087,
          1255.3,
          1592.3,
          802,
          -860.5,
          501.9,
          511.6,
          548.9,
          421.9,
          990.7,
          -2280,
          -1238.4,
          1369.9,
          987.4,
          871.5,
          798.7,
          -1850,
          573.8,
          807,
          1090.2,
          589.8,
          414,
          1251.1,
          231.8,
          1326.1,
          546,
          492.8,
          -1578.6,
          700,
          6057.5,
          461.1,
          4046.9,
          241.2,
          187,
          622.4,
          1588.7,
          848,
          552,
          725.4,
          623.8,
          720,
          2495,
          323.2,
          498.6,
          1123.4,
          18.7,
          471.3,
          646.8,
          1335.9,
          535.4,
          521,
          850.3,
          969.3,
          131.3,
          2547,
          876.3,
          974.3,
          548.4,
          651.6,
          2286.1,
          1009.1,
          618,
          150.7,
          484.9,
          499.7,
          794.7,
          519.2,
          2502.9,
          2424.5,
          2423.8,
          718.3,
          1597.7,
          719.9,
          922.9,
          529.6,
          1334.6,
          1144.5,
          1210.2,
          626.8,
          2268.6,
          899.2,
          -3074.1,
          936,
          368,
          809.2,
          1212.9,
          758.5,
          993.7,
          646.1,
          299.4,
          741.9,
          575.6,
          639.8,
          1040.2,
          766.5,
          2070.3,
          1479.5,
          506.4,
          1223.9,
          1304,
          415,
          1057.6,
          2167.8,
          637.1,
          435.7,
          633.2,
          563.1,
          1137.3,
          888.6,
          -2010.3,
          2495.6,
          876.1,
          977.1,
          957,
          1416.2,
          1200.3,
          6518.1,
          1687.2,
          -912.3,
          1183.8,
          -1660.5,
          1216.9,
          722.3,
          1070.1,
          422,
          526.9,
          2224.2,
          545.3,
          106.6,
          362.8,
          91.6,
          499.7,
          862.7,
          826.9,
          421.4,
          359.6,
          967.1,
          227.7,
          878.2,
          675,
          1220.5,
          873.5,
          47.7,
          1397.8,
          -249.5,
          1813,
          94.2,
          3121.9,
          1833.8,
          -690,
          1358.9,
          436.3,
          1270,
          615.5,
          834.9,
          38.5,
          -1305.8,
          595.9,
          1174.9,
          615.2,
          515.3,
          403.1,
          585.1,
          588.7,
          6463,
          652.3,
          1042.7,
          718,
          263.2,
          837.7,
          893.3,
          891.7,
          -121.2,
          1005.3,
          645.7,
          588.8,
          3895.7,
          675.7,
          382.4,
          1177.1,
          267.8,
          722.8,
          535.6,
          569.2,
          867.6,
          1841,
          1016.5,
          401.9,
          637.5,
          -296.9,
          1093.9,
          949.8,
          1280,
          932.1,
          438.3,
          586.4,
          902,
          953.9,
          525,
          1610.1,
          614.5,
          758.3,
          1067.1,
          1229.4,
          270.5,
          1558.4,
          -31.1,
          885.2,
          496.5,
          374.4,
          241.7,
          -316.3,
          1162.4,
          1944.2,
          1483.1,
          268.2,
          347.4,
          111,
          594.1,
          820.9,
          1982.2,
          -50.7,
          357.1,
          320,
          1998.9,
          477,
          564.7,
          792.3,
          377.2,
          456.2,
          558.3,
          -4158.1,
          396.1,
          741.4,
          756,
          250.9,
          860.6,
          1036.7,
          70,
          941,
          -25.5,
          315.8,
          433.4,
          330.2,
          178.6,
          444.6,
          1.8,
          1177,
          -461.9,
          1154.3,
          3280,
          973.4,
          480.8,
          789,
          1531.3,
          1049.9,
          684.9,
          494.7,
          1358.6,
          1522.8,
          560.9,
          607.5,
          583.8,
          717.8,
          1007.9,
          562.5,
          2352.5,
          270,
          -3241.3,
          906.5,
          533.5,
          862.4,
          2641.1,
          455.9,
          598.7,
          825.2,
          1199.6,
          601.5,
          -401.3,
          909.6,
          841.6,
          584.4,
          334.5,
          -65,
          1349.2,
          568.9,
          501.9,
          572.6,
          2303.2,
          -259.2,
          242.9,
          205.6,
          530.8,
          -236.9,
          461.2,
          777.7,
          1585.2,
          602.5,
          177.7,
          509.5,
          198.6,
          377.2,
          172.1,
          280,
          753,
          760.8,
          312.4,
          513.2,
          279.1,
          360,
          466.3,
          579.8,
          323.8,
          900,
          1980.8,
          247,
          424.9,
          746.8,
          195.2,
          248.2,
          -2226,
          317.4,
          5664.6,
          244.5,
          -149.8,
          528.3,
          -170,
          286.5,
          350.9,
          1685.1,
          1220.9,
          -1377,
          192.4,
          1261.7,
          5,
          998.4,
          288.2,
          -202,
          407.5,
          356.5,
          687.6,
          408.6,
          388.5,
          729,
          893.2,
          -214,
          964.7,
          297.6,
          431.9,
          447.3,
          -7.4,
          528,
          494.9,
          1190.7,
          590.7,
          181.9,
          418,
          214.8,
          959.4,
          326.5,
          1067.1,
          406.7,
          -416.4,
          231.4,
          194.5,
          582.8,
          5697,
          5,
          539.5,
          211.9,
          -215.1,
          454.4,
          1658.5,
          920.8,
          545.9,
          402.5,
          -6140.8,
          931.4,
          2580.3,
          352.6,
          276,
          1320,
          178.1,
          -941.3,
          1383.2,
          271.5,
          333.1,
          149.7,
          493.9,
          635.4,
          1119,
          25.1,
          150.3,
          260.3,
          782.1,
          595.2,
          1017.3,
          115.4,
          1491.3,
          167.1,
          506.6,
          312.4,
          190.5,
          360.9,
          522,
          -140.2,
          934.8,
          565,
          1198.1,
          751,
          345.6,
          481.9,
          154.5,
          624.9,
          1829,
          253.2,
          1257.1,
          -19,
          -1548,
          156.4,
          1155.3,
          1448.5,
          146.8,
          292.8,
          1295.5,
          379.2,
          430.8,
          145,
          153.2,
          -357,
          168.2,
          4619.4,
          264.1,
          1136.5,
          1390.7,
          178.1,
          722.9,
          478.2,
          784.5,
          472.2,
          -1146.6,
          501,
          201.8,
          152.3,
          3623.2,
          212.7,
          908.2,
          284.5,
          501.5,
          1155.6,
          90.4,
          -254.5,
          -88,
          1301.8,
          272.8,
          596.2,
          595.4,
          617,
          191,
          264.2,
          204.9,
          176.7,
          391.5,
          130.7,
          191.5,
          -1063.6,
          59.7,
          1015.5,
          215.6,
          543.8,
          110.6,
          -4140.4,
          -114.3,
          103.2,
          257.1,
          191.9,
          214.6,
          137.7,
          23.9,
          139.1,
          487.2,
          420.9,
          110.8,
          739.1,
          139.9,
          179.7,
          448.6,
          188.3,
          438.2,
          223.5,
          -353,
          500.2,
          1701.6,
          228.2,
          249.2,
          -795.1,
          -768.4,
          -1361.9,
          144,
          135.6,
          102.6,
          274,
          111.6,
          -2120.5,
          804.5,
          307.9,
          120.3,
          123.3,
          88.4,
          -1681.3,
          114.1,
          208.5,
          100.2,
          -1240,
          -2330.5,
          -895,
          -2294.6,
          1787,
          176.2,
          288.3,
          33.5,
          -269.2,
          44,
          86.2,
          61.9,
          -435.7,
          -76169.8,
          71,
          12287,
          69.1,
          157.7,
          -170.7,
          38.9,
          3669,
          84.9,
          145.8,
          480,
          7524,
          2717.9,
          149.5,
          7661.5,
          -749.9,
          -280.6
         ],
         "yaxis": "y"
        }
       ],
       "layout": {
        "legend": {
         "tracegroupgap": 0
        },
        "template": {
         "data": {
          "bar": [
           {
            "error_x": {
             "color": "#2a3f5f"
            },
            "error_y": {
             "color": "#2a3f5f"
            },
            "marker": {
             "line": {
              "color": "#E5ECF6",
              "width": 0.5
             },
             "pattern": {
              "fillmode": "overlay",
              "size": 10,
              "solidity": 0.2
             }
            },
            "type": "bar"
           }
          ],
          "barpolar": [
           {
            "marker": {
             "line": {
              "color": "#E5ECF6",
              "width": 0.5
             },
             "pattern": {
              "fillmode": "overlay",
              "size": 10,
              "solidity": 0.2
             }
            },
            "type": "barpolar"
           }
          ],
          "carpet": [
           {
            "aaxis": {
             "endlinecolor": "#2a3f5f",
             "gridcolor": "white",
             "linecolor": "white",
             "minorgridcolor": "white",
             "startlinecolor": "#2a3f5f"
            },
            "baxis": {
             "endlinecolor": "#2a3f5f",
             "gridcolor": "white",
             "linecolor": "white",
             "minorgridcolor": "white",
             "startlinecolor": "#2a3f5f"
            },
            "type": "carpet"
           }
          ],
          "choropleth": [
           {
            "colorbar": {
             "outlinewidth": 0,
             "ticks": ""
            },
            "type": "choropleth"
           }
          ],
          "contour": [
           {
            "colorbar": {
             "outlinewidth": 0,
             "ticks": ""
            },
            "colorscale": [
             [
              0,
              "#0d0887"
             ],
             [
              0.1111111111111111,
              "#46039f"
             ],
             [
              0.2222222222222222,
              "#7201a8"
             ],
             [
              0.3333333333333333,
              "#9c179e"
             ],
             [
              0.4444444444444444,
              "#bd3786"
             ],
             [
              0.5555555555555556,
              "#d8576b"
             ],
             [
              0.6666666666666666,
              "#ed7953"
             ],
             [
              0.7777777777777778,
              "#fb9f3a"
             ],
             [
              0.8888888888888888,
              "#fdca26"
             ],
             [
              1,
              "#f0f921"
             ]
            ],
            "type": "contour"
           }
          ],
          "contourcarpet": [
           {
            "colorbar": {
             "outlinewidth": 0,
             "ticks": ""
            },
            "type": "contourcarpet"
           }
          ],
          "heatmap": [
           {
            "colorbar": {
             "outlinewidth": 0,
             "ticks": ""
            },
            "colorscale": [
             [
              0,
              "#0d0887"
             ],
             [
              0.1111111111111111,
              "#46039f"
             ],
             [
              0.2222222222222222,
              "#7201a8"
             ],
             [
              0.3333333333333333,
              "#9c179e"
             ],
             [
              0.4444444444444444,
              "#bd3786"
             ],
             [
              0.5555555555555556,
              "#d8576b"
             ],
             [
              0.6666666666666666,
              "#ed7953"
             ],
             [
              0.7777777777777778,
              "#fb9f3a"
             ],
             [
              0.8888888888888888,
              "#fdca26"
             ],
             [
              1,
              "#f0f921"
             ]
            ],
            "type": "heatmap"
           }
          ],
          "heatmapgl": [
           {
            "colorbar": {
             "outlinewidth": 0,
             "ticks": ""
            },
            "colorscale": [
             [
              0,
              "#0d0887"
             ],
             [
              0.1111111111111111,
              "#46039f"
             ],
             [
              0.2222222222222222,
              "#7201a8"
             ],
             [
              0.3333333333333333,
              "#9c179e"
             ],
             [
              0.4444444444444444,
              "#bd3786"
             ],
             [
              0.5555555555555556,
              "#d8576b"
             ],
             [
              0.6666666666666666,
              "#ed7953"
             ],
             [
              0.7777777777777778,
              "#fb9f3a"
             ],
             [
              0.8888888888888888,
              "#fdca26"
             ],
             [
              1,
              "#f0f921"
             ]
            ],
            "type": "heatmapgl"
           }
          ],
          "histogram": [
           {
            "marker": {
             "pattern": {
              "fillmode": "overlay",
              "size": 10,
              "solidity": 0.2
             }
            },
            "type": "histogram"
           }
          ],
          "histogram2d": [
           {
            "colorbar": {
             "outlinewidth": 0,
             "ticks": ""
            },
            "colorscale": [
             [
              0,
              "#0d0887"
             ],
             [
              0.1111111111111111,
              "#46039f"
             ],
             [
              0.2222222222222222,
              "#7201a8"
             ],
             [
              0.3333333333333333,
              "#9c179e"
             ],
             [
              0.4444444444444444,
              "#bd3786"
             ],
             [
              0.5555555555555556,
              "#d8576b"
             ],
             [
              0.6666666666666666,
              "#ed7953"
             ],
             [
              0.7777777777777778,
              "#fb9f3a"
             ],
             [
              0.8888888888888888,
              "#fdca26"
             ],
             [
              1,
              "#f0f921"
             ]
            ],
            "type": "histogram2d"
           }
          ],
          "histogram2dcontour": [
           {
            "colorbar": {
             "outlinewidth": 0,
             "ticks": ""
            },
            "colorscale": [
             [
              0,
              "#0d0887"
             ],
             [
              0.1111111111111111,
              "#46039f"
             ],
             [
              0.2222222222222222,
              "#7201a8"
             ],
             [
              0.3333333333333333,
              "#9c179e"
             ],
             [
              0.4444444444444444,
              "#bd3786"
             ],
             [
              0.5555555555555556,
              "#d8576b"
             ],
             [
              0.6666666666666666,
              "#ed7953"
             ],
             [
              0.7777777777777778,
              "#fb9f3a"
             ],
             [
              0.8888888888888888,
              "#fdca26"
             ],
             [
              1,
              "#f0f921"
             ]
            ],
            "type": "histogram2dcontour"
           }
          ],
          "mesh3d": [
           {
            "colorbar": {
             "outlinewidth": 0,
             "ticks": ""
            },
            "type": "mesh3d"
           }
          ],
          "parcoords": [
           {
            "line": {
             "colorbar": {
              "outlinewidth": 0,
              "ticks": ""
             }
            },
            "type": "parcoords"
           }
          ],
          "pie": [
           {
            "automargin": true,
            "type": "pie"
           }
          ],
          "scatter": [
           {
            "fillpattern": {
             "fillmode": "overlay",
             "size": 10,
             "solidity": 0.2
            },
            "type": "scatter"
           }
          ],
          "scatter3d": [
           {
            "line": {
             "colorbar": {
              "outlinewidth": 0,
              "ticks": ""
             }
            },
            "marker": {
             "colorbar": {
              "outlinewidth": 0,
              "ticks": ""
             }
            },
            "type": "scatter3d"
           }
          ],
          "scattercarpet": [
           {
            "marker": {
             "colorbar": {
              "outlinewidth": 0,
              "ticks": ""
             }
            },
            "type": "scattercarpet"
           }
          ],
          "scattergeo": [
           {
            "marker": {
             "colorbar": {
              "outlinewidth": 0,
              "ticks": ""
             }
            },
            "type": "scattergeo"
           }
          ],
          "scattergl": [
           {
            "marker": {
             "colorbar": {
              "outlinewidth": 0,
              "ticks": ""
             }
            },
            "type": "scattergl"
           }
          ],
          "scattermapbox": [
           {
            "marker": {
             "colorbar": {
              "outlinewidth": 0,
              "ticks": ""
             }
            },
            "type": "scattermapbox"
           }
          ],
          "scatterpolar": [
           {
            "marker": {
             "colorbar": {
              "outlinewidth": 0,
              "ticks": ""
             }
            },
            "type": "scatterpolar"
           }
          ],
          "scatterpolargl": [
           {
            "marker": {
             "colorbar": {
              "outlinewidth": 0,
              "ticks": ""
             }
            },
            "type": "scatterpolargl"
           }
          ],
          "scatterternary": [
           {
            "marker": {
             "colorbar": {
              "outlinewidth": 0,
              "ticks": ""
             }
            },
            "type": "scatterternary"
           }
          ],
          "surface": [
           {
            "colorbar": {
             "outlinewidth": 0,
             "ticks": ""
            },
            "colorscale": [
             [
              0,
              "#0d0887"
             ],
             [
              0.1111111111111111,
              "#46039f"
             ],
             [
              0.2222222222222222,
              "#7201a8"
             ],
             [
              0.3333333333333333,
              "#9c179e"
             ],
             [
              0.4444444444444444,
              "#bd3786"
             ],
             [
              0.5555555555555556,
              "#d8576b"
             ],
             [
              0.6666666666666666,
              "#ed7953"
             ],
             [
              0.7777777777777778,
              "#fb9f3a"
             ],
             [
              0.8888888888888888,
              "#fdca26"
             ],
             [
              1,
              "#f0f921"
             ]
            ],
            "type": "surface"
           }
          ],
          "table": [
           {
            "cells": {
             "fill": {
              "color": "#EBF0F8"
             },
             "line": {
              "color": "white"
             }
            },
            "header": {
             "fill": {
              "color": "#C8D4E3"
             },
             "line": {
              "color": "white"
             }
            },
            "type": "table"
           }
          ]
         },
         "layout": {
          "annotationdefaults": {
           "arrowcolor": "#2a3f5f",
           "arrowhead": 0,
           "arrowwidth": 1
          },
          "autotypenumbers": "strict",
          "coloraxis": {
           "colorbar": {
            "outlinewidth": 0,
            "ticks": ""
           }
          },
          "colorscale": {
           "diverging": [
            [
             0,
             "#8e0152"
            ],
            [
             0.1,
             "#c51b7d"
            ],
            [
             0.2,
             "#de77ae"
            ],
            [
             0.3,
             "#f1b6da"
            ],
            [
             0.4,
             "#fde0ef"
            ],
            [
             0.5,
             "#f7f7f7"
            ],
            [
             0.6,
             "#e6f5d0"
            ],
            [
             0.7,
             "#b8e186"
            ],
            [
             0.8,
             "#7fbc41"
            ],
            [
             0.9,
             "#4d9221"
            ],
            [
             1,
             "#276419"
            ]
           ],
           "sequential": [
            [
             0,
             "#0d0887"
            ],
            [
             0.1111111111111111,
             "#46039f"
            ],
            [
             0.2222222222222222,
             "#7201a8"
            ],
            [
             0.3333333333333333,
             "#9c179e"
            ],
            [
             0.4444444444444444,
             "#bd3786"
            ],
            [
             0.5555555555555556,
             "#d8576b"
            ],
            [
             0.6666666666666666,
             "#ed7953"
            ],
            [
             0.7777777777777778,
             "#fb9f3a"
            ],
            [
             0.8888888888888888,
             "#fdca26"
            ],
            [
             1,
             "#f0f921"
            ]
           ],
           "sequentialminus": [
            [
             0,
             "#0d0887"
            ],
            [
             0.1111111111111111,
             "#46039f"
            ],
            [
             0.2222222222222222,
             "#7201a8"
            ],
            [
             0.3333333333333333,
             "#9c179e"
            ],
            [
             0.4444444444444444,
             "#bd3786"
            ],
            [
             0.5555555555555556,
             "#d8576b"
            ],
            [
             0.6666666666666666,
             "#ed7953"
            ],
            [
             0.7777777777777778,
             "#fb9f3a"
            ],
            [
             0.8888888888888888,
             "#fdca26"
            ],
            [
             1,
             "#f0f921"
            ]
           ]
          },
          "colorway": [
           "#636efa",
           "#EF553B",
           "#00cc96",
           "#ab63fa",
           "#FFA15A",
           "#19d3f3",
           "#FF6692",
           "#B6E880",
           "#FF97FF",
           "#FECB52"
          ],
          "font": {
           "color": "#2a3f5f"
          },
          "geo": {
           "bgcolor": "white",
           "lakecolor": "white",
           "landcolor": "#E5ECF6",
           "showlakes": true,
           "showland": true,
           "subunitcolor": "white"
          },
          "hoverlabel": {
           "align": "left"
          },
          "hovermode": "closest",
          "mapbox": {
           "style": "light"
          },
          "paper_bgcolor": "white",
          "plot_bgcolor": "#E5ECF6",
          "polar": {
           "angularaxis": {
            "gridcolor": "white",
            "linecolor": "white",
            "ticks": ""
           },
           "bgcolor": "#E5ECF6",
           "radialaxis": {
            "gridcolor": "white",
            "linecolor": "white",
            "ticks": ""
           }
          },
          "scene": {
           "xaxis": {
            "backgroundcolor": "#E5ECF6",
            "gridcolor": "white",
            "gridwidth": 2,
            "linecolor": "white",
            "showbackground": true,
            "ticks": "",
            "zerolinecolor": "white"
           },
           "yaxis": {
            "backgroundcolor": "#E5ECF6",
            "gridcolor": "white",
            "gridwidth": 2,
            "linecolor": "white",
            "showbackground": true,
            "ticks": "",
            "zerolinecolor": "white"
           },
           "zaxis": {
            "backgroundcolor": "#E5ECF6",
            "gridcolor": "white",
            "gridwidth": 2,
            "linecolor": "white",
            "showbackground": true,
            "ticks": "",
            "zerolinecolor": "white"
           }
          },
          "shapedefaults": {
           "line": {
            "color": "#2a3f5f"
           }
          },
          "ternary": {
           "aaxis": {
            "gridcolor": "white",
            "linecolor": "white",
            "ticks": ""
           },
           "baxis": {
            "gridcolor": "white",
            "linecolor": "white",
            "ticks": ""
           },
           "bgcolor": "#E5ECF6",
           "caxis": {
            "gridcolor": "white",
            "linecolor": "white",
            "ticks": ""
           }
          },
          "title": {
           "x": 0.05
          },
          "xaxis": {
           "automargin": true,
           "gridcolor": "white",
           "linecolor": "white",
           "ticks": "",
           "title": {
            "standoff": 15
           },
           "zerolinecolor": "white",
           "zerolinewidth": 2
          },
          "yaxis": {
           "automargin": true,
           "gridcolor": "white",
           "linecolor": "white",
           "ticks": "",
           "title": {
            "standoff": 15
           },
           "zerolinecolor": "white",
           "zerolinewidth": 2
          }
         }
        },
        "title": {
         "text": "Comparación de Ventas vs. Beneficios"
        },
        "xaxis": {
         "anchor": "y",
         "domain": [
          0,
          1
         ],
         "title": {
          "text": "Ventas"
         }
        },
        "yaxis": {
         "anchor": "x",
         "domain": [
          0,
          1
         ],
         "title": {
          "text": "Beneficios"
         }
        }
       }
      }
     },
     "metadata": {},
     "output_type": "display_data"
    }
   ],
   "source": [
    "# Concatenar los DataFrames df_2021 y df_2023 para crear un DataFrame combinado\n",
    "combined_df = pd.concat([df_2021, df_2023])\n",
    "\n",
    "# Crear un gráfico de dispersión con Plotly Express (px)\n",
    "fig = px.scatter(\n",
    "    combined_df, x='ventas', y='beneficios', \n",
    "    # text='empresa',  # Puedes incluir etiquetas de texto, pero está comentado\n",
    "    title='Comparación de Ventas vs. Beneficios',\n",
    "    labels={'ventas': 'Ventas', 'beneficios': 'Beneficios'},\n",
    "    template='plotly',  # Utilizar el estilo de diseño 'plotly'\n",
    "    hover_data=[\"empresa\"]  # Mostrar información adicional al pasar el mouse sobre los puntos\n",
    ")\n",
    "\n",
    "# Mostrar el gráfico\n",
    "fig.show()\n"
   ]
  },
  {
   "cell_type": "code",
   "execution_count": 23,
   "metadata": {
    "tags": []
   },
   "outputs": [
    {
     "data": {
      "application/vnd.plotly.v1+json": {
       "config": {
        "plotlyServerURL": "https://plot.ly"
       },
       "data": [
        {
         "alignmentgroup": "True",
         "hovertemplate": "Activos=%{x}<extra></extra>",
         "legendgroup": "",
         "marker": {
          "color": "#636efa"
         },
         "name": "",
         "notched": false,
         "offsetgroup": "",
         "orientation": "h",
         "showlegend": false,
         "type": "box",
         "x": [
          354054,
          304137,
          510252,
          321195,
          319616,
          159316,
          203894,
          52148,
          250056,
          873729,
          98253,
          348187,
          80426,
          3689336,
          174894,
          28791,
          252496,
          32630,
          33584,
          132964,
          205171,
          70581,
          201888,
          120112,
          2832182,
          140311,
          70379,
          97447,
          33363,
          153091,
          273869,
          24985,
          4914670,
          39280,
          316481,
          332750,
          87296,
          118109,
          53355,
          95601,
          72548,
          561870,
          25471,
          154229,
          525761,
          66301,
          36185,
          1453814,
          4301700,
          91224,
          132189,
          239790,
          91588,
          76972,
          69052,
          1278548,
          39985,
          150565,
          103233,
          1959543,
          46633,
          19351,
          52627,
          76161,
          97270,
          23822,
          166258,
          71543,
          54918,
          366689,
          64586,
          17884,
          127684,
          37479,
          62408,
          14680,
          321561,
          379268,
          88229,
          2314266,
          82784,
          7763,
          48290,
          63466,
          62948,
          646384,
          118481,
          152136,
          44815,
          4159920,
          148579,
          29968,
          250677,
          97390,
          1308193,
          264210,
          229952,
          66729,
          7974,
          13521,
          140132,
          78324,
          146099,
          1158772,
          176982,
          23305,
          816200,
          1358640,
          191367,
          2984164,
          75480,
          155971,
          64572,
          162153,
          266132,
          20229,
          255050,
          563500,
          3731408,
          24299,
          1302000,
          9870,
          18469,
          47344,
          14598,
          19595,
          33252,
          1736173,
          47234,
          8715,
          50710,
          1357537,
          10491,
          45660,
          32095,
          233578,
          199993,
          44841,
          51248,
          21874,
          54135,
          8962,
          238489,
          349614,
          92051,
          134707,
          5298,
          47414,
          34330,
          231120,
          11169,
          34266,
          83842,
          17691,
          79966,
          109945,
          5024,
          88276,
          15370,
          188215,
          345416,
          60544,
          12537,
          151543,
          553375,
          149907,
          486937,
          5747,
          51456,
          23483,
          235194,
          267654,
          38790,
          35622,
          30814,
          65520,
          56065,
          68407,
          74619,
          4518,
          265116,
          67810,
          49326,
          13560,
          14216,
          51361,
          100860,
          13609,
          6526,
          3044793,
          5067,
          517537,
          207532,
          38768,
          51639,
          14824,
          167282,
          123415,
          20406,
          82793,
          51472,
          474414,
          54748,
          125805,
          50874,
          911229,
          20470,
          4520,
          40271,
          23109,
          124744,
          5088,
          38414,
          294924,
          21694,
          172207,
          64014,
          31513,
          98412,
          70485,
          654631,
          20402,
          50002,
          22549,
          15612,
          12305,
          282007,
          3406542,
          343696,
          62618,
          29016,
          122935,
          15920,
          7337,
          5855,
          621321,
          126200,
          41088,
          951453,
          5922,
          32336,
          48368,
          380459,
          1207231,
          47490,
          69533,
          95905,
          7280,
          4777,
          9487,
          42775,
          159784,
          25759,
          33049,
          30943,
          32512,
          44202,
          18126,
          121972,
          26088,
          150313,
          7078,
          747058,
          27007,
          124967,
          38101,
          104967,
          421602,
          8718,
          413776,
          111545,
          29524,
          130766,
          12409,
          15862,
          1845419,
          761839,
          38438,
          21440,
          3561,
          27934,
          7585,
          30777,
          3954,
          60757,
          15241,
          1125765,
          651916,
          122025,
          29668,
          11752,
          4429,
          31824,
          35077,
          13379,
          795146,
          44469,
          469502,
          42144,
          491909,
          7237,
          23678,
          26219,
          40264,
          118000,
          19847,
          34168,
          7740,
          62534,
          19002,
          32114,
          192713,
          17163,
          38875,
          1226748,
          119000,
          190100,
          20706,
          5355,
          76553,
          23259,
          201271,
          207938,
          183944,
          41369,
          2404,
          51308,
          81467,
          62200,
          28468,
          36214,
          6265,
          15663,
          19336,
          37729,
          9815,
          66136,
          49779,
          11977,
          99830,
          20452,
          24473,
          1146803,
          1160733,
          18695,
          2256817,
          2609,
          267261,
          19691,
          7931,
          389721,
          110290,
          19867,
          24701,
          2271,
          75616,
          61470,
          2733,
          6353,
          14982,
          4830,
          1635771,
          56117,
          15821,
          107761,
          1215667,
          65322,
          17523,
          10353,
          33063,
          11817,
          78728,
          20807,
          2550,
          7880,
          52339,
          13703,
          44924,
          90920,
          11004,
          105975,
          17881,
          2295,
          27105,
          12009,
          286316,
          16545,
          2337,
          129317,
          41424,
          1844718,
          612868,
          10757,
          3815,
          100529,
          24025,
          374273,
          16997,
          137900,
          85034,
          19310,
          20266,
          84017,
          20019,
          45154,
          368749,
          36960,
          6886,
          250210,
          2327,
          16923,
          16576,
          34737,
          1190981,
          86074,
          4185,
          285825,
          47618,
          676136,
          50890,
          655034,
          31111,
          165379,
          66623,
          1848,
          11410,
          179691,
          19823,
          3046,
          19827,
          16670,
          24564,
          30468,
          70904,
          35805,
          19306,
          22490,
          3951,
          12327,
          36076,
          9674,
          2399458,
          18157,
          2691,
          20247,
          306311,
          638128,
          24619,
          512940,
          12420,
          10902,
          28416,
          469633,
          14187,
          22220,
          394503,
          45772,
          76371,
          8013,
          20139,
          46506,
          117000,
          2259,
          3649,
          109133,
          4199,
          19048,
          940722,
          2977,
          60212,
          22624,
          4383,
          12057,
          11959,
          5780,
          34787,
          5310,
          44944,
          17522,
          25093,
          23227,
          4561,
          56274,
          69843,
          13096,
          16870,
          4647,
          2426,
          73506,
          32649,
          46644,
          12273,
          7662,
          27600,
          10649,
          11144,
          65204,
          36573,
          8347,
          42434,
          164086,
          117932,
          8230,
          59086,
          107602,
          3137,
          140592,
          84919,
          266566,
          11205,
          2110528,
          14506,
          18103,
          44503,
          35403,
          27518,
          187426,
          11372,
          24418,
          6915,
          9658,
          16755,
          9488,
          13556,
          6495,
          3878,
          3299,
          14454,
          85158,
          15646,
          5852,
          30775,
          42649,
          9666,
          37475,
          19780,
          114695,
          1741,
          29043,
          2878968,
          226386,
          900748,
          247607,
          132885,
          340920,
          54721,
          9948,
          2354,
          4209,
          13557,
          9130,
          3910,
          5635,
          2454,
          52122,
          2754,
          38058,
          1985,
          59496,
          18557,
          14299,
          4044,
          12305,
          1092864,
          4570,
          9132,
          23434,
          49719,
          13744,
          30552,
          43084,
          23566,
          322991,
          25911,
          135781,
          14160,
          28260,
          326723,
          5941,
          187036,
          9390,
          7487,
          10765,
          668014,
          4375,
          20884,
          161008,
          16133,
          50050,
          47192,
          10876,
          66418,
          82052,
          161803,
          5749,
          155798,
          32484,
          33461,
          14316,
          28391,
          9158,
          34382,
          113267,
          5420,
          392445,
          55685,
          18022,
          38531,
          17575,
          8171,
          46100,
          123302,
          61845,
          10357,
          14104,
          250524,
          57226,
          37927,
          26862,
          10710,
          29353,
          4573,
          64630,
          7562,
          19067,
          6930,
          2815,
          18252,
          73083,
          4771,
          52371,
          5344,
          8351,
          1256257,
          2185,
          16311,
          26865,
          4369,
          11664,
          21707,
          18293,
          34801,
          3934,
          25830,
          4074,
          165883,
          12643,
          12479,
          28605,
          91922,
          23550,
          3837,
          6836,
          40577,
          46217,
          34370,
          49789,
          30891,
          1562,
          29450,
          1657,
          183015,
          34137,
          5601,
          7947,
          19381,
          51649,
          12183,
          35458,
          50896,
          22247,
          34013,
          316885,
          52318,
          115511,
          2671,
          370218,
          2404,
          80989,
          109345,
          1890,
          130060,
          16945,
          18039,
          5375,
          14749,
          20696,
          10705,
          54323,
          3179,
          45496,
          58158,
          129398,
          44375,
          11973,
          308237,
          204680,
          66938,
          11928,
          20287,
          7494,
          27447,
          2576,
          7031,
          62895,
          6694,
          22331,
          7286,
          15793,
          38709,
          189418,
          59998,
          21550,
          19199,
          1148531,
          17979,
          4001,
          40759,
          86281,
          5593,
          31286,
          1969,
          5419,
          911615,
          51020,
          51589,
          9345,
          1621521,
          4331,
          29962,
          42025,
          52583,
          20072,
          16604,
          3883,
          1684,
          81545,
          52663,
          9958,
          44645,
          10875,
          9478,
          4745,
          32640,
          20810,
          20740,
          2721,
          18690,
          23537,
          19165,
          44802,
          12637,
          30209,
          107765,
          552457,
          64002,
          2434,
          45847,
          5677,
          17057,
          30498,
          16052,
          1062759,
          128535,
          25498,
          11195,
          8653,
          19770,
          8790,
          4739,
          10257,
          1973,
          48385,
          95948,
          9053,
          22828,
          70733,
          6855,
          2608,
          351870,
          31276,
          820837,
          52548,
          2254,
          4243,
          20125,
          46522,
          18411,
          12685,
          269002,
          69198,
          13436,
          1767,
          59838,
          10207,
          6261,
          72804,
          9218,
          9612,
          8594,
          18830,
          11886,
          69372,
          38198,
          2794,
          389437,
          11554,
          16123,
          28632,
          5719,
          3475,
          23079,
          106929,
          67154,
          213017,
          1139683,
          770449,
          15751,
          12255,
          7521,
          381768,
          84353,
          33990,
          31718,
          48116,
          22754,
          637708,
          16066,
          170004,
          73577,
          42998,
          6971,
          7815,
          11987,
          38918,
          10883,
          59466,
          9825,
          7041,
          8444,
          32465,
          328415,
          3804,
          15517,
          48719,
          6781,
          3652,
          17996,
          7414,
          25452,
          3035,
          32030,
          58239,
          2350,
          8701,
          3990,
          26310,
          6295,
          18821,
          9901,
          789050,
          9047,
          69174,
          21542,
          16059,
          25552,
          315936,
          7049,
          37068,
          35386,
          18304,
          1788771,
          9862,
          6073,
          3235,
          9172,
          23929,
          53451,
          615564,
          2609,
          155294,
          35440,
          41770,
          9686,
          48317,
          6877,
          5966,
          18180,
          44561,
          190051,
          132739,
          4276,
          50016,
          15584,
          147389,
          2990,
          22777,
          9152,
          7153,
          101734,
          10493,
          26218,
          17371,
          41400,
          70685,
          170336,
          15179,
          38350,
          82655,
          129057,
          39129,
          9622,
          9161,
          97690,
          142601,
          112183,
          7551,
          12135,
          8922,
          7492,
          28298,
          36385,
          7219,
          44464,
          39437,
          44101,
          13768,
          70082,
          60323,
          32626,
          10096,
          34603,
          40709,
          22638,
          3813,
          4248,
          9962,
          5969,
          9396,
          41580,
          187217,
          25819,
          93526,
          8986,
          3513,
          18927,
          17506,
          5125,
          12936,
          18689,
          4928,
          38747,
          9906,
          26363,
          25786,
          12973,
          476439,
          16718,
          11571,
          15924,
          169486,
          16296,
          2840,
          5671,
          38141,
          29666,
          17779,
          7312,
          17468,
          564394,
          8960,
          20680,
          32528,
          5777,
          5936,
          5646,
          6163,
          34087,
          4858,
          68792,
          22858,
          21390,
          3456,
          66027,
          358848,
          781,
          35842,
          10909,
          22105,
          44719,
          79761,
          15920,
          24623,
          53657,
          181879,
          75341,
          6581,
          10451,
          53324,
          5341,
          16978,
          27602,
          7377,
          557152,
          5827,
          89729,
          90481,
          14391,
          11012,
          12768,
          13440,
          22353,
          8686,
          7764,
          17082,
          4890,
          296628,
          27216,
          27647,
          27138,
          14026,
          19599,
          20752,
          121308,
          6961,
          675472,
          22779,
          3757,
          333242,
          232450,
          63444,
          38645,
          12808,
          4414,
          34935,
          79427,
          10474,
          70442,
          123038,
          55505,
          6084,
          7431,
          23842,
          5731,
          5777,
          268999,
          431907,
          53523,
          46294,
          49470,
          5839,
          36903,
          32388,
          16020,
          24659,
          5491,
          17314,
          8564,
          6536,
          61553,
          37547,
          9160,
          26438,
          107496,
          17064,
          41767,
          16533,
          11700,
          27810,
          23821,
          5085,
          49704,
          21328,
          9801,
          321396,
          15094,
          14590,
          25013,
          21931,
          9615,
          24236,
          18614,
          4806,
          16083,
          17126,
          73689,
          8166,
          14094,
          47048,
          57456,
          13977,
          38007,
          137247,
          10253,
          421203,
          606049,
          7511,
          1567,
          16169,
          1867,
          235485,
          59093,
          18454,
          21230,
          31969,
          12285,
          314014,
          24800,
          9130,
          5600,
          12498,
          7960,
          6096,
          31536,
          489185,
          25323,
          35039,
          21916,
          32728,
          4598,
          20350,
          16670,
          10186,
          25701,
          17629,
          58226,
          25081,
          63837,
          23779,
          13192,
          62818,
          9561,
          7479,
          75779,
          21919,
          191972,
          112719,
          18722,
          5848,
          16429,
          275397,
          28836,
          12511,
          27115,
          12205,
          33128,
          37030,
          3644,
          2098,
          14328,
          7359,
          340412,
          52835,
          77721,
          10157,
          219526,
          11443,
          27959,
          3985,
          11730,
          6320,
          62008,
          123465,
          59394,
          18345,
          9101,
          13701,
          26679,
          332665,
          7411,
          12550,
          44095,
          45105,
          19202,
          16605,
          8730,
          11027,
          14780,
          79508,
          27758,
          37735,
          187004,
          24316,
          575264,
          7136,
          123332,
          172441,
          10344,
          29626,
          163137,
          515674,
          16055,
          12361,
          5813,
          1845,
          126704,
          53802,
          7651,
          23626,
          8428,
          15443,
          4661,
          34375,
          4001,
          7088,
          10237,
          8398,
          5144,
          8995,
          5184,
          7872,
          109598,
          74097,
          8493,
          16476,
          20546,
          10495,
          18442,
          309720,
          587903,
          48395,
          8003,
          69785,
          6964,
          12065,
          18715,
          16829,
          6557,
          13126,
          8710,
          14708,
          7280,
          19790,
          9266,
          11840,
          141610,
          69817,
          183488,
          60045,
          352423,
          107480,
          13477,
          11126,
          17775,
          88455,
          17762,
          24264,
          74054,
          13835,
          36504,
          13769,
          135186,
          8878,
          8127,
          31170,
          117386,
          5792,
          40348,
          20611,
          22721,
          78726,
          76413,
          12788,
          16829,
          12106,
          14447,
          22801,
          23677,
          4724,
          17199,
          33864,
          3629,
          18043,
          105764,
          50640,
          55857,
          7497,
          111936,
          153056,
          13425,
          59925,
          32400,
          18769,
          30382,
          49496,
          6524,
          23655,
          12129,
          13694,
          16029,
          10569,
          96344,
          11895,
          5368,
          23756,
          27331,
          24744,
          9447,
          23034,
          29372,
          19893,
          10330,
          135445,
          8504,
          24516,
          27425,
          11981,
          69951,
          44756,
          14700,
          109425,
          51731,
          15297,
          89605,
          65763,
          25004,
          26803,
          40857,
          19192,
          13335,
          9657,
          49607,
          8827,
          49907,
          9648,
          216412,
          21044,
          15248,
          13199,
          102467,
          9326,
          9247,
          3066,
          5596,
          11536,
          29047,
          21967,
          168058,
          423744,
          90179,
          31199,
          20993,
          32572,
          197923,
          31898,
          9496,
          16874,
          98201,
          52261,
          9409,
          10790,
          4176,
          443641,
          38854,
          44889,
          8098,
          206295,
          48134,
          73217,
          43397,
          16848,
          149746,
          122123,
          14323,
          4174,
          126361,
          34098,
          18844,
          26860,
          21116,
          11556,
          63919,
          13862,
          41259,
          14112,
          4440,
          34455,
          173176,
          7773,
          24548,
          27063,
          7552,
          7081,
          14506,
          11037,
          7456,
          32584,
          37378,
          147592,
          6867,
          8107,
          177415,
          12505,
          12153,
          29319,
          88129,
          25105,
          84680,
          12711,
          9182,
          15842,
          101965,
          56764,
          15285,
          13224,
          16777,
          519891,
          13105,
          45680,
          20020,
          313228,
          21845,
          682504,
          70288,
          28062,
          10933,
          14902,
          15995,
          11342,
          15440,
          26468,
          63803,
          41816,
          15337,
          33264,
          7672,
          26319,
          81817,
          24971,
          15668,
          4589,
          12345,
          34810,
          10622,
          7742,
          10557,
          11352,
          81479,
          22352,
          14725,
          54343,
          14316,
          132884,
          15893,
          5123,
          32770,
          33270,
          12915,
          16335,
          83673,
          37956,
          190035,
          27680,
          47591,
          60169,
          37236,
          32742,
          7473,
          75686,
          78831,
          44998,
          11065,
          9902,
          17846,
          110367,
          17054,
          37679,
          23239,
          16146,
          8307,
          33593,
          58374,
          12423,
          25208,
          15863,
          11614,
          12128,
          43256,
          48085,
          10800,
          27210,
          11713,
          17176,
          49958,
          8741,
          17649,
          33448,
          10270,
          53895,
          8927,
          55764,
          178182,
          29802,
          15126,
          80445,
          14444,
          63218,
          14640,
          254104,
          245283,
          74717,
          14494,
          48399,
          23060,
          19559,
          23634,
          3332,
          16954,
          56869,
          10115,
          22179,
          17530,
          9823,
          8839,
          25425,
          296580,
          8296,
          99199,
          32285,
          24428,
          17888,
          21542,
          1978,
          21366,
          5933,
          199420,
          232130,
          12851,
          6370,
          16301,
          158790,
          213168,
          43526,
          7678,
          83258,
          34218,
          63092,
          49030,
          63440,
          16974,
          135115,
          22612,
          31699,
          44377,
          10864,
          7753,
          38803,
          22471,
          16747,
          57999,
          127602,
          620237,
          16688,
          104238,
          96182,
          169140,
          26898,
          13835,
          37495,
          47802,
          14365,
          65707,
          80874,
          84377,
          42391,
          13875,
          94400,
          17164,
          18806,
          62630,
          20252,
          40071,
          10742,
          203059,
          34059,
          12779,
          16573,
          20466,
          13979,
          35041,
          30770,
          54631,
          75098,
          15712,
          95679,
          148729,
          112165,
          24356,
          72142,
          21544,
          13001,
          12765,
          13953,
          43055,
          58115,
          53158,
          12796,
          41746,
          75227,
          13404,
          12026,
          367376,
          16881,
          11194,
          82335,
          54370,
          22357,
          18358,
          78031,
          93807,
          14809,
          7726,
          9454,
          18002,
          7457,
          46671,
          79542,
          12190,
          33484,
          26239,
          24097,
          114062,
          117769,
          68157,
          5412,
          47978,
          10033,
          13463,
          30988,
          19045,
          65926,
          21872,
          332888,
          9328,
          21933,
          42188,
          21957,
          23577,
          15155,
          18989,
          100468,
          60684,
          22065,
          26384,
          122237,
          16532,
          66315,
          58283,
          19672,
          5569,
          56404,
          93838,
          17094,
          14959,
          27106,
          49895,
          32077,
          25557,
          84776,
          114247,
          21647,
          40761,
          163655,
          11060,
          64842,
          25215,
          68795,
          40399,
          77432,
          35505,
          58044,
          78157,
          62319,
          19096,
          66689,
          58107,
          39666,
          76281,
          62290,
          28453,
          67408,
          16892,
          244768,
          27199,
          111264,
          16999,
          83611,
          16617,
          16048,
          91556,
          18578,
          11558,
          59292,
          174665,
          173786,
          34797,
          69788,
          33125,
          12325,
          67614,
          5565,
          12854,
          115909,
          7571,
          45862,
          170681,
          25248,
          16514,
          84990,
          200729,
          65005,
          42553,
          167402,
          7435,
          19216,
          65493,
          16106,
          194505,
          21343,
          23401,
          44515,
          134417,
          29838,
          66340,
          16365,
          45081,
          18579,
          157268,
          49558,
          107938,
          62978,
          8264,
          155062,
          62322,
          40335,
          12760,
          24666,
          78996,
          224748,
          26413,
          17342,
          32797,
          32842,
          10569,
          19917,
          21899,
          16895,
          16618,
          50012,
          51164,
          8590,
          22057,
          20204,
          99656,
          249561,
          96136,
          16506,
          26039,
          20566,
          53085,
          7097,
          19775,
          45358,
          7325,
          20401,
          52920,
          13776,
          31598,
          9138,
          3532,
          22463,
          84609,
          74415,
          16542,
          103556,
          92094,
          116687,
          2737,
          7269,
          57060,
          13421,
          4616,
          36474,
          10247,
          17975,
          35189,
          72920,
          118963,
          74435,
          24449,
          56771,
          57589,
          40245,
          32350,
          60358,
          22532,
          110569,
          60536,
          11996,
          21342,
          7622,
          28754,
          47387,
          263251,
          44541,
          82869,
          11840,
          9013,
          19639,
          21224,
          63579,
          58796,
          15262,
          34605,
          19693,
          101868,
          57754,
          64355,
          113852,
          65499,
          7310,
          9604,
          14448,
          10331,
          30221,
          33321,
          7483,
          288468,
          53093,
          98590,
          36192,
          6568,
          68048,
          28176,
          29197,
          18889,
          72793,
          27381,
          37535,
          12856,
          33852,
          16602,
          94807,
          156303,
          142818,
          43389,
          78611,
          65522,
          29283,
          49799,
          42887,
          8327,
          38054,
          115827,
          3986057,
          29619,
          94039,
          87412,
          29669,
          40465,
          52351,
          63764,
          221686,
          1040,
          99424,
          105165,
          54172,
          36845,
          33057,
          36965,
          70139,
          24426,
          24605,
          41413,
          45972,
          14920,
          22876,
          34185,
          54584,
          1950,
          4037,
          28389,
          7606,
          53467,
          48497,
          31114,
          9846,
          28047,
          35943,
          13359,
          25599,
          44551,
          4500,
          40206,
          105634,
          85718,
          15677,
          93246,
          43711,
          67441,
          29106,
          7490,
          18550,
          63653,
          25214,
          4062,
          69314,
          2060,
          175990,
          26089,
          105088,
          16200,
          39332,
          46382,
          89920,
          116505,
          81503,
          103450,
          4693,
          11477,
          23090,
          11066,
          112291,
          55645,
          39709,
          44338,
          80401,
          10500,
          21485,
          60942,
          79541,
          88618,
          72044,
          109063,
          34230,
          219865,
          2627415,
          80197,
          26944,
          25062,
          95153,
          91545,
          184065,
          93672,
          49622,
          7075,
          16006,
          13975,
          7980,
          56282,
          73669,
          52257,
          8251,
          32021,
          35666,
          156475,
          49135,
          41135,
          85881,
          72997,
          111812,
          58131,
          1079,
          92659,
          13700,
          31801,
          9335,
          121897,
          91186,
          50782,
          11852,
          40987,
          17834,
          2850,
          19327,
          63599,
          27725,
          60838,
          69659,
          69831,
          98412,
          48583,
          51443,
          19642,
          60826,
          50238,
          63710,
          53780,
          35899,
          47674,
          58625,
          51288,
          61582,
          null,
          56928,
          3837,
          87577,
          36306,
          330,
          510,
          332160,
          380088,
          660990,
          369491,
          464378,
          41182,
          948452,
          184491,
          86833,
          143701,
          86755,
          283679,
          369371,
          165723,
          195969,
          227014,
          243197,
          53163,
          3744305,
          119851,
          38936,
          36465,
          146111,
          348805,
          37601,
          255886,
          107796,
          76445,
          97404,
          93042,
          72976,
          134544,
          131620,
          38186,
          95278,
          49994,
          62090,
          96687,
          18633,
          66848,
          3194657,
          254927,
          52014,
          197205,
          94658,
          112241,
          429154,
          6116824,
          102583,
          38294,
          73794,
          95840,
          208500,
          542503,
          290003,
          202124,
          80308,
          85040,
          47727,
          4977476,
          259429,
          26667,
          377716,
          79890,
          165357,
          293032,
          2989696,
          72189,
          29220,
          87824,
          62060,
          67634,
          17480,
          93163,
          49490,
          94281,
          1886400,
          5356862,
          1199904,
          161636,
          135244,
          83054,
          1598486,
          1448660,
          59883,
          153608,
          1458480,
          185303,
          214818,
          88720,
          384580,
          28609,
          45273,
          65968,
          4421763,
          400873,
          91441,
          48362,
          297926,
          94134,
          27202,
          136347,
          88521,
          342619,
          50074,
          54622,
          240749,
          283300,
          19915,
          62024,
          235842,
          91620,
          1445111,
          133637,
          83649,
          307904,
          2023574,
          109040,
          835776,
          164472,
          1538349,
          32563,
          278661,
          35169,
          36830,
          13053,
          190656,
          128266,
          72786,
          46575,
          96744,
          61876,
          41086,
          27959,
          35448,
          62293,
          23345,
          49422,
          121398,
          1139492,
          25206,
          38825,
          52848,
          50235,
          152491,
          66818,
          239330,
          28349,
          64634,
          2455113,
          18974,
          59882,
          34358,
          13614,
          535600,
          79615,
          13754,
          78717,
          36826,
          30060,
          34110,
          179829,
          134756,
          165068,
          130838,
          37613,
          206782,
          52344,
          10964,
          238310,
          184700,
          2845690,
          286001,
          84402,
          142690,
          2966286,
          52711,
          183345,
          32451,
          74521,
          268979,
          16038,
          88147,
          36224,
          54311,
          72451,
          76548,
          32892,
          133641,
          22715,
          22139,
          54394,
          53335,
          19243,
          16966,
          352115,
          633778,
          701247,
          132583,
          15921,
          229907,
          88015,
          31274,
          31290,
          35517,
          44244,
          119522,
          94219,
          34253,
          66520,
          16173,
          54776,
          88244,
          41025,
          40039,
          18851,
          166039,
          28278,
          73168,
          43855,
          10099,
          41478,
          49977,
          15309,
          139686,
          55610,
          184992,
          695198,
          8844,
          858625,
          14201,
          554448,
          87722,
          151550,
          132818,
          39355,
          5647,
          35543,
          27393,
          9065,
          23130,
          1030043,
          35677,
          1053134,
          260024,
          19041,
          12973,
          34574,
          52096,
          85775,
          36514,
          46886,
          24852,
          12566,
          2005655,
          9566,
          21035,
          85627,
          64188,
          1900638,
          11112,
          702091,
          320916,
          5172,
          7053,
          14719,
          754946,
          13163,
          39951,
          73176,
          7066,
          31636,
          74756,
          15861,
          8715,
          8651,
          119842,
          93932,
          52924,
          24863,
          144870,
          171084,
          1004609,
          112270,
          31237,
          13684,
          414234,
          15591,
          102351,
          31200,
          50909,
          24125,
          17508,
          1868956,
          48344,
          1430041,
          39054,
          441404,
          324751,
          28321,
          119859,
          85347,
          90943,
          6832,
          17052,
          653075,
          7722,
          62690,
          154130,
          198675,
          36109,
          15545,
          21252,
          103067,
          5607,
          21113,
          18177,
          8270,
          1037750,
          441284,
          27135,
          80549,
          18976,
          36147,
          115568,
          744226,
          93586,
          259333,
          31939,
          256800,
          28720,
          39169,
          134502,
          8466,
          8490,
          94518,
          12353,
          104243,
          22715,
          682377,
          13486,
          3945,
          5516,
          75494,
          51660,
          5029,
          561777,
          267004,
          29081,
          82144,
          24598,
          45892,
          20928,
          27316,
          87037,
          38908,
          15382,
          182975,
          55667,
          29693,
          20530,
          277077,
          260810,
          51705,
          6155,
          23732,
          1032904,
          561407,
          53755,
          323602,
          417504,
          12412,
          77262,
          30516,
          43420,
          96925,
          7543,
          48326,
          322750,
          51101,
          5866,
          59321,
          108901,
          56241,
          27974,
          18489,
          9438,
          674266,
          21938,
          88078,
          45500,
          394939,
          58802,
          67407,
          803499,
          22573,
          16370,
          163135,
          7882,
          63110,
          24662,
          34604,
          39679,
          102723,
          133866,
          77458,
          42348,
          11622,
          2808,
          17897,
          915458,
          216926,
          41879,
          62260,
          463772,
          10919,
          18716,
          7613,
          44723,
          38494,
          62451,
          203068,
          22702,
          10604,
          251327,
          21490,
          38374,
          60177,
          47687,
          656352,
          5749,
          59316,
          1511118,
          12537,
          60945,
          15211,
          21204,
          31154,
          574354,
          68931,
          37846,
          34826,
          5059,
          1095148,
          32659,
          690966,
          5932,
          82982,
          1908304,
          3543,
          216230,
          31171,
          48936,
          591335,
          21585,
          20937,
          45188,
          17227,
          27755,
          15417,
          40265,
          32637,
          29209,
          17034,
          32246,
          33298,
          14403,
          32194,
          31364,
          62164,
          35507,
          299627,
          9845,
          39344,
          26411,
          375977,
          46152,
          52210,
          2980,
          120107,
          27743,
          22522,
          12274,
          19795,
          44899,
          11366,
          25739,
          3614,
          4957,
          163477,
          23928,
          62804,
          9954,
          24638,
          2313394,
          23022,
          13470,
          128504,
          35409,
          120786,
          6714,
          58766,
          188791,
          7825,
          14388,
          28625,
          471660,
          21378,
          12616,
          89611,
          5704,
          155549,
          425112,
          61078,
          1289673,
          41853,
          23721,
          14077,
          36573,
          12439,
          120799,
          11469,
          17841,
          163589,
          22099,
          51820,
          154236,
          54586,
          33030,
          9761,
          18147,
          209609,
          22902,
          31433,
          17023,
          49409,
          27192,
          357455,
          11811,
          552895,
          15216,
          41907,
          3410,
          13295,
          130584,
          4577,
          13189,
          12652,
          36735,
          860104,
          3232,
          300516,
          10421,
          7754,
          9513,
          4381,
          5290,
          5055,
          18090,
          25958,
          4190,
          8517,
          90103,
          6741,
          166640,
          39901,
          48930,
          42796,
          85490,
          43106,
          15462,
          21053,
          39888,
          9115,
          41208,
          36255,
          1902958,
          31284,
          10373,
          709269,
          10150,
          47904,
          4127,
          36148,
          3288,
          59101,
          8745,
          34646,
          379804,
          21584,
          5957,
          21244,
          2228089,
          5027,
          28286,
          24464,
          164169,
          4804,
          12847,
          35042,
          2107,
          9152,
          240677,
          78854,
          55969,
          21441,
          18572,
          41953,
          42375,
          37605,
          1772,
          32708,
          100479,
          3349,
          18458,
          57011,
          21429,
          48639,
          7567,
          3724,
          129012,
          337715,
          1278629,
          5059,
          8180,
          54105,
          41945,
          23619,
          20775,
          87927,
          17216,
          28822,
          21313,
          9923,
          14834,
          672195,
          49343,
          13656,
          367557,
          3392,
          4345,
          68271,
          8849,
          147142,
          11963,
          6481,
          5995,
          43729,
          58293,
          55850,
          10542,
          6293,
          46158,
          14077,
          8993,
          24537,
          14012,
          380625,
          29917,
          98618,
          18049,
          8448,
          42463,
          7130,
          117015,
          313517,
          31849,
          17412,
          14307,
          118832,
          3734,
          15737,
          21716,
          20175,
          10764,
          4946,
          16063,
          23652,
          10248,
          380270,
          14039,
          71489,
          41474,
          106227,
          210718,
          21345,
          77265,
          14891,
          18731,
          35407,
          6527,
          11584,
          7952,
          3140,
          9646,
          16908,
          20004,
          133061,
          92447,
          39513,
          2949,
          6297,
          12763,
          31906,
          212982,
          12157,
          16915,
          18630,
          27589,
          5901,
          20103,
          7379,
          14995,
          349113,
          2193,
          13205,
          61619,
          8267,
          215167,
          38064,
          11898,
          366627,
          8244,
          36636,
          24629,
          6918,
          42518,
          28291,
          4805,
          17209,
          21030,
          37723,
          9338,
          60681,
          45602,
          12448,
          137973,
          290816,
          5285,
          15805,
          2289,
          1757,
          77254,
          46479,
          58595,
          28052,
          5838,
          5182,
          39428,
          392326,
          13283,
          38800,
          10554,
          12768,
          3134,
          39722,
          62772,
          11698,
          26808,
          11296,
          22526,
          9213,
          43955,
          2644,
          18510,
          16661,
          34558,
          12358,
          70267,
          47756,
          78234,
          3381,
          73134,
          60011,
          78820,
          16580,
          24152,
          1419748,
          67319,
          17371,
          20806,
          5375,
          36912,
          820678,
          65961,
          31441,
          38302,
          43377,
          36678,
          43808,
          94547,
          17564,
          18503,
          16881,
          5818,
          12133,
          54098,
          9449,
          2139,
          31056,
          27575,
          57273,
          26917,
          9911,
          18052,
          10805,
          11599,
          21647,
          7904,
          15730,
          4951,
          14341,
          202956,
          23162,
          13316,
          7726,
          20200,
          36609,
          71850,
          974222,
          7940,
          110303,
          51242,
          4615,
          38312,
          16634,
          2227,
          14429,
          5280,
          69655,
          32870,
          10819,
          26786,
          59756,
          161037,
          125947,
          20139,
          37752,
          2503,
          12705,
          24158,
          11855,
          3706,
          30241,
          30254,
          40566,
          83675,
          6076,
          292813,
          12565,
          13084,
          18160,
          23152,
          23515,
          65313,
          232032,
          18070,
          62446,
          34654,
          7874,
          9745,
          65250,
          4840,
          16821,
          1043726,
          13109,
          33045,
          7790,
          79180,
          52812,
          4498,
          13400,
          10075,
          73619,
          24495,
          20109,
          23615,
          253659,
          67009,
          35858,
          55591,
          79009,
          18238,
          60402,
          58766,
          14192,
          10174,
          36133,
          234898,
          69125,
          33334,
          31386,
          12274,
          10781,
          40195,
          22454,
          8432,
          480840,
          4012,
          5333,
          17315,
          25238,
          23988,
          18669,
          23230,
          11352,
          522995,
          18870,
          189303,
          21789,
          35546,
          23216,
          67879,
          15630,
          24394,
          62182,
          111978,
          3281,
          13371,
          90603,
          13844,
          278527,
          51180,
          15016,
          16935,
          33175,
          552961,
          113177,
          10978,
          23126,
          609054,
          18303,
          347371,
          29768,
          7698,
          17364,
          21585,
          14588,
          21312,
          26680,
          22348,
          208657,
          25337,
          16018,
          14220,
          136535,
          47693,
          30407,
          6507,
          16947,
          8947,
          29719,
          10954,
          5493,
          56944,
          13202,
          464100,
          16466,
          35458,
          14130,
          32703,
          11967,
          106189,
          44393,
          5087,
          24056,
          11069,
          19026,
          35047,
          1586806,
          18639,
          15803,
          26844,
          35425,
          5658,
          12642,
          30297,
          53149,
          16813,
          34746,
          8758,
          43542,
          14723,
          18832,
          132914,
          81554,
          7822,
          132127,
          17287,
          21816,
          20806,
          20112,
          154135,
          24055,
          43807,
          4275,
          6166,
          27789,
          18875,
          17278,
          30312,
          12794,
          12508,
          151108,
          4510,
          146285,
          38363,
          59084,
          7965,
          43817,
          14918,
          6877,
          14831,
          15695,
          47915,
          24493,
          44161,
          9168,
          509663,
          38921,
          251191,
          31098,
          6298,
          13319,
          70417,
          169488,
          12768,
          22266,
          44745,
          5544,
          26178,
          5481,
          110687,
          128499,
          372567,
          114185,
          29646,
          7832,
          22184,
          3383,
          36040,
          22064,
          6256,
          7338,
          363589,
          29686,
          47461,
          36383,
          60354,
          10203,
          26775,
          55925,
          10477,
          89148,
          189070,
          6202,
          11732,
          19940,
          26572,
          557094,
          2738,
          20162,
          42094,
          39153,
          15934,
          312647,
          113224,
          25852,
          24986,
          11387,
          14746,
          8222,
          534507,
          9210,
          20240,
          586322,
          3863,
          7126,
          16008,
          10762,
          60055,
          9039,
          16664,
          23646,
          17940,
          69684,
          7296,
          9710,
          58852,
          139302,
          27110,
          46644,
          13398,
          38058,
          30346,
          285670,
          13396,
          432217,
          524965,
          10642,
          25232,
          13860,
          11116,
          2511,
          516546,
          76560,
          16393,
          10061,
          8354,
          9562,
          19268,
          23127,
          35887,
          18968,
          25072,
          3801,
          75173,
          41515,
          22858,
          23721,
          64670,
          6627,
          222256,
          29086,
          20868,
          3522,
          12959,
          10124,
          12305,
          43288,
          12225,
          15778,
          51985,
          5599,
          26194,
          29160,
          13289,
          44916,
          12111,
          24841,
          231633,
          145635,
          22703,
          61756,
          12618,
          5616,
          41749,
          151356,
          14132,
          22186,
          6346,
          8198,
          28511,
          113210,
          9661,
          6009,
          23328,
          8049,
          5596,
          126873,
          18116,
          9800,
          200255,
          48786,
          198148,
          4345,
          8039,
          34991,
          5430,
          17444,
          8733,
          15841,
          7270,
          28754,
          13499,
          27550,
          20323,
          7500,
          25494,
          21634,
          29331,
          13228,
          29935,
          48959,
          26854,
          9295,
          66153,
          15602,
          123810,
          26272,
          13516,
          188565,
          107853,
          15129,
          3778,
          10624,
          22690,
          135257,
          28456,
          50296,
          11406,
          556792,
          176292,
          7967,
          23032,
          55246,
          17368,
          10570,
          8835,
          27013,
          86794,
          28540,
          11193,
          48854,
          8502,
          55704,
          10648,
          13977,
          31478,
          26553,
          62083,
          2810,
          23771,
          26550,
          50022,
          13132,
          246822,
          138478,
          33384,
          79506,
          25504,
          56561,
          26699,
          52473,
          38630,
          218827,
          15849,
          7115,
          13614,
          45162,
          36063,
          36309,
          56580,
          333443,
          28068,
          358944,
          25047,
          46875,
          27189,
          74721,
          23435,
          9385,
          10609,
          10923,
          15726,
          6609,
          163276,
          4904,
          28876,
          8607,
          7304,
          17117,
          25537,
          126276,
          22042,
          18391,
          21804,
          17652,
          13185,
          30546,
          9460,
          25297,
          61566,
          93325,
          230623,
          14412,
          19567,
          13213,
          97238,
          24115,
          5985,
          20311,
          55710,
          25096,
          24764,
          21898,
          80996,
          13556,
          6350,
          6346,
          30081,
          6295,
          8408,
          74151,
          27488,
          5857,
          23622,
          15776,
          9330,
          16891,
          25917,
          86810,
          28027,
          118110,
          13894,
          86397,
          44006,
          30720,
          6800,
          65929,
          24188,
          12408,
          177003,
          21274,
          7521,
          11822,
          14983,
          33349,
          28356,
          13585,
          8668,
          14396,
          15732,
          10812,
          16717,
          10840,
          11285,
          86832,
          16905,
          41946,
          108406,
          89952,
          8038,
          98189,
          10943,
          98131,
          7926,
          5980,
          69654,
          26719,
          22851,
          16991,
          25663,
          20892,
          100042,
          9202,
          185690,
          7258,
          197519,
          449880,
          5504,
          24742,
          5868,
          33127,
          89789,
          38708,
          249471,
          32433,
          15291,
          29023,
          66786,
          25905,
          26910,
          24625,
          25103,
          12773,
          33820,
          405290,
          2581,
          130462,
          32001,
          55210,
          123939,
          39784,
          16547,
          76424,
          7487,
          20271,
          14939,
          64199,
          43655,
          78780,
          5841,
          50900,
          261500,
          13823,
          42895,
          13048,
          48502,
          14313,
          192227,
          18490,
          23162,
          121381,
          11102,
          26781,
          617532,
          14526,
          31255,
          186915,
          9121,
          31668,
          15056,
          35361,
          15850,
          44448,
          9692,
          36372,
          21327,
          29235,
          8343,
          16533,
          19613,
          106172,
          39417,
          95070,
          14145,
          12104,
          34930,
          60284,
          5535,
          17680,
          24802,
          31075,
          24759,
          14356,
          154893,
          10599,
          10849,
          119469,
          8697,
          399742,
          8507,
          11576,
          10153,
          4663,
          10751,
          182406,
          5494,
          17888,
          18652,
          14325,
          29983,
          9567,
          196165,
          29733,
          19864,
          9419,
          50906,
          67180,
          104374,
          143360,
          28901,
          16864,
          84323,
          57637,
          20540,
          18006,
          105389,
          72762,
          16312,
          250941,
          12018,
          77293,
          115083,
          14404,
          68405,
          335642,
          28210,
          19855,
          13475,
          19976,
          15122,
          29696,
          86359,
          72869,
          8109,
          52033,
          27067,
          163625,
          172849,
          11985,
          45116,
          15330,
          129174,
          13986,
          16533,
          40337,
          81663,
          26260,
          58310,
          17417,
          43215,
          9243,
          138735,
          44871,
          23543,
          16613,
          123754,
          44557,
          89955,
          9793,
          19899,
          198462,
          62626,
          20277,
          84227,
          12257,
          153820,
          13778,
          79679,
          27388,
          14971,
          30504,
          78472,
          51246,
          21235,
          54133,
          18448,
          155705,
          14275,
          15849,
          20954,
          7979,
          39465,
          12308,
          379972,
          69255,
          92578,
          69565,
          150492,
          30915,
          22932,
          15575,
          27395,
          4119,
          13871,
          24070,
          66198,
          18797,
          87353,
          9877,
          67245,
          14563,
          22057,
          38598,
          190355,
          202442,
          14900,
          57002,
          106775,
          58213,
          6882,
          17503,
          20700,
          10795,
          10361,
          10952,
          89937,
          341621,
          25626,
          19311,
          5290,
          67926,
          16421,
          94627,
          229001,
          10782,
          74844,
          32409,
          80729,
          11929,
          69403,
          15835,
          6615,
          101909,
          24150,
          57452,
          15586,
          76710,
          11103,
          15275,
          37829,
          8259,
          7146,
          118409,
          24538,
          43221,
          269961,
          18013,
          56764,
          23282,
          14147,
          28325,
          25472,
          73639,
          34489,
          10063,
          61490,
          21182,
          86938,
          20787,
          86784,
          18365,
          11879,
          99721,
          66111,
          7675,
          92070,
          10189,
          45524,
          13163,
          165452,
          21777,
          10719,
          17361,
          70554,
          33964,
          52946,
          49830,
          77354,
          12937,
          29597,
          6485,
          18254,
          15458,
          25685,
          85312,
          3329,
          32625,
          25316,
          83071,
          114737,
          229216,
          13419,
          26764,
          83366,
          65249,
          18776,
          44924,
          15807,
          8691,
          19540,
          138892,
          9028,
          52960,
          17450,
          12664,
          66473,
          91127,
          17135,
          146258,
          15817,
          11226,
          232460,
          9041,
          13376,
          67676,
          7937,
          8376,
          2195,
          47873,
          208444,
          16163,
          112116,
          13849,
          14085,
          23510,
          53018,
          38532,
          3083,
          13211,
          18472,
          18120,
          7659,
          43508,
          19993,
          10448,
          23633,
          178478,
          14030,
          227364,
          16310,
          114630,
          7312,
          186989,
          24010,
          19013,
          137423,
          96763,
          11466,
          22443,
          10165,
          29651,
          6513,
          157793,
          8183,
          47003,
          111874,
          53427,
          20715,
          53994,
          16021,
          20728,
          18081,
          41785,
          101630,
          13139,
          34811,
          39190,
          61840,
          47476,
          67676,
          17040,
          8020,
          57441,
          162545,
          26091,
          77505,
          80762,
          78739,
          16572,
          52874,
          5227,
          27310,
          28221,
          29396,
          44146,
          12109,
          66558,
          17989,
          64310,
          14543,
          30929,
          28971,
          34385,
          49915,
          29348,
          48922,
          60324,
          16677,
          50241,
          45120,
          15861,
          76784,
          53738,
          15605,
          64702,
          7620,
          44558,
          43889,
          23735,
          19162,
          10832,
          47843,
          100904,
          18466,
          96774,
          68414,
          81902,
          70099,
          19875,
          50037,
          6693,
          15638,
          6006,
          8890,
          113111,
          29103,
          218654,
          88573,
          11402,
          79267,
          51693,
          30903,
          37037,
          21585,
          317963,
          16538,
          591419,
          14754,
          15554,
          7207,
          18397,
          71191,
          62116,
          5800,
          62260,
          11851,
          44124,
          5870,
          23171,
          80749,
          65541,
          11386,
          46125,
          6311,
          6923,
          17395,
          76971,
          14360,
          96679,
          14520,
          51855,
          7923,
          20942,
          61999,
          14173,
          177530,
          83996,
          248397,
          37547,
          47387,
          83266,
          10904,
          71047,
          10585,
          26298,
          22151,
          42104,
          13698,
          69005,
          60961,
          284872,
          227241,
          76983,
          47058,
          128365,
          21129,
          26827,
          17564,
          190851,
          29960,
          22710,
          12836,
          3192,
          10288,
          160670,
          3343,
          15276,
          39161,
          5701,
          105661,
          69416,
          5515,
          33160,
          27992,
          38272,
          43565,
          71037,
          67273,
          9902,
          11369,
          7682,
          18549,
          8340,
          42972,
          114367,
          60690,
          97972,
          60551,
          71636,
          30334,
          9138,
          4208,
          7453,
          15139,
          67412,
          68255,
          17090,
          24940,
          23749,
          49442,
          2433,
          14345,
          45581,
          38150,
          12611,
          2312,
          9884,
          9302,
          13092,
          53167,
          40118,
          50514,
          3007,
          25445,
          54222,
          11625,
          61745,
          11850,
          6652,
          97406,
          98524,
          26005,
          26257,
          80370,
          30356,
          66913,
          6201,
          70311,
          2801,
          21919,
          27578,
          64706,
          51026,
          49367,
          54260,
          25072,
          42422,
          2527,
          70343,
          28994,
          108641,
          7127,
          7635,
          36281,
          21443,
          14294,
          25492,
          88136,
          98531,
          17496,
          67078,
          167003,
          55835,
          109482,
          7486,
          58847,
          90982,
          41159,
          8193,
          76620,
          54820,
          13094,
          31987,
          8023,
          42929,
          10050,
          4102,
          3327,
          74294,
          56572,
          47314,
          77087,
          4551,
          55410,
          20811,
          88241,
          5085,
          100565,
          41938,
          46183,
          35758,
          44122,
          77407,
          5592,
          53167,
          48404,
          121175,
          39349,
          25779,
          72004,
          49550,
          54958,
          92044,
          43485,
          43602,
          74165,
          55700,
          40036,
          53069,
          44303,
          35397,
          18573,
          49934,
          38956,
          1500,
          45644,
          102494,
          49947,
          50828,
          8683,
          1044932,
          48221,
          4317460,
          47579,
          39442,
          48314,
          49264,
          6235,
          102575,
          59695,
          254501,
          3224980,
          1660,
          4160,
          105,
          7527,
          35329
         ],
         "x0": " ",
         "xaxis": "x",
         "y0": " ",
         "yaxis": "y"
        }
       ],
       "layout": {
        "boxmode": "group",
        "legend": {
         "tracegroupgap": 0
        },
        "template": {
         "data": {
          "bar": [
           {
            "error_x": {
             "color": "#2a3f5f"
            },
            "error_y": {
             "color": "#2a3f5f"
            },
            "marker": {
             "line": {
              "color": "#E5ECF6",
              "width": 0.5
             },
             "pattern": {
              "fillmode": "overlay",
              "size": 10,
              "solidity": 0.2
             }
            },
            "type": "bar"
           }
          ],
          "barpolar": [
           {
            "marker": {
             "line": {
              "color": "#E5ECF6",
              "width": 0.5
             },
             "pattern": {
              "fillmode": "overlay",
              "size": 10,
              "solidity": 0.2
             }
            },
            "type": "barpolar"
           }
          ],
          "carpet": [
           {
            "aaxis": {
             "endlinecolor": "#2a3f5f",
             "gridcolor": "white",
             "linecolor": "white",
             "minorgridcolor": "white",
             "startlinecolor": "#2a3f5f"
            },
            "baxis": {
             "endlinecolor": "#2a3f5f",
             "gridcolor": "white",
             "linecolor": "white",
             "minorgridcolor": "white",
             "startlinecolor": "#2a3f5f"
            },
            "type": "carpet"
           }
          ],
          "choropleth": [
           {
            "colorbar": {
             "outlinewidth": 0,
             "ticks": ""
            },
            "type": "choropleth"
           }
          ],
          "contour": [
           {
            "colorbar": {
             "outlinewidth": 0,
             "ticks": ""
            },
            "colorscale": [
             [
              0,
              "#0d0887"
             ],
             [
              0.1111111111111111,
              "#46039f"
             ],
             [
              0.2222222222222222,
              "#7201a8"
             ],
             [
              0.3333333333333333,
              "#9c179e"
             ],
             [
              0.4444444444444444,
              "#bd3786"
             ],
             [
              0.5555555555555556,
              "#d8576b"
             ],
             [
              0.6666666666666666,
              "#ed7953"
             ],
             [
              0.7777777777777778,
              "#fb9f3a"
             ],
             [
              0.8888888888888888,
              "#fdca26"
             ],
             [
              1,
              "#f0f921"
             ]
            ],
            "type": "contour"
           }
          ],
          "contourcarpet": [
           {
            "colorbar": {
             "outlinewidth": 0,
             "ticks": ""
            },
            "type": "contourcarpet"
           }
          ],
          "heatmap": [
           {
            "colorbar": {
             "outlinewidth": 0,
             "ticks": ""
            },
            "colorscale": [
             [
              0,
              "#0d0887"
             ],
             [
              0.1111111111111111,
              "#46039f"
             ],
             [
              0.2222222222222222,
              "#7201a8"
             ],
             [
              0.3333333333333333,
              "#9c179e"
             ],
             [
              0.4444444444444444,
              "#bd3786"
             ],
             [
              0.5555555555555556,
              "#d8576b"
             ],
             [
              0.6666666666666666,
              "#ed7953"
             ],
             [
              0.7777777777777778,
              "#fb9f3a"
             ],
             [
              0.8888888888888888,
              "#fdca26"
             ],
             [
              1,
              "#f0f921"
             ]
            ],
            "type": "heatmap"
           }
          ],
          "heatmapgl": [
           {
            "colorbar": {
             "outlinewidth": 0,
             "ticks": ""
            },
            "colorscale": [
             [
              0,
              "#0d0887"
             ],
             [
              0.1111111111111111,
              "#46039f"
             ],
             [
              0.2222222222222222,
              "#7201a8"
             ],
             [
              0.3333333333333333,
              "#9c179e"
             ],
             [
              0.4444444444444444,
              "#bd3786"
             ],
             [
              0.5555555555555556,
              "#d8576b"
             ],
             [
              0.6666666666666666,
              "#ed7953"
             ],
             [
              0.7777777777777778,
              "#fb9f3a"
             ],
             [
              0.8888888888888888,
              "#fdca26"
             ],
             [
              1,
              "#f0f921"
             ]
            ],
            "type": "heatmapgl"
           }
          ],
          "histogram": [
           {
            "marker": {
             "pattern": {
              "fillmode": "overlay",
              "size": 10,
              "solidity": 0.2
             }
            },
            "type": "histogram"
           }
          ],
          "histogram2d": [
           {
            "colorbar": {
             "outlinewidth": 0,
             "ticks": ""
            },
            "colorscale": [
             [
              0,
              "#0d0887"
             ],
             [
              0.1111111111111111,
              "#46039f"
             ],
             [
              0.2222222222222222,
              "#7201a8"
             ],
             [
              0.3333333333333333,
              "#9c179e"
             ],
             [
              0.4444444444444444,
              "#bd3786"
             ],
             [
              0.5555555555555556,
              "#d8576b"
             ],
             [
              0.6666666666666666,
              "#ed7953"
             ],
             [
              0.7777777777777778,
              "#fb9f3a"
             ],
             [
              0.8888888888888888,
              "#fdca26"
             ],
             [
              1,
              "#f0f921"
             ]
            ],
            "type": "histogram2d"
           }
          ],
          "histogram2dcontour": [
           {
            "colorbar": {
             "outlinewidth": 0,
             "ticks": ""
            },
            "colorscale": [
             [
              0,
              "#0d0887"
             ],
             [
              0.1111111111111111,
              "#46039f"
             ],
             [
              0.2222222222222222,
              "#7201a8"
             ],
             [
              0.3333333333333333,
              "#9c179e"
             ],
             [
              0.4444444444444444,
              "#bd3786"
             ],
             [
              0.5555555555555556,
              "#d8576b"
             ],
             [
              0.6666666666666666,
              "#ed7953"
             ],
             [
              0.7777777777777778,
              "#fb9f3a"
             ],
             [
              0.8888888888888888,
              "#fdca26"
             ],
             [
              1,
              "#f0f921"
             ]
            ],
            "type": "histogram2dcontour"
           }
          ],
          "mesh3d": [
           {
            "colorbar": {
             "outlinewidth": 0,
             "ticks": ""
            },
            "type": "mesh3d"
           }
          ],
          "parcoords": [
           {
            "line": {
             "colorbar": {
              "outlinewidth": 0,
              "ticks": ""
             }
            },
            "type": "parcoords"
           }
          ],
          "pie": [
           {
            "automargin": true,
            "type": "pie"
           }
          ],
          "scatter": [
           {
            "fillpattern": {
             "fillmode": "overlay",
             "size": 10,
             "solidity": 0.2
            },
            "type": "scatter"
           }
          ],
          "scatter3d": [
           {
            "line": {
             "colorbar": {
              "outlinewidth": 0,
              "ticks": ""
             }
            },
            "marker": {
             "colorbar": {
              "outlinewidth": 0,
              "ticks": ""
             }
            },
            "type": "scatter3d"
           }
          ],
          "scattercarpet": [
           {
            "marker": {
             "colorbar": {
              "outlinewidth": 0,
              "ticks": ""
             }
            },
            "type": "scattercarpet"
           }
          ],
          "scattergeo": [
           {
            "marker": {
             "colorbar": {
              "outlinewidth": 0,
              "ticks": ""
             }
            },
            "type": "scattergeo"
           }
          ],
          "scattergl": [
           {
            "marker": {
             "colorbar": {
              "outlinewidth": 0,
              "ticks": ""
             }
            },
            "type": "scattergl"
           }
          ],
          "scattermapbox": [
           {
            "marker": {
             "colorbar": {
              "outlinewidth": 0,
              "ticks": ""
             }
            },
            "type": "scattermapbox"
           }
          ],
          "scatterpolar": [
           {
            "marker": {
             "colorbar": {
              "outlinewidth": 0,
              "ticks": ""
             }
            },
            "type": "scatterpolar"
           }
          ],
          "scatterpolargl": [
           {
            "marker": {
             "colorbar": {
              "outlinewidth": 0,
              "ticks": ""
             }
            },
            "type": "scatterpolargl"
           }
          ],
          "scatterternary": [
           {
            "marker": {
             "colorbar": {
              "outlinewidth": 0,
              "ticks": ""
             }
            },
            "type": "scatterternary"
           }
          ],
          "surface": [
           {
            "colorbar": {
             "outlinewidth": 0,
             "ticks": ""
            },
            "colorscale": [
             [
              0,
              "#0d0887"
             ],
             [
              0.1111111111111111,
              "#46039f"
             ],
             [
              0.2222222222222222,
              "#7201a8"
             ],
             [
              0.3333333333333333,
              "#9c179e"
             ],
             [
              0.4444444444444444,
              "#bd3786"
             ],
             [
              0.5555555555555556,
              "#d8576b"
             ],
             [
              0.6666666666666666,
              "#ed7953"
             ],
             [
              0.7777777777777778,
              "#fb9f3a"
             ],
             [
              0.8888888888888888,
              "#fdca26"
             ],
             [
              1,
              "#f0f921"
             ]
            ],
            "type": "surface"
           }
          ],
          "table": [
           {
            "cells": {
             "fill": {
              "color": "#EBF0F8"
             },
             "line": {
              "color": "white"
             }
            },
            "header": {
             "fill": {
              "color": "#C8D4E3"
             },
             "line": {
              "color": "white"
             }
            },
            "type": "table"
           }
          ]
         },
         "layout": {
          "annotationdefaults": {
           "arrowcolor": "#2a3f5f",
           "arrowhead": 0,
           "arrowwidth": 1
          },
          "autotypenumbers": "strict",
          "coloraxis": {
           "colorbar": {
            "outlinewidth": 0,
            "ticks": ""
           }
          },
          "colorscale": {
           "diverging": [
            [
             0,
             "#8e0152"
            ],
            [
             0.1,
             "#c51b7d"
            ],
            [
             0.2,
             "#de77ae"
            ],
            [
             0.3,
             "#f1b6da"
            ],
            [
             0.4,
             "#fde0ef"
            ],
            [
             0.5,
             "#f7f7f7"
            ],
            [
             0.6,
             "#e6f5d0"
            ],
            [
             0.7,
             "#b8e186"
            ],
            [
             0.8,
             "#7fbc41"
            ],
            [
             0.9,
             "#4d9221"
            ],
            [
             1,
             "#276419"
            ]
           ],
           "sequential": [
            [
             0,
             "#0d0887"
            ],
            [
             0.1111111111111111,
             "#46039f"
            ],
            [
             0.2222222222222222,
             "#7201a8"
            ],
            [
             0.3333333333333333,
             "#9c179e"
            ],
            [
             0.4444444444444444,
             "#bd3786"
            ],
            [
             0.5555555555555556,
             "#d8576b"
            ],
            [
             0.6666666666666666,
             "#ed7953"
            ],
            [
             0.7777777777777778,
             "#fb9f3a"
            ],
            [
             0.8888888888888888,
             "#fdca26"
            ],
            [
             1,
             "#f0f921"
            ]
           ],
           "sequentialminus": [
            [
             0,
             "#0d0887"
            ],
            [
             0.1111111111111111,
             "#46039f"
            ],
            [
             0.2222222222222222,
             "#7201a8"
            ],
            [
             0.3333333333333333,
             "#9c179e"
            ],
            [
             0.4444444444444444,
             "#bd3786"
            ],
            [
             0.5555555555555556,
             "#d8576b"
            ],
            [
             0.6666666666666666,
             "#ed7953"
            ],
            [
             0.7777777777777778,
             "#fb9f3a"
            ],
            [
             0.8888888888888888,
             "#fdca26"
            ],
            [
             1,
             "#f0f921"
            ]
           ]
          },
          "colorway": [
           "#636efa",
           "#EF553B",
           "#00cc96",
           "#ab63fa",
           "#FFA15A",
           "#19d3f3",
           "#FF6692",
           "#B6E880",
           "#FF97FF",
           "#FECB52"
          ],
          "font": {
           "color": "#2a3f5f"
          },
          "geo": {
           "bgcolor": "white",
           "lakecolor": "white",
           "landcolor": "#E5ECF6",
           "showlakes": true,
           "showland": true,
           "subunitcolor": "white"
          },
          "hoverlabel": {
           "align": "left"
          },
          "hovermode": "closest",
          "mapbox": {
           "style": "light"
          },
          "paper_bgcolor": "white",
          "plot_bgcolor": "#E5ECF6",
          "polar": {
           "angularaxis": {
            "gridcolor": "white",
            "linecolor": "white",
            "ticks": ""
           },
           "bgcolor": "#E5ECF6",
           "radialaxis": {
            "gridcolor": "white",
            "linecolor": "white",
            "ticks": ""
           }
          },
          "scene": {
           "xaxis": {
            "backgroundcolor": "#E5ECF6",
            "gridcolor": "white",
            "gridwidth": 2,
            "linecolor": "white",
            "showbackground": true,
            "ticks": "",
            "zerolinecolor": "white"
           },
           "yaxis": {
            "backgroundcolor": "#E5ECF6",
            "gridcolor": "white",
            "gridwidth": 2,
            "linecolor": "white",
            "showbackground": true,
            "ticks": "",
            "zerolinecolor": "white"
           },
           "zaxis": {
            "backgroundcolor": "#E5ECF6",
            "gridcolor": "white",
            "gridwidth": 2,
            "linecolor": "white",
            "showbackground": true,
            "ticks": "",
            "zerolinecolor": "white"
           }
          },
          "shapedefaults": {
           "line": {
            "color": "#2a3f5f"
           }
          },
          "ternary": {
           "aaxis": {
            "gridcolor": "white",
            "linecolor": "white",
            "ticks": ""
           },
           "baxis": {
            "gridcolor": "white",
            "linecolor": "white",
            "ticks": ""
           },
           "bgcolor": "#E5ECF6",
           "caxis": {
            "gridcolor": "white",
            "linecolor": "white",
            "ticks": ""
           }
          },
          "title": {
           "x": 0.05
          },
          "xaxis": {
           "automargin": true,
           "gridcolor": "white",
           "linecolor": "white",
           "ticks": "",
           "title": {
            "standoff": 15
           },
           "zerolinecolor": "white",
           "zerolinewidth": 2
          },
          "yaxis": {
           "automargin": true,
           "gridcolor": "white",
           "linecolor": "white",
           "ticks": "",
           "title": {
            "standoff": 15
           },
           "zerolinecolor": "white",
           "zerolinewidth": 2
          }
         }
        },
        "title": {
         "text": "Distribución de Activos"
        },
        "xaxis": {
         "anchor": "y",
         "domain": [
          0,
          1
         ],
         "title": {
          "text": "Activos"
         }
        },
        "yaxis": {
         "anchor": "x",
         "domain": [
          0,
          1
         ]
        }
       }
      }
     },
     "metadata": {},
     "output_type": "display_data"
    }
   ],
   "source": [
    "# Concatenar los DataFrames df_2021 y df_2023 para crear un DataFrame combinado\n",
    "combined_df = pd.concat([df_2021, df_2023])\n",
    "\n",
    "# Crear un gráfico de caja (box plot) con Plotly Express (px)\n",
    "fig = px.box(\n",
    "    combined_df, x='activos', title='Distribución de Activos',\n",
    "    labels={'activos': 'Activos'}, template='plotly'\n",
    ")\n",
    "\n",
    "fig.update_traces(\n",
    "    boxpoints='all',\n",
    "    jitter=0.3, \n",
    "    pointpos=-1.8,  \n",
    "    marker=dict(size=4),\n",
    "    selector=dict(mode='markers+text', textfont_size=10), \n",
    "    textposition='top center'  \n",
    ")\n",
    "\n",
    "# Mostrar el gráfico\n",
    "fig.show()\n"
   ]
  },
  {
   "cell_type": "code",
   "execution_count": 25,
   "metadata": {
    "tags": []
   },
   "outputs": [
    {
     "data": {
      "application/vnd.plotly.v1+json": {
       "config": {
        "plotlyServerURL": "https://plot.ly"
       },
       "data": [
        {
         "alignmentgroup": "True",
         "hovertemplate": "log_activos=%{x}<extra></extra>",
         "legendgroup": "",
         "marker": {
          "color": "#636efa"
         },
         "name": "",
         "notched": false,
         "offsetgroup": "",
         "orientation": "h",
         "showlegend": false,
         "type": "box",
         "x": [
          12.777204722855387,
          12.625233536767325,
          13.142660000311642,
          12.679803694308427,
          12.67487555419939,
          11.978644930276912,
          12.225355529940279,
          10.86184110878267,
          12.42944017176013,
          13.680525537906563,
          11.49530106361649,
          12.760494970754243,
          11.295092785974596,
          15.120957054025064,
          12.071935355100928,
          10.267818117285737,
          12.439150685987913,
          10.392987389587367,
          10.421805042060415,
          11.797833693872613,
          12.231599056755295,
          11.164516265448528,
          12.215468367170535,
          11.696179919812783,
          14.85655799726753,
          11.851616666438405,
          11.16165020219265,
          11.48706391944388,
          10.415202780486952,
          11.938787794810091,
          12.520405168853133,
          10.126030923778305,
          15.407735167905454,
          10.578470762468402,
          12.665018487168823,
          12.715146736257358,
          11.37705992176308,
          11.67936320588645,
          10.884722973050666,
          11.467938559235831,
          11.192003690737314,
          13.239025785392009,
          10.145295829079494,
          11.946193789873778,
          13.172602015837752,
          11.101960259016467,
          10.496399947300228,
          14.189701005921647,
          15.274520851371241,
          11.421073299337195,
          11.791987995676083,
          12.387518819288175,
          11.425055537713588,
          11.25119699834045,
          11.142615122936439,
          14.061235617005492,
          10.59625966276599,
          11.922150163619541,
          11.544743848356747,
          14.488221840754614,
          10.750063723997085,
          9.870499376709148,
          10.870984575013114,
          11.240604799631146,
          11.485245895863486,
          10.078364802440847,
          12.021296077661107,
          11.178053946515831,
          10.913596442612834,
          12.812269356336515,
          11.075752948017643,
          9.791661737353872,
          11.757313740513716,
          10.53153605509994,
          11.041448751268149,
          9.594241302168507,
          12.680942540276593,
          12.845998358180731,
          11.387690986138546,
          14.654603132592499,
          11.323990084985756,
          8.95712413640568,
          10.784979778867587,
          11.058259608414442,
          11.050064267720755,
          13.379149033407428,
          11.682507889149141,
          11.932530136632112,
          10.710298183791462,
          15.241006401283302,
          11.908872082302208,
          10.30788542468387,
          12.431920536818462,
          11.486478814955245,
          14.08415735363115,
          12.484499520467615,
          12.34562587047319,
          11.10839492002184,
          8.983941527941301,
          9.511999311358759,
          11.850340114523698,
          11.268609348423217,
          11.8920397530884,
          13.962871381658237,
          12.083803311469433,
          10.05642320880684,
          13.612414701953842,
          14.121994757378651,
          12.161948329342922,
          14.908830198581077,
          11.231622999482486,
          11.957425371514706,
          11.07553615927742,
          11.99629561295192,
          12.49174770527869,
          9.914872497402692,
          12.449214883351072,
          13.241922612461968,
          15.132296200285149,
          10.098190476218488,
          14.079412101750652,
          9.197255132427527,
          9.823848929875911,
          10.76519537463999,
          9.588639812011577,
          9.883029710633732,
          10.411870194650978,
          14.367193823615144,
          10.762869251237097,
          9.07280095795412,
          10.833878408789065,
          14.121182586404057,
          9.258273025731485,
          10.728977920083787,
          10.376455533745878,
          12.361271347418983,
          12.206037644917659,
          10.710878178453925,
          10.84443187184894,
          9.99305399589517,
          10.899236205744998,
          9.100748695346088,
          12.382078466653608,
          12.764584967728297,
          11.430098050263268,
          11.810857328383019,
          8.575084669832014,
          10.766672822723178,
          10.443774886451738,
          12.350692335140117,
          9.320897362540826,
          10.441908887892918,
          11.336689354232176,
          9.780811314668615,
          11.289356823317922,
          11.607735519732872,
          8.521981708148035,
          11.38822354896805,
          9.640172836532642,
          12.145340205401553,
          12.752504766725481,
          11.01112565241155,
          9.436439551116026,
          11.928624692042744,
          13.223791170034442,
          11.917770380798913,
          13.095890030246862,
          8.656433258507741,
          10.848482352538639,
          10.064032034093815,
          12.368165984477136,
          12.497450380600569,
          10.565917760434013,
          10.48071870349873,
          10.33572441114172,
          11.090110718526951,
          10.934267010894981,
          11.133230437555632,
          11.220150445452438,
          8.415824697027949,
          12.487922745039029,
          11.124464955677889,
          10.806206604380188,
          9.514879561494386,
          9.562123369834488,
          10.84663440857928,
          11.521488695630715,
          9.518486617560317,
          8.783549477153265,
          14.928943476519803,
          8.53050420547591,
          13.156836299150372,
          12.243040823630162,
          10.565350443056307,
          10.852032479939616,
          9.604002767965195,
          12.027436290032956,
          11.723307938981824,
          9.92358425423525,
          11.324098795736752,
          10.848793249478808,
          13.069835637191428,
          10.910496117331157,
          11.742488368086622,
          10.837107266532058,
          13.722549516771968,
          9.926715678655334,
          8.416267272826277,
          10.603386885918606,
          10.047977431021076,
          11.734018916264722,
          8.534640105019959,
          10.556177255464798,
          12.594472975011746,
          9.984791003600163,
          12.056452520556066,
          11.066857088419516,
          10.358155438089856,
          11.496918026824412,
          11.163155200205026,
          13.391826997092583,
          9.923388214242465,
          10.819818283610305,
          10.023445998049512,
          9.655795128300506,
          9.417760962825156,
          12.549687172307209,
          15.041208258490176,
          12.747512824713757,
          11.044808055692608,
          10.275602680962738,
          11.719411039388294,
          9.675331459398373,
          8.900685318713995,
          8.675051276031818,
          13.339603135577146,
          11.745623229089249,
          10.623471387049634,
          13.76574556880732,
          8.686429508661536,
          10.383936439643403,
          10.786593717019239,
          12.849133697521475,
          14.003839865363856,
          10.768274441543168,
          11.149556739005355,
          11.471113397155788,
          8.892886141190731,
          8.471568013389962,
          9.157677719392877,
          10.663709098760394,
          11.981578182145007,
          10.156539359589003,
          10.405746587635992,
          10.339902081288228,
          10.389364530938154,
          10.696525315910868,
          9.805102650614726,
          11.711546789177635,
          10.169230717469155,
          11.92047506568001,
          8.864746660905409,
          13.523898105009792,
          10.203851370643852,
          11.735804981430304,
          10.547995807489514,
          11.56140129402727,
          12.951817020031054,
          9.073145132798338,
          12.93308004357822,
          11.62218337590675,
          10.292958770889943,
          11.78116474537736,
          9.42617729477462,
          9.671681590643265,
          14.428216909944405,
          13.543490526255495,
          10.55680183259435,
          9.973013615184739,
          8.177796683277778,
          10.237599863865716,
          8.933927891782632,
          10.334522936755823,
          8.282483003730562,
          11.0146375809022,
          9.63174444388585,
          13.933973362525414,
          13.387670998253103,
          11.711981220755348,
          10.29782430285645,
          9.371778717853713,
          8.395929103923198,
          10.367976001093753,
          10.465300924015038,
          9.50144159247362,
          13.586281024574019,
          10.702547596181969,
          13.059427837472287,
          10.648847604543008,
          13.106049019017762,
          8.886962034866128,
          10.072301625971582,
          10.174239617765064,
          10.603213048456196,
          11.678439903447801,
          9.895808141192258,
          10.439044812521303,
          8.954156966583772,
          11.043465687810134,
          9.852299515766695,
          10.37704735110963,
          12.168957314503725,
          9.750511182936638,
          10.568106649481535,
          14.019877323626794,
          11.686878772093667,
          12.15530552847652,
          9.938178792326058,
          8.585785982881848,
          11.245738590389767,
          10.054447432887068,
          12.212407537663042,
          12.244995237326622,
          12.122386642441837,
          10.630287087057917,
          7.784889295655098,
          10.84560196441974,
          11.307953309256124,
          11.03811027872727,
          10.256535928419162,
          10.497201063380588,
          8.742733867330168,
          9.659056522078663,
          9.869723922383319,
          10.538184308498979,
          9.191667106710561,
          11.099468506932512,
          10.815348487330898,
          9.390743422947507,
          11.511224018330472,
          9.92583595619989,
          10.105325748023002,
          13.952488628962817,
          13.964562260071709,
          9.836011387411213,
          14.629465971431344,
          7.866722285136729,
          12.495980988002826,
          9.88791695754517,
          8.97853441008332,
          12.873186377480767,
          11.610868539300192,
          9.896815342768063,
          10.114599007626499,
          7.7279755421055585,
          11.233423179986634,
          11.026304529901054,
          7.913155185928068,
          8.756682421266532,
          9.614604759507829,
          8.482601746646619,
          14.307624810797215,
          10.93519407590941,
          9.669093450449063,
          11.587671090922406,
          14.01080345532064,
          11.087084165109236,
          9.771269582708419,
          9.245031611766112,
          10.406170111359652,
          9.377294451639015,
          11.273754152578821,
          9.943044747534582,
          7.843848638152472,
          8.972083182851925,
          10.865497070055229,
          9.5253700659462,
          10.712727452082927,
          11.417735277966479,
          9.306014122044465,
          11.570958496220838,
          9.791493975575204,
          7.738488122494646,
          10.207473491694438,
          9.393411647660683,
          12.564851374959533,
          9.713839220355712,
          7.756623334538858,
          11.770022033302423,
          10.631615701991318,
          14.42783697824624,
          13.325904857309682,
          9.283311984432006,
          8.246695943718557,
          11.518201522070573,
          10.086850233838494,
          12.832740756639343,
          9.740792136877351,
          11.834284063781393,
          11.35080645549378,
          9.86837837542256,
          9.916699884008263,
          11.33877443830157,
          9.904437101571716,
          10.717834148497918,
          12.817871474768083,
          10.51759152575562,
          8.83724564389847,
          12.430055844241828,
          7.752335163302292,
          9.736428922408086,
          9.71571114505921,
          10.455560680280383,
          13.990287895229498,
          11.362962670364041,
          8.339261982923576,
          12.56313501441017,
          10.770966119998848,
          13.42414951822238,
          10.837421719582878,
          13.392442421667141,
          10.345316733380217,
          12.015995088577505,
          11.106805142255848,
          7.521859252201629,
          9.342245442856122,
          12.098993988044977,
          9.894598158690211,
          8.021584533455107,
          9.894799924138562,
          9.72136597574484,
          10.10903723544929,
          10.324432231492679,
          11.169082128418234,
          10.48584282744104,
          9.86817120740856,
          10.020826044953361,
          8.281723990411392,
          9.41954725755152,
          10.493383103285598,
          9.177197153382929,
          14.690753436480653,
          9.806811440270668,
          7.897668150726906,
          9.915761913411517,
          12.632356204680109,
          13.366294169163277,
          10.111273781529295,
          13.147914158248334,
          9.42706335548747,
          9.296701537624227,
          10.254707645791896,
          13.059706817599425,
          9.560081331311986,
          10.008748063193622,
          12.885382023801888,
          10.731427829437605,
          11.243358321943619,
          8.98882050177807,
          9.910413512606862,
          10.747336615509566,
          11.669929213779893,
          7.7226775164680035,
          8.202208436436448,
          11.600322600878652,
          8.342601680684194,
          9.854717388166698,
          13.754402944526163,
          7.998671361015776,
          11.005626946980394,
          10.0267665686963,
          8.38548870041881,
          9.397400683117311,
          9.389239411968807,
          8.662158961666423,
          10.456999032752055,
          8.577347114235984,
          10.713172549344025,
          9.77121251322631,
          10.13034420176222,
          10.053070674075617,
          8.4252971767117,
          10.937987895736994,
          11.15400514491739,
          9.48006211905097,
          9.733292175540013,
          8.443977129084978,
          7.793999089503996,
          11.205122314522226,
          10.393569506364171,
          10.750299580640224,
          9.415157006597509,
          8.944028325260595,
          10.225571051705241,
          9.273221270015384,
          9.318656515459642,
          11.085276095726181,
          10.507065542233256,
          9.029657471850737,
          10.655705206673062,
          12.008145959605722,
          11.677863466153303,
          9.015541293671115,
          10.986749288699293,
          11.586194513897674,
          8.051022208190679,
          11.853617357735624,
          11.349453139958879,
          12.493377146710893,
          9.324115386235027,
          14.562448711115026,
          9.582317635923358,
          9.803832949375943,
          10.703311881612331,
          10.474551841293858,
          10.222595614987762,
          12.14113937982455,
          9.33890947277089,
          10.103075844228801,
          8.841448244098858,
          9.175541866433488,
          9.726452000171411,
          9.157783121237507,
          9.514584532726943,
          8.7787879291047,
          8.263074835802596,
          8.101374671228582,
          9.578726471842927,
          11.352263633527313,
          9.657970572245025,
          8.674538762140015,
          10.334457951052654,
          10.660759105986097,
          9.17636985240503,
          10.531429322970798,
          9.892426605176704,
          11.650031710188228,
          7.462214939768189,
          10.276532769388181,
          14.872942454562065,
          12.32999678594332,
          13.710980808235963,
          12.419598090798441,
          11.797239371514243,
          12.739403124636233,
          10.91000282698325,
          9.205126804923296,
          7.763871287820222,
          8.344980368770571,
          9.51465829807939,
          9.119320973589014,
          8.271292652979412,
          8.636752426473876,
          7.805474625270857,
          10.861342403487976,
          7.9208096792886,
          10.546866590861953,
          7.59337419312129,
          10.993664362383136,
          9.828602355344339,
          9.567944883732848,
          8.304989580140361,
          9.417760962825156,
          13.904312331237525,
          8.42726848388825,
          9.119540007649686,
          10.061943238228102,
          10.814142432791654,
          9.528357644224037,
          10.327185428905352,
          10.670906977470661,
          10.067560274273285,
          12.6853797380395,
          10.162422867948395,
          11.81879857268343,
          9.558176367247711,
          10.249202656238518,
          12.69686799609062,
          8.689632748355741,
          12.139056390677387,
          9.147400572202308,
          8.920923462230686,
          9.284055409798464,
          13.412064410382998,
          8.383661798791715,
          9.946738594530443,
          11.989209332173115,
          9.688622142666144,
          10.820777784743367,
          10.761979665682912,
          9.294313805752362,
          11.103723383065155,
          11.315108471602027,
          11.994134824843785,
          8.656781205623291,
          11.956315575365915,
          10.3885029394023,
          10.418135860525785,
          9.569133071885917,
          10.253827472516985,
          9.12238309321704,
          10.445288450601439,
          11.637503142455122,
          8.597851094433691,
          12.880151678997306,
          10.9274660898272,
          9.799348512794982,
          10.559218391085642,
          9.774232716678865,
          9.008346579384707,
          10.73856822898474,
          11.722391909621045,
          11.03238653380911,
          9.24541789858888,
          9.554213724077707,
          12.43131000330096,
          10.954763619547943,
          10.543418538488748,
          10.19846792746902,
          9.278933163441794,
          10.287150034683448,
          8.427924723658055,
          11.076433978256942,
          8.930890984450878,
          9.855714371064444,
          8.84361509218395,
          7.942717540573791,
          9.812029942047293,
          11.199351060552498,
          8.470311205516108,
          10.86610828199289,
          8.583729715216482,
          9.03013657115323,
          14.043647222913302,
          7.68937110752969,
          9.69959500581403,
          10.198579603162921,
          8.382289428951436,
          9.36426245424844,
          9.985390068155763,
          9.814273751991298,
          10.457401400981889,
          8.277411998949004,
          10.159291886089886,
          8.31238059678675,
          12.019037999559693,
          9.444858981311897,
          9.431802510507854,
          10.261336806702628,
          11.428695670336413,
          10.066881099444563,
          8.252446090246952,
          8.829958044235482,
          10.610956682603621,
          10.741102974755142,
          10.44493936984388,
          10.815549355080247,
          10.33822015832486,
          7.3537223303996315,
          10.290449189079732,
          7.4127640174265625,
          12.117323395677545,
          10.438137119025118,
          8.630700432209832,
          8.98054977794018,
          9.872048483700748,
          10.852226113276135,
          9.407796816354407,
          10.476104176458326,
          10.837539613988925,
          10.009962447043133,
          10.434498083461216,
          12.66629421101504,
          10.865095759100743,
          11.657121042504365,
          7.890208213109961,
          12.821847300305794,
          7.784889295655098,
          11.30206862196345,
          11.602263300322424,
          7.5443321080536885,
          11.775751161423143,
          9.737728084041152,
          9.800291359707678,
          8.589513852995864,
          9.598930562859502,
          9.937695723865865,
          9.278466201023782,
          10.90270298898443,
          8.064321960910803,
          10.725379688986635,
          10.970918723720663,
          11.770648204978952,
          10.700431526777717,
          9.390409393716844,
          12.638624246576839,
          12.229203062919028,
          11.111522096816735,
          9.386643856444575,
          9.91773556580133,
          8.921857979353632,
          10.220012151347644,
          7.853993087224244,
          8.858084222199162,
          11.049221948272972,
          8.808966881771273,
          10.013731126634887,
          8.89370997756851,
          9.667322082870054,
          10.563827410119956,
          12.151711492177206,
          11.002066507315336,
          9.978131095531895,
          9.862613473326157,
          13.953994292475361,
          9.796959689126295,
          8.294299608857235,
          10.615431953178978,
          11.365364690607462,
          8.629271094821588,
          10.350925992121715,
          7.585281078639126,
          8.597666575566114,
          13.722973030803635,
          10.839972991695802,
          10.851063750449358,
          9.142596719889664,
          14.298875155616969,
          8.373553741214627,
          10.307685191077328,
          10.646019958276817,
          10.870148152571042,
          9.907081088046258,
          9.71739890917293,
          8.264363329731667,
          7.428927194802272,
          11.308910294091017,
          10.871668400664227,
          9.206131527202128,
          10.706497597951318,
          9.294221855956884,
          9.156728602527533,
          8.464846711044029,
          10.393293809078044,
          9.94318891938768,
          9.939819481783518,
          7.908754738783246,
          9.835743900449609,
          10.066328930041957,
          9.860840977814656,
          10.710008060263757,
          9.444384297758681,
          10.315895172210867,
          11.587708209413915,
          13.222130881290987,
          11.066669611853538,
          7.797291273547472,
          10.733065044791472,
          8.644178203170727,
          9.744315955640873,
          10.325416386674958,
          9.683588731386807,
          13.876378914780803,
          11.763956519771329,
          10.146355296698067,
          9.323222529032856,
          9.06566136060674,
          9.891920916164663,
          9.081369990679223,
          8.463581421967588,
          9.235715678307411,
          7.587310506022615,
          10.786945127315043,
          11.471561657028921,
          9.11085147347544,
          10.035743131656599,
          11.166667503947462,
          8.832733591996416,
          7.866338923046544,
          12.77101706818366,
          10.350606309244405,
          13.61807983035537,
          10.869482316589398,
          7.720461694599722,
          8.353025845202325,
          9.909718102286764,
          10.747680597969852,
          9.820703591057207,
          9.448175472033382,
          12.502474093500576,
          11.144727239453994,
          9.505692950732183,
          7.4770384723196965,
          10.999396189629923,
          9.230829038403499,
          8.74209519574531,
          11.195526177730299,
          9.128913373280454,
          9.17076759685636,
          9.058819564334941,
          9.843206621651198,
          9.383116515926606,
          11.147238606870477,
          10.5505384372031,
          7.935229539816907,
          12.872457385382688,
          9.354786976341211,
          9.68800210296374,
          10.262280252445862,
          8.651549243915316,
          8.153349757998892,
          10.046678392127044,
          11.579920341794507,
          11.114743768308323,
          12.269127253713311,
          13.946260711526559,
          13.554728740766397,
          9.664659134301736,
          9.413689295962213,
          8.925454386826402,
          12.852568373246307,
          11.342765653435313,
          10.433821642690162,
          10.364639622058545,
          10.781370041113963,
          10.032496233099662,
          13.365635777308569,
          9.684460516733758,
          12.04357724516735,
          11.206087755878668,
          10.668908881966093,
          8.849513965486398,
          8.963800242855577,
          9.3915780082071,
          10.569212147518101,
          9.294957217696062,
          10.993159999634763,
          9.192685436737461,
          8.859505484519133,
          9.041211408968211,
          10.387917864942587,
          12.702033331522165,
          8.24380842366528,
          9.649691476083484,
          10.793824376721568,
          8.821879862683842,
          8.20303024171486,
          9.797904789961063,
          8.911125383710678,
          10.144549604352683,
          8.017966703493599,
          10.374428242603203,
          10.972310512393486,
          7.762170607138205,
          9.071193240566025,
          8.29154650988391,
          10.177704374034338,
          8.747510946478448,
          9.842728546690564,
          9.200391041122515,
          13.578584969176278,
          9.110188490025742,
          11.14438034846101,
          9.977759796910716,
          9.68402471906149,
          10.148470870454794,
          12.663294940411177,
          8.860641041773876,
          10.520509342706582,
          10.474071540672949,
          9.814874894179525,
          14.397039349825812,
          9.196444266784072,
          8.711607995897575,
          8.081784206935001,
          9.123910643977796,
          10.082846391479316,
          10.88652062535208,
          13.330294199704703,
          7.866722285136729,
          11.953075373490238,
          10.475596404719017,
          10.639933657491222,
          9.178436822963175,
          10.78553874458856,
          8.835937789319836,
          8.693831965074693,
          9.80807736773147,
          10.704614316001061,
          12.155047736176769,
          11.796140073147356,
          8.360773272144936,
          10.820098233221204,
          9.654000025882317,
          11.900830629086979,
          8.003028666384733,
          10.033506533859862,
          9.12172771361958,
          8.875287128108384,
          11.530116842782805,
          9.25846364715791,
          10.174201476757755,
          9.762557428101923,
          10.631036159813405,
          11.165988665301134,
          12.045528235972483,
          9.627668172626858,
          10.554509806795402,
          11.322430597487113,
          11.768009446217336,
          10.574619159038393,
          9.171807422259398,
          9.122710622015209,
          11.489554478646989,
          11.867805799560465,
          11.627886745439637,
          8.929435283803425,
          9.403849118160702,
          9.09627541568821,
          8.921591063563978,
          10.250546409755898,
          10.501911880781186,
          8.88447171813916,
          10.702435151982286,
          10.582459740914768,
          10.694237736914808,
          9.530102337891375,
          11.157421264015834,
          11.007468736193116,
          10.392864795496248,
          9.219894584780995,
          10.451695662489449,
          10.614204477206133,
          10.027385189192366,
          8.246171559857563,
          8.354203562921775,
          9.20653313363323,
          8.69433468816865,
          9.148039345778804,
          10.635374561412004,
          12.140023650868283,
          10.158865933983696,
          11.445994751487438,
          9.103423089630105,
          8.164225652265827,
          9.84834475303892,
          9.770298958292383,
          8.54188580400661,
          9.467769401256943,
          9.835690394470303,
          8.502688505213357,
          10.564808612429621,
          9.200895913148184,
          10.179716790941928,
          10.157586987970783,
          9.470625553571013,
          13.074094977092459,
          9.7242412622591,
          9.356257246876337,
          9.675582684120208,
          12.040525606521209,
          9.698674957906642,
          7.951559331155252,
          8.643120748014027,
          10.549045098003141,
          10.297756887883558,
          9.785773264516571,
          8.897272113133987,
          9.768125914605452,
          13.243507868145961,
          9.100525505968976,
          9.936922328622366,
          10.389856535868129,
          8.661639795781266,
          8.688790784847216,
          8.638702608813434,
          8.726318950962243,
          10.436671358912786,
          8.488382109562117,
          11.138842738090732,
          10.037056444457543,
          9.970678802076451,
          8.147867129923947,
          11.097819028262782,
          12.790654179483344,
          6.660575149839686,
          10.486875669103334,
          9.297343415597757,
          10.003559106260344,
          10.708153746219391,
          11.286789942169964,
          9.675331459398373,
          10.111436244467795,
          10.890367214850572,
          12.111096909793197,
          11.229779754319612,
          8.791941988456118,
          9.254452946594503,
          10.884141790233567,
          8.58316818033977,
          9.739673667297913,
          10.225643512847986,
          8.906122330884303,
          13.230593372166325,
          8.670257567143075,
          11.404549295685257,
          11.412895162895152,
          9.574358290170174,
          9.306740866262498,
          9.45469731968959,
          9.50599061407714,
          10.014715819221838,
          9.069467813094768,
          8.957252944288902,
          9.745780556506093,
          8.494947582468917,
          12.600234107466946,
          10.211560314635642,
          10.227272501968187,
          10.208690238705898,
          9.548668029096856,
          9.88323382350886,
          9.940397906556225,
          11.706088044942058,
          8.848078421168667,
          13.423166984746082,
          10.033594337881343,
          8.231376045573969,
          12.716624231751306,
          12.356430427118731,
          11.05791290602345,
          10.562172679540971,
          9.45782525467655,
          8.392536586816682,
          10.461244470986552,
          11.282593639809035,
          9.256651274839433,
          11.162544955165616,
          11.720248529730895,
          10.924228385766748,
          8.713417653379183,
          8.91341571815747,
          10.079204010277946,
          8.653645314551737,
          8.661639795781266,
          12.502462941104948,
          12.975965566272883,
          10.887866747042812,
          10.742767642044035,
          10.809121704221754,
          8.672314828283538,
          10.516048127536894,
          10.385543262806005,
          9.68159322062235,
          10.112897224395695,
          8.610865667278873,
          9.75927070177572,
          9.055322649709574,
          8.785080636539838,
          11.02765387128589,
          10.53334876052526,
          9.122601457668177,
          10.182557648139346,
          11.585208916555246,
          9.744726260151186,
          10.639861833030173,
          9.713113662551345,
          9.367344120785848,
          10.23315094722801,
          10.078322823556219,
          8.53405030848266,
          10.813840691743529,
          9.96777604241849,
          9.19023970026918,
          12.680429286657388,
          9.622052592844813,
          9.588091641516831,
          10.127150968697189,
          9.995656440007505,
          9.17107965802288,
          10.09559441006488,
          9.831669264745656,
          8.477620416296414,
          9.685518092495647,
          9.748353055586138,
          11.207608813306638,
          9.007734471879521,
          9.553504453886967,
          10.758923636139793,
          10.958774716465864,
          9.545168400484906,
          10.545525632270163,
          11.829537501209392,
          9.235325624670091,
          12.950870181723715,
          13.314716119868422,
          8.924123891686012,
          7.356918242356021,
          9.690851107739814,
          7.532088143541722,
          12.369402496142527,
          10.986867753062814,
          9.8230364281385,
          9.963170554697301,
          10.372521962240313,
          9.41613428495528,
          12.657192849883726,
          10.118598932153073,
          9.119320973589014,
          8.630521876723241,
          9.433323910489028,
          8.982184278838428,
          8.715388097366482,
          10.358885029392502,
          13.10049602001925,
          10.13946835265183,
          10.464217005830303,
          9.994972242658307,
          10.395986259609234,
          8.433376705323127,
          9.920836190870741,
          9.72136597574484,
          9.22876950744455,
          10.154285180632154,
          9.777300552285743,
          10.97208726935817,
          10.129865866360268,
          11.064088238538305,
          10.076558117215898,
          9.487365864239434,
          11.047996935591241,
          9.165447603085447,
          8.919854372191667,
          11.235576488391567,
          9.995109119583352,
          12.165104807041871,
          11.63265327499311,
          9.83745458193169,
          8.673855001429615,
          9.706803344906337,
          12.525968971971173,
          10.269379885524469,
          9.4343635363174,
          10.20784235927516,
          9.40960098282706,
          10.408134125225404,
          10.519483673907658,
          8.200837258379849,
          7.6487397889562425,
          9.569970943740548,
          8.903679332926599,
          12.737911927703944,
          10.87492912887513,
          11.260880770109578,
          9.2259184019395,
          12.299225955507652,
          9.345133468317714,
          10.238494430329037,
          8.290292591224315,
          9.36990494164752,
          8.751474487140904,
          11.035018687961347,
          11.723712994074853,
          10.991948490147863,
          9.817112336789382,
          9.116139576577355,
          9.525224101853109,
          10.19163201806775,
          12.714891256592901,
          8.910720661951359,
          9.43747594455993,
          10.694101676322282,
          10.716748384090739,
          9.86276971925757,
          9.717459133810847,
          9.074520648833648,
          9.308102089758679,
          9.601030194502194,
          11.28361292451049,
          10.231279365915785,
          10.53834332471897,
          12.138885285982285,
          10.098889848868613,
          13.262584344846143,
          8.872907674259846,
          11.72263518508305,
          12.05781042796279,
          9.244161920451694,
          10.296407633141998,
          12.002345617571844,
          13.15323006185902,
          9.683775606523614,
          9.422301633887823,
          8.66785206770135,
          7.520234556474628,
          11.749608936450194,
          10.893065920180103,
          8.942591637231851,
          10.070103079508465,
          9.03931477492408,
          9.644911105223,
          8.446985296372741,
          10.445084834968872,
          8.294299608857235,
          8.866158492284917,
          9.233763886919771,
          9.035748861244139,
          8.545586265917455,
          9.104424146384634,
          8.55333223803211,
          8.971067438732089,
          11.60457440515437,
          11.213130324634646,
          9.04699757378001,
          9.709660055555972,
          9.93042155377621,
          9.258654232254733,
          9.822385951099086,
          12.64342394250066,
          13.284317247285985,
          10.787151781583189,
          8.987571750367046,
          11.153174365942744,
          8.848509300888079,
          9.398063978059133,
          9.83708062033853,
          9.730858867713073,
          8.788288460263619,
          9.482350275033667,
          9.072227069846548,
          9.596146842421163,
          8.892886141190731,
          9.892932038596612,
          9.134107065976593,
          9.379238908437996,
          11.860832079217104,
          11.15363281210484,
          12.119904549243042,
          11.002849560094784,
          12.77258743765672,
          11.585060062729427,
          9.508739807769159,
          9.317039990635239,
          9.785548254671442,
          11.390249227102714,
          9.784816622818449,
          10.096749049368418,
          11.212549835792755,
          9.534956892221027,
          10.505177122607238,
          9.530174967444372,
          11.81440688693344,
          9.09133158539398,
          9.002947130753205,
          10.347211372761382,
          11.67322292883934,
          8.664232934065552,
          10.605297106174726,
          9.933580192843298,
          10.031044885951003,
          11.27372874833377,
          11.243908117747603,
          9.456262510179732,
          9.730858867713073,
          9.401456476451633,
          9.578242059529382,
          10.034559673629849,
          10.072259391783,
          8.460411177317253,
          9.752606521576492,
          10.430107782200759,
          8.19671240721307,
          9.800513076908299,
          11.5689654758529,
          10.832497056818058,
          10.930550132364163,
          8.922258219503062,
          11.625682558378275,
          11.938559146480024,
          9.504873919377065,
          11.000849059302585,
          10.38591370178042,
          9.83996185165625,
          10.321605606767609,
          10.809647137210824,
          8.783242963740905,
          10.071329788065249,
          9.40335455830888,
          9.524713059681009,
          9.68215486062588,
          9.265680467009346,
          11.475680398940316,
          9.383873422737057,
          8.588210678651517,
          10.075590409135751,
          10.21577686808075,
          10.116338314364906,
          9.153452509769135,
          10.044726664228852,
          10.2877971185715,
          9.898123190036978,
          9.242807562113684,
          11.816320932841501,
          9.048291920021784,
          10.107081244605622,
          10.219210285143431,
          9.3910773406399,
          11.155550275917102,
          10.708980792927612,
          9.595602772766828,
          11.602994662059096,
          10.853812493953187,
          9.635412009723266,
          11.403166400977488,
          11.093812649127438,
          10.126791091051704,
          10.196269100532607,
          10.617833444237068,
          9.862248804519531,
          9.498147436616115,
          9.175438319966918,
          10.811887231787512,
          9.085570485020233,
          10.817916552462334,
          9.174505918966966,
          12.284939277282074,
          9.954370762850697,
          9.632203625893982,
          9.487896348128954,
          11.537296074503667,
          9.140561477368266,
          9.132054453577638,
          8.028129059431759,
          8.629807335785372,
          9.353227859524731,
          10.27667048672357,
          9.997296606214185,
          12.032064436899676,
          12.956884778284518,
          11.409551862980347,
          10.348141322001869,
          9.951944327804322,
          10.391208302587023,
          12.19563334515089,
          10.3702985908827,
          9.158625936289503,
          9.733529254725571,
          11.494771677590096,
          10.864005673985291,
          9.149421957006766,
          9.28637505825218,
          8.337109129562474,
          13.002770955796022,
          10.567566310598727,
          10.71194805485153,
          8.999372396592106,
          12.237062462216917,
          10.78174406709235,
          11.201182913422926,
          10.67814559327533,
          9.731987234373756,
          11.916695804435637,
          11.71278401254773,
          9.569621915779866,
          8.336630087637147,
          11.74689816878151,
          10.436994010525176,
          9.843949839819931,
          10.198393470077228,
          9.957786325943507,
          9.354960061586127,
          11.065371935762084,
          9.53690656247793,
          10.627624549782817,
          9.554780778246572,
          8.39840965542627,
          10.447409403791308,
          12.062063697379692,
          8.958411469230219,
          10.108385663508988,
          10.205922760324748,
          8.929567707825337,
          8.865170419651774,
          9.582317635923358,
          9.309008543772885,
          8.916774356365426,
          10.391576649328249,
          10.528837575030249,
          11.902206989137602,
          8.834482608620677,
          9.000483164987708,
          12.086246899961763,
          9.433883843311719,
          9.4053313318708,
          10.285991049006945,
          11.386556929155393,
          10.130822308468806,
          11.346634725248801,
          9.450223039294668,
          9.125000324809168,
          9.670419920024225,
          11.532384896126448,
          10.946657600954428,
          9.634627234324935,
          9.48978863950086,
          9.7277641797704,
          13.161374453200619,
          9.480749115757506,
          10.729415844329893,
          9.90448705286921,
          12.654686638847439,
          9.991727341385536,
          13.433523666829938,
          11.160356366215561,
          10.242171626953942,
          9.299541017434485,
          9.609250711113672,
          9.680031452383618,
          9.336267928573973,
          9.644716823578767,
          10.18369173513195,
          11.063555490170957,
          10.641034320392757,
          9.638023488650779,
          10.412231010097795,
          8.945332616563274,
          10.178046390796494,
          11.31224032495931,
          10.125470430529585,
          9.659375694785721,
          8.431417414394833,
          9.42100640177928,
          10.457659980805484,
          9.270682600982344,
          8.954415331137593,
          9.264544425989694,
          9.337149218839878,
          11.308100597315011,
          10.014671081496743,
          9.597302008519787,
          10.903071089406382,
          9.569133071885917,
          11.797231846182093,
          9.67363403969682,
          8.541495483939203,
          10.39726874169286,
          10.412411369012522,
          9.46614470552994,
          9.70106532403517,
          11.334671623792078,
          10.54418287309365,
          12.154963544704263,
          10.228465409731605,
          10.77039894671221,
          11.004912548498428,
          10.525031314236381,
          10.396413936414287,
          8.91905180393029,
          11.234348481767105,
          11.275061599499308,
          10.714373323320329,
          9.31154225248515,
          9.200492035921368,
          9.789534672460096,
          11.611566455098245,
          9.744140059301994,
          10.536858189059995,
          10.053587180780166,
          9.68942761995496,
          9.02485381183907,
          10.42207299091356,
          10.974625864203484,
          9.427304872213677,
          10.13491668343711,
          9.671744632408455,
          9.359966545931995,
          9.403272107882152,
          10.67489123106184,
          10.780725557146582,
          9.287301413112312,
          10.211339831777291,
          9.368454615069874,
          9.751268339558617,
          10.81893793141259,
          9.075779878580487,
          9.778434403532566,
          10.417747273036401,
          9.236982302922604,
          10.894792988215729,
          9.096835671179361,
          10.92888377887298,
          12.090560778815972,
          10.302330784335405,
          9.624170396415975,
          11.295329000085136,
          9.578034382397348,
          11.054344349710826,
          9.591512787515303,
          12.445498911018278,
          12.41016792495061,
          11.221462922203763,
          9.581490049669227,
          10.787234431334253,
          10.04585479382305,
          9.881190817537517,
          10.07044163219896,
          8.111328003286733,
          9.73825907316835,
          10.948505656182821,
          9.221774749601845,
          10.00690117422521,
          9.77166897791528,
          9.19248185367487,
          9.086929027060949,
          10.14348822091676,
          12.60007227552906,
          9.023528749909364,
          11.504883212576992,
          10.382358005060567,
          10.103485294343026,
          9.791885375954825,
          9.977759796910716,
          7.589841512182657,
          9.969556152505833,
          8.688285266258644,
          12.203168432382784,
          12.355052838541493,
          9.461176908307142,
          8.759354748566208,
          9.69898173460629,
          11.975337853520143,
          12.269835866199994,
          10.681113739674013,
          8.946114375560743,
          11.329699499321853,
          10.440507100384593,
          11.052349257607364,
          10.80018763464528,
          11.05784985630873,
          9.739438040529622,
          11.813881546652548,
          10.026236017795181,
          10.36404041362647,
          10.700476596184611,
          9.293209849798478,
          8.955835144218959,
          10.56625284220999,
          10.019980867971933,
          9.725974416734479,
          10.968181048000611,
          11.756671323751183,
          13.33785694204379,
          9.722445177240553,
          11.554432025121955,
          11.473997508959393,
          12.038482053336214,
          10.199807213383494,
          9.534956892221027,
          10.531962869735489,
          10.77482275860842,
          9.57254997141339,
          11.092960743698262,
          11.300647666966325,
          11.343050131597606,
          10.654691354537883,
          9.537843938614635,
          11.455296352133592,
          9.750569446111415,
          9.841931246837023,
          11.044999675519458,
          9.9160088330898,
          10.598408159645215,
          9.281916570465405,
          12.221251856190275,
          10.435849593832643,
          9.455558477608703,
          9.715530144123544,
          9.9265202516467,
          9.545311482471128,
          10.464274083455889,
          10.334295468316087,
          10.908356766182873,
          11.226549206239156,
          9.662180030594246,
          11.468754117624824,
          11.909881136970952,
          11.627726280447407,
          10.100533504728464,
          11.186391677943483,
          9.977852634491434,
          9.472781556562168,
          9.454462329675584,
          9.543449817892206,
          10.670233647130265,
          10.970179085077808,
          10.88102388984706,
          9.45688790106941,
          10.639358917305852,
          11.22826548805077,
          9.5033084488572,
          9.394826251599515,
          12.814141125731805,
          9.733944008101389,
          9.323133199451306,
          11.318551569652099,
          10.903567810139966,
          10.014894750110258,
          9.817820725779036,
          11.264861462612437,
          11.448994759075541,
          9.602990383037504,
          8.952346543226227,
          9.154193211353181,
          9.79823814181703,
          8.916908467543795,
          10.750878265755231,
          11.284040463026905,
          9.408371222475317,
          10.418822991779948,
          10.175002132575733,
          10.089842630402503,
          11.644497439187695,
          11.676480357672771,
          11.129569146450041,
          8.59637398929068,
          10.778497851489867,
          9.213634938925614,
          9.507700460979235,
          10.341355311751792,
          9.854559878912704,
          11.096288179858814,
          9.99296255896373,
          12.715561376052493,
          9.140775908590273,
          9.995747630961425,
          10.649891099396505,
          9.996841274269336,
          10.068026939534285,
          9.626085789491903,
          9.851615143125416,
          11.517594547818492,
          11.013435350867983,
          10.001747921703648,
          10.18051304479938,
          11.713717062214373,
          9.713053175631623,
          11.102171394928453,
          10.973065734619182,
          9.886951583896028,
          8.624970783589669,
          10.94029535695712,
          11.44932517022726,
          9.746482803725963,
          9.613068404374461,
          10.207510384575961,
          10.817676076318413,
          10.375894541398061,
          10.14866653071095,
          11.347767762854671,
          11.64611805020601,
          9.982622155699856,
          10.615481020892434,
          12.005515832472064,
          9.311090275076326,
          11.07970882053122,
          10.135194334510826,
          11.138886346861916,
          10.606560311167646,
          11.257155410828924,
          10.477428810616194,
          10.968956622610984,
          11.266474903175522,
          11.040021634202795,
          9.857234168018666,
          11.107795300762092,
          10.970041417510348,
          10.588249676561633,
          11.24217916922465,
          11.03955617824819,
          10.25600888214987,
          11.118518984218797,
          9.734595416053834,
          12.408066102121593,
          10.210935486902368,
          11.619661034807589,
          9.74090979777877,
          11.333930369364412,
          9.718181546701214,
          9.683339510201717,
          11.42470608591254,
          9.829733363947467,
          9.355133116877724,
          10.99022966863375,
          12.070625132604812,
          12.065579936209879,
          10.457286455149985,
          11.153217354199793,
          10.408043563288523,
          9.41938499891089,
          11.121570341180405,
          8.624252263709645,
          9.461410325931231,
          11.66056067946226,
          8.932080438103307,
          10.733392166450933,
          12.047551596202045,
          10.1365022236456,
          9.711963784977375,
          11.350288881492672,
          12.209711018616193,
          11.08221946899627,
          10.658505636804035,
          12.028153384397445,
          8.913953858894255,
          9.863498544319764,
          11.089698545683305,
          9.68694715235549,
          12.178213148651094,
          9.968479096043568,
          10.060534035475412,
          10.703581490007771,
          11.80870218716748,
          10.303538027942794,
          11.102548312501044,
          9.702900186935281,
          10.716216150693835,
          9.82978718960617,
          11.965706635420378,
          10.810898979803689,
          11.58931226718867,
          11.050540738037729,
          9.019664010799474,
          11.95158031592271,
          11.040069772455867,
          10.604974857371074,
          9.454070556898781,
          10.113181056125933,
          11.277152497255877,
          12.322735053517855,
          10.181611592175802,
          9.760886583937106,
          10.398092326774568,
          10.399463463051783,
          9.265680467009346,
          9.899328917387269,
          9.99419625266159,
          9.73477299914839,
          9.718241724224926,
          10.82001825561489,
          10.842791438719283,
          9.0583540149783,
          10.001385290812587,
          9.913635883587943,
          11.509479534565928,
          12.427458653269106,
          11.473519134591136,
          9.71147923015263,
          10.167350693127355,
          9.931394505789136,
          10.879649681447674,
          8.867427438524983,
          9.892173792635855,
          10.722341845718807,
          8.899048433885268,
          9.923339198238729,
          10.876536618228892,
          9.530683226667511,
          10.360849106432795,
          9.120196822123217,
          8.16961956172385,
          10.019624790165171,
          11.345795922914771,
          11.217412813403259,
          9.713657880251851,
          11.547867808167792,
          11.430565073541462,
          11.667250415325782,
          7.914617709040679,
          8.891374009484636,
          10.95185862476749,
          9.504575923397805,
          8.437283808187935,
          10.504354956976778,
          9.234740258799718,
          9.796737182589247,
          10.46848881274789,
          11.197118228792599,
          11.686567799376915,
          11.217681540311158,
          10.104344594271097,
          10.946780910947098,
          10.961086856224243,
          10.602741051527834,
          10.384369299929046,
          11.008048777806648,
          10.022691800014604,
          11.613395039451053,
          11.010993508374357,
          9.392328539868899,
          9.96843224117651,
          8.938794081433805,
          10.266532166982538,
          10.766103208463202,
          12.480863228659473,
          10.704165392288106,
          11.325016326677243,
          9.379238908437996,
          9.10642325855641,
          9.885272664115224,
          9.962887895817575,
          11.060038506124684,
          10.981829104361879,
          9.633121357849578,
          10.451753459275963,
          9.888018521632196,
          11.531433136525967,
          10.963947890054659,
          11.072169910083478,
          11.642654638311678,
          11.089790154331226,
          8.896998552743824,
          9.169934957341145,
          9.578311275656766,
          9.242904362849446,
          10.316292325947678,
          10.41394310783523,
          8.920389060080359,
          12.572339440234181,
          10.879800371798126,
          11.498725115569087,
          10.496593378915847,
          8.789964651132264,
          11.127968617493416,
          10.246225830735987,
          10.281821243252258,
          9.84633502103182,
          11.195375075715546,
          10.217604621184988,
          10.533029110007103,
          9.461565907417349,
          10.429753360789997,
          9.71727844901498,
          11.459598525179548,
          11.959551710083334,
          11.869326371364103,
          10.677961231741842,
          11.272266917734749,
          11.090141243091598,
          10.284762421843075,
          10.815750182489847,
          10.666324028690118,
          9.02725852623582,
          10.546761482600346,
          11.65985297756508,
          15.198313079702809,
          10.296171326279559,
          11.451464868824605,
          11.378387851990043,
          10.297858008638679,
          10.608192681929802,
          10.86572631831299,
          11.062944046753538,
          12.309017245211722,
          6.946975992135418,
          11.507148812192774,
          11.563285824309178,
          10.899919448775261,
          10.5144752032011,
          10.405988623155887,
          10.5177267979912,
          11.158234266392649,
          10.103403417731034,
          10.110704953300079,
          10.631350120184527,
          10.73578779448865,
          9.610457873757753,
          10.037843605035206,
          10.439542230347895,
          10.90749607849526,
          7.575584651557793,
          8.30325712085294,
          10.253757025176343,
          8.936692688488204,
          10.886819920140972,
          10.78925721934233,
          10.345413157647068,
          9.194820560318146,
          10.241636953359425,
          10.489689629308009,
          9.499945593989812,
          10.150308567204695,
          10.704389879336146,
          8.411832675758411,
          10.601771517201225,
          11.567735568130148,
          11.358818117537442,
          9.659949949068531,
          11.442996441143666,
          10.685355065655601,
          11.119008420561059,
          10.278699617473272,
          8.921324076511265,
          9.82822506803558,
          11.061201735632105,
          10.135154674791215,
          8.30943074214033,
          11.146402184976681,
          7.630461261783627,
          12.078182454224256,
          10.169269048534572,
          11.562553373372046,
          9.692766521220475,
          10.579793715900047,
          10.744666731915155,
          11.406675665127517,
          11.665689469521858,
          11.30839510836744,
          11.54684368317369,
          8.453827315794417,
          9.348100311680668,
          10.047154902348542,
          9.311632623458054,
          11.628848995039442,
          10.926747505407526,
          10.589333141234551,
          10.699597376153898,
          11.294781892900653,
          9.259130536145614,
          9.975110296209095,
          11.017677871167557,
          11.284027890973322,
          11.3920902762298,
          11.185032322456948,
          11.599680975895595,
          10.44085773152423,
          12.300769000619011,
          14.781511031067245,
          11.292241386671176,
          10.201515917042054,
          10.129108033725231,
          11.46324140139174,
          11.424585933646705,
          12.123044235078758,
          11.44755459752856,
          10.812189562761608,
          8.864322722511439,
          9.680718930926991,
          9.5450252980233,
          8.984693690443855,
          10.938130047199616,
          11.207337365538308,
          10.863929132145572,
          9.018089684104343,
          10.374147216543994,
          10.481953133012459,
          11.960651531792902,
          10.802326890796527,
          10.624614619603031,
          11.360717896079558,
          11.198173623395657,
          11.624574168469136,
          10.970454363368692,
          6.983789965258135,
          11.436681366769085,
          9.525151111816216,
          10.367253014814716,
          9.141526055975824,
          11.710931704830182,
          11.420656655506816,
          10.835297240067954,
          9.380251908693456,
          10.621010222237388,
          9.788862026694824,
          7.955074273262696,
          9.869258360985468,
          11.06035302593416,
          10.230089812218568,
          11.015969872723101,
          11.15136718837624,
          11.153833316230168,
          11.496918026824412,
          10.791028954457627,
          10.848229677584184,
          9.885425409717719,
          11.01577260812488,
          10.824526991432487,
          11.062096815110534,
          10.892656929822856,
          10.488464718935205,
          10.772141454894674,
          10.97891650574858,
          10.845212085667093,
          11.028124899028388,
          null,
          10.949542590465562,
          8.252446090246952,
          11.380273685372714,
          10.499738295850376,
          5.799092654460526,
          6.234410725718371,
          12.713372059519607,
          12.848158083839671,
          13.401493990126344,
          12.819881661834238,
          13.04845415472939,
          10.625756546668091,
          13.76258646085632,
          12.125355960785107,
          11.371742012728488,
          11.875490030985144,
          11.370843333035772,
          12.555598596203119,
          12.819556837980649,
          12.018072998851524,
          12.18571176243822,
          12.332766968570587,
          12.40162709347175,
          10.881117944643455,
          15.135746576936848,
          11.69400458359076,
          10.569674551513291,
          10.504108175418333,
          11.89212188580122,
          12.762268305776605,
          10.534785924769006,
          12.452487311780644,
          11.587995831017206,
          11.244326806994714,
          11.486622556549175,
          11.440806283092204,
          11.197885898951482,
          11.809646562072679,
          11.78767426201011,
          10.55022423527341,
          11.464554213044808,
          10.819658277209706,
          11.036340224358938,
          11.479234236002762,
          9.832689481227412,
          11.110176664356292,
          14.976990284788219,
          12.44873250864639,
          10.859268192096696,
          12.191999075798813,
          11.458025674988566,
          11.62840362421634,
          12.969571107853248,
          15.626553565536781,
          11.538427505982572,
          10.55304850493315,
          11.209032706470465,
          11.470435413349277,
          12.247694320220994,
          13.203948894335378,
          12.577646546736736,
          12.216636649433651,
          11.293624521373468,
          11.350877013015829,
          10.77325255447335,
          15.420433493211224,
          12.466238341069076,
          10.191182124909785,
          12.841897869466013,
          11.288405967476088,
          12.015862051955954,
          12.588037097052743,
          14.910682267957094,
          11.187042958703143,
          10.282608685304691,
          11.38309009078967,
          11.035856938002372,
          11.121866094169665,
          9.768812649209526,
          11.442105926141869,
          10.809525907945932,
          11.454034963697254,
          14.450180808765243,
          15.493888913844334,
          13.997752111558057,
          11.9931021725363,
          11.81483583343264,
          11.327246277638377,
          14.284567489232858,
          14.186149549187002,
          11.000147937478992,
          11.942159181672752,
          14.192905355477347,
          12.129747602104619,
          12.277546436988597,
          11.39324062202425,
          12.859907108704578,
          10.26147663261959,
          10.72046610728666,
          11.09692505494668,
          15.302049043305157,
          12.901399947896637,
          11.423449234541877,
          10.786469660366542,
          12.60460041250284,
          11.452474578061011,
          10.211045778992698,
          11.822958385831463,
          11.390995090983237,
          12.744374321594766,
          10.821257190289682,
          10.90819201098127,
          12.39151017596535,
          12.554261685818608,
          9.899228495615745,
          11.035276685898795,
          12.370917368272796,
          11.425404867440733,
          14.183696693187422,
          11.802882447849973,
          11.334384751770889,
          12.637543325059125,
          14.520375812928368,
          11.599470066370415,
          13.63611591358008,
          12.010495621933769,
          14.246220321381136,
          10.390931953464207,
          12.537751268263742,
          10.467920291739938,
          10.51406800943911,
          9.47677327138879,
          12.158226036072953,
          11.761861511586874,
          11.195278907998974,
          10.748819195469789,
          11.479823593465111,
          11.032887661356556,
          10.623422709852456,
          10.238494430329037,
          10.475822112879326,
          11.039604338912175,
          10.058138107405037,
          10.808150948169304,
          11.70682968300725,
          13.94609310702015,
          10.134837340397437,
          10.566819648016887,
          10.875175147630571,
          10.824467273896415,
          11.934860856894625,
          11.109727784304466,
          12.38559863168866,
          10.25234703516517,
          11.07649586710459,
          14.713683346664716,
          9.850824899952823,
          11.000131238109393,
          10.44459016718639,
          9.518853954007897,
          13.191142892799155,
          11.284957796290527,
          9.529084969879781,
          11.273614421243842,
          10.513959396427165,
          10.310950663306965,
          10.437345875412692,
          12.099761678336352,
          11.811221014681621,
          12.014112789196217,
          11.781715195690182,
          10.535105014302918,
          12.239420377209202,
          10.865592596549575,
          9.302372457422676,
          12.38132762611741,
          12.12648816618733,
          14.86131612689245,
          12.563750586299374,
          11.343346376985751,
          11.86842972392462,
          14.902821223194493,
          10.872579441401411,
          12.119124902879474,
          10.387486538298399,
          11.218836243841805,
          12.502388588622098,
          9.682716185366974,
          11.386761154348415,
          10.497477161562855,
          10.902482063674697,
          11.190665750276072,
          11.245673274029956,
          10.400984746090787,
          11.80291237923228,
          10.030780778193504,
          10.005096038124226,
          10.904009132643543,
          10.884348055059583,
          9.86490263722056,
          9.73896662036768,
          12.77171310576938,
          13.359454014371124,
          13.460615457735026,
          11.794964143386714,
          9.675394271496005,
          12.34543015830862,
          11.385262533480073,
          10.350542360403455,
          10.351053836662928,
          10.477766734079745,
          10.697475048022145,
          11.69125573382771,
          11.453377138739844,
          10.441529431095358,
          11.105257933306865,
          9.69109846411978,
          10.9110074208009,
          11.387860983815653,
          10.621936915958292,
          10.597609258092302,
          9.844321241866913,
          12.019977979503693,
          10.249839396151787,
          11.200513445897837,
          10.688644016385481,
          9.220191688026556,
          10.63291844517332,
          10.819318178577827,
          9.63619616973208,
          11.847152325477335,
          10.92611832018161,
          12.128067859882202,
          13.451951976059215,
          9.087494541977337,
          13.663087551516183,
          9.561067663645012,
          13.225728303196572,
          11.381928002089515,
          11.92867088248595,
          11.796735049008136,
          10.58037831057655,
          8.638879709672837,
          10.478498510076376,
          10.21804278528445,
          9.112176123188952,
          10.048885755225484,
          13.845111106907229,
          10.482261502441474,
          13.867281038480412,
          12.46852921342988,
          9.85434982797458,
          9.470625553571013,
          10.450857233482733,
          10.860843449362212,
          11.359482867726651,
          10.505451027673455,
          10.755474402409464,
          10.120693511183584,
          9.438750032962892,
          14.51148124866521,
          9.165970424240243,
          9.95394299602462,
          11.357755932955975,
          11.06957155631925,
          14.457700177245686,
          9.31578088443418,
          13.461818304236383,
          12.67893468562439,
          8.551014739891748,
          8.86120833720818,
          9.596894455192587,
          13.534401502494449,
          9.485165142425407,
          10.595408982170255,
          11.2006227773362,
          8.86304982791909,
          10.362050991639308,
          11.221984755590194,
          9.67161854490356,
          9.07280095795412,
          9.065430200180375,
          11.693929487530346,
          11.450326395213706,
          10.8766122011623,
          10.121136033568359,
          11.883592067535698,
          12.04990994294196,
          13.820108969047519,
          11.628661963452824,
          10.349358568612542,
          9.523982546097495,
          12.93418631052357,
          9.654449103676551,
          11.536163361437406,
          10.348173373797573,
          10.837795004197082,
          10.091003926207186,
          9.770413198310786,
          14.440890544159512,
          10.786097398041395,
          14.173213673153747,
          10.572700582800442,
          12.997715834838928,
          12.690814013819868,
          10.25135885791871,
          11.694071330910461,
          11.354480578219947,
          11.417988215618697,
          8.829372735468406,
          9.744022777885101,
          13.389447256180905,
          8.951828676824181,
          11.045957224268014,
          11.945551681140765,
          12.19942560280838,
          10.494297420728252,
          9.651494322492853,
          9.964206287570834,
          11.543134541174716,
          8.631771096123673,
          9.957644243488083,
          9.807912337613098,
          9.020389788017736,
          13.852565465915285,
          12.997443938085512,
          10.208579686497504,
          11.296620973878772,
          9.850930301797453,
          10.495349236591386,
          11.657614380290628,
          13.520100031129315,
          11.446636078629007,
          12.465868229144549,
          10.371583112575056,
          12.456052850797944,
          10.26534902316216,
          10.575640896591837,
          11.80933434780195,
          9.04381342108087,
          9.046644279305394,
          11.456545571534024,
          9.421654227536814,
          11.554479991123662,
          10.030780778193504,
          13.433337570019496,
          9.509407389294527,
          8.280204233279974,
          8.615408238913192,
          11.231808461880517,
          10.852439066649831,
          8.522976436171964,
          13.238860252977982,
          12.495018918543577,
          10.277840318951666,
          11.316229083670867,
          10.110420417802356,
          10.734046088919033,
          9.948843254256925,
          10.21522789008098,
          11.374088594584007,
          10.568955163989331,
          9.640953273616999,
          12.117104810469428,
          10.927142790736806,
          10.298666606775793,
          9.929642510012979,
          12.532050724880005,
          12.471547451857822,
          10.853309767619075,
          8.725020038618554,
          10.074579627378533,
          13.84788481057896,
          13.238201411660114,
          10.892191964919329,
          12.687269644617091,
          12.942049404065475,
          9.42641902556827,
          11.254957522501838,
          10.32600641521012,
          10.678675443432283,
          11.48169276253913,
          8.928375259853631,
          10.7857249970854,
          12.68463330870889,
          10.841559345471941,
          8.676928249537397,
          10.990718653830616,
          11.598194491615347,
          10.9374013072653,
          10.23903078633925,
          9.824931239630352,
          9.152499372286332,
          13.421379970790872,
          9.995975571971279,
          11.385978064508427,
          10.725467604939041,
          12.886486601577912,
          10.98193114691371,
          11.11850414907434,
          13.596731219603859,
          10.024509780783578,
          9.70320567036518,
          12.002333357862154,
          8.97233695775495,
          11.052634514578285,
          10.113018876430475,
          10.451724561300265,
          10.58857735946834,
          11.539791324104788,
          11.804594578599465,
          11.257491132957457,
          10.653676473463271,
          9.360655132635051,
          7.940227765145702,
          9.792388380017409,
          13.72717976547416,
          12.287311560539274,
          10.642539786953455,
          11.039074443995599,
          13.047148331131671,
          9.298259670014065,
          9.837134051986107,
          8.937612591306213,
          10.708243189657656,
          10.55825766397507,
          11.042137528235768,
          12.22129617730166,
          10.030208305315284,
          9.268986567408916,
          12.434510159065493,
          9.975342989636555,
          10.555135425918044,
          11.005045498492807,
          10.77241410304393,
          13.39445250938163,
          8.656781205623291,
          10.99063436309496,
          14.228360332183199,
          9.436439551116026,
          11.017727097089937,
          9.629774129311743,
          9.961945122107696,
          10.34669792688655,
          13.261001209943831,
          11.140861283245814,
          10.541280572963995,
          10.458119513239328,
          8.528924114291936,
          13.906400071916824,
          10.39387574756213,
          13.44584589748715,
          8.688116703257823,
          11.326378995789705,
          14.46172544743929,
          8.172729104865471,
          12.28409793496794,
          10.347243454377015,
          10.7982686009224,
          13.29013797166887,
          9.979753907989577,
          9.94927320768526,
          10.71858684384682,
          9.75423319944637,
          10.231171283124262,
          9.643226075660339,
          10.603237884229646,
          10.393201893089193,
          10.282232159944682,
          9.742966625701026,
          10.381149283523685,
          10.413252614104797,
          9.57519179719905,
          10.379535378766175,
          10.353416017350813,
          11.037531333035503,
          10.477485139124067,
          12.610293646724838,
          9.194718991073225,
          10.580098764455974,
          10.181535869019624,
          12.837283250288293,
          10.739695575936725,
          10.863029326404599,
          7.9996785794994505,
          11.696138291132282,
          10.230738835101377,
          10.02224788825697,
          9.415238482949043,
          9.89318465954023,
          10.712170801767405,
          9.338381721857067,
          10.155762630356586,
          8.192570471152173,
          8.508555998020574,
          12.004427586641226,
          10.082804600309784,
          11.047774044695412,
          9.2057297594185,
          10.11204524552192,
          14.654226268254876,
          10.044205559475007,
          9.50822026940441,
          11.763715311237602,
          10.474721304097178,
          11.701775663726883,
          8.81195017753998,
          10.981318735354016,
          12.148395862065785,
          8.965079015408355,
          9.574149804815514,
          10.262035740856541,
          13.064013666015857,
          9.97011763483389,
          9.442721128642875,
          11.403233359284808,
          8.648922962094131,
          11.95471607350409,
          12.960107942600542,
          11.019907014854104,
          14.069899255832153,
          10.641918757936217,
          10.074116010739036,
          9.552297538827965,
          10.507065542233256,
          9.428591977209965,
          11.701883286302893,
          9.347403022364523,
          9.789254458374703,
          12.00511246372645,
          10.003287637613305,
          10.8555314541161,
          11.946239175898132,
          10.907532718597857,
          10.405171518384835,
          9.186150133174966,
          9.806260536775024,
          12.252999169438473,
          10.038979521973285,
          10.355613575443341,
          9.742320649814571,
          10.807887872816934,
          10.210678091375952,
          12.786764759067513,
          9.376786579611847,
          13.222923389058511,
          9.630102784785171,
          10.64320815639566,
          8.134467570277563,
          9.49514330367712,
          11.779771976833871,
          8.428799040653642,
          9.487138427825885,
          9.445570584425539,
          10.511485258054378,
          13.664808591150777,
          8.080856419640986,
          12.613256276132303,
          9.251578279992428,
          8.955964118230874,
          9.160414563206457,
          8.385032287813898,
          8.573573524852344,
          8.528133131454572,
          9.80311457838934,
          10.164235126247704,
          8.340456012916183,
          9.04981944514108,
          11.408708739379522,
          8.815963560853438,
          12.023591075934853,
          10.594156665220533,
          10.798145984283169,
          10.664199919258497,
          11.35615468902028,
          10.671417477539759,
          9.64614067988042,
          9.954798346770556,
          10.59383080576334,
          9.117676687112763,
          10.626387691245421,
          10.498332581805693,
          14.458920075619597,
          10.350862063721502,
          9.246961555431827,
          13.471990141173755,
          9.225228984469933,
          10.776954287219356,
          8.325306029752582,
          10.495376901021846,
          8.098034756176071,
          10.987003123724813,
          9.076237387452702,
          10.452937557838887,
          12.847410609163736,
          9.979707578447536,
          8.692322277628687,
          9.96382978154229,
          14.616654825371521,
          8.522578663692576,
          10.250122261580445,
          10.104957928168844,
          12.008651664023134,
          8.477204183199873,
          9.46086560003161,
          10.464302621047032,
          7.653020413804189,
          9.12172771361958,
          12.391211064573206,
          11.27535332033722,
          10.932553245011482,
          9.973060255888088,
          9.829410349139811,
          10.644305223045162,
          10.65431384468275,
          10.534892299260504,
          7.4798641311650265,
          10.395374975281868,
          11.517704029423202,
          8.116417072794205,
          9.823253159825523,
          10.950999510654109,
          9.972500423823082,
          10.792180957218179,
          8.931551966694522,
          8.222553638396958,
          11.76766070227323,
          12.729957623509797,
          14.06129896811496,
          8.528924114291936,
          9.009447429596793,
          10.898681882005748,
          10.644114515280394,
          10.069806751852576,
          9.94150561972365,
          11.384262203742566,
          9.75359446296151,
          10.268894263398307,
          9.967072494161238,
          9.202610573914242,
          9.604677122296504,
          13.418303755983056,
          10.80655119082919,
          9.521934264474277,
          12.814633687648767,
          8.129174996911793,
          8.376781037699493,
          11.131240358027329,
          9.08805973726735,
          11.89915338589082,
          9.389573832170905,
          8.776630098427717,
          8.698681067461614,
          10.685766776548883,
          10.973237296519136,
          10.930424804497347,
          9.263122557415151,
          8.747193183526933,
          10.73982557268699,
          9.552297538827965,
          9.104201775914515,
          10.107937461403084,
          9.547669384317377,
          12.8495699174463,
          10.306182159681624,
          11.499009079710381,
          9.800845560564248,
          9.041685005946043,
          10.656388387495186,
          8.872066513408342,
          11.670057410690523,
          12.65560886406019,
          10.368761263333154,
          9.764914902672189,
          9.568504206966335,
          11.685466009909078,
          8.225235324101668,
          9.663769906600864,
          9.985804595025341,
          9.91219949313815,
          9.283962511846797,
          8.506334448081361,
          9.684273769557766,
          10.07120295694072,
          9.234837843576571,
          12.84863680571404,
          9.549594449971952,
          11.17729887069272,
          10.632822003857786,
          11.57333359276529,
          12.258276025664033,
          9.968572799192062,
          11.254996350667795,
          9.608512282590205,
          9.837935184295892,
          10.474664819686861,
          8.783702698635217,
          9.357380114625498,
          8.98117874833641,
          8.0519780789023,
          9.174298600628918,
          9.73554216168668,
          9.903687532538795,
          11.798562948674222,
          11.4343907863158,
          10.584385010667155,
          7.989221408815276,
          8.747828608488742,
          9.45430563898269,
          10.370549358860943,
          12.268962934078388,
          9.405660414555793,
          9.735956081214809,
          9.832528463595635,
          10.225172421538154,
          8.682877107057168,
          9.90862433664128,
          8.906393407058367,
          9.61547209118311,
          12.763150931013366,
          7.693025748417888,
          9.488350824731233,
          11.028725543521734,
          9.020026965252676,
          12.2791697497862,
          10.54702423254274,
          9.38412559774785,
          12.812100261430233,
          9.01724094201035,
          10.508786642522878,
          10.111679889397125,
          8.841881989497114,
          10.657682794661007,
          10.25029901185045,
          8.477412321404392,
          9.753187781764911,
          9.953705268696746,
          10.53802526698881,
          9.141847375530883,
          11.013385913221205,
          10.727706854189794,
          9.429315246418172,
          11.834813292823045,
          12.58044604376066,
          8.572627898304338,
          9.668081624649718,
          7.735870319952567,
          7.471363088187097,
          11.254853973354733,
          10.746755876664402,
          10.978404647692702,
          10.241815209656801,
          8.67214355141406,
          8.552946361122055,
          10.58223150278533,
          12.87984840581083,
          9.494240301132503,
          10.566175525611365,
          9.264260213965613,
          9.45469731968959,
          8.050065422915965,
          10.589660469358737,
          11.047264393158612,
          9.36717316600297,
          10.196455629417146,
          9.332203959733024,
          10.022425476607642,
          9.128370809108931,
          10.690921662285279,
          7.880048200971577,
          9.826066405567543,
          9.72082593792907,
          10.450394350873067,
          9.422058905620926,
          11.160057550803,
          10.77385999246528,
          11.267459614651527,
          8.125926802707886,
          11.200048653883892,
          11.00228315773407,
          11.274922050748994,
          9.715952428689286,
          10.092122471386675,
          14.165989949039972,
          11.117197793767795,
          9.762557428101923,
          9.94299668563084,
          8.589513852995864,
          10.516291980413534,
          13.617886106873712,
          11.09681893726207,
          10.355868052653099,
          10.553257393126504,
          10.677684625696235,
          10.50993239925678,
          10.687571728088175,
          11.456852344339435,
          9.773606631681607,
          9.825688160081716,
          9.733944008101389,
          8.668711839055147,
          9.403684292051873,
          10.898552495574508,
          9.153664194782626,
          7.668093709082406,
          10.34354730540879,
          10.224664844121703,
          10.955584587462768,
          10.200513336241043,
          9.201400530406708,
          9.801011760946892,
          9.287764268940986,
          9.358674166481876,
          9.982622155699856,
          8.975124239427704,
          9.663324996052323,
          8.507344855361422,
          9.570877846729212,
          12.220744485762042,
          10.050268283744323,
          9.496721598694915,
          8.952346543226227,
          9.913437883389296,
          10.508049390799949,
          11.18233589150717,
          13.789394482731499,
          8.979668554241181,
          11.61098640342113,
          10.844314787255186,
          8.437067146936952,
          10.553518442022446,
          9.719204072428633,
          7.708410667257367,
          9.576995349297256,
          8.571681376700306,
          11.151309764140326,
          10.400315666658265,
          9.289059126687574,
          10.195634641947068,
          10.998024883162207,
          11.989389431228082,
          11.743616462521295,
          9.910413512606862,
          10.538793733406223,
          7.8252452914317745,
          9.449750895754265,
          10.092370867165224,
          9.380504998499505,
          8.217708406845306,
          10.316953898529778,
          10.317383686122145,
          10.610685556318733,
          11.334695526079527,
          8.712101863715663,
          12.587289458990796,
          9.438670449977693,
          9.479145388658274,
          9.806976652155285,
          10.049836448871265,
          10.065393794379148,
          11.086946376614357,
          12.354630572171319,
          9.802008383586275,
          11.042057462261363,
          10.453168438070792,
          8.971321471503682,
          9.184509611941662,
          11.08598132518494,
          8.484669999710677,
          9.730383384791782,
          13.858307560870859,
          9.48105429619781,
          10.405625547904553,
          8.960596138864794,
          11.279479020660121,
          10.874493716599092,
          8.411388132519262,
          9.503009985939002,
          9.217812386814884,
          11.206658423575341,
          10.106224294072675,
          9.908922755026067,
          10.069637382330217,
          12.443746124328701,
          11.112582217710067,
          10.487321973155373,
          10.925776596632632,
          11.27731704901094,
          9.81126260849361,
          11.008777495957478,
          10.981318735354016,
          9.56043370454936,
          9.22759072538271,
          10.494961854184771,
          12.36690665634937,
          11.143671738824636,
          10.414333176102122,
          10.354117212598666,
          9.415238482949043,
          9.285540604539118,
          10.601497888762061,
          10.019224051018725,
          9.039789270781144,
          13.08328985341819,
          8.297045149081827,
          8.581669210600602,
          9.759328456836522,
          10.136106074212856,
          10.0853089842884,
          9.834619673237327,
          10.053199825764455,
          9.337149218839878,
          13.167327182771915,
          9.845328638362595,
          12.151104184932377,
          9.989160534274278,
          10.478582911319936,
          10.052596975123969,
          11.12548198735986,
          9.656947423415522,
          10.102092479403183,
          11.03782084777865,
          11.626057702411185,
          8.0959035329611,
          9.500843461614666,
          11.414242604065644,
          9.535607204755236,
          12.537270281585696,
          10.84310410971378,
          9.616871578266345,
          9.737137765251871,
          10.409551859200409,
          13.223042753605212,
          11.63670824389531,
          9.303648549109834,
          10.048712804688908,
          13.319662212711826,
          9.814820259819962,
          12.758148652045078,
          10.301189270026459,
          8.948715833843691,
          9.762154376419485,
          9.979753907989577,
          9.58795455192857,
          9.967025573340116,
          10.19166950002956,
          10.01449211057904,
          12.248447034462455,
          10.140021056969097,
          9.681468368883628,
          9.562404703357231,
          11.82433627099607,
          10.772539915583412,
          10.322428124045716,
          8.780633799494984,
          9.737846105993372,
          9.099073559547596,
          10.299541850890105,
          9.301459965343666,
          8.61122983334262,
          10.949823607749973,
          9.488123612248716,
          13.047855325229268,
          9.709052927858371,
          10.476104176458326,
          9.556055475678573,
          10.395222095796468,
          9.389908140573516,
          11.572975804270962,
          10.700837078333384,
          8.534443544822764,
          10.088139724668364,
          9.311903687385623,
          9.853561743766402,
          10.464445296788119,
          14.277233748810021,
          9.833011438731804,
          9.667955074409104,
          10.19779761127813,
          10.47517306455888,
          8.640825751861513,
          9.444779883032243,
          10.318803976694667,
          10.880854568917648,
          9.729907675678929,
          10.455819736453845,
          9.077722847361343,
          10.681481268506191,
          9.597166175865409,
          9.843312829500057,
          11.797457581515898,
          11.309020656509048,
          8.96469555531546,
          11.791518860238673,
          9.757710052922787,
          9.990398924525424,
          9.94299668563084,
          9.909071930830029,
          11.945584120762522,
          10.088098154133554,
          10.687548900946704,
          8.360539381370861,
          8.726805608446096,
          10.232395537922137,
          9.845593574117226,
          9.75718929491883,
          10.319298952698437,
          9.456731590010083,
          9.434123718577732,
          11.92575009192878,
          8.414052432496725,
          11.893312052701855,
          10.554848732404476,
          10.98671543916049,
          8.98281222234415,
          10.687777148916288,
          9.610323816515109,
          8.835937789319836,
          9.604474863741963,
          9.661097469276054,
          10.777183886777863,
          10.106142641423002,
          10.69559732562212,
          9.12347443895452,
          13.141505001972607,
          10.569289229700592,
          12.433968884908865,
          10.344898787417762,
          8.74798740166097,
          9.49694686620103,
          11.162189990267917,
          12.040537406836277,
          9.45469731968959,
          10.010816130288653,
          10.708734985616958,
          8.620471540869739,
          10.172674642351664,
          8.609042845046117,
          11.614461677293079,
          11.763676401185963,
          12.828172166399655,
          11.645575219065693,
          10.297082488073805,
          8.965973184210347,
          10.007126587295614,
          8.12651816878071,
          10.492384711722273,
          10.001702600033083,
          8.741296282225147,
          8.900821604915228,
          12.803779387802527,
          10.29843083318471,
          10.76766360014283,
          10.501856911563934,
          11.007982504362394,
          9.230437073675304,
          10.19522389531595,
          10.931766786358331,
          9.256937657352966,
          11.398053188939807,
          12.149872595841975,
          8.732627099660395,
          9.37007543009734,
          9.900483043515829,
          10.187613308785131,
          13.230489265891674,
          7.914983005848394,
          9.911554923613886,
          10.647660491699117,
          10.575232326835637,
          9.676210469940312,
          12.652830037555198,
          11.637123436413674,
          10.160143246382786,
          10.126070946991774,
          9.340227632810604,
          9.598727138549595,
          9.014568767457824,
          13.18910010571321,
          9.128045129249353,
          9.915416123401402,
          13.281624405700477,
          8.259199362666282,
          8.871505346165781,
          9.68084387626357,
          9.283776690049365,
          11.003016087988591,
          9.109303827798412,
          9.721005982940808,
          10.070949246423059,
          9.794788135612787,
          11.151726015160051,
          8.895081531754167,
          9.18091156128537,
          10.982781096817838,
          11.844399517166623,
          10.20765794249271,
          10.750299580640224,
          9.502860721068213,
          10.546866590861953,
          10.320419992085187,
          12.562592577455165,
          9.502711433914095,
          12.976683055923207,
          13.171086872684773,
          9.272563715156315,
          10.13586830920282,
          9.536762272743895,
          9.316140790862395,
          7.828436359157585,
          13.15491962456355,
          11.245830026126836,
          9.704609693426455,
          9.21642184229205,
          9.03049574505712,
          9.165552189186048,
          9.866200967750112,
          10.048756045127371,
          10.488130391904537,
          9.850508627745242,
          10.129506964595802,
          8.24301946898925,
          11.22754740291353,
          10.633810086696132,
          10.037056444457543,
          10.074116010739036,
          11.077052694440638,
          8.798907492088226,
          12.311585149637171,
          10.278012237737656,
          9.945972164142283,
          8.166784289056151,
          9.469545806435415,
          9.222664121665014,
          9.417760962825156,
          10.675630739322571,
          9.411238314343073,
          9.666371843655035,
          10.85871049441207,
          8.630343289348893,
          10.173285655889348,
          10.280553186122594,
          9.494691904331507,
          10.71254935769243,
          9.401869409521051,
          10.12025079288605,
          12.352909501577294,
          11.888858770472355,
          10.030252353327626,
          11.030946415761818,
          9.442879644930755,
          8.633374945705647,
          10.639430777896337,
          11.927389956875194,
          9.556197008479035,
          10.007216738298604,
          8.75557997214314,
          9.011645501064283,
          10.258045256703726,
          11.636999780072156,
          9.17585244151751,
          8.701013624333928,
          10.057409634808385,
          8.993303139093733,
          8.629807335785372,
          11.750941865107144,
          9.804550804676104,
          9.190137664658664,
          12.207346833407904,
          10.795198665435892,
          12.19676950520403,
          8.376781037699493,
          8.99205997632796,
          10.462846164547514,
          8.599694412927981,
          9.766751028962657,
          9.074864232413733,
          9.670356794688852,
          8.891511570527564,
          10.266532166982538,
          9.510370887608827,
          10.223757814581061,
          9.919508528590306,
          8.922658299524402,
          10.146198409342867,
          9.982021430190235,
          10.286400256173781,
          9.490091074101683,
          10.306783643359452,
          10.798738492141016,
          10.198170064632654,
          9.137231900155545,
          11.099725519988677,
          9.655154390148258,
          11.726503411414738,
          10.176259012252155,
          9.511629447834181,
          12.147198054017041,
          11.588524467842117,
          9.624368710744834,
          8.236950048061455,
          9.270870871716214,
          10.029679577773887,
          11.814931951376826,
          10.256114313628292,
          10.825680830062897,
          9.341894811716484,
          13.229947020083037,
          12.079896990158428,
          8.983063289380366,
          10.044639832292011,
          10.919551218569078,
          9.762384711558127,
          9.265775078864284,
          9.086476384753796,
          10.204073510592933,
          11.371292773835275,
          10.259061891030827,
          9.323043861889268,
          10.796591537434947,
          9.048056708918736,
          10.927807236622384,
          9.273127360074948,
          9.545168400484906,
          10.357044168111546,
          10.186898014636986,
          11.036227478431766,
          7.940939762327791,
          10.076221629305257,
          10.186785026670085,
          10.820218187638668,
          9.482807278621483,
          12.416422708045408,
          11.838466747227022,
          10.415832022271388,
          11.28358776949269,
          10.146590581589942,
          10.943074980753622,
          10.192381390503432,
          10.868054030575173,
          10.561784455660327,
          12.296036742282395,
          9.670861685832426,
          8.869960510523953,
          9.518853954007897,
          10.718011304262587,
          10.493022687972363,
          10.499820923406714,
          10.943410844855558,
          12.717227215187531,
          10.24238541637218,
          12.79092166644495,
          10.128509338862111,
          10.755239763272712,
          10.210567758722892,
          11.221516456110812,
          10.061985910356807,
          9.14686794902061,
          9.269457976459272,
          9.298625936843543,
          9.663070672551461,
          8.796187635470453,
          12.003197299388452,
          8.497806477616047,
          10.270766079259051,
          9.060331104649475,
          8.896177422274805,
          9.747827400695664,
          10.147883659883789,
          11.746225266528812,
          10.000705003251488,
          9.81961669349898,
          9.989848718184172,
          9.778604370389438,
          9.486835098787386,
          10.326989023130391,
          9.154827662045925,
          10.138441090609696,
          11.027865049090265,
          11.443843303782785,
          12.348539621652606,
          9.575816471867984,
          9.881599752778099,
          9.488956472414216,
          11.484916860550916,
          10.090589332503072,
          8.697011617992073,
          9.918917890191485,
          10.92791494301486,
          10.130463749870515,
          10.117146264639123,
          9.99415058743337,
          11.30215504971916,
          9.514584532726943,
          8.756210091886738,
          8.75557997214314,
          10.311649022192036,
          8.747510946478448,
          9.036938912556787,
          11.213858833651809,
          10.221504824783981,
          8.675392806089782,
          10.069933760171793,
          9.666245076842417,
          9.140990293841389,
          9.734536214680345,
          10.162654403026995,
          11.371477101385853,
          10.24092361024682,
          11.679371672605892,
          9.539212371252827,
          11.366708231967094,
          10.692081267240086,
          10.332669187261608,
          8.824677891164198,
          11.096333684390315,
          10.093611921393103,
          9.426096704856375,
          12.083921960564874,
          9.96524094881161,
          8.925454386826402,
          9.377717481384314,
          9.614671504043145,
          10.414783065886715,
          10.252593926974908,
          9.516721521860449,
          9.067393362656249,
          9.574705669198922,
          9.6634521335517,
          9.288411907396338,
          9.72418144470263,
          9.290998274993637,
          9.331229689251636,
          11.371730496303186,
          9.735364715141987,
          10.64413835574004,
          11.593638717009403,
          11.407031473706258,
          8.991935575009146,
          11.494649471774984,
          9.300455261418444,
          11.494058599712154,
          8.97790377375038,
          8.696175846944678,
          11.15129540756609,
          10.193130201800543,
          10.036750159040897,
          9.740439071085758,
          10.1528055448198,
          9.94712158955619,
          11.513345376794916,
          9.127176130715414,
          12.13183389559464,
          8.889859587773016,
          12.193590061227793,
          13.016736159517958,
          8.61323037961318,
          10.116257483422777,
          8.677269139262872,
          10.408103938824375,
          11.405217752355163,
          10.563801576000833,
          12.427097954953265,
          10.386931701960881,
          9.63501969900815,
          10.27584389807654,
          11.10924875672128,
          10.162191279248889,
          10.200253243720951,
          10.11151746604029,
          10.130742639890052,
          9.455088847042777,
          10.428807622452572,
          12.912358139230346,
          7.855932199718614,
          11.77883727560204,
          10.373522431293592,
          10.918899375278091,
          11.727544788063346,
          10.591220100394574,
          9.713960095491844,
          11.244052061949844,
          8.920923462230686,
          9.916946572220285,
          9.611730522042317,
          11.069742913232753,
          10.684073102244907,
          11.274414436524896,
          8.67265729404031,
          10.837618202538614,
          12.474189562487116,
          9.534089150464357,
          10.666510548007066,
          9.476390144300849,
          10.78936031318875,
          9.568923494184217,
          12.166432244320179,
          9.82498532438117,
          10.050268283744323,
          11.706689637945463,
          9.314880551250107,
          10.195447959847472,
          13.333486168003912,
          9.583695426166113,
          10.349934642365913,
          12.138409247045077,
          9.118334726180159,
          10.363061986291324,
          9.61953186182516,
          10.473364796894678,
          9.670924779305427,
          10.70207524555407,
          9.179056081936416,
          10.501554526845803,
          9.967729154597594,
          10.283121900609771,
          9.029178142902074,
          9.713113662551345,
          9.883947890661512,
          11.572815699543293,
          10.581952474309931,
          11.462368741353076,
          9.557116483735667,
          9.401291255468191,
          10.461101337800878,
          11.006822007539567,
          8.618846845142738,
          9.780189336191635,
          10.118679574062718,
          10.344158916378912,
          10.116944338260794,
          9.571923252267498,
          11.950489834938393,
          9.268514936027255,
          9.29182818882245,
          11.69081220247407,
          9.070733417589766,
          12.89857461798813,
          9.048644632975885,
          9.35668926831132,
          9.225524507301223,
          8.44741429680832,
          9.282754052485227,
          12.11399025081819,
          8.611411866655219,
          9.791885375954825,
          9.833708657928211,
          9.56976154158294,
          10.30838583336139,
          9.166074955678168,
          12.186711420801545,
          10.300012819074817,
          9.896664327188002,
          9.150484204822817,
          10.837736073784061,
          11.115130863166284,
          11.555735881268937,
          11.873114228208758,
          10.27163147557801,
          9.73293645134109,
          11.342409941889908,
          10.961920001569505,
          9.930129483482549,
          9.798460314668421,
          11.565413545316687,
          11.194949119884846,
          9.699656312254291,
          12.43297313072209,
          9.394160804893874,
          11.25535867420079,
          11.653408886147387,
          9.575261224768767,
          11.133201200354215,
          12.723800394731596,
          10.247431803996042,
          9.896211143565353,
          9.508591395777199,
          9.902286831959609,
          9.623905916118215,
          10.298767635585927,
          11.366268305126779,
          11.196418587501688,
          9.000729834944558,
          10.85963341166499,
          10.206070552676763,
          12.005332503212202,
          12.060173659970003,
          9.391411146868485,
          10.716992229759807,
          9.63756697186586,
          11.768915611689383,
          9.545812108263812,
          9.713113662551345,
          10.605024440869697,
          11.310356301891627,
          10.175802147856787,
          10.973528884216202,
          9.765202019731785,
          10.673942936186739,
          9.131621787264777,
          11.84032091765647,
          10.711546985327436,
          10.06658381534495,
          9.71794080038648,
          11.726051003140876,
          10.704524547379622,
          11.40706482427072,
          9.189423123720795,
          9.898424758193666,
          12.198352925014955,
          11.04493580632355,
          9.917242517768464,
          11.341270813911494,
          9.413852481341165,
          11.943538366611044,
          9.530828396153142,
          11.285761341978922,
          10.217860240240954,
          9.613870275449836,
          10.3256131015374,
          11.270497152244152,
          10.844392845174202,
          9.963406042747371,
          10.899199260387178,
          9.82271124250884,
          11.95571847034437,
          9.56626503452421,
          9.670861685832426,
          9.950084837912911,
          8.984568369308281,
          10.583169482142504,
          9.418004736441933,
          12.847852844777227,
          11.145550623609198,
          11.435806811413915,
          11.150016846275976,
          11.921665205612051,
          10.33899678199267,
          10.040288594028274,
          9.653422343655654,
          10.218115793972515,
          8.323365694436081,
          9.53755560876329,
          10.088721530777118,
          11.100405529988361,
          9.841452561616595,
          11.377712659563167,
          9.197964100908127,
          11.11609794525765,
          9.58623934448258,
          10.001385290812587,
          10.560955740639056,
          12.156646028867815,
          12.218208704749673,
          9.60911649193355,
          10.950841633920426,
          11.578479095709667,
          10.971863976474273,
          8.836664586357426,
          9.770127573790836,
          9.93788897925346,
          9.286838342948908,
          9.245804036251752,
          9.301277366968284,
          11.406864704198009,
          12.741457214416853,
          10.151362740069521,
          9.868430160720726,
          8.573573524852344,
          11.126174156306165,
          9.706316282491837,
          11.457698126579794,
          12.34148164933907,
          9.285633356011614,
          11.223161226314122,
          10.386191440985094,
          11.298853145343433,
          9.386727689281946,
          11.147685373226313,
          9.66997795897274,
          8.797095076549056,
          11.531835537194869,
          10.092039659080719,
          10.958705095551714,
          9.654128354403506,
          11.247787356953342,
          9.314970621054266,
          9.633972784039797,
          10.540831283230636,
          9.019058793810718,
          8.874308038583354,
          11.681900012056674,
          10.107978215351128,
          10.674081767229582,
          12.506032783102963,
          9.798848998423558,
          10.946657600954428,
          10.055435808808186,
          9.557257866458935,
          10.251500085896208,
          10.14533508864411,
          11.206930055678495,
          10.448395711599277,
          9.216620609933333,
          11.026629838947516,
          9.960907043403614,
          11.372950499907349,
          9.94208307029549,
          11.371177551860013,
          9.818201958253768,
          9.38252741428954,
          11.510131565665834,
          11.099090426517867,
          8.945723572455398,
          11.430304436281892,
          9.229063985974285,
          10.725994938401781,
          9.485165142425407,
          12.01643640152088,
          9.98860964595295,
          9.27977314669152,
          9.761981590241948,
          11.16413365305147,
          10.433056419119254,
          10.877027805210977,
          10.81637249127545,
          11.256147567657031,
          9.467846701917901,
          10.295428283824405,
          8.777247096750544,
          9.812139513076822,
          9.645881947666817,
          10.153662442901368,
          11.35407040353838,
          8.110427237575024,
          10.392834144624995,
          10.139191885895196,
          11.327450942800867,
          11.650397831744673,
          12.342420069414178,
          9.504426892100957,
          10.194812979902707,
          11.330995831364346,
          11.085965999397002,
          9.84033473753086,
          10.712727452082927,
          9.668208158877395,
          9.07004328643746,
          9.880218925596774,
          11.841451931691388,
          9.108086137937427,
          10.87729219061089,
          9.767094927630573,
          9.446518601560848,
          11.10455112915993,
          11.420009416943907,
          9.74887843430871,
          11.893127464452766,
          9.668840589963489,
          9.325987795502144,
          12.356473446197699,
          9.109525066737367,
          9.501217335324483,
          11.122486890878687,
          8.979290649090876,
          9.033125752550372,
          7.693937325509272,
          10.77630695015341,
          12.247425699013652,
          9.690479958409808,
          11.627289328580956,
          9.535968306842717,
          9.552865680310473,
          10.065181141534115,
          10.878386757517054,
          10.559244343877515,
          8.03365842788615,
          9.488805094878353,
          9.824011351034331,
          9.80477157959697,
          8.943636705909594,
          10.68070010821374,
          9.903137491271833,
          9.254165851516213,
          10.070399319380286,
          12.092220623306291,
          9.548953173096507,
          12.334307536420363,
          9.69953369561506,
          11.649464829109055,
          8.897272113133987,
          12.13880507057714,
          10.086225689215299,
          9.852878234709586,
          11.8308190392302,
          11.480019968790666,
          9.347141413468329,
          10.018734040540515,
          9.226705726062447,
          10.297251130669952,
          8.781555458546402,
          11.969039326460676,
          9.009814110527381,
          10.757966708442396,
          11.625128516989722,
          10.886071515144115,
          9.938613354511503,
          10.896628208262003,
          9.681655640646714,
          9.939240722241946,
          9.802616942151154,
          10.640292702435536,
          11.529094046131812,
          9.483340185641822,
          10.457688707770052,
          10.576176891193677,
          11.032305683261304,
          10.767979599176396,
          11.122486890878687,
          9.743318800383307,
          8.98969370086056,
          10.958513613041315,
          11.998710165492735,
          10.169345706257875,
          11.258097729389394,
          11.29926183685515,
          11.273893864391683,
          9.715469803197292,
          10.875667003640183,
          8.561592778712923,
          10.215008214467751,
          10.247821660640062,
          10.288613889648762,
          10.695257601701156,
          9.401704256754366,
          11.105829026966715,
          9.797515738962685,
          11.071470419128909,
          9.58486505717771,
          10.339449534086297,
          10.274050608635028,
          10.445375701753937,
          10.818076837770526,
          10.286979679833886,
          10.797982472039825,
          11.007485313480576,
          9.721785803621579,
          10.824586705402588,
          10.71708088617194,
          9.67161854490356,
          11.248751564098027,
          10.891875665250666,
          9.65534665470488,
          11.077547391912312,
          8.938531648680692,
          10.704546990290469,
          10.689418998189405,
          10.074706030985418,
          9.860684430210819,
          9.290259995152056,
          10.775680095688484,
          11.521924848767028,
          9.823686482332572,
          11.480133642145237,
          11.133332761029457,
          11.313278689567417,
          11.157663807585696,
          9.897217939522532,
          10.820518010745284,
          8.808817483100642,
          9.65745912868446,
          8.700514248543275,
          9.09268232850795,
          11.636124916437632,
          10.278596540629394,
          12.295245850751025,
          11.39158234974406,
          9.341544057591527,
          11.280577179776333,
          10.853077654811209,
          10.338608545551804,
          10.519672691959444,
          9.979753907989577,
          12.669690302791613,
          9.713416042282113,
          13.290280013040348,
          9.599269511444248,
          9.652073119254888,
          8.88280805492444,
          9.819942886825784,
          11.173121684915964,
          11.03675888368908,
          8.66561319653451,
          11.039074443995599,
          9.380167531188448,
          10.694759131089272,
          8.677609912822142,
          10.05065677575275,
          11.299100857107293,
          11.090431179994203,
          9.340139809511028,
          10.739110381342828,
          8.75004942158424,
          8.842604480678025,
          9.763938087586043,
          11.251184006518802,
          9.572201842602215,
          11.479151491363016,
          9.583282288378786,
          10.856206641023835,
          8.977525200965243,
          9.949511990847407,
          11.034873534864897,
          9.559094025166905,
          12.086894887700844,
          11.33852445764401,
          12.422783551673843,
          10.53334876052526,
          10.766103208463202,
          11.329795581568328,
          9.296884973376368,
          11.171096908847732,
          9.267193183568965,
          10.177248169646864,
          10.00563792118106,
          10.647898027033614,
          9.52500511575785,
          11.14193424472214,
          11.017989594425455,
          12.559795235557914,
          12.333766407295071,
          11.251339897239722,
          10.759136162440722,
          11.76263304740999,
          9.95840178341352,
          10.197164122035577,
          9.773606631681607,
          12.159248297876704,
          10.307618437631156,
          10.030560635099604,
          9.460009002229748,
          8.068402958569699,
          9.2387334464774,
          11.987107851037381,
          8.114623886420098,
          9.634038248345407,
          10.575436632579894,
          8.648396877031582,
          11.567991134993036,
          11.147872667473326,
          8.615226931687603,
          10.409099609249232,
          10.239674034047525,
          10.552473837310304,
          10.682009354665388,
          11.170956147044622,
          11.116514246427819,
          9.200492035921368,
          9.338645632129106,
          8.94663520890585,
          9.828171158226679,
          9.028818495352793,
          10.668304019786433,
          11.64716785477634,
          11.013534218829902,
          11.492437002542893,
          11.011241264121493,
          11.17935301988663,
          10.320024474611342,
          9.120196822123217,
          8.344742754417545,
          8.916371914881694,
          9.625029474611878,
          11.11857832259591,
          11.131005970437078,
          9.746248776109637,
          10.124228219234027,
          10.075295703313177,
          10.808555544387803,
          7.796880342783522,
          9.571156728415465,
          10.727246242006135,
          10.549281036712603,
          9.442324727955874,
          7.7458682297922685,
          9.1986725671085,
          9.137984709784043,
          9.47975663562107,
          10.88119318211175,
          10.599580390384643,
          10.830005804565719,
          8.008698182988528,
          10.144274539022932,
          10.900842009130011,
          9.360913230455557,
          11.030768279551923,
          9.380083146563278,
          8.802672840312818,
          11.486643089376035,
          11.4980554523035,
          10.166044106207172,
          10.1756878991372,
          11.294396251206765,
          10.320749470523804,
          11.111148547119075,
          8.732465848349879,
          11.160683537819985,
          7.937731775260109,
          9.995109119583352,
          10.224773632401687,
          11.077609211892549,
          10.84009058572216,
          10.807037463759448,
          10.901542586212923,
          10.129506964595802,
          10.655422374579162,
          7.834788107388194,
          11.161138555104271,
          10.274844191010843,
          11.595804147462973,
          8.871645667501872,
          8.940498217652733,
          10.499049467245019,
          9.973153530769231,
          9.567595147779924,
          10.146119956434184,
          11.3866363550199,
          11.498126498458157,
          9.769727562356604,
          11.11361140034657,
          12.025767055309396,
          10.930156191879892,
          11.60351543116459,
          8.920789888464375,
          10.982696134328725,
          11.41841696373575,
          10.625197894220388,
          9.011035410141815,
          11.24661341825464,
          10.911810369856777,
          9.479909389001037,
          10.373084849239977,
          8.990067695753655,
          10.667302867213317,
          9.215327913487222,
          8.319229938632326,
          8.109826276018477,
          11.215785473743884,
          10.94326944214039,
          10.764561513772353,
          11.252689933142829,
          8.423102268016642,
          10.922515361861395,
          9.94323697205341,
          11.38782698659209,
          8.53405030848266,
          11.51855956358732,
          10.643947616146692,
          10.740367043985996,
          10.484529299311765,
          10.69471380325571,
          11.25683249476492,
          8.629092283913646,
          10.88119318211175,
          10.787337733917942,
          11.704991060713576,
          10.580225840562024,
          10.157315485981332,
          11.184476952010595,
          10.810737539758135,
          10.914324536132202,
          11.430022002570464,
          10.680171330023866,
          10.68285829984469,
          11.214047619757713,
          10.927735425915376,
          10.59753432833891,
          10.87934823260691,
          10.698807673830618,
          10.474382349768028,
          9.829464192187341,
          10.818457412442868,
          10.57018808308109,
          7.313220387090301,
          10.72862744255457,
          11.5375595392619,
          10.818717722212963,
          10.836202662824425,
          9.069122370060645,
          13.859462369493453,
          10.783549889802996,
          15.278177824339325,
          10.770146766401952,
          10.582586517370014,
          10.785476652713262,
          10.804948870164282,
          8.737933858114136,
          11.538349517310387,
          10.997003543779488,
          12.447060044238079,
          14.986437306642392,
          7.414572881350589,
          8.333270353255308,
          4.653960350157523,
          8.926251835034533,
          10.472459435395576
         ],
         "x0": " ",
         "xaxis": "x",
         "y0": " ",
         "yaxis": "y"
        }
       ],
       "layout": {
        "boxmode": "group",
        "legend": {
         "tracegroupgap": 0
        },
        "template": {
         "data": {
          "bar": [
           {
            "error_x": {
             "color": "#2a3f5f"
            },
            "error_y": {
             "color": "#2a3f5f"
            },
            "marker": {
             "line": {
              "color": "#E5ECF6",
              "width": 0.5
             },
             "pattern": {
              "fillmode": "overlay",
              "size": 10,
              "solidity": 0.2
             }
            },
            "type": "bar"
           }
          ],
          "barpolar": [
           {
            "marker": {
             "line": {
              "color": "#E5ECF6",
              "width": 0.5
             },
             "pattern": {
              "fillmode": "overlay",
              "size": 10,
              "solidity": 0.2
             }
            },
            "type": "barpolar"
           }
          ],
          "carpet": [
           {
            "aaxis": {
             "endlinecolor": "#2a3f5f",
             "gridcolor": "white",
             "linecolor": "white",
             "minorgridcolor": "white",
             "startlinecolor": "#2a3f5f"
            },
            "baxis": {
             "endlinecolor": "#2a3f5f",
             "gridcolor": "white",
             "linecolor": "white",
             "minorgridcolor": "white",
             "startlinecolor": "#2a3f5f"
            },
            "type": "carpet"
           }
          ],
          "choropleth": [
           {
            "colorbar": {
             "outlinewidth": 0,
             "ticks": ""
            },
            "type": "choropleth"
           }
          ],
          "contour": [
           {
            "colorbar": {
             "outlinewidth": 0,
             "ticks": ""
            },
            "colorscale": [
             [
              0,
              "#0d0887"
             ],
             [
              0.1111111111111111,
              "#46039f"
             ],
             [
              0.2222222222222222,
              "#7201a8"
             ],
             [
              0.3333333333333333,
              "#9c179e"
             ],
             [
              0.4444444444444444,
              "#bd3786"
             ],
             [
              0.5555555555555556,
              "#d8576b"
             ],
             [
              0.6666666666666666,
              "#ed7953"
             ],
             [
              0.7777777777777778,
              "#fb9f3a"
             ],
             [
              0.8888888888888888,
              "#fdca26"
             ],
             [
              1,
              "#f0f921"
             ]
            ],
            "type": "contour"
           }
          ],
          "contourcarpet": [
           {
            "colorbar": {
             "outlinewidth": 0,
             "ticks": ""
            },
            "type": "contourcarpet"
           }
          ],
          "heatmap": [
           {
            "colorbar": {
             "outlinewidth": 0,
             "ticks": ""
            },
            "colorscale": [
             [
              0,
              "#0d0887"
             ],
             [
              0.1111111111111111,
              "#46039f"
             ],
             [
              0.2222222222222222,
              "#7201a8"
             ],
             [
              0.3333333333333333,
              "#9c179e"
             ],
             [
              0.4444444444444444,
              "#bd3786"
             ],
             [
              0.5555555555555556,
              "#d8576b"
             ],
             [
              0.6666666666666666,
              "#ed7953"
             ],
             [
              0.7777777777777778,
              "#fb9f3a"
             ],
             [
              0.8888888888888888,
              "#fdca26"
             ],
             [
              1,
              "#f0f921"
             ]
            ],
            "type": "heatmap"
           }
          ],
          "heatmapgl": [
           {
            "colorbar": {
             "outlinewidth": 0,
             "ticks": ""
            },
            "colorscale": [
             [
              0,
              "#0d0887"
             ],
             [
              0.1111111111111111,
              "#46039f"
             ],
             [
              0.2222222222222222,
              "#7201a8"
             ],
             [
              0.3333333333333333,
              "#9c179e"
             ],
             [
              0.4444444444444444,
              "#bd3786"
             ],
             [
              0.5555555555555556,
              "#d8576b"
             ],
             [
              0.6666666666666666,
              "#ed7953"
             ],
             [
              0.7777777777777778,
              "#fb9f3a"
             ],
             [
              0.8888888888888888,
              "#fdca26"
             ],
             [
              1,
              "#f0f921"
             ]
            ],
            "type": "heatmapgl"
           }
          ],
          "histogram": [
           {
            "marker": {
             "pattern": {
              "fillmode": "overlay",
              "size": 10,
              "solidity": 0.2
             }
            },
            "type": "histogram"
           }
          ],
          "histogram2d": [
           {
            "colorbar": {
             "outlinewidth": 0,
             "ticks": ""
            },
            "colorscale": [
             [
              0,
              "#0d0887"
             ],
             [
              0.1111111111111111,
              "#46039f"
             ],
             [
              0.2222222222222222,
              "#7201a8"
             ],
             [
              0.3333333333333333,
              "#9c179e"
             ],
             [
              0.4444444444444444,
              "#bd3786"
             ],
             [
              0.5555555555555556,
              "#d8576b"
             ],
             [
              0.6666666666666666,
              "#ed7953"
             ],
             [
              0.7777777777777778,
              "#fb9f3a"
             ],
             [
              0.8888888888888888,
              "#fdca26"
             ],
             [
              1,
              "#f0f921"
             ]
            ],
            "type": "histogram2d"
           }
          ],
          "histogram2dcontour": [
           {
            "colorbar": {
             "outlinewidth": 0,
             "ticks": ""
            },
            "colorscale": [
             [
              0,
              "#0d0887"
             ],
             [
              0.1111111111111111,
              "#46039f"
             ],
             [
              0.2222222222222222,
              "#7201a8"
             ],
             [
              0.3333333333333333,
              "#9c179e"
             ],
             [
              0.4444444444444444,
              "#bd3786"
             ],
             [
              0.5555555555555556,
              "#d8576b"
             ],
             [
              0.6666666666666666,
              "#ed7953"
             ],
             [
              0.7777777777777778,
              "#fb9f3a"
             ],
             [
              0.8888888888888888,
              "#fdca26"
             ],
             [
              1,
              "#f0f921"
             ]
            ],
            "type": "histogram2dcontour"
           }
          ],
          "mesh3d": [
           {
            "colorbar": {
             "outlinewidth": 0,
             "ticks": ""
            },
            "type": "mesh3d"
           }
          ],
          "parcoords": [
           {
            "line": {
             "colorbar": {
              "outlinewidth": 0,
              "ticks": ""
             }
            },
            "type": "parcoords"
           }
          ],
          "pie": [
           {
            "automargin": true,
            "type": "pie"
           }
          ],
          "scatter": [
           {
            "fillpattern": {
             "fillmode": "overlay",
             "size": 10,
             "solidity": 0.2
            },
            "type": "scatter"
           }
          ],
          "scatter3d": [
           {
            "line": {
             "colorbar": {
              "outlinewidth": 0,
              "ticks": ""
             }
            },
            "marker": {
             "colorbar": {
              "outlinewidth": 0,
              "ticks": ""
             }
            },
            "type": "scatter3d"
           }
          ],
          "scattercarpet": [
           {
            "marker": {
             "colorbar": {
              "outlinewidth": 0,
              "ticks": ""
             }
            },
            "type": "scattercarpet"
           }
          ],
          "scattergeo": [
           {
            "marker": {
             "colorbar": {
              "outlinewidth": 0,
              "ticks": ""
             }
            },
            "type": "scattergeo"
           }
          ],
          "scattergl": [
           {
            "marker": {
             "colorbar": {
              "outlinewidth": 0,
              "ticks": ""
             }
            },
            "type": "scattergl"
           }
          ],
          "scattermapbox": [
           {
            "marker": {
             "colorbar": {
              "outlinewidth": 0,
              "ticks": ""
             }
            },
            "type": "scattermapbox"
           }
          ],
          "scatterpolar": [
           {
            "marker": {
             "colorbar": {
              "outlinewidth": 0,
              "ticks": ""
             }
            },
            "type": "scatterpolar"
           }
          ],
          "scatterpolargl": [
           {
            "marker": {
             "colorbar": {
              "outlinewidth": 0,
              "ticks": ""
             }
            },
            "type": "scatterpolargl"
           }
          ],
          "scatterternary": [
           {
            "marker": {
             "colorbar": {
              "outlinewidth": 0,
              "ticks": ""
             }
            },
            "type": "scatterternary"
           }
          ],
          "surface": [
           {
            "colorbar": {
             "outlinewidth": 0,
             "ticks": ""
            },
            "colorscale": [
             [
              0,
              "#0d0887"
             ],
             [
              0.1111111111111111,
              "#46039f"
             ],
             [
              0.2222222222222222,
              "#7201a8"
             ],
             [
              0.3333333333333333,
              "#9c179e"
             ],
             [
              0.4444444444444444,
              "#bd3786"
             ],
             [
              0.5555555555555556,
              "#d8576b"
             ],
             [
              0.6666666666666666,
              "#ed7953"
             ],
             [
              0.7777777777777778,
              "#fb9f3a"
             ],
             [
              0.8888888888888888,
              "#fdca26"
             ],
             [
              1,
              "#f0f921"
             ]
            ],
            "type": "surface"
           }
          ],
          "table": [
           {
            "cells": {
             "fill": {
              "color": "#EBF0F8"
             },
             "line": {
              "color": "white"
             }
            },
            "header": {
             "fill": {
              "color": "#C8D4E3"
             },
             "line": {
              "color": "white"
             }
            },
            "type": "table"
           }
          ]
         },
         "layout": {
          "annotationdefaults": {
           "arrowcolor": "#2a3f5f",
           "arrowhead": 0,
           "arrowwidth": 1
          },
          "autotypenumbers": "strict",
          "coloraxis": {
           "colorbar": {
            "outlinewidth": 0,
            "ticks": ""
           }
          },
          "colorscale": {
           "diverging": [
            [
             0,
             "#8e0152"
            ],
            [
             0.1,
             "#c51b7d"
            ],
            [
             0.2,
             "#de77ae"
            ],
            [
             0.3,
             "#f1b6da"
            ],
            [
             0.4,
             "#fde0ef"
            ],
            [
             0.5,
             "#f7f7f7"
            ],
            [
             0.6,
             "#e6f5d0"
            ],
            [
             0.7,
             "#b8e186"
            ],
            [
             0.8,
             "#7fbc41"
            ],
            [
             0.9,
             "#4d9221"
            ],
            [
             1,
             "#276419"
            ]
           ],
           "sequential": [
            [
             0,
             "#0d0887"
            ],
            [
             0.1111111111111111,
             "#46039f"
            ],
            [
             0.2222222222222222,
             "#7201a8"
            ],
            [
             0.3333333333333333,
             "#9c179e"
            ],
            [
             0.4444444444444444,
             "#bd3786"
            ],
            [
             0.5555555555555556,
             "#d8576b"
            ],
            [
             0.6666666666666666,
             "#ed7953"
            ],
            [
             0.7777777777777778,
             "#fb9f3a"
            ],
            [
             0.8888888888888888,
             "#fdca26"
            ],
            [
             1,
             "#f0f921"
            ]
           ],
           "sequentialminus": [
            [
             0,
             "#0d0887"
            ],
            [
             0.1111111111111111,
             "#46039f"
            ],
            [
             0.2222222222222222,
             "#7201a8"
            ],
            [
             0.3333333333333333,
             "#9c179e"
            ],
            [
             0.4444444444444444,
             "#bd3786"
            ],
            [
             0.5555555555555556,
             "#d8576b"
            ],
            [
             0.6666666666666666,
             "#ed7953"
            ],
            [
             0.7777777777777778,
             "#fb9f3a"
            ],
            [
             0.8888888888888888,
             "#fdca26"
            ],
            [
             1,
             "#f0f921"
            ]
           ]
          },
          "colorway": [
           "#636efa",
           "#EF553B",
           "#00cc96",
           "#ab63fa",
           "#FFA15A",
           "#19d3f3",
           "#FF6692",
           "#B6E880",
           "#FF97FF",
           "#FECB52"
          ],
          "font": {
           "color": "#2a3f5f"
          },
          "geo": {
           "bgcolor": "white",
           "lakecolor": "white",
           "landcolor": "#E5ECF6",
           "showlakes": true,
           "showland": true,
           "subunitcolor": "white"
          },
          "hoverlabel": {
           "align": "left"
          },
          "hovermode": "closest",
          "mapbox": {
           "style": "light"
          },
          "paper_bgcolor": "white",
          "plot_bgcolor": "#E5ECF6",
          "polar": {
           "angularaxis": {
            "gridcolor": "white",
            "linecolor": "white",
            "ticks": ""
           },
           "bgcolor": "#E5ECF6",
           "radialaxis": {
            "gridcolor": "white",
            "linecolor": "white",
            "ticks": ""
           }
          },
          "scene": {
           "xaxis": {
            "backgroundcolor": "#E5ECF6",
            "gridcolor": "white",
            "gridwidth": 2,
            "linecolor": "white",
            "showbackground": true,
            "ticks": "",
            "zerolinecolor": "white"
           },
           "yaxis": {
            "backgroundcolor": "#E5ECF6",
            "gridcolor": "white",
            "gridwidth": 2,
            "linecolor": "white",
            "showbackground": true,
            "ticks": "",
            "zerolinecolor": "white"
           },
           "zaxis": {
            "backgroundcolor": "#E5ECF6",
            "gridcolor": "white",
            "gridwidth": 2,
            "linecolor": "white",
            "showbackground": true,
            "ticks": "",
            "zerolinecolor": "white"
           }
          },
          "shapedefaults": {
           "line": {
            "color": "#2a3f5f"
           }
          },
          "ternary": {
           "aaxis": {
            "gridcolor": "white",
            "linecolor": "white",
            "ticks": ""
           },
           "baxis": {
            "gridcolor": "white",
            "linecolor": "white",
            "ticks": ""
           },
           "bgcolor": "#E5ECF6",
           "caxis": {
            "gridcolor": "white",
            "linecolor": "white",
            "ticks": ""
           }
          },
          "title": {
           "x": 0.05
          },
          "xaxis": {
           "automargin": true,
           "gridcolor": "white",
           "linecolor": "white",
           "ticks": "",
           "title": {
            "standoff": 15
           },
           "zerolinecolor": "white",
           "zerolinewidth": 2
          },
          "yaxis": {
           "automargin": true,
           "gridcolor": "white",
           "linecolor": "white",
           "ticks": "",
           "title": {
            "standoff": 15
           },
           "zerolinecolor": "white",
           "zerolinewidth": 2
          }
         }
        },
        "title": {
         "text": "Distribución de Activos (Logaritmo Natural)"
        },
        "xaxis": {
         "anchor": "y",
         "domain": [
          0,
          1
         ],
         "title": {
          "text": "log_activos"
         }
        },
        "yaxis": {
         "anchor": "x",
         "domain": [
          0,
          1
         ]
        }
       }
      }
     },
     "metadata": {},
     "output_type": "display_data"
    }
   ],
   "source": [
    "\n",
    "# Aplicar el logaritmo natural a la columna 'activos' y crear una nueva columna 'log_activos'\n",
    "combined_df[\"log_activos\"] = combined_df[\"activos\"].apply(lambda x: np.log(x))\n",
    "\n",
    "# Crear un gráfico de caja (box plot) con Plotly Express (px) utilizando los logaritmos de 'activos'\n",
    "fig = px.box(\n",
    "    combined_df, x='log_activos', title='Distribución de Activos (Logaritmo Natural)',\n",
    "    labels={'activos': 'Activos'}, template='plotly'\n",
    ")\n",
    "\n",
    "# Configuraciones adicionales para mejorar la visualización\n",
    "fig.update_traces(\n",
    "    boxpoints='log_activos',  # Mostrar todos los puntos para cada caja usando los logaritmos\n",
    "    jitter=0.3,  \n",
    "    pointpos=-1.8,  \n",
    "    marker=dict(size=4), \n",
    "    selector=dict(mode='markers+text', textfont_size=10), \n",
    "    textposition='top center'  )\n",
    "\n",
    "# Mostrar el gráfico\n",
    "fig.show()\n"
   ]
  },
  {
   "cell_type": "code",
   "execution_count": 28,
   "metadata": {
    "tags": []
   },
   "outputs": [
    {
     "data": {
      "application/vnd.plotly.v1+json": {
       "config": {
        "plotlyServerURL": "https://plot.ly"
       },
       "data": [
        {
         "domain": {
          "x": [
           0,
           1
          ],
          "y": [
           0,
           1
          ]
         },
         "hovertemplate": "pais=%{label}<extra></extra>",
         "labels": [
          "United States",
          "United States",
          "Saudi Arabia",
          "United States",
          "United States",
          "United States",
          "China",
          "United States",
          "China",
          "United States"
         ],
         "legendgroup": "",
         "name": "",
         "showlegend": true,
         "textinfo": "percent+label",
         "type": "pie"
        }
       ],
       "layout": {
        "legend": {
         "tracegroupgap": 0
        },
        "template": {
         "data": {
          "bar": [
           {
            "error_x": {
             "color": "#2a3f5f"
            },
            "error_y": {
             "color": "#2a3f5f"
            },
            "marker": {
             "line": {
              "color": "#E5ECF6",
              "width": 0.5
             },
             "pattern": {
              "fillmode": "overlay",
              "size": 10,
              "solidity": 0.2
             }
            },
            "type": "bar"
           }
          ],
          "barpolar": [
           {
            "marker": {
             "line": {
              "color": "#E5ECF6",
              "width": 0.5
             },
             "pattern": {
              "fillmode": "overlay",
              "size": 10,
              "solidity": 0.2
             }
            },
            "type": "barpolar"
           }
          ],
          "carpet": [
           {
            "aaxis": {
             "endlinecolor": "#2a3f5f",
             "gridcolor": "white",
             "linecolor": "white",
             "minorgridcolor": "white",
             "startlinecolor": "#2a3f5f"
            },
            "baxis": {
             "endlinecolor": "#2a3f5f",
             "gridcolor": "white",
             "linecolor": "white",
             "minorgridcolor": "white",
             "startlinecolor": "#2a3f5f"
            },
            "type": "carpet"
           }
          ],
          "choropleth": [
           {
            "colorbar": {
             "outlinewidth": 0,
             "ticks": ""
            },
            "type": "choropleth"
           }
          ],
          "contour": [
           {
            "colorbar": {
             "outlinewidth": 0,
             "ticks": ""
            },
            "colorscale": [
             [
              0,
              "#0d0887"
             ],
             [
              0.1111111111111111,
              "#46039f"
             ],
             [
              0.2222222222222222,
              "#7201a8"
             ],
             [
              0.3333333333333333,
              "#9c179e"
             ],
             [
              0.4444444444444444,
              "#bd3786"
             ],
             [
              0.5555555555555556,
              "#d8576b"
             ],
             [
              0.6666666666666666,
              "#ed7953"
             ],
             [
              0.7777777777777778,
              "#fb9f3a"
             ],
             [
              0.8888888888888888,
              "#fdca26"
             ],
             [
              1,
              "#f0f921"
             ]
            ],
            "type": "contour"
           }
          ],
          "contourcarpet": [
           {
            "colorbar": {
             "outlinewidth": 0,
             "ticks": ""
            },
            "type": "contourcarpet"
           }
          ],
          "heatmap": [
           {
            "colorbar": {
             "outlinewidth": 0,
             "ticks": ""
            },
            "colorscale": [
             [
              0,
              "#0d0887"
             ],
             [
              0.1111111111111111,
              "#46039f"
             ],
             [
              0.2222222222222222,
              "#7201a8"
             ],
             [
              0.3333333333333333,
              "#9c179e"
             ],
             [
              0.4444444444444444,
              "#bd3786"
             ],
             [
              0.5555555555555556,
              "#d8576b"
             ],
             [
              0.6666666666666666,
              "#ed7953"
             ],
             [
              0.7777777777777778,
              "#fb9f3a"
             ],
             [
              0.8888888888888888,
              "#fdca26"
             ],
             [
              1,
              "#f0f921"
             ]
            ],
            "type": "heatmap"
           }
          ],
          "heatmapgl": [
           {
            "colorbar": {
             "outlinewidth": 0,
             "ticks": ""
            },
            "colorscale": [
             [
              0,
              "#0d0887"
             ],
             [
              0.1111111111111111,
              "#46039f"
             ],
             [
              0.2222222222222222,
              "#7201a8"
             ],
             [
              0.3333333333333333,
              "#9c179e"
             ],
             [
              0.4444444444444444,
              "#bd3786"
             ],
             [
              0.5555555555555556,
              "#d8576b"
             ],
             [
              0.6666666666666666,
              "#ed7953"
             ],
             [
              0.7777777777777778,
              "#fb9f3a"
             ],
             [
              0.8888888888888888,
              "#fdca26"
             ],
             [
              1,
              "#f0f921"
             ]
            ],
            "type": "heatmapgl"
           }
          ],
          "histogram": [
           {
            "marker": {
             "pattern": {
              "fillmode": "overlay",
              "size": 10,
              "solidity": 0.2
             }
            },
            "type": "histogram"
           }
          ],
          "histogram2d": [
           {
            "colorbar": {
             "outlinewidth": 0,
             "ticks": ""
            },
            "colorscale": [
             [
              0,
              "#0d0887"
             ],
             [
              0.1111111111111111,
              "#46039f"
             ],
             [
              0.2222222222222222,
              "#7201a8"
             ],
             [
              0.3333333333333333,
              "#9c179e"
             ],
             [
              0.4444444444444444,
              "#bd3786"
             ],
             [
              0.5555555555555556,
              "#d8576b"
             ],
             [
              0.6666666666666666,
              "#ed7953"
             ],
             [
              0.7777777777777778,
              "#fb9f3a"
             ],
             [
              0.8888888888888888,
              "#fdca26"
             ],
             [
              1,
              "#f0f921"
             ]
            ],
            "type": "histogram2d"
           }
          ],
          "histogram2dcontour": [
           {
            "colorbar": {
             "outlinewidth": 0,
             "ticks": ""
            },
            "colorscale": [
             [
              0,
              "#0d0887"
             ],
             [
              0.1111111111111111,
              "#46039f"
             ],
             [
              0.2222222222222222,
              "#7201a8"
             ],
             [
              0.3333333333333333,
              "#9c179e"
             ],
             [
              0.4444444444444444,
              "#bd3786"
             ],
             [
              0.5555555555555556,
              "#d8576b"
             ],
             [
              0.6666666666666666,
              "#ed7953"
             ],
             [
              0.7777777777777778,
              "#fb9f3a"
             ],
             [
              0.8888888888888888,
              "#fdca26"
             ],
             [
              1,
              "#f0f921"
             ]
            ],
            "type": "histogram2dcontour"
           }
          ],
          "mesh3d": [
           {
            "colorbar": {
             "outlinewidth": 0,
             "ticks": ""
            },
            "type": "mesh3d"
           }
          ],
          "parcoords": [
           {
            "line": {
             "colorbar": {
              "outlinewidth": 0,
              "ticks": ""
             }
            },
            "type": "parcoords"
           }
          ],
          "pie": [
           {
            "automargin": true,
            "type": "pie"
           }
          ],
          "scatter": [
           {
            "fillpattern": {
             "fillmode": "overlay",
             "size": 10,
             "solidity": 0.2
            },
            "type": "scatter"
           }
          ],
          "scatter3d": [
           {
            "line": {
             "colorbar": {
              "outlinewidth": 0,
              "ticks": ""
             }
            },
            "marker": {
             "colorbar": {
              "outlinewidth": 0,
              "ticks": ""
             }
            },
            "type": "scatter3d"
           }
          ],
          "scattercarpet": [
           {
            "marker": {
             "colorbar": {
              "outlinewidth": 0,
              "ticks": ""
             }
            },
            "type": "scattercarpet"
           }
          ],
          "scattergeo": [
           {
            "marker": {
             "colorbar": {
              "outlinewidth": 0,
              "ticks": ""
             }
            },
            "type": "scattergeo"
           }
          ],
          "scattergl": [
           {
            "marker": {
             "colorbar": {
              "outlinewidth": 0,
              "ticks": ""
             }
            },
            "type": "scattergl"
           }
          ],
          "scattermapbox": [
           {
            "marker": {
             "colorbar": {
              "outlinewidth": 0,
              "ticks": ""
             }
            },
            "type": "scattermapbox"
           }
          ],
          "scatterpolar": [
           {
            "marker": {
             "colorbar": {
              "outlinewidth": 0,
              "ticks": ""
             }
            },
            "type": "scatterpolar"
           }
          ],
          "scatterpolargl": [
           {
            "marker": {
             "colorbar": {
              "outlinewidth": 0,
              "ticks": ""
             }
            },
            "type": "scatterpolargl"
           }
          ],
          "scatterternary": [
           {
            "marker": {
             "colorbar": {
              "outlinewidth": 0,
              "ticks": ""
             }
            },
            "type": "scatterternary"
           }
          ],
          "surface": [
           {
            "colorbar": {
             "outlinewidth": 0,
             "ticks": ""
            },
            "colorscale": [
             [
              0,
              "#0d0887"
             ],
             [
              0.1111111111111111,
              "#46039f"
             ],
             [
              0.2222222222222222,
              "#7201a8"
             ],
             [
              0.3333333333333333,
              "#9c179e"
             ],
             [
              0.4444444444444444,
              "#bd3786"
             ],
             [
              0.5555555555555556,
              "#d8576b"
             ],
             [
              0.6666666666666666,
              "#ed7953"
             ],
             [
              0.7777777777777778,
              "#fb9f3a"
             ],
             [
              0.8888888888888888,
              "#fdca26"
             ],
             [
              1,
              "#f0f921"
             ]
            ],
            "type": "surface"
           }
          ],
          "table": [
           {
            "cells": {
             "fill": {
              "color": "#EBF0F8"
             },
             "line": {
              "color": "white"
             }
            },
            "header": {
             "fill": {
              "color": "#C8D4E3"
             },
             "line": {
              "color": "white"
             }
            },
            "type": "table"
           }
          ]
         },
         "layout": {
          "annotationdefaults": {
           "arrowcolor": "#2a3f5f",
           "arrowhead": 0,
           "arrowwidth": 1
          },
          "autotypenumbers": "strict",
          "coloraxis": {
           "colorbar": {
            "outlinewidth": 0,
            "ticks": ""
           }
          },
          "colorscale": {
           "diverging": [
            [
             0,
             "#8e0152"
            ],
            [
             0.1,
             "#c51b7d"
            ],
            [
             0.2,
             "#de77ae"
            ],
            [
             0.3,
             "#f1b6da"
            ],
            [
             0.4,
             "#fde0ef"
            ],
            [
             0.5,
             "#f7f7f7"
            ],
            [
             0.6,
             "#e6f5d0"
            ],
            [
             0.7,
             "#b8e186"
            ],
            [
             0.8,
             "#7fbc41"
            ],
            [
             0.9,
             "#4d9221"
            ],
            [
             1,
             "#276419"
            ]
           ],
           "sequential": [
            [
             0,
             "#0d0887"
            ],
            [
             0.1111111111111111,
             "#46039f"
            ],
            [
             0.2222222222222222,
             "#7201a8"
            ],
            [
             0.3333333333333333,
             "#9c179e"
            ],
            [
             0.4444444444444444,
             "#bd3786"
            ],
            [
             0.5555555555555556,
             "#d8576b"
            ],
            [
             0.6666666666666666,
             "#ed7953"
            ],
            [
             0.7777777777777778,
             "#fb9f3a"
            ],
            [
             0.8888888888888888,
             "#fdca26"
            ],
            [
             1,
             "#f0f921"
            ]
           ],
           "sequentialminus": [
            [
             0,
             "#0d0887"
            ],
            [
             0.1111111111111111,
             "#46039f"
            ],
            [
             0.2222222222222222,
             "#7201a8"
            ],
            [
             0.3333333333333333,
             "#9c179e"
            ],
            [
             0.4444444444444444,
             "#bd3786"
            ],
            [
             0.5555555555555556,
             "#d8576b"
            ],
            [
             0.6666666666666666,
             "#ed7953"
            ],
            [
             0.7777777777777778,
             "#fb9f3a"
            ],
            [
             0.8888888888888888,
             "#fdca26"
            ],
            [
             1,
             "#f0f921"
            ]
           ]
          },
          "colorway": [
           "#636efa",
           "#EF553B",
           "#00cc96",
           "#ab63fa",
           "#FFA15A",
           "#19d3f3",
           "#FF6692",
           "#B6E880",
           "#FF97FF",
           "#FECB52"
          ],
          "font": {
           "color": "#2a3f5f"
          },
          "geo": {
           "bgcolor": "white",
           "lakecolor": "white",
           "landcolor": "#E5ECF6",
           "showlakes": true,
           "showland": true,
           "subunitcolor": "white"
          },
          "hoverlabel": {
           "align": "left"
          },
          "hovermode": "closest",
          "mapbox": {
           "style": "light"
          },
          "paper_bgcolor": "white",
          "plot_bgcolor": "#E5ECF6",
          "polar": {
           "angularaxis": {
            "gridcolor": "white",
            "linecolor": "white",
            "ticks": ""
           },
           "bgcolor": "#E5ECF6",
           "radialaxis": {
            "gridcolor": "white",
            "linecolor": "white",
            "ticks": ""
           }
          },
          "scene": {
           "xaxis": {
            "backgroundcolor": "#E5ECF6",
            "gridcolor": "white",
            "gridwidth": 2,
            "linecolor": "white",
            "showbackground": true,
            "ticks": "",
            "zerolinecolor": "white"
           },
           "yaxis": {
            "backgroundcolor": "#E5ECF6",
            "gridcolor": "white",
            "gridwidth": 2,
            "linecolor": "white",
            "showbackground": true,
            "ticks": "",
            "zerolinecolor": "white"
           },
           "zaxis": {
            "backgroundcolor": "#E5ECF6",
            "gridcolor": "white",
            "gridwidth": 2,
            "linecolor": "white",
            "showbackground": true,
            "ticks": "",
            "zerolinecolor": "white"
           }
          },
          "shapedefaults": {
           "line": {
            "color": "#2a3f5f"
           }
          },
          "ternary": {
           "aaxis": {
            "gridcolor": "white",
            "linecolor": "white",
            "ticks": ""
           },
           "baxis": {
            "gridcolor": "white",
            "linecolor": "white",
            "ticks": ""
           },
           "bgcolor": "#E5ECF6",
           "caxis": {
            "gridcolor": "white",
            "linecolor": "white",
            "ticks": ""
           }
          },
          "title": {
           "x": 0.05
          },
          "xaxis": {
           "automargin": true,
           "gridcolor": "white",
           "linecolor": "white",
           "ticks": "",
           "title": {
            "standoff": 15
           },
           "zerolinecolor": "white",
           "zerolinewidth": 2
          },
          "yaxis": {
           "automargin": true,
           "gridcolor": "white",
           "linecolor": "white",
           "ticks": "",
           "title": {
            "standoff": 15
           },
           "zerolinecolor": "white",
           "zerolinewidth": 2
          }
         }
        },
        "title": {
         "text": "Distribución de Empresas por País en 2021"
        }
       }
      }
     },
     "metadata": {},
     "output_type": "display_data"
    },
    {
     "data": {
      "application/vnd.plotly.v1+json": {
       "config": {
        "plotlyServerURL": "https://plot.ly"
       },
       "data": [
        {
         "domain": {
          "x": [
           0,
           1
          ],
          "y": [
           0,
           1
          ]
         },
         "hovertemplate": "pais=%{label}<extra></extra>",
         "labels": [
          "United States",
          "United States",
          "Saudi Arabia",
          "United States",
          "United States",
          "United States",
          "China",
          "United States",
          "China",
          "United States"
         ],
         "legendgroup": "",
         "name": "",
         "showlegend": true,
         "textinfo": "percent+label",
         "type": "pie"
        }
       ],
       "layout": {
        "legend": {
         "tracegroupgap": 0
        },
        "template": {
         "data": {
          "bar": [
           {
            "error_x": {
             "color": "#2a3f5f"
            },
            "error_y": {
             "color": "#2a3f5f"
            },
            "marker": {
             "line": {
              "color": "#E5ECF6",
              "width": 0.5
             },
             "pattern": {
              "fillmode": "overlay",
              "size": 10,
              "solidity": 0.2
             }
            },
            "type": "bar"
           }
          ],
          "barpolar": [
           {
            "marker": {
             "line": {
              "color": "#E5ECF6",
              "width": 0.5
             },
             "pattern": {
              "fillmode": "overlay",
              "size": 10,
              "solidity": 0.2
             }
            },
            "type": "barpolar"
           }
          ],
          "carpet": [
           {
            "aaxis": {
             "endlinecolor": "#2a3f5f",
             "gridcolor": "white",
             "linecolor": "white",
             "minorgridcolor": "white",
             "startlinecolor": "#2a3f5f"
            },
            "baxis": {
             "endlinecolor": "#2a3f5f",
             "gridcolor": "white",
             "linecolor": "white",
             "minorgridcolor": "white",
             "startlinecolor": "#2a3f5f"
            },
            "type": "carpet"
           }
          ],
          "choropleth": [
           {
            "colorbar": {
             "outlinewidth": 0,
             "ticks": ""
            },
            "type": "choropleth"
           }
          ],
          "contour": [
           {
            "colorbar": {
             "outlinewidth": 0,
             "ticks": ""
            },
            "colorscale": [
             [
              0,
              "#0d0887"
             ],
             [
              0.1111111111111111,
              "#46039f"
             ],
             [
              0.2222222222222222,
              "#7201a8"
             ],
             [
              0.3333333333333333,
              "#9c179e"
             ],
             [
              0.4444444444444444,
              "#bd3786"
             ],
             [
              0.5555555555555556,
              "#d8576b"
             ],
             [
              0.6666666666666666,
              "#ed7953"
             ],
             [
              0.7777777777777778,
              "#fb9f3a"
             ],
             [
              0.8888888888888888,
              "#fdca26"
             ],
             [
              1,
              "#f0f921"
             ]
            ],
            "type": "contour"
           }
          ],
          "contourcarpet": [
           {
            "colorbar": {
             "outlinewidth": 0,
             "ticks": ""
            },
            "type": "contourcarpet"
           }
          ],
          "heatmap": [
           {
            "colorbar": {
             "outlinewidth": 0,
             "ticks": ""
            },
            "colorscale": [
             [
              0,
              "#0d0887"
             ],
             [
              0.1111111111111111,
              "#46039f"
             ],
             [
              0.2222222222222222,
              "#7201a8"
             ],
             [
              0.3333333333333333,
              "#9c179e"
             ],
             [
              0.4444444444444444,
              "#bd3786"
             ],
             [
              0.5555555555555556,
              "#d8576b"
             ],
             [
              0.6666666666666666,
              "#ed7953"
             ],
             [
              0.7777777777777778,
              "#fb9f3a"
             ],
             [
              0.8888888888888888,
              "#fdca26"
             ],
             [
              1,
              "#f0f921"
             ]
            ],
            "type": "heatmap"
           }
          ],
          "heatmapgl": [
           {
            "colorbar": {
             "outlinewidth": 0,
             "ticks": ""
            },
            "colorscale": [
             [
              0,
              "#0d0887"
             ],
             [
              0.1111111111111111,
              "#46039f"
             ],
             [
              0.2222222222222222,
              "#7201a8"
             ],
             [
              0.3333333333333333,
              "#9c179e"
             ],
             [
              0.4444444444444444,
              "#bd3786"
             ],
             [
              0.5555555555555556,
              "#d8576b"
             ],
             [
              0.6666666666666666,
              "#ed7953"
             ],
             [
              0.7777777777777778,
              "#fb9f3a"
             ],
             [
              0.8888888888888888,
              "#fdca26"
             ],
             [
              1,
              "#f0f921"
             ]
            ],
            "type": "heatmapgl"
           }
          ],
          "histogram": [
           {
            "marker": {
             "pattern": {
              "fillmode": "overlay",
              "size": 10,
              "solidity": 0.2
             }
            },
            "type": "histogram"
           }
          ],
          "histogram2d": [
           {
            "colorbar": {
             "outlinewidth": 0,
             "ticks": ""
            },
            "colorscale": [
             [
              0,
              "#0d0887"
             ],
             [
              0.1111111111111111,
              "#46039f"
             ],
             [
              0.2222222222222222,
              "#7201a8"
             ],
             [
              0.3333333333333333,
              "#9c179e"
             ],
             [
              0.4444444444444444,
              "#bd3786"
             ],
             [
              0.5555555555555556,
              "#d8576b"
             ],
             [
              0.6666666666666666,
              "#ed7953"
             ],
             [
              0.7777777777777778,
              "#fb9f3a"
             ],
             [
              0.8888888888888888,
              "#fdca26"
             ],
             [
              1,
              "#f0f921"
             ]
            ],
            "type": "histogram2d"
           }
          ],
          "histogram2dcontour": [
           {
            "colorbar": {
             "outlinewidth": 0,
             "ticks": ""
            },
            "colorscale": [
             [
              0,
              "#0d0887"
             ],
             [
              0.1111111111111111,
              "#46039f"
             ],
             [
              0.2222222222222222,
              "#7201a8"
             ],
             [
              0.3333333333333333,
              "#9c179e"
             ],
             [
              0.4444444444444444,
              "#bd3786"
             ],
             [
              0.5555555555555556,
              "#d8576b"
             ],
             [
              0.6666666666666666,
              "#ed7953"
             ],
             [
              0.7777777777777778,
              "#fb9f3a"
             ],
             [
              0.8888888888888888,
              "#fdca26"
             ],
             [
              1,
              "#f0f921"
             ]
            ],
            "type": "histogram2dcontour"
           }
          ],
          "mesh3d": [
           {
            "colorbar": {
             "outlinewidth": 0,
             "ticks": ""
            },
            "type": "mesh3d"
           }
          ],
          "parcoords": [
           {
            "line": {
             "colorbar": {
              "outlinewidth": 0,
              "ticks": ""
             }
            },
            "type": "parcoords"
           }
          ],
          "pie": [
           {
            "automargin": true,
            "type": "pie"
           }
          ],
          "scatter": [
           {
            "fillpattern": {
             "fillmode": "overlay",
             "size": 10,
             "solidity": 0.2
            },
            "type": "scatter"
           }
          ],
          "scatter3d": [
           {
            "line": {
             "colorbar": {
              "outlinewidth": 0,
              "ticks": ""
             }
            },
            "marker": {
             "colorbar": {
              "outlinewidth": 0,
              "ticks": ""
             }
            },
            "type": "scatter3d"
           }
          ],
          "scattercarpet": [
           {
            "marker": {
             "colorbar": {
              "outlinewidth": 0,
              "ticks": ""
             }
            },
            "type": "scattercarpet"
           }
          ],
          "scattergeo": [
           {
            "marker": {
             "colorbar": {
              "outlinewidth": 0,
              "ticks": ""
             }
            },
            "type": "scattergeo"
           }
          ],
          "scattergl": [
           {
            "marker": {
             "colorbar": {
              "outlinewidth": 0,
              "ticks": ""
             }
            },
            "type": "scattergl"
           }
          ],
          "scattermapbox": [
           {
            "marker": {
             "colorbar": {
              "outlinewidth": 0,
              "ticks": ""
             }
            },
            "type": "scattermapbox"
           }
          ],
          "scatterpolar": [
           {
            "marker": {
             "colorbar": {
              "outlinewidth": 0,
              "ticks": ""
             }
            },
            "type": "scatterpolar"
           }
          ],
          "scatterpolargl": [
           {
            "marker": {
             "colorbar": {
              "outlinewidth": 0,
              "ticks": ""
             }
            },
            "type": "scatterpolargl"
           }
          ],
          "scatterternary": [
           {
            "marker": {
             "colorbar": {
              "outlinewidth": 0,
              "ticks": ""
             }
            },
            "type": "scatterternary"
           }
          ],
          "surface": [
           {
            "colorbar": {
             "outlinewidth": 0,
             "ticks": ""
            },
            "colorscale": [
             [
              0,
              "#0d0887"
             ],
             [
              0.1111111111111111,
              "#46039f"
             ],
             [
              0.2222222222222222,
              "#7201a8"
             ],
             [
              0.3333333333333333,
              "#9c179e"
             ],
             [
              0.4444444444444444,
              "#bd3786"
             ],
             [
              0.5555555555555556,
              "#d8576b"
             ],
             [
              0.6666666666666666,
              "#ed7953"
             ],
             [
              0.7777777777777778,
              "#fb9f3a"
             ],
             [
              0.8888888888888888,
              "#fdca26"
             ],
             [
              1,
              "#f0f921"
             ]
            ],
            "type": "surface"
           }
          ],
          "table": [
           {
            "cells": {
             "fill": {
              "color": "#EBF0F8"
             },
             "line": {
              "color": "white"
             }
            },
            "header": {
             "fill": {
              "color": "#C8D4E3"
             },
             "line": {
              "color": "white"
             }
            },
            "type": "table"
           }
          ]
         },
         "layout": {
          "annotationdefaults": {
           "arrowcolor": "#2a3f5f",
           "arrowhead": 0,
           "arrowwidth": 1
          },
          "autotypenumbers": "strict",
          "coloraxis": {
           "colorbar": {
            "outlinewidth": 0,
            "ticks": ""
           }
          },
          "colorscale": {
           "diverging": [
            [
             0,
             "#8e0152"
            ],
            [
             0.1,
             "#c51b7d"
            ],
            [
             0.2,
             "#de77ae"
            ],
            [
             0.3,
             "#f1b6da"
            ],
            [
             0.4,
             "#fde0ef"
            ],
            [
             0.5,
             "#f7f7f7"
            ],
            [
             0.6,
             "#e6f5d0"
            ],
            [
             0.7,
             "#b8e186"
            ],
            [
             0.8,
             "#7fbc41"
            ],
            [
             0.9,
             "#4d9221"
            ],
            [
             1,
             "#276419"
            ]
           ],
           "sequential": [
            [
             0,
             "#0d0887"
            ],
            [
             0.1111111111111111,
             "#46039f"
            ],
            [
             0.2222222222222222,
             "#7201a8"
            ],
            [
             0.3333333333333333,
             "#9c179e"
            ],
            [
             0.4444444444444444,
             "#bd3786"
            ],
            [
             0.5555555555555556,
             "#d8576b"
            ],
            [
             0.6666666666666666,
             "#ed7953"
            ],
            [
             0.7777777777777778,
             "#fb9f3a"
            ],
            [
             0.8888888888888888,
             "#fdca26"
            ],
            [
             1,
             "#f0f921"
            ]
           ],
           "sequentialminus": [
            [
             0,
             "#0d0887"
            ],
            [
             0.1111111111111111,
             "#46039f"
            ],
            [
             0.2222222222222222,
             "#7201a8"
            ],
            [
             0.3333333333333333,
             "#9c179e"
            ],
            [
             0.4444444444444444,
             "#bd3786"
            ],
            [
             0.5555555555555556,
             "#d8576b"
            ],
            [
             0.6666666666666666,
             "#ed7953"
            ],
            [
             0.7777777777777778,
             "#fb9f3a"
            ],
            [
             0.8888888888888888,
             "#fdca26"
            ],
            [
             1,
             "#f0f921"
            ]
           ]
          },
          "colorway": [
           "#636efa",
           "#EF553B",
           "#00cc96",
           "#ab63fa",
           "#FFA15A",
           "#19d3f3",
           "#FF6692",
           "#B6E880",
           "#FF97FF",
           "#FECB52"
          ],
          "font": {
           "color": "#2a3f5f"
          },
          "geo": {
           "bgcolor": "white",
           "lakecolor": "white",
           "landcolor": "#E5ECF6",
           "showlakes": true,
           "showland": true,
           "subunitcolor": "white"
          },
          "hoverlabel": {
           "align": "left"
          },
          "hovermode": "closest",
          "mapbox": {
           "style": "light"
          },
          "paper_bgcolor": "white",
          "plot_bgcolor": "#E5ECF6",
          "polar": {
           "angularaxis": {
            "gridcolor": "white",
            "linecolor": "white",
            "ticks": ""
           },
           "bgcolor": "#E5ECF6",
           "radialaxis": {
            "gridcolor": "white",
            "linecolor": "white",
            "ticks": ""
           }
          },
          "scene": {
           "xaxis": {
            "backgroundcolor": "#E5ECF6",
            "gridcolor": "white",
            "gridwidth": 2,
            "linecolor": "white",
            "showbackground": true,
            "ticks": "",
            "zerolinecolor": "white"
           },
           "yaxis": {
            "backgroundcolor": "#E5ECF6",
            "gridcolor": "white",
            "gridwidth": 2,
            "linecolor": "white",
            "showbackground": true,
            "ticks": "",
            "zerolinecolor": "white"
           },
           "zaxis": {
            "backgroundcolor": "#E5ECF6",
            "gridcolor": "white",
            "gridwidth": 2,
            "linecolor": "white",
            "showbackground": true,
            "ticks": "",
            "zerolinecolor": "white"
           }
          },
          "shapedefaults": {
           "line": {
            "color": "#2a3f5f"
           }
          },
          "ternary": {
           "aaxis": {
            "gridcolor": "white",
            "linecolor": "white",
            "ticks": ""
           },
           "baxis": {
            "gridcolor": "white",
            "linecolor": "white",
            "ticks": ""
           },
           "bgcolor": "#E5ECF6",
           "caxis": {
            "gridcolor": "white",
            "linecolor": "white",
            "ticks": ""
           }
          },
          "title": {
           "x": 0.05
          },
          "xaxis": {
           "automargin": true,
           "gridcolor": "white",
           "linecolor": "white",
           "ticks": "",
           "title": {
            "standoff": 15
           },
           "zerolinecolor": "white",
           "zerolinewidth": 2
          },
          "yaxis": {
           "automargin": true,
           "gridcolor": "white",
           "linecolor": "white",
           "ticks": "",
           "title": {
            "standoff": 15
           },
           "zerolinecolor": "white",
           "zerolinewidth": 2
          }
         }
        },
        "title": {
         "text": "Distribución de Empresas por País Actualmente"
        }
       }
      }
     },
     "metadata": {},
     "output_type": "display_data"
    }
   ],
   "source": [
    "# Crear un gráfico de pastel para la distribución de empresas por país en 2021\n",
    "fig_2021 = px.pie(\n",
    "    df_2021.head(10), names='pais', title='Distribución de Empresas por País en 2021', template='plotly'\n",
    ")\n",
    "\n",
    "fig_2021.update_traces(textinfo='percent+label')\n",
    "\n",
    "# Mostrar el gráfico de pastel para 2021\n",
    "fig_2021.show()\n",
    "\n",
    "# Crear un gráfico de pastel para la distribución de empresas por país actualmente\n",
    "fig_actual = px.pie(\n",
    "    df_2021.head(10), names='pais', title='Distribución de Empresas por País Actualmente', template='plotly'\n",
    ")\n",
    "\n",
    "fig_actual.update_traces(textinfo='percent+label')\n",
    "\n",
    "# Mostrar el gráfico de pastel actual\n",
    "fig_actual.show()\n",
    "\n",
    "\n"
   ]
  },
  {
   "cell_type": "code",
   "execution_count": 37,
   "metadata": {},
   "outputs": [
    {
     "data": {
      "application/vnd.plotly.v1+json": {
       "config": {
        "plotlyServerURL": "https://plot.ly"
       },
       "data": [
        {
         "alignmentgroup": "True",
         "hovertemplate": "count=%{x}<br>País=%{y}<extra></extra>",
         "legendgroup": "",
         "marker": {
          "color": "#636efa",
          "pattern": {
           "shape": ""
          }
         },
         "name": "",
         "offsetgroup": "",
         "orientation": "h",
         "showlegend": false,
         "textposition": "auto",
         "type": "bar",
         "x": [
          1,
          1,
          1,
          1,
          1,
          1,
          1,
          1,
          1,
          1,
          1,
          1,
          1,
          1,
          1,
          1,
          1,
          1,
          1,
          1,
          1,
          1,
          1,
          1,
          1,
          1,
          1,
          1,
          1,
          1,
          1,
          1,
          1,
          1,
          1,
          1,
          1,
          1,
          1,
          1,
          1,
          1,
          1,
          1,
          1,
          1,
          1,
          1,
          1,
          1,
          1,
          1,
          1,
          1,
          1,
          1,
          1,
          1,
          1,
          1,
          1,
          1,
          1,
          1,
          1,
          1,
          1,
          1,
          1,
          1,
          1,
          1,
          1,
          1,
          1,
          1,
          1,
          1,
          1,
          1,
          1,
          1,
          1,
          1,
          1,
          1,
          1,
          1,
          1,
          1,
          1,
          1,
          1,
          1,
          1,
          1,
          1,
          1,
          1,
          1,
          1,
          1,
          1,
          1,
          1,
          1,
          1,
          1,
          1,
          1,
          1,
          1,
          1,
          1,
          1,
          1,
          1,
          1,
          1,
          1,
          1,
          1,
          1,
          1,
          1,
          1,
          1,
          1,
          1,
          1,
          1,
          1,
          1,
          1,
          1,
          1,
          1,
          1,
          1,
          1,
          1,
          1,
          1,
          1,
          1,
          1,
          1,
          1,
          1,
          1,
          1,
          1,
          1,
          1,
          1,
          1,
          1,
          1,
          1,
          1,
          1,
          1,
          1,
          1,
          1,
          1,
          1,
          1,
          1,
          1,
          1,
          1,
          1,
          1,
          1,
          1,
          1,
          1,
          1,
          1,
          1,
          1,
          1,
          1,
          1,
          1,
          1,
          1,
          1,
          1,
          1,
          1,
          1,
          1,
          1,
          1,
          1,
          1,
          1,
          1,
          1,
          1,
          1,
          1,
          1,
          1,
          1,
          1,
          1,
          1,
          1,
          1,
          1,
          1,
          1,
          1,
          1,
          1,
          1,
          1,
          1,
          1,
          1,
          1,
          1,
          1,
          1,
          1,
          1,
          1,
          1,
          1,
          1,
          1,
          1,
          1,
          1,
          1,
          1,
          1,
          1,
          1,
          1,
          1,
          1,
          1,
          1,
          1,
          1,
          1,
          1,
          1,
          1,
          1,
          1,
          1,
          1,
          1,
          1,
          1,
          1,
          1,
          1,
          1,
          1,
          1,
          1,
          1,
          1,
          1,
          1,
          1,
          1,
          1,
          1,
          1,
          1,
          1,
          1,
          1,
          1,
          1,
          1,
          1,
          1,
          1,
          1,
          1,
          1,
          1,
          1,
          1,
          1,
          1,
          1,
          1,
          1,
          1,
          1,
          1,
          1,
          1,
          1,
          1,
          1,
          1,
          1,
          1,
          1,
          1,
          1,
          1,
          1,
          1,
          1,
          1,
          1,
          1,
          1,
          1,
          1,
          1,
          1,
          1,
          1,
          1,
          1,
          1,
          1,
          1,
          1,
          1,
          1,
          1,
          1,
          1,
          1,
          1,
          1,
          1,
          1,
          1,
          1,
          1,
          1,
          1,
          1,
          1,
          1,
          1,
          1,
          1,
          1,
          1,
          1,
          1,
          1,
          1,
          1,
          1,
          1,
          1,
          1,
          1,
          1,
          1,
          1,
          1,
          1,
          1,
          1,
          1,
          1
         ],
         "xaxis": "x",
         "y": [
          "United States",
          "United States",
          "United States",
          "Netherlands",
          "France",
          "China",
          "United States",
          "Germany",
          "United States",
          "United States",
          "Saudi Arabia",
          "United Kingdom",
          "United States",
          "United States",
          "Russia",
          "China",
          "Russia",
          "Germany",
          "Russia",
          "Canada",
          "United States",
          "Saudi Arabia",
          "Russia",
          "United States",
          "China",
          "United States",
          "Russia",
          "Japan",
          "Russia",
          "Canada",
          "United States",
          "United States",
          "United States",
          "United States",
          "United States",
          "United Kingdom",
          "United States",
          "United States",
          "Hong Kong",
          "China",
          "United States",
          "Switzerland",
          "South Korea",
          "China",
          "United States",
          "United States",
          "United States",
          "Norway",
          "China",
          "United States",
          "United States",
          "United States",
          "United States",
          "United States",
          "United States",
          "United States",
          "United Kingdom",
          "United States",
          "China",
          "United States",
          "United States",
          "China",
          "Australia",
          "United States",
          "United States",
          "United States",
          "United States",
          "China",
          "China",
          "Russia",
          "United States",
          "China",
          "China",
          "United States",
          "United States",
          "United States",
          "China",
          "Brazil",
          "United States",
          "United Kingdom",
          "United States",
          "Sweden",
          "Brazil",
          "United States",
          "China",
          "China",
          "United States",
          "South Korea",
          "Sweden",
          "United States",
          "Netherlands",
          "United States",
          "Japan",
          "United States",
          "China",
          "Vietnam",
          "Russia",
          "United States",
          "China",
          "United States",
          "China",
          "China",
          "United States",
          "China",
          "United States",
          "Russia",
          "Hong Kong",
          "France",
          "Switzerland",
          "Japan",
          "United States",
          "Sweden",
          "United States",
          "Spain",
          "United States",
          "United States",
          "China",
          "Germany",
          "United States",
          "China",
          "United States",
          "Denmark",
          "United States",
          "Hong Kong",
          "Australia",
          "Ireland",
          "Germany",
          "United Kingdom",
          "United States",
          "United States",
          "Russia",
          "United States",
          "Germany",
          "Brazil",
          "South Korea",
          "Russia",
          "Germany",
          "United States",
          "Italy",
          "Denmark",
          "France",
          "United States",
          "United States",
          "Sweden",
          "France",
          "United States",
          "United States",
          "Germany",
          "China",
          "United States",
          "Taiwan",
          "Singapore",
          "United States",
          "Kenya",
          "United States",
          "United States",
          "United States",
          "United Kingdom",
          "China",
          "Canada",
          "Russia",
          "Sweden",
          "Morocco",
          "France",
          "Hong Kong",
          "Sweden",
          "South Korea",
          "United States",
          "United Kingdom",
          "United States",
          "United States",
          "United Kingdom",
          "United States",
          "Japan",
          "United States",
          "Belgium",
          "China",
          "China",
          "United States",
          "United Kingdom",
          "China",
          "China",
          "Australia",
          "Brazil",
          "Norway",
          "Switzerland",
          "United States",
          "Thailand",
          "France",
          "United Kingdom",
          "Japan",
          "Malaysia",
          "China",
          "Hong Kong",
          "Bermuda",
          "United States",
          "Poland",
          "United Kingdom",
          "Germany",
          "Hong Kong",
          "Taiwan",
          "Cyprus",
          "Russia",
          "Canada",
          "Japan",
          "United States",
          "Philippines",
          "United Kingdom",
          "Sweden",
          "Sweden",
          "Canada",
          "United States",
          "United States",
          "Canada",
          "Canada",
          "France",
          "South Africa",
          "Australia",
          "Japan",
          "Japan",
          "China",
          "South Korea",
          "Luxembourg",
          "United States",
          "Hong Kong",
          "United States",
          "Luxembourg",
          "Japan",
          "Kuwait",
          "China",
          "Russia",
          "United States",
          "Sweden",
          "United States",
          "Japan",
          "Russia",
          "Sweden",
          "Russia",
          "Japan",
          "China",
          "Hong Kong",
          "Japan",
          "China",
          "Belgium",
          "United States",
          "China",
          "China",
          "China",
          "United States",
          "Bahrain",
          "Belgium",
          "United Kingdom",
          "United States",
          "United States",
          "Japan",
          "Russia",
          "Hong Kong",
          "United States",
          "China",
          "United States",
          "Hong Kong",
          "Germany",
          "United States",
          "China",
          "Taiwan",
          "United Kingdom",
          "Russia",
          "Hong Kong",
          "Japan",
          "South Korea",
          "Bermuda",
          "United States",
          "China",
          "United States",
          "Hong Kong",
          "China",
          "Russia",
          "United States",
          "China",
          "United States",
          "Russia",
          "Indonesia",
          "Russia",
          "Hong Kong",
          "Hong Kong",
          "Russia",
          "China",
          "Japan",
          "Japan",
          "China",
          "Japan",
          "Taiwan",
          "Japan",
          "Singapore",
          "Japan",
          "China",
          "Hong Kong",
          "United States",
          "Switzerland",
          "United States",
          "Russia",
          "Turkey",
          "China",
          "South Korea",
          "Japan",
          "India",
          "China",
          "Hong Kong",
          "South Korea",
          "South Korea",
          "United Kingdom",
          "South Korea",
          "United States",
          "Japan",
          "China",
          "United States",
          "Philippines",
          "United States",
          "Japan",
          "United States",
          "China",
          "Japan",
          "China",
          "China",
          "Russia",
          "India",
          "South Korea",
          "India",
          "United Kingdom",
          "China",
          "China",
          "China",
          "Australia",
          "United States",
          "China",
          "Japan",
          "United States",
          "United Kingdom",
          "Hong Kong",
          "Israel",
          "China",
          "Japan",
          "United States",
          "China",
          "China",
          "Japan",
          "Brazil",
          "Canada",
          "Japan",
          "United Kingdom",
          "China",
          "Hong Kong",
          "United States",
          "Israel",
          "China",
          "Germany",
          "Spain",
          "South Africa",
          "Norway",
          "Italy",
          "United States",
          "China",
          "Japan",
          "Japan",
          "Japan",
          "Sweden",
          "Japan",
          "Japan",
          "Japan",
          "Kazakhstan",
          "Greece",
          "South Africa",
          "Bangladesh"
         ],
         "yaxis": "y"
        }
       ],
       "layout": {
        "barmode": "relative",
        "legend": {
         "tracegroupgap": 0
        },
        "template": {
         "data": {
          "bar": [
           {
            "error_x": {
             "color": "#2a3f5f"
            },
            "error_y": {
             "color": "#2a3f5f"
            },
            "marker": {
             "line": {
              "color": "#E5ECF6",
              "width": 0.5
             },
             "pattern": {
              "fillmode": "overlay",
              "size": 10,
              "solidity": 0.2
             }
            },
            "type": "bar"
           }
          ],
          "barpolar": [
           {
            "marker": {
             "line": {
              "color": "#E5ECF6",
              "width": 0.5
             },
             "pattern": {
              "fillmode": "overlay",
              "size": 10,
              "solidity": 0.2
             }
            },
            "type": "barpolar"
           }
          ],
          "carpet": [
           {
            "aaxis": {
             "endlinecolor": "#2a3f5f",
             "gridcolor": "white",
             "linecolor": "white",
             "minorgridcolor": "white",
             "startlinecolor": "#2a3f5f"
            },
            "baxis": {
             "endlinecolor": "#2a3f5f",
             "gridcolor": "white",
             "linecolor": "white",
             "minorgridcolor": "white",
             "startlinecolor": "#2a3f5f"
            },
            "type": "carpet"
           }
          ],
          "choropleth": [
           {
            "colorbar": {
             "outlinewidth": 0,
             "ticks": ""
            },
            "type": "choropleth"
           }
          ],
          "contour": [
           {
            "colorbar": {
             "outlinewidth": 0,
             "ticks": ""
            },
            "colorscale": [
             [
              0,
              "#0d0887"
             ],
             [
              0.1111111111111111,
              "#46039f"
             ],
             [
              0.2222222222222222,
              "#7201a8"
             ],
             [
              0.3333333333333333,
              "#9c179e"
             ],
             [
              0.4444444444444444,
              "#bd3786"
             ],
             [
              0.5555555555555556,
              "#d8576b"
             ],
             [
              0.6666666666666666,
              "#ed7953"
             ],
             [
              0.7777777777777778,
              "#fb9f3a"
             ],
             [
              0.8888888888888888,
              "#fdca26"
             ],
             [
              1,
              "#f0f921"
             ]
            ],
            "type": "contour"
           }
          ],
          "contourcarpet": [
           {
            "colorbar": {
             "outlinewidth": 0,
             "ticks": ""
            },
            "type": "contourcarpet"
           }
          ],
          "heatmap": [
           {
            "colorbar": {
             "outlinewidth": 0,
             "ticks": ""
            },
            "colorscale": [
             [
              0,
              "#0d0887"
             ],
             [
              0.1111111111111111,
              "#46039f"
             ],
             [
              0.2222222222222222,
              "#7201a8"
             ],
             [
              0.3333333333333333,
              "#9c179e"
             ],
             [
              0.4444444444444444,
              "#bd3786"
             ],
             [
              0.5555555555555556,
              "#d8576b"
             ],
             [
              0.6666666666666666,
              "#ed7953"
             ],
             [
              0.7777777777777778,
              "#fb9f3a"
             ],
             [
              0.8888888888888888,
              "#fdca26"
             ],
             [
              1,
              "#f0f921"
             ]
            ],
            "type": "heatmap"
           }
          ],
          "heatmapgl": [
           {
            "colorbar": {
             "outlinewidth": 0,
             "ticks": ""
            },
            "colorscale": [
             [
              0,
              "#0d0887"
             ],
             [
              0.1111111111111111,
              "#46039f"
             ],
             [
              0.2222222222222222,
              "#7201a8"
             ],
             [
              0.3333333333333333,
              "#9c179e"
             ],
             [
              0.4444444444444444,
              "#bd3786"
             ],
             [
              0.5555555555555556,
              "#d8576b"
             ],
             [
              0.6666666666666666,
              "#ed7953"
             ],
             [
              0.7777777777777778,
              "#fb9f3a"
             ],
             [
              0.8888888888888888,
              "#fdca26"
             ],
             [
              1,
              "#f0f921"
             ]
            ],
            "type": "heatmapgl"
           }
          ],
          "histogram": [
           {
            "marker": {
             "pattern": {
              "fillmode": "overlay",
              "size": 10,
              "solidity": 0.2
             }
            },
            "type": "histogram"
           }
          ],
          "histogram2d": [
           {
            "colorbar": {
             "outlinewidth": 0,
             "ticks": ""
            },
            "colorscale": [
             [
              0,
              "#0d0887"
             ],
             [
              0.1111111111111111,
              "#46039f"
             ],
             [
              0.2222222222222222,
              "#7201a8"
             ],
             [
              0.3333333333333333,
              "#9c179e"
             ],
             [
              0.4444444444444444,
              "#bd3786"
             ],
             [
              0.5555555555555556,
              "#d8576b"
             ],
             [
              0.6666666666666666,
              "#ed7953"
             ],
             [
              0.7777777777777778,
              "#fb9f3a"
             ],
             [
              0.8888888888888888,
              "#fdca26"
             ],
             [
              1,
              "#f0f921"
             ]
            ],
            "type": "histogram2d"
           }
          ],
          "histogram2dcontour": [
           {
            "colorbar": {
             "outlinewidth": 0,
             "ticks": ""
            },
            "colorscale": [
             [
              0,
              "#0d0887"
             ],
             [
              0.1111111111111111,
              "#46039f"
             ],
             [
              0.2222222222222222,
              "#7201a8"
             ],
             [
              0.3333333333333333,
              "#9c179e"
             ],
             [
              0.4444444444444444,
              "#bd3786"
             ],
             [
              0.5555555555555556,
              "#d8576b"
             ],
             [
              0.6666666666666666,
              "#ed7953"
             ],
             [
              0.7777777777777778,
              "#fb9f3a"
             ],
             [
              0.8888888888888888,
              "#fdca26"
             ],
             [
              1,
              "#f0f921"
             ]
            ],
            "type": "histogram2dcontour"
           }
          ],
          "mesh3d": [
           {
            "colorbar": {
             "outlinewidth": 0,
             "ticks": ""
            },
            "type": "mesh3d"
           }
          ],
          "parcoords": [
           {
            "line": {
             "colorbar": {
              "outlinewidth": 0,
              "ticks": ""
             }
            },
            "type": "parcoords"
           }
          ],
          "pie": [
           {
            "automargin": true,
            "type": "pie"
           }
          ],
          "scatter": [
           {
            "fillpattern": {
             "fillmode": "overlay",
             "size": 10,
             "solidity": 0.2
            },
            "type": "scatter"
           }
          ],
          "scatter3d": [
           {
            "line": {
             "colorbar": {
              "outlinewidth": 0,
              "ticks": ""
             }
            },
            "marker": {
             "colorbar": {
              "outlinewidth": 0,
              "ticks": ""
             }
            },
            "type": "scatter3d"
           }
          ],
          "scattercarpet": [
           {
            "marker": {
             "colorbar": {
              "outlinewidth": 0,
              "ticks": ""
             }
            },
            "type": "scattercarpet"
           }
          ],
          "scattergeo": [
           {
            "marker": {
             "colorbar": {
              "outlinewidth": 0,
              "ticks": ""
             }
            },
            "type": "scattergeo"
           }
          ],
          "scattergl": [
           {
            "marker": {
             "colorbar": {
              "outlinewidth": 0,
              "ticks": ""
             }
            },
            "type": "scattergl"
           }
          ],
          "scattermapbox": [
           {
            "marker": {
             "colorbar": {
              "outlinewidth": 0,
              "ticks": ""
             }
            },
            "type": "scattermapbox"
           }
          ],
          "scatterpolar": [
           {
            "marker": {
             "colorbar": {
              "outlinewidth": 0,
              "ticks": ""
             }
            },
            "type": "scatterpolar"
           }
          ],
          "scatterpolargl": [
           {
            "marker": {
             "colorbar": {
              "outlinewidth": 0,
              "ticks": ""
             }
            },
            "type": "scatterpolargl"
           }
          ],
          "scatterternary": [
           {
            "marker": {
             "colorbar": {
              "outlinewidth": 0,
              "ticks": ""
             }
            },
            "type": "scatterternary"
           }
          ],
          "surface": [
           {
            "colorbar": {
             "outlinewidth": 0,
             "ticks": ""
            },
            "colorscale": [
             [
              0,
              "#0d0887"
             ],
             [
              0.1111111111111111,
              "#46039f"
             ],
             [
              0.2222222222222222,
              "#7201a8"
             ],
             [
              0.3333333333333333,
              "#9c179e"
             ],
             [
              0.4444444444444444,
              "#bd3786"
             ],
             [
              0.5555555555555556,
              "#d8576b"
             ],
             [
              0.6666666666666666,
              "#ed7953"
             ],
             [
              0.7777777777777778,
              "#fb9f3a"
             ],
             [
              0.8888888888888888,
              "#fdca26"
             ],
             [
              1,
              "#f0f921"
             ]
            ],
            "type": "surface"
           }
          ],
          "table": [
           {
            "cells": {
             "fill": {
              "color": "#EBF0F8"
             },
             "line": {
              "color": "white"
             }
            },
            "header": {
             "fill": {
              "color": "#C8D4E3"
             },
             "line": {
              "color": "white"
             }
            },
            "type": "table"
           }
          ]
         },
         "layout": {
          "annotationdefaults": {
           "arrowcolor": "#2a3f5f",
           "arrowhead": 0,
           "arrowwidth": 1
          },
          "autotypenumbers": "strict",
          "coloraxis": {
           "colorbar": {
            "outlinewidth": 0,
            "ticks": ""
           }
          },
          "colorscale": {
           "diverging": [
            [
             0,
             "#8e0152"
            ],
            [
             0.1,
             "#c51b7d"
            ],
            [
             0.2,
             "#de77ae"
            ],
            [
             0.3,
             "#f1b6da"
            ],
            [
             0.4,
             "#fde0ef"
            ],
            [
             0.5,
             "#f7f7f7"
            ],
            [
             0.6,
             "#e6f5d0"
            ],
            [
             0.7,
             "#b8e186"
            ],
            [
             0.8,
             "#7fbc41"
            ],
            [
             0.9,
             "#4d9221"
            ],
            [
             1,
             "#276419"
            ]
           ],
           "sequential": [
            [
             0,
             "#0d0887"
            ],
            [
             0.1111111111111111,
             "#46039f"
            ],
            [
             0.2222222222222222,
             "#7201a8"
            ],
            [
             0.3333333333333333,
             "#9c179e"
            ],
            [
             0.4444444444444444,
             "#bd3786"
            ],
            [
             0.5555555555555556,
             "#d8576b"
            ],
            [
             0.6666666666666666,
             "#ed7953"
            ],
            [
             0.7777777777777778,
             "#fb9f3a"
            ],
            [
             0.8888888888888888,
             "#fdca26"
            ],
            [
             1,
             "#f0f921"
            ]
           ],
           "sequentialminus": [
            [
             0,
             "#0d0887"
            ],
            [
             0.1111111111111111,
             "#46039f"
            ],
            [
             0.2222222222222222,
             "#7201a8"
            ],
            [
             0.3333333333333333,
             "#9c179e"
            ],
            [
             0.4444444444444444,
             "#bd3786"
            ],
            [
             0.5555555555555556,
             "#d8576b"
            ],
            [
             0.6666666666666666,
             "#ed7953"
            ],
            [
             0.7777777777777778,
             "#fb9f3a"
            ],
            [
             0.8888888888888888,
             "#fdca26"
            ],
            [
             1,
             "#f0f921"
            ]
           ]
          },
          "colorway": [
           "#636efa",
           "#EF553B",
           "#00cc96",
           "#ab63fa",
           "#FFA15A",
           "#19d3f3",
           "#FF6692",
           "#B6E880",
           "#FF97FF",
           "#FECB52"
          ],
          "font": {
           "color": "#2a3f5f"
          },
          "geo": {
           "bgcolor": "white",
           "lakecolor": "white",
           "landcolor": "#E5ECF6",
           "showlakes": true,
           "showland": true,
           "subunitcolor": "white"
          },
          "hoverlabel": {
           "align": "left"
          },
          "hovermode": "closest",
          "mapbox": {
           "style": "light"
          },
          "paper_bgcolor": "white",
          "plot_bgcolor": "#E5ECF6",
          "polar": {
           "angularaxis": {
            "gridcolor": "white",
            "linecolor": "white",
            "ticks": ""
           },
           "bgcolor": "#E5ECF6",
           "radialaxis": {
            "gridcolor": "white",
            "linecolor": "white",
            "ticks": ""
           }
          },
          "scene": {
           "xaxis": {
            "backgroundcolor": "#E5ECF6",
            "gridcolor": "white",
            "gridwidth": 2,
            "linecolor": "white",
            "showbackground": true,
            "ticks": "",
            "zerolinecolor": "white"
           },
           "yaxis": {
            "backgroundcolor": "#E5ECF6",
            "gridcolor": "white",
            "gridwidth": 2,
            "linecolor": "white",
            "showbackground": true,
            "ticks": "",
            "zerolinecolor": "white"
           },
           "zaxis": {
            "backgroundcolor": "#E5ECF6",
            "gridcolor": "white",
            "gridwidth": 2,
            "linecolor": "white",
            "showbackground": true,
            "ticks": "",
            "zerolinecolor": "white"
           }
          },
          "shapedefaults": {
           "line": {
            "color": "#2a3f5f"
           }
          },
          "ternary": {
           "aaxis": {
            "gridcolor": "white",
            "linecolor": "white",
            "ticks": ""
           },
           "baxis": {
            "gridcolor": "white",
            "linecolor": "white",
            "ticks": ""
           },
           "bgcolor": "#E5ECF6",
           "caxis": {
            "gridcolor": "white",
            "linecolor": "white",
            "ticks": ""
           }
          },
          "title": {
           "x": 0.05
          },
          "xaxis": {
           "automargin": true,
           "gridcolor": "white",
           "linecolor": "white",
           "ticks": "",
           "title": {
            "standoff": 15
           },
           "zerolinecolor": "white",
           "zerolinewidth": 2
          },
          "yaxis": {
           "automargin": true,
           "gridcolor": "white",
           "linecolor": "white",
           "ticks": "",
           "title": {
            "standoff": 15
           },
           "zerolinecolor": "white",
           "zerolinewidth": 2
          }
         }
        },
        "title": {
         "text": "Países que Perdieron Más Posiciones en el Top"
        },
        "xaxis": {
         "anchor": "y",
         "domain": [
          0,
          1
         ],
         "title": {
          "text": "count"
         }
        },
        "yaxis": {
         "anchor": "x",
         "domain": [
          0,
          1
         ],
         "title": {
          "text": "País"
         }
        }
       }
      }
     },
     "metadata": {},
     "output_type": "display_data"
    }
   ],
   "source": [
    "\n",
    "# Crear un gráfico de barras para los países que perdieron más posiciones en el top\n",
    "fig_2021_bar = px.bar(\n",
    "    df_empresas_viejas, \n",
    "    y='pais',  # La columna que representa los países\n",
    "    orientation='h',  # Barra horizontal\n",
    "    title='Países que Perdieron Más Posiciones en el Top',\n",
    "    labels={'posiciones_perdidas': 'Posiciones Perdidas', 'pais': 'País'},\n",
    "    template='plotly'\n",
    ")\n",
    "\n",
    "# Mostrar el gráfico de barras para posiciones perdidas\n",
    "fig_2021_bar.show()\n"
   ]
  },
  {
   "cell_type": "code",
   "execution_count": 39,
   "metadata": {},
   "outputs": [
    {
     "data": {
      "application/vnd.plotly.v1+json": {
       "config": {
        "plotlyServerURL": "https://plot.ly"
       },
       "data": [
        {
         "alignmentgroup": "True",
         "hovertemplate": "count=%{x}<br>País=%{y}<extra></extra>",
         "legendgroup": "",
         "marker": {
          "color": "#636efa",
          "pattern": {
           "shape": ""
          }
         },
         "name": "",
         "offsetgroup": "",
         "orientation": "h",
         "showlegend": false,
         "textposition": "auto",
         "type": "bar",
         "x": [
          1,
          1,
          1,
          1,
          1,
          1,
          1,
          1,
          1,
          1,
          1,
          1,
          1,
          1,
          1,
          1,
          1,
          1,
          1,
          1,
          1,
          1,
          1,
          1,
          1,
          1,
          1,
          1,
          1,
          1,
          1,
          1,
          1,
          1,
          1,
          1,
          1,
          1,
          1,
          1,
          1,
          1,
          1,
          1,
          1,
          1,
          1,
          1,
          1,
          1,
          1,
          1,
          1,
          1,
          1,
          1,
          1,
          1,
          1,
          1,
          1,
          1,
          1,
          1,
          1,
          1,
          1,
          1,
          1,
          1,
          1,
          1,
          1,
          1,
          1,
          1,
          1,
          1,
          1,
          1,
          1,
          1,
          1,
          1,
          1,
          1,
          1,
          1,
          1,
          1,
          1,
          1,
          1,
          1,
          1,
          1,
          1,
          1,
          1,
          1,
          1,
          1,
          1,
          1,
          1,
          1,
          1,
          1,
          1,
          1,
          1,
          1,
          1,
          1,
          1,
          1,
          1,
          1,
          1,
          1,
          1,
          1,
          1,
          1,
          1,
          1,
          1,
          1,
          1,
          1,
          1,
          1,
          1,
          1,
          1,
          1,
          1,
          1,
          1,
          1,
          1,
          1,
          1,
          1,
          1,
          1,
          1,
          1,
          1,
          1,
          1,
          1,
          1,
          1,
          1,
          1,
          1,
          1,
          1,
          1,
          1,
          1,
          1,
          1,
          1,
          1,
          1,
          1,
          1,
          1,
          1,
          1,
          1,
          1,
          1,
          1,
          1,
          1,
          1,
          1,
          1,
          1,
          1,
          1,
          1,
          1,
          1,
          1,
          1,
          1,
          1,
          1,
          1,
          1,
          1,
          1,
          1,
          1,
          1,
          1,
          1,
          1,
          1,
          1,
          1,
          1,
          1,
          1,
          1,
          1,
          1,
          1,
          1,
          1,
          1,
          1,
          1,
          1,
          1,
          1,
          1,
          1,
          1,
          1,
          1,
          1,
          1,
          1,
          1,
          1,
          1,
          1,
          1,
          1,
          1,
          1,
          1,
          1,
          1,
          1,
          1,
          1,
          1,
          1,
          1,
          1,
          1,
          1,
          1,
          1,
          1,
          1,
          1,
          1,
          1,
          1,
          1,
          1,
          1,
          1,
          1,
          1,
          1,
          1,
          1,
          1,
          1,
          1,
          1,
          1,
          1,
          1,
          1,
          1,
          1,
          1,
          1,
          1,
          1,
          1,
          1,
          1,
          1,
          1,
          1,
          1,
          1,
          1,
          1,
          1,
          1,
          1,
          1,
          1,
          1,
          1,
          1,
          1,
          1,
          1,
          1,
          1,
          1,
          1,
          1,
          1,
          1,
          1,
          1,
          1,
          1,
          1,
          1,
          1,
          1,
          1,
          1,
          1,
          1,
          1,
          1,
          1,
          1,
          1,
          1,
          1,
          1,
          1,
          1,
          1,
          1,
          1,
          1,
          1,
          1,
          1,
          1,
          1,
          1,
          1,
          1,
          1,
          1,
          1,
          1,
          1,
          1,
          1,
          1,
          1,
          1,
          1,
          1,
          1,
          1,
          1,
          1,
          1,
          1,
          1,
          1,
          1,
          1,
          1,
          1,
          1,
          1,
          1,
          1,
          1,
          1,
          1,
          1,
          1,
          1,
          1,
          1,
          1,
          1,
          1,
          1,
          1,
          1,
          1,
          1,
          1,
          1,
          1,
          1,
          1,
          1,
          1,
          1,
          1,
          1,
          1,
          1,
          1,
          1,
          1,
          1,
          1,
          1,
          1,
          1,
          1,
          1,
          1,
          1,
          1,
          1,
          1,
          1,
          1,
          1,
          1,
          1,
          1,
          1,
          1,
          1,
          1,
          1,
          1,
          1,
          1,
          1,
          1,
          1,
          1,
          1,
          1,
          1,
          1,
          1,
          1,
          1,
          1,
          1,
          1,
          1,
          1,
          1,
          1,
          1,
          1,
          1,
          1,
          1,
          1,
          1,
          1,
          1,
          1,
          1,
          1,
          1,
          1,
          1,
          1,
          1,
          1,
          1,
          1,
          1,
          1,
          1,
          1,
          1,
          1,
          1,
          1,
          1,
          1,
          1,
          1,
          1,
          1,
          1,
          1,
          1,
          1,
          1,
          1,
          1,
          1,
          1,
          1,
          1,
          1,
          1,
          1,
          1,
          1,
          1,
          1,
          1,
          1,
          1,
          1,
          1,
          1,
          1,
          1,
          1,
          1,
          1,
          1,
          1,
          1,
          1,
          1,
          1,
          1,
          1,
          1,
          1,
          1,
          1,
          1,
          1,
          1,
          1,
          1,
          1,
          1,
          1,
          1,
          1,
          1,
          1,
          1,
          1,
          1,
          1,
          1,
          1,
          1,
          1,
          1,
          1,
          1,
          1,
          1,
          1,
          1,
          1,
          1,
          1,
          1,
          1,
          1,
          1,
          1,
          1,
          1,
          1,
          1,
          1,
          1,
          1,
          1,
          1,
          1,
          1,
          1,
          1,
          1,
          1,
          1,
          1,
          1,
          1,
          1,
          1,
          1,
          1,
          1,
          1,
          1,
          1,
          1,
          1,
          1,
          1,
          1,
          1,
          1,
          1,
          1,
          1,
          1,
          1,
          1,
          1,
          1,
          1,
          1,
          1,
          1,
          1,
          1,
          1,
          1,
          1,
          1,
          1,
          1,
          1,
          1,
          1,
          1,
          1,
          1,
          1,
          1,
          1,
          1,
          1,
          1,
          1,
          1,
          1,
          1,
          1,
          1,
          1,
          1,
          1,
          1,
          1,
          1,
          1,
          1,
          1,
          1,
          1,
          1,
          1,
          1,
          1,
          1,
          1,
          1,
          1,
          1,
          1,
          1,
          1,
          1,
          1,
          1,
          1,
          1,
          1,
          1,
          1,
          1,
          1,
          1,
          1,
          1,
          1,
          1,
          1,
          1,
          1,
          1,
          1,
          1,
          1,
          1,
          1,
          1,
          1,
          1,
          1,
          1,
          1,
          1,
          1,
          1,
          1,
          1,
          1,
          1,
          1,
          1,
          1,
          1,
          1,
          1,
          1,
          1,
          1,
          1,
          1,
          1,
          1,
          1,
          1,
          1,
          1,
          1,
          1,
          1,
          1,
          1,
          1,
          1,
          1,
          1,
          1,
          1,
          1,
          1,
          1,
          1,
          1,
          1,
          1,
          1,
          1,
          1,
          1,
          1,
          1,
          1,
          1,
          1,
          1,
          1,
          1,
          1,
          1,
          1,
          1,
          1,
          1,
          1,
          1,
          1,
          1,
          1,
          1,
          1,
          1,
          1,
          1,
          1,
          1,
          1,
          1,
          1,
          1,
          1,
          1,
          1,
          1,
          1,
          1,
          1,
          1,
          1,
          1,
          1,
          1,
          1,
          1,
          1,
          1,
          1,
          1,
          1,
          1,
          1,
          1,
          1,
          1,
          1,
          1,
          1,
          1,
          1,
          1,
          1,
          1,
          1,
          1,
          1,
          1,
          1,
          1,
          1,
          1,
          1,
          1,
          1,
          1,
          1,
          1,
          1,
          1,
          1,
          1,
          1,
          1,
          1,
          1,
          1,
          1,
          1,
          1,
          1,
          1,
          1,
          1,
          1,
          1,
          1,
          1,
          1,
          1,
          1,
          1,
          1,
          1,
          1,
          1,
          1,
          1,
          1,
          1,
          1,
          1,
          1,
          1,
          1,
          1,
          1,
          1,
          1,
          1,
          1,
          1,
          1,
          1,
          1,
          1,
          1,
          1,
          1,
          1,
          1,
          1,
          1,
          1,
          1,
          1,
          1,
          1,
          1,
          1,
          1,
          1,
          1,
          1,
          1,
          1,
          1,
          1,
          1,
          1,
          1,
          1,
          1,
          1,
          1,
          1,
          1,
          1,
          1,
          1,
          1,
          1,
          1,
          1,
          1,
          1,
          1,
          1,
          1,
          1,
          1,
          1,
          1,
          1,
          1,
          1,
          1,
          1,
          1,
          1,
          1,
          1,
          1,
          1,
          1,
          1,
          1,
          1,
          1,
          1,
          1,
          1,
          1,
          1,
          1,
          1,
          1,
          1,
          1,
          1,
          1,
          1,
          1,
          1,
          1,
          1,
          1,
          1,
          1,
          1,
          1,
          1,
          1,
          1,
          1,
          1,
          1,
          1,
          1,
          1,
          1,
          1,
          1,
          1,
          1,
          1,
          1,
          1,
          1,
          1,
          1,
          1,
          1,
          1,
          1,
          1,
          1,
          1,
          1,
          1,
          1,
          1,
          1,
          1,
          1,
          1,
          1,
          1,
          1,
          1,
          1,
          1,
          1,
          1,
          1,
          1,
          1,
          1,
          1,
          1,
          1,
          1,
          1,
          1,
          1,
          1,
          1,
          1,
          1,
          1,
          1,
          1,
          1,
          1,
          1,
          1,
          1,
          1,
          1,
          1,
          1,
          1,
          1,
          1,
          1,
          1,
          1,
          1,
          1,
          1,
          1,
          1,
          1,
          1,
          1,
          1,
          1,
          1,
          1,
          1,
          1,
          1,
          1,
          1,
          1,
          1,
          1,
          1,
          1,
          1,
          1,
          1,
          1,
          1,
          1,
          1,
          1,
          1,
          1,
          1,
          1,
          1,
          1,
          1,
          1,
          1,
          1,
          1,
          1,
          1,
          1,
          1,
          1,
          1,
          1,
          1,
          1,
          1,
          1,
          1,
          1,
          1,
          1,
          1,
          1,
          1,
          1,
          1,
          1,
          1,
          1,
          1,
          1,
          1,
          1,
          1,
          1,
          1,
          1,
          1,
          1,
          1,
          1,
          1,
          1,
          1,
          1,
          1,
          1,
          1,
          1,
          1,
          1,
          1,
          1,
          1,
          1,
          1,
          1,
          1,
          1,
          1,
          1,
          1,
          1,
          1,
          1,
          1,
          1,
          1,
          1,
          1,
          1,
          1,
          1,
          1,
          1,
          1,
          1,
          1,
          1,
          1,
          1,
          1,
          1,
          1,
          1,
          1,
          1,
          1,
          1,
          1,
          1,
          1,
          1,
          1,
          1,
          1,
          1,
          1,
          1,
          1,
          1,
          1,
          1,
          1,
          1,
          1,
          1,
          1,
          1,
          1,
          1,
          1,
          1,
          1,
          1,
          1,
          1,
          1,
          1,
          1,
          1,
          1,
          1,
          1,
          1,
          1,
          1,
          1,
          1,
          1,
          1,
          1,
          1,
          1,
          1,
          1,
          1,
          1,
          1,
          1,
          1,
          1,
          1,
          1,
          1,
          1,
          1,
          1,
          1,
          1,
          1,
          1,
          1,
          1,
          1,
          1,
          1,
          1,
          1,
          1,
          1,
          1,
          1,
          1,
          1,
          1,
          1,
          1,
          1,
          1,
          1,
          1,
          1,
          1,
          1,
          1,
          1,
          1,
          1,
          1,
          1,
          1,
          1,
          1,
          1,
          1,
          1,
          1,
          1,
          1,
          1,
          1,
          1,
          1,
          1,
          1,
          1,
          1,
          1,
          1,
          1,
          1,
          1,
          1,
          1,
          1,
          1,
          1,
          1,
          1,
          1,
          1,
          1,
          1,
          1,
          1,
          1,
          1,
          1,
          1,
          1,
          1,
          1,
          1,
          1,
          1,
          1,
          1,
          1,
          1,
          1,
          1,
          1,
          1,
          1,
          1,
          1,
          1,
          1,
          1,
          1,
          1,
          1,
          1,
          1,
          1,
          1,
          1,
          1,
          1,
          1,
          1,
          1,
          1,
          1,
          1,
          1,
          1,
          1,
          1,
          1,
          1,
          1,
          1,
          1,
          1,
          1,
          1,
          1,
          1,
          1,
          1,
          1,
          1,
          1,
          1,
          1,
          1,
          1,
          1,
          1,
          1,
          1,
          1,
          1,
          1,
          1,
          1,
          1,
          1,
          1,
          1,
          1,
          1,
          1,
          1,
          1,
          1,
          1,
          1,
          1,
          1,
          1,
          1,
          1,
          1,
          1,
          1,
          1,
          1,
          1,
          1,
          1,
          1,
          1,
          1,
          1,
          1,
          1,
          1,
          1,
          1,
          1,
          1,
          1,
          1,
          1,
          1,
          1,
          1,
          1,
          1,
          1,
          1,
          1,
          1,
          1,
          1,
          1,
          1,
          1,
          1,
          1,
          1,
          1,
          1,
          1,
          1,
          1,
          1,
          1,
          1,
          1,
          1,
          1,
          1,
          1,
          1,
          1,
          1,
          1,
          1,
          1,
          1,
          1,
          1,
          1,
          1,
          1,
          1,
          1,
          1,
          1,
          1,
          1,
          1,
          1,
          1,
          1,
          1,
          1,
          1,
          1,
          1,
          1,
          1,
          1,
          1,
          1,
          1,
          1,
          1,
          1,
          1,
          1,
          1,
          1,
          1,
          1,
          1,
          1,
          1,
          1,
          1,
          1,
          1,
          1,
          1,
          1,
          1,
          1,
          1,
          1,
          1,
          1,
          1,
          1,
          1,
          1,
          1,
          1,
          1,
          1,
          1,
          1,
          1,
          1,
          1,
          1,
          1,
          1,
          1,
          1,
          1,
          1,
          1,
          1,
          1,
          1,
          1,
          1,
          1,
          1,
          1,
          1,
          1,
          1,
          1,
          1,
          1,
          1,
          1,
          1,
          1,
          1,
          1,
          1,
          1,
          1,
          1,
          1,
          1,
          1,
          1,
          1,
          1,
          1,
          1,
          1,
          1,
          1,
          1,
          1,
          1,
          1,
          1,
          1,
          1,
          1,
          1,
          1,
          1,
          1,
          1,
          1,
          1,
          1,
          1,
          1,
          1,
          1,
          1,
          1,
          1,
          1,
          1,
          1,
          1,
          1,
          1,
          1,
          1,
          1,
          1,
          1,
          1,
          1,
          1,
          1,
          1,
          1,
          1,
          1,
          1,
          1,
          1,
          1,
          1,
          1,
          1,
          1,
          1,
          1,
          1,
          1,
          1,
          1,
          1,
          1,
          1,
          1,
          1,
          1,
          1,
          1,
          1,
          1,
          1,
          1,
          1,
          1,
          1,
          1,
          1,
          1,
          1,
          1,
          1,
          1,
          1,
          1,
          1,
          1,
          1,
          1,
          1,
          1,
          1,
          1,
          1,
          1,
          1,
          1,
          1,
          1,
          1,
          1,
          1,
          1,
          1,
          1,
          1,
          1,
          1,
          1,
          1,
          1,
          1,
          1,
          1,
          1,
          1,
          1,
          1,
          1,
          1,
          1,
          1,
          1,
          1,
          1,
          1,
          1,
          1,
          1,
          1,
          1,
          1,
          1,
          1,
          1,
          1,
          1,
          1,
          1,
          1,
          1,
          1,
          1,
          1,
          1,
          1,
          1,
          1,
          1,
          1,
          1,
          1,
          1,
          1,
          1,
          1,
          1,
          1,
          1,
          1,
          1,
          1,
          1,
          1,
          1,
          1,
          1,
          1,
          1,
          1,
          1,
          1,
          1,
          1,
          1,
          1,
          1,
          1,
          1,
          1,
          1,
          1,
          1,
          1,
          1,
          1,
          1,
          1,
          1,
          1,
          1,
          1,
          1,
          1,
          1,
          1,
          1,
          1,
          1,
          1,
          1,
          1,
          1,
          1,
          1,
          1,
          1,
          1,
          1,
          1,
          1,
          1,
          1,
          1,
          1,
          1,
          1,
          1,
          1,
          1,
          1,
          1,
          1,
          1,
          1,
          1,
          1,
          1,
          1,
          1,
          1,
          1,
          1,
          1,
          1,
          1,
          1,
          1,
          1,
          1,
          1,
          1,
          1,
          1,
          1,
          1,
          1,
          1,
          1,
          1,
          1,
          1,
          1,
          1,
          1,
          1,
          1,
          1,
          1,
          1,
          1,
          1,
          1,
          1,
          1,
          1,
          1,
          1,
          1,
          1,
          1,
          1,
          1,
          1,
          1,
          1,
          1,
          1,
          1,
          1,
          1,
          1,
          1,
          1,
          1,
          1,
          1,
          1,
          1,
          1,
          1,
          1,
          1,
          1,
          1,
          1,
          1,
          1,
          1,
          1,
          1,
          1,
          1,
          1,
          1,
          1,
          1,
          1,
          1,
          1,
          1,
          1,
          1,
          1,
          1,
          1,
          1,
          1,
          1,
          1,
          1,
          1,
          1,
          1,
          1,
          1,
          1,
          1,
          1,
          1,
          1,
          1,
          1,
          1,
          1,
          1,
          1,
          1,
          1,
          1,
          1,
          1,
          1,
          1,
          1,
          1,
          1,
          1,
          1,
          1,
          1,
          1,
          1,
          1,
          1,
          1,
          1,
          1,
          1,
          1,
          1,
          1,
          1,
          1,
          1,
          1,
          1,
          1,
          1,
          1,
          1,
          1,
          1,
          1,
          1,
          1,
          1,
          1,
          1,
          1,
          1,
          1,
          1,
          1,
          1,
          1,
          1,
          1,
          1,
          1,
          1,
          1,
          1,
          1,
          1,
          1,
          1,
          1,
          1,
          1,
          1,
          1,
          1,
          1,
          1,
          1,
          1,
          1,
          1,
          1,
          1,
          1,
          1,
          1,
          1,
          1,
          1,
          1,
          1,
          1,
          1,
          1,
          1,
          1,
          1,
          1,
          1,
          1,
          1,
          1,
          1,
          1,
          1,
          1,
          1,
          1,
          1,
          1,
          1,
          1,
          1,
          1,
          1,
          1,
          1,
          1,
          1,
          1,
          1,
          1,
          1,
          1,
          1,
          1,
          1,
          1,
          1,
          1,
          1,
          1,
          1,
          1,
          1,
          1,
          1,
          1,
          1,
          1,
          1,
          1,
          1,
          1,
          1,
          1,
          1,
          1,
          1,
          1,
          1,
          1,
          1,
          1,
          1,
          1,
          1,
          1,
          1,
          1,
          1
         ],
         "xaxis": "x",
         "y": [
          "United States",
          "United States",
          "Saudi Arabia",
          "United States",
          "United States",
          "United States",
          "United States",
          "United States",
          "United States",
          "France",
          "United States",
          "United States",
          "United States",
          "Taiwan",
          "United States",
          "China",
          "United States",
          "United States",
          "United States",
          "United States",
          "United States",
          "Denmark",
          "Switzerland",
          "South Korea",
          "China",
          "United States",
          "United States",
          "United States",
          "United States",
          "United States",
          "United States",
          "United States",
          "United States",
          "Netherlands",
          "Switzerland",
          "France",
          "United Arab Emirates",
          "United Kingdom",
          "France",
          "United States",
          "United States",
          "China",
          "United States",
          "United States",
          "United States",
          "Switzerland",
          "United Kingdom",
          "China",
          "United States",
          "United States",
          "United States",
          "United States",
          "India",
          "Japan",
          "Hong Kong",
          "United States",
          "United Kingdom",
          "United States",
          "Ireland",
          "China",
          "United States",
          "United States",
          "United States",
          "Germany",
          "United States",
          "France",
          "United Kingdom",
          "United States",
          "United States",
          "Australia",
          "United States",
          "United States",
          "India",
          "China",
          "United States",
          "United States",
          "United States",
          "China",
          "United States",
          "United States",
          "France",
          "United Kingdom",
          "China",
          "Canada",
          "United States",
          "Germany",
          "China",
          "United States",
          "Belgium",
          "United States",
          "China",
          "United States",
          "United States",
          "United States",
          "China",
          "United States",
          "United States",
          "United States",
          "Hong Kong",
          "Ireland",
          "United States",
          "United States",
          "United States",
          "Germany",
          "Germany",
          "United States",
          "Japan",
          "China",
          "Japan",
          "United States",
          "United States",
          "United States",
          "Canada",
          "United States",
          "United States",
          "India",
          "China",
          "United States",
          "Australia",
          "United States",
          "United States",
          "Spain",
          "United Kingdom",
          "China",
          "United States",
          "United States",
          "Japan",
          "France",
          "United States",
          "United Kingdom",
          "United Kingdom",
          "United States",
          "United States",
          "United States",
          "Australia",
          "France",
          "China",
          "United Arab Emirates",
          "United States",
          "Germany",
          "United States",
          "Switzerland",
          "France",
          "United States",
          "Norway",
          "United States",
          "United States",
          "United States",
          "France",
          "United States",
          "United States",
          "United States",
          "United States",
          "United States",
          "United States",
          "China",
          "United States",
          "United States",
          "United States",
          "United States",
          "Ireland",
          "Switzerland",
          "United States",
          "Spain",
          "Canada",
          "Canada",
          "Saudi Arabia",
          "Germany",
          "Canada",
          "India",
          "United Kingdom",
          "France",
          "Germany",
          "China",
          "United States",
          "Japan",
          "United States",
          "United States",
          "United States",
          "United States",
          "Germany",
          "United States",
          "Indonesia",
          "France",
          "Canada",
          "United Kingdom",
          "United States",
          "United States",
          "Hong Kong",
          "United States",
          "Japan",
          "United States",
          "United States",
          "United States",
          "Sweden",
          "Switzerland",
          "Germany",
          "France",
          "Switzerland",
          "United States",
          "Italy",
          "Japan",
          "United States",
          "United States",
          "Ireland",
          "United States",
          "France",
          "China",
          "Ireland",
          "United States",
          "United States",
          "United States",
          "Mexico",
          "United States",
          "Switzerland",
          "Japan",
          "United States",
          "United States",
          "Sweden",
          "United States",
          "India",
          "United States",
          "France",
          "India",
          "Germany",
          "Canada",
          "Brazil",
          "India",
          "United States",
          "Canada",
          "Uruguay",
          "Singapore",
          "Brazil",
          "United States",
          "India",
          "France",
          "China",
          "Japan",
          "United States",
          "Japan",
          "United States",
          "Canada",
          "United Arab Emirates",
          "Switzerland",
          "Saudi Arabia",
          "United Kingdom",
          "United States",
          "United Kingdom",
          "United States",
          "United States",
          "Saudi Arabia",
          "United States",
          "China",
          "United Kingdom",
          "Japan",
          "United States",
          "Canada",
          "China",
          "China",
          "Spain",
          "United States",
          "Australia",
          "Japan",
          "United States",
          "United States",
          "United States",
          "China",
          "United States",
          "United Arab Emirates",
          "Germany",
          "China",
          "Japan",
          "United States",
          "Japan",
          "Italy",
          "United States",
          "Indonesia",
          "Japan",
          "India",
          "United States",
          "United States",
          "Japan",
          "United Kingdom",
          "United Kingdom",
          "United States",
          "United States",
          "France",
          "France",
          "Japan",
          "United States",
          "United States",
          "United States",
          "United States",
          "China",
          "Hong Kong",
          "China",
          "United States",
          "Brazil",
          "Germany",
          "Canada",
          "China",
          "Brazil",
          "United States",
          "United States",
          "China",
          "Australia",
          "United States",
          "United States",
          "Italy",
          "Netherlands",
          "United States",
          "United States",
          "United States",
          "Japan",
          "Canada",
          "Japan",
          "United States",
          "Netherlands",
          "Italy",
          "Canada",
          "United States",
          "United States",
          "Switzerland",
          "United States",
          "Japan",
          "Australia",
          "Germany",
          "United States",
          "United States",
          "United States",
          "Germany",
          "United States",
          "Taiwan",
          "United States",
          "China",
          "United States",
          "United States",
          "United States",
          "United States",
          "United States",
          "United States",
          "Indonesia",
          "United States",
          "India",
          "United States",
          "China",
          "United States",
          "United States",
          "United States",
          "South Korea",
          "United States",
          "China",
          "United Kingdom",
          "United States",
          "United States",
          "United States",
          "United States",
          "Japan",
          "Japan",
          "Saudi Arabia",
          "Japan",
          "United States",
          "Australia",
          "Canada",
          "China",
          "Netherlands",
          "Netherlands",
          "India",
          "South Korea",
          "Qatar",
          "Singapore",
          "Switzerland",
          "United States",
          "United States",
          "Ireland",
          "United States",
          "United States",
          "France",
          "United Arab Emirates",
          "United States",
          "China",
          "Australia",
          "United States",
          "China",
          "Australia",
          "United States",
          "United States",
          "United States",
          "United States",
          "Canada",
          "United States",
          "China",
          "United States",
          "United Kingdom",
          "Spain",
          "Denmark",
          "United States",
          "United Kingdom",
          "Canada",
          "Sweden",
          "United States",
          "China",
          "India",
          "Hong Kong",
          "United States",
          "Japan",
          "China",
          "China",
          "United States",
          "Ireland",
          "Italy",
          "Japan",
          "United Kingdom",
          "Switzerland",
          "United States",
          "United States",
          "Australia",
          "Japan",
          "Denmark",
          "United States",
          "Canada",
          "South Korea",
          "United States",
          "United States",
          "France",
          "Switzerland",
          "United States",
          "United States",
          "Japan",
          "Finland",
          "United States",
          "United States",
          "Hong Kong",
          "Netherlands",
          "United States",
          "United States",
          "Switzerland",
          "China",
          "United States",
          "United States",
          "United Kingdom",
          "United States",
          "United States",
          "United Kingdom",
          "Mexico",
          "Canada",
          "United States",
          "United States",
          "Japan",
          "United States",
          "China",
          "United States",
          "United States",
          "Canada",
          "Japan",
          "China",
          "Ireland",
          "Canada",
          "China",
          "Switzerland",
          "United States",
          "United States",
          "Switzerland",
          "Finland",
          "United States",
          "United States",
          "United States",
          "China",
          "United States",
          "South Africa",
          "United States",
          "Germany",
          "United States",
          "China",
          "United States",
          "Singapore",
          "Canada",
          "United States",
          "India",
          "Kuwait",
          "Switzerland",
          "United States",
          "United States",
          "Taiwan",
          "Mexico",
          "India",
          "United States",
          "United States",
          "United States",
          "Germany",
          "South Korea",
          "United States",
          "China",
          "Ireland",
          "France",
          "United States",
          "United States",
          "United States",
          "Germany",
          "France",
          "United States",
          "United States",
          "Germany",
          "United States",
          "Japan",
          "Australia",
          "United States",
          "Germany",
          "United States",
          "United States",
          "Brazil",
          "Hong Kong",
          "United States",
          "United States",
          "China",
          "United States",
          "United States",
          "Japan",
          "United States",
          "Switzerland",
          "Indonesia",
          "United States",
          "United States",
          "India",
          "United States",
          "Netherlands",
          "United Kingdom",
          "Canada",
          "Singapore",
          "China",
          "United States",
          "China",
          "Australia",
          "United States",
          "Taiwan",
          "United States",
          "France",
          "Brazil",
          "United States",
          "Italy",
          "United Kingdom",
          "Hong Kong",
          "United States",
          "Germany",
          "United States",
          "United States",
          "Saudi Arabia",
          "Spain",
          "France",
          "United Kingdom",
          "China",
          "China",
          "Ireland",
          "United States",
          "United States",
          "United States",
          "Thailand",
          "Denmark",
          "Sweden",
          "Australia",
          "United States",
          "United States",
          "United States",
          "Canada",
          "United States",
          "Canada",
          "Czech Republic",
          "United States",
          "Denmark",
          "Spain",
          "Israel",
          "Austria",
          "Canada",
          "Finland",
          "United States",
          "United Kingdom",
          "United Kingdom",
          "United Kingdom",
          "Hong Kong",
          "United States",
          "Netherlands",
          "Spain",
          "China",
          "United States",
          "India",
          "France",
          "Switzerland",
          "China",
          "Belgium",
          "Japan",
          "Cayman Islands",
          "United States",
          "Japan",
          "United States",
          "United States",
          "United States",
          "Switzerland",
          "United States",
          "China",
          "United States",
          "India",
          "India",
          "Canada",
          "United States",
          "China",
          "Denmark",
          "Indonesia",
          "United States",
          "Bermuda",
          "Japan",
          "China",
          "China",
          "United States",
          "Saudi Arabia",
          "Japan",
          "Netherlands",
          "China",
          "United States",
          "Germany",
          "United States",
          "Saudi Arabia",
          "Norway",
          "China",
          "Sweden",
          "Luxembourg",
          "United States",
          "Japan",
          "United States",
          "United States",
          "Germany",
          "India",
          "United States",
          "China",
          "China",
          "Sweden",
          "Spain",
          "India",
          "Taiwan",
          "China",
          "United States",
          "Denmark",
          "Germany",
          "United States",
          "Hong Kong",
          "China",
          "United States",
          "United States",
          "Canada",
          "South Korea",
          "United Kingdom",
          "United States",
          "China",
          "United States",
          "United States",
          "Ireland",
          "Japan",
          "Taiwan",
          "Saudi Arabia",
          "Cayman Islands",
          "Thailand",
          "United Kingdom",
          "United States",
          "Finland",
          "China",
          "Spain",
          "Canada",
          "United Kingdom",
          "Sweden",
          "India",
          "Kuwait",
          "Switzerland",
          "Australia",
          "Ireland",
          "United States",
          "China",
          "Switzerland",
          "France",
          "China",
          "Sweden",
          "Brazil",
          "United States",
          "Japan",
          "Canada",
          "Mexico",
          "China",
          "Japan",
          "India",
          "United States",
          "Mexico",
          "United States",
          "China",
          "United States",
          "Japan",
          "United States",
          "United States",
          "United States",
          "United States",
          "United States",
          "Hong Kong",
          "Japan",
          "China",
          "Sweden",
          "Switzerland",
          "United Kingdom",
          "United Arab Emirates",
          "United States",
          "Spain",
          "United States",
          "United States",
          "United States",
          "United States",
          "United States",
          "United States",
          "Taiwan",
          "China",
          "United States",
          "Japan",
          "United States",
          "Malaysia",
          "United States",
          "Canada",
          "Sweden",
          "Hong Kong",
          "Japan",
          "United States",
          "Canada",
          "United States",
          "United States",
          "United States",
          "Sweden",
          "United States",
          "France",
          "China",
          "Japan",
          "Finland",
          "China",
          "China",
          "United States",
          "China",
          "United States",
          "United States",
          "United States",
          "Japan",
          "United States",
          "United States",
          "Spain",
          "China",
          "Sweden",
          "China",
          "Taiwan",
          "United States",
          "India",
          "Japan",
          "United States",
          "Netherlands",
          "Canada",
          "Portugal",
          "Japan",
          "South Korea",
          "China",
          "Canada",
          "United Arab Emirates",
          "China",
          "United States",
          "Japan",
          "Denmark",
          "United Kingdom",
          "Qatar",
          "Japan",
          "Canada",
          "France",
          "United States",
          "United States",
          "China",
          "South Korea",
          "United States",
          "India",
          "Germany",
          "United States",
          "United Kingdom",
          "Sweden",
          "United States",
          "United States",
          "United Kingdom",
          "Hong Kong",
          "Japan",
          "United States",
          "United States",
          "United States",
          "China",
          "Luxembourg",
          "United States",
          "United States",
          "United States",
          "United States",
          "United States",
          "India",
          "United States",
          "United States",
          "India",
          "China",
          "China",
          "Philippines",
          "Japan",
          "Taiwan",
          "United States",
          "Hong Kong",
          "Taiwan",
          "Japan",
          "China",
          "Italy",
          "United Kingdom",
          "United States",
          "China",
          "Hong Kong",
          "Switzerland",
          "United States",
          "Japan",
          "Japan",
          "China",
          "United States",
          "Japan",
          "Germany",
          "China",
          "France",
          "Taiwan",
          "United States",
          "United States",
          "Switzerland",
          "China",
          "United States",
          "Chile",
          "China",
          "United Kingdom",
          "China",
          "South Africa",
          "United States",
          "United States",
          "Switzerland",
          "Netherlands",
          "United States",
          "Japan",
          "Switzerland",
          "Hong Kong",
          "Japan",
          "United Kingdom",
          "Saudi Arabia",
          "United States",
          "Sweden",
          "China",
          "Japan",
          "South Korea",
          "United Kingdom",
          "Japan",
          "Spain",
          "China",
          "China",
          "Colombia",
          "Italy",
          "Italy",
          "Thailand",
          "China",
          "China",
          "Ireland",
          "China",
          "Ireland",
          "Netherlands",
          "United States",
          "United States",
          "China",
          "Netherlands",
          "United States",
          "United States",
          "China",
          "Canada",
          "United States",
          "India",
          "China",
          "Japan",
          "Japan",
          "United States",
          "Canada",
          "United Kingdom",
          "Singapore",
          "Japan",
          "China",
          "United States",
          "Canada",
          "Switzerland",
          "Vietnam",
          "Sweden",
          "United States",
          "India",
          "China",
          "United States",
          "United States",
          "United States",
          "Japan",
          "Canada",
          "United States",
          "Australia",
          "United States",
          "India",
          "United States",
          "Canada",
          "United States",
          "Canada",
          "United States",
          "Japan",
          "Finland",
          "United States",
          "Canada",
          "Hong Kong",
          "China",
          "Italy",
          "Poland",
          "Malaysia",
          "United States",
          "United States",
          "Japan",
          "Mexico",
          "United States",
          "Brazil",
          "Switzerland",
          "Belgium",
          "Japan",
          "Denmark",
          "China",
          "United States",
          "United States",
          "United Kingdom",
          "Brazil",
          "Sweden",
          "China",
          "Switzerland",
          "United States",
          "Hong Kong",
          "United States",
          "United States",
          "Thailand",
          "Norway",
          "United States",
          "China",
          "United States",
          "United States",
          "United Arab Emirates",
          "Japan",
          "Hong Kong",
          "Australia",
          "Hong Kong",
          "United States",
          "United States",
          "Canada",
          "United Arab Emirates",
          "Saudi Arabia",
          "Australia",
          "China",
          "United States",
          "China",
          "United States",
          "Hong Kong",
          "United States",
          "Germany",
          "China",
          "United States",
          "China",
          "Kazakhstan",
          "United States",
          "India",
          "France",
          "Luxembourg",
          "United States",
          "China",
          "United Kingdom",
          "United States",
          "Portugal",
          "Australia",
          "Japan",
          "United States",
          "China",
          "Saudi Arabia",
          "United States",
          "China",
          "United States",
          "China",
          "Germany",
          "Sweden",
          "Taiwan",
          "Ireland",
          "France",
          "United States",
          "France",
          "United States",
          "France",
          "Australia",
          "India",
          "China",
          "Canada",
          "China",
          "United Kingdom",
          "United States",
          "United States",
          "United States",
          "United States",
          "Japan",
          "China",
          "United States",
          "Austria",
          "China",
          "South Korea",
          "United States",
          "Japan",
          "United States",
          "China",
          "Japan",
          "Netherlands",
          "South Korea",
          "United States",
          "China",
          "Bermuda",
          "Taiwan",
          "Mexico",
          "Japan",
          "Canada",
          "United States",
          "South Africa",
          "Netherlands",
          "Taiwan",
          "China",
          "Israel",
          "Singapore",
          "United States",
          "United States",
          "Japan",
          "Austria",
          "Switzerland",
          "Canada",
          "Japan",
          "Taiwan",
          "United States",
          "United Arab Emirates",
          "United States",
          "China",
          "South Africa",
          "United Kingdom",
          "United States",
          "Japan",
          "Germany",
          "France",
          "United States",
          "China",
          "India",
          "United States",
          "Bermuda",
          "United States",
          "Japan",
          "United States",
          "United States",
          "Japan",
          "South Korea",
          "United States",
          "Norway",
          "Germany",
          "India",
          "Netherlands",
          "China",
          "Japan",
          "United States",
          "United States",
          "China",
          "Japan",
          "United States",
          "South Korea",
          "Brazil",
          "United States",
          "China",
          "United States",
          "United States",
          "United States",
          "Luxembourg",
          "China",
          "China",
          "United States",
          "Japan",
          "Taiwan",
          "Ireland",
          "China",
          "United States",
          "China",
          "United States",
          "United States",
          "South Korea",
          "United States",
          "China",
          "China",
          "Italy",
          "United States",
          "China",
          "Germany",
          "United Kingdom",
          "Finland",
          "China",
          "United States",
          "China",
          "Japan",
          "United States",
          "United States",
          "Canada",
          "Australia",
          "Japan",
          "Japan",
          "Japan",
          "Singapore",
          "Taiwan",
          "United States",
          "United States",
          "Philippines",
          "Japan",
          "United States",
          "China",
          "France",
          "China",
          "United States",
          "United States",
          "United Kingdom",
          "Japan",
          "Malaysia",
          "Germany",
          "Germany",
          "United States",
          "United States",
          "Australia",
          "United States",
          "China",
          "China",
          "Japan",
          "Mexico",
          "China",
          "Hong Kong",
          "India",
          "China",
          "Taiwan",
          "Hong Kong",
          "Saudi Arabia",
          "United States",
          "India",
          "Hong Kong",
          "Malaysia",
          "Sweden",
          "Belgium",
          "United States",
          "Ireland",
          "Netherlands",
          "Taiwan",
          "China",
          "China",
          "France",
          "United States",
          "United States",
          "China",
          "United States",
          "United States",
          "Germany",
          "Germany",
          "Israel",
          "United Kingdom",
          "China",
          "United Kingdom",
          "United States",
          "China",
          "Switzerland",
          "Thailand",
          "United States",
          "United States",
          "Thailand",
          "India",
          "Sweden",
          "Japan",
          "China",
          "China",
          "Canada",
          "Taiwan",
          "Japan",
          "Qatar",
          "United States",
          "United States",
          "Indonesia",
          "United States",
          "China",
          "United States",
          "Japan",
          "Israel",
          "United States",
          "United States",
          "China",
          "Switzerland",
          "United States",
          "Taiwan",
          "Japan",
          "Malaysia",
          "United States",
          "Japan",
          "India",
          "Ireland",
          "South Africa",
          "South Korea",
          "United Arab Emirates",
          "China",
          "Germany",
          "Thailand",
          "China",
          "Taiwan",
          "Japan",
          "China",
          "Australia",
          "Hong Kong",
          "India",
          "Germany",
          "Sweden",
          "Taiwan",
          "Peru",
          "Turkey",
          "United States",
          "United States",
          "United States",
          "United States",
          "China",
          "Ireland",
          "France",
          "United Arab Emirates",
          "China",
          "United States",
          "Brazil",
          "China",
          "France",
          "China",
          "China",
          "United States",
          "Italy",
          "Japan",
          "Saudi Arabia",
          "Hong Kong",
          "Saudi Arabia",
          "United States",
          "Japan",
          "Japan",
          "United States",
          "United Arab Emirates",
          "Italy",
          "Australia",
          "South Korea",
          "United Kingdom",
          "Canada",
          "China",
          "United States",
          "United States",
          "Ireland",
          "United Kingdom",
          "Taiwan",
          "United States",
          "China",
          "United States",
          "United States",
          "France",
          "Finland",
          "Singapore",
          "Mexico",
          "Norway",
          "China",
          "China",
          "France",
          "Japan",
          "China",
          "China",
          "Netherlands",
          "United States",
          "United States",
          "United States",
          "Thailand",
          "Spain",
          "France",
          "Japan",
          "India",
          "Australia",
          "Germany",
          "Sweden",
          "Japan",
          "United States",
          "United States",
          "United States",
          "Japan",
          "Japan",
          "China",
          "China",
          "Mexico",
          "Nigeria",
          "United States",
          "Spain",
          "Sweden",
          "United States",
          "China",
          "Turkey",
          "Japan",
          "Taiwan",
          "Australia",
          "United States",
          "Israel",
          "France",
          "Japan",
          "Japan",
          "India",
          "United States",
          "China",
          "United States",
          "Taiwan",
          "Netherlands",
          "United States",
          "United States",
          "Japan",
          "Ireland",
          "Japan",
          "United States",
          "Qatar",
          "United States",
          "Portugal",
          "United States",
          "United Arab Emirates",
          "United States",
          "United Kingdom",
          "United Kingdom",
          "China",
          "Vietnam",
          "Norway",
          "Poland",
          "United States",
          "Taiwan",
          "Germany",
          "Turkey",
          "United States",
          "China",
          "Japan",
          "China",
          "United Kingdom",
          "United States",
          "Italy",
          "United States",
          "South Korea",
          "United States",
          "United States",
          "South Korea",
          "Canada",
          "Japan",
          "China",
          "China",
          "China",
          "Italy",
          "South Korea",
          "Bermuda",
          "United States",
          "China",
          "United States",
          "Argentina",
          "Japan",
          "United States",
          "Luxembourg",
          "United States",
          "United States",
          "Netherlands",
          "Australia",
          "Thailand",
          "Turkey",
          "China",
          "Thailand",
          "Spain",
          "Japan",
          "China",
          "China",
          "China",
          "Brazil",
          "Switzerland",
          "China",
          "Hungary",
          "United States",
          "United States",
          "United States",
          "China",
          "United Kingdom",
          "India",
          "Japan",
          "United States",
          "China",
          "Japan",
          "Singapore",
          "Israel",
          "China",
          "Japan",
          "Japan",
          "China",
          "South Korea",
          "Netherlands",
          "China",
          "United Kingdom",
          "United States",
          "China",
          "Germany",
          "Japan",
          "South Africa",
          "Brazil",
          "Japan",
          "United States",
          "Finland",
          "China",
          "China",
          "Belgium",
          "Brazil",
          "Poland",
          "Saudi Arabia",
          "Mexico",
          "United Kingdom",
          "Morocco",
          "United Arab Emirates",
          "United States",
          "South Africa",
          "Japan",
          "South Korea",
          "Hong Kong",
          "Japan",
          "United States",
          "United States",
          "United States",
          "South Korea",
          "China",
          "Canada",
          "United Kingdom",
          "Germany",
          "United States",
          "Belgium",
          "United Kingdom",
          "United States",
          "Luxembourg",
          "United States",
          "China",
          "China",
          "South Korea",
          "United States",
          "United States",
          "United States",
          "China",
          "Austria",
          "Switzerland",
          "Thailand",
          "China",
          "China",
          "United States",
          "Japan",
          "France",
          "South Korea",
          "United States",
          "South Africa",
          "Colombia",
          "Canada",
          "China",
          "United States",
          "Taiwan",
          "Taiwan",
          "United States",
          "South Korea",
          "United Kingdom",
          "United States",
          "Hong Kong",
          "Brazil",
          "Hong Kong",
          "France",
          "United States",
          "Switzerland",
          "South Korea",
          "United States",
          "United States",
          "United States",
          "India",
          "India",
          "United States",
          "China",
          "Taiwan",
          "Japan",
          "Japan",
          "Taiwan",
          "India",
          "Chile",
          "United States",
          "France",
          "Japan",
          "Japan",
          "South Korea",
          "United States",
          "Qatar",
          "Japan",
          "United States",
          "United States",
          "Qatar",
          "Taiwan",
          "South Africa",
          "Brazil",
          "Japan",
          "Canada",
          "United States",
          "Taiwan",
          "Canada",
          "South Korea",
          "France",
          "Hong Kong",
          "United States",
          "United States",
          "Italy",
          "Italy",
          "United States",
          "Hungary",
          "United Arab Emirates",
          "Japan",
          "China",
          "Japan",
          "United States",
          "Japan",
          "Japan",
          "Japan",
          "Hong Kong",
          "South Korea",
          "China",
          "China",
          "Netherlands",
          "India",
          "Hong Kong",
          "South Korea",
          "South Korea",
          "China",
          "United States",
          "United States",
          "China",
          "Italy",
          "Norway",
          "Taiwan",
          "Canada",
          "United States",
          "Sweden",
          "Hong Kong",
          "United States",
          "China",
          "Italy",
          "United Kingdom",
          "Spain",
          "Israel",
          "South Africa",
          "United States",
          "Austria",
          "Taiwan",
          "Australia",
          "United States",
          "Ireland",
          "China",
          "South Korea",
          "India",
          "Japan",
          "United States",
          "Poland",
          "United States",
          "China",
          "United Kingdom",
          "Indonesia",
          "United States",
          "South Korea",
          "United States",
          "Netherlands",
          "China",
          "Japan",
          "United States",
          "Japan",
          "Japan",
          "China",
          "Japan",
          "Vietnam",
          "Poland",
          "Chile",
          "United States",
          "United States",
          "United States",
          "China",
          "Chile",
          "India",
          "Spain",
          "Thailand",
          "India",
          "Italy",
          "Switzerland",
          "Hong Kong",
          "Brazil",
          "South Africa",
          "Japan",
          "Netherlands",
          "China",
          "South Korea",
          "Greece",
          "Thailand",
          "Turkey",
          "Germany",
          "Taiwan",
          "India",
          "United States",
          "United States",
          "China",
          "United States",
          "United States",
          "Japan",
          "Japan",
          "Canada",
          "China",
          "Mexico",
          "Malaysia",
          "Oman",
          "China",
          "Hong Kong",
          "United States",
          "United States",
          "France",
          "United States",
          "United States",
          "Japan",
          "Egypt",
          "Chile",
          "United States",
          "China",
          "Sweden",
          "India",
          "Spain",
          "Austria",
          "Japan",
          "Thailand",
          "Greece",
          "China",
          "China",
          "United States",
          "Japan",
          "China",
          "United States",
          "China",
          "China",
          "Philippines",
          "Saudi Arabia",
          "China",
          "United Kingdom",
          "United States",
          "Singapore",
          "Japan",
          "Germany",
          "South Korea",
          "China",
          "Australia",
          "China",
          "Malaysia",
          "South Korea",
          "United States",
          "China",
          "Morocco",
          "China",
          "Japan",
          "China",
          "Austria",
          "Taiwan",
          "France",
          "France",
          "Germany",
          "Hong Kong",
          "Chile",
          "Italy",
          "Japan",
          "United Kingdom",
          "China",
          "Japan",
          "Norway",
          "South Korea",
          "Hong Kong",
          "China",
          "China",
          "Spain",
          "Denmark",
          "United States",
          "Japan",
          "Singapore",
          "China",
          "China",
          "India",
          "Japan",
          "United States",
          "Canada",
          "Vietnam",
          "China",
          "Taiwan",
          "United States",
          "Japan",
          "Japan",
          "Thailand",
          "China",
          "United States",
          "India",
          "China",
          "United States",
          "China",
          "China",
          "United States",
          "France",
          "Jordan",
          "United States",
          "China",
          "United States",
          "United States",
          "Germany",
          "Turkey",
          "Italy",
          "China",
          "Turkey",
          "China",
          "Italy",
          "Chile",
          "United States",
          "Australia",
          "China",
          "South Korea",
          "Chile",
          "United States",
          "United States",
          "Turkey",
          "Japan",
          "United States",
          "United States",
          "Kazakhstan",
          "United States",
          "France",
          "Hong Kong",
          "China",
          "China",
          "Austria",
          "Brazil",
          "China",
          "United States",
          "China",
          "China",
          "United States",
          "China",
          "Switzerland",
          "Taiwan",
          "China",
          "China",
          "South Korea",
          "India",
          "Germany",
          "United States",
          "Japan",
          "Japan",
          "Portugal",
          "Taiwan",
          "Japan",
          "Turkey",
          "Poland",
          "South Korea",
          "Brazil",
          "South Korea",
          "China",
          "United States",
          "Hong Kong",
          "South Korea",
          "Japan",
          "United States",
          "China",
          "Norway",
          "United States",
          "Vietnam",
          "China",
          "China",
          "United States",
          "South Korea",
          "Switzerland",
          "Taiwan",
          "Germany",
          "Taiwan",
          "Greece",
          "China",
          "China",
          "United States",
          "United States",
          "United States",
          "Switzerland",
          "United States",
          "United States",
          "Greece",
          "Australia",
          "United States",
          "China",
          "Australia",
          "United States",
          "China",
          "China",
          "Mexico",
          "China",
          "China",
          "South Korea",
          "Brazil",
          "China",
          "South Africa",
          "Germany",
          "China",
          "South Korea",
          "China",
          "United States",
          "India",
          "Greece",
          "Japan",
          "United States",
          "United Kingdom",
          "Japan",
          "Japan",
          "Japan",
          "Japan",
          "Hong Kong",
          "Colombia",
          "United States",
          "United States",
          "China",
          "Switzerland",
          "Italy",
          "China",
          "South Korea",
          "Japan",
          "China",
          "Austria",
          "China",
          "Thailand",
          "China",
          "Taiwan",
          "Japan",
          "United States",
          "China",
          "Japan",
          "United States",
          "Spain",
          "Italy",
          "China",
          "United Kingdom",
          "Singapore",
          "Hong Kong",
          "China",
          "Australia",
          "China",
          "Singapore",
          "China",
          "Greece",
          "China",
          "United States",
          "Switzerland",
          "United Kingdom",
          "Hong Kong",
          "China",
          "China",
          "United States",
          "China",
          "Greece",
          "United States",
          "Finland",
          "Brazil",
          "China",
          "South Korea",
          "Italy",
          "China",
          "United States",
          "China",
          "United States",
          "United States",
          "United States",
          "South Korea",
          "Thailand",
          "United States",
          "Japan",
          "Japan",
          "Israel",
          "China",
          "South Korea",
          "Germany",
          "India",
          "Canada",
          "Japan",
          "Israel",
          "Italy",
          "Germany",
          "United States",
          "Japan",
          "China",
          "Hong Kong",
          "South Korea",
          "China",
          "Japan",
          "United States",
          "Taiwan",
          "Japan",
          "Bermuda",
          "United States",
          "United States",
          "Japan",
          "China",
          "South Korea",
          "China",
          "South Korea",
          "China",
          "United States",
          "Germany",
          "Nigeria",
          "South Korea",
          "China",
          "United States",
          "China",
          "China",
          "Germany",
          "Hong Kong",
          "Japan",
          "Japan",
          "France",
          "China",
          "South Korea",
          "United Kingdom",
          "China",
          "United States",
          "China",
          "Japan",
          "China",
          "United States",
          "Japan",
          "Israel",
          "Germany",
          "United States",
          "China",
          "Bermuda",
          "Japan",
          "United States",
          "United States",
          "Japan",
          "Germany",
          "South Korea",
          "Japan",
          "Italy",
          "Israel",
          "South Korea",
          "China",
          "Poland",
          "Japan",
          "Colombia",
          "China",
          "China",
          "China",
          "Japan",
          "China",
          "Japan",
          "China",
          "Japan",
          "China",
          "Brazil",
          "South Korea",
          "Japan",
          "Japan",
          "Japan",
          "China",
          "Japan",
          "China",
          "Japan",
          "China",
          "China",
          "United States",
          "China",
          "Netherlands",
          "Japan",
          "South Korea",
          "Singapore",
          "Philippines",
          "Japan",
          "Japan",
          "Japan",
          "China",
          "Switzerland",
          "Japan",
          "United States",
          "Japan",
          "South Korea",
          "Taiwan",
          "Japan",
          "Indonesia",
          "China",
          "Switzerland",
          "Greece",
          "United States",
          "United Kingdom",
          "Pakistan",
          "Malaysia",
          "United States",
          "France"
         ],
         "yaxis": "y"
        }
       ],
       "layout": {
        "barmode": "relative",
        "legend": {
         "tracegroupgap": 0
        },
        "template": {
         "data": {
          "bar": [
           {
            "error_x": {
             "color": "#2a3f5f"
            },
            "error_y": {
             "color": "#2a3f5f"
            },
            "marker": {
             "line": {
              "color": "#E5ECF6",
              "width": 0.5
             },
             "pattern": {
              "fillmode": "overlay",
              "size": 10,
              "solidity": 0.2
             }
            },
            "type": "bar"
           }
          ],
          "barpolar": [
           {
            "marker": {
             "line": {
              "color": "#E5ECF6",
              "width": 0.5
             },
             "pattern": {
              "fillmode": "overlay",
              "size": 10,
              "solidity": 0.2
             }
            },
            "type": "barpolar"
           }
          ],
          "carpet": [
           {
            "aaxis": {
             "endlinecolor": "#2a3f5f",
             "gridcolor": "white",
             "linecolor": "white",
             "minorgridcolor": "white",
             "startlinecolor": "#2a3f5f"
            },
            "baxis": {
             "endlinecolor": "#2a3f5f",
             "gridcolor": "white",
             "linecolor": "white",
             "minorgridcolor": "white",
             "startlinecolor": "#2a3f5f"
            },
            "type": "carpet"
           }
          ],
          "choropleth": [
           {
            "colorbar": {
             "outlinewidth": 0,
             "ticks": ""
            },
            "type": "choropleth"
           }
          ],
          "contour": [
           {
            "colorbar": {
             "outlinewidth": 0,
             "ticks": ""
            },
            "colorscale": [
             [
              0,
              "#0d0887"
             ],
             [
              0.1111111111111111,
              "#46039f"
             ],
             [
              0.2222222222222222,
              "#7201a8"
             ],
             [
              0.3333333333333333,
              "#9c179e"
             ],
             [
              0.4444444444444444,
              "#bd3786"
             ],
             [
              0.5555555555555556,
              "#d8576b"
             ],
             [
              0.6666666666666666,
              "#ed7953"
             ],
             [
              0.7777777777777778,
              "#fb9f3a"
             ],
             [
              0.8888888888888888,
              "#fdca26"
             ],
             [
              1,
              "#f0f921"
             ]
            ],
            "type": "contour"
           }
          ],
          "contourcarpet": [
           {
            "colorbar": {
             "outlinewidth": 0,
             "ticks": ""
            },
            "type": "contourcarpet"
           }
          ],
          "heatmap": [
           {
            "colorbar": {
             "outlinewidth": 0,
             "ticks": ""
            },
            "colorscale": [
             [
              0,
              "#0d0887"
             ],
             [
              0.1111111111111111,
              "#46039f"
             ],
             [
              0.2222222222222222,
              "#7201a8"
             ],
             [
              0.3333333333333333,
              "#9c179e"
             ],
             [
              0.4444444444444444,
              "#bd3786"
             ],
             [
              0.5555555555555556,
              "#d8576b"
             ],
             [
              0.6666666666666666,
              "#ed7953"
             ],
             [
              0.7777777777777778,
              "#fb9f3a"
             ],
             [
              0.8888888888888888,
              "#fdca26"
             ],
             [
              1,
              "#f0f921"
             ]
            ],
            "type": "heatmap"
           }
          ],
          "heatmapgl": [
           {
            "colorbar": {
             "outlinewidth": 0,
             "ticks": ""
            },
            "colorscale": [
             [
              0,
              "#0d0887"
             ],
             [
              0.1111111111111111,
              "#46039f"
             ],
             [
              0.2222222222222222,
              "#7201a8"
             ],
             [
              0.3333333333333333,
              "#9c179e"
             ],
             [
              0.4444444444444444,
              "#bd3786"
             ],
             [
              0.5555555555555556,
              "#d8576b"
             ],
             [
              0.6666666666666666,
              "#ed7953"
             ],
             [
              0.7777777777777778,
              "#fb9f3a"
             ],
             [
              0.8888888888888888,
              "#fdca26"
             ],
             [
              1,
              "#f0f921"
             ]
            ],
            "type": "heatmapgl"
           }
          ],
          "histogram": [
           {
            "marker": {
             "pattern": {
              "fillmode": "overlay",
              "size": 10,
              "solidity": 0.2
             }
            },
            "type": "histogram"
           }
          ],
          "histogram2d": [
           {
            "colorbar": {
             "outlinewidth": 0,
             "ticks": ""
            },
            "colorscale": [
             [
              0,
              "#0d0887"
             ],
             [
              0.1111111111111111,
              "#46039f"
             ],
             [
              0.2222222222222222,
              "#7201a8"
             ],
             [
              0.3333333333333333,
              "#9c179e"
             ],
             [
              0.4444444444444444,
              "#bd3786"
             ],
             [
              0.5555555555555556,
              "#d8576b"
             ],
             [
              0.6666666666666666,
              "#ed7953"
             ],
             [
              0.7777777777777778,
              "#fb9f3a"
             ],
             [
              0.8888888888888888,
              "#fdca26"
             ],
             [
              1,
              "#f0f921"
             ]
            ],
            "type": "histogram2d"
           }
          ],
          "histogram2dcontour": [
           {
            "colorbar": {
             "outlinewidth": 0,
             "ticks": ""
            },
            "colorscale": [
             [
              0,
              "#0d0887"
             ],
             [
              0.1111111111111111,
              "#46039f"
             ],
             [
              0.2222222222222222,
              "#7201a8"
             ],
             [
              0.3333333333333333,
              "#9c179e"
             ],
             [
              0.4444444444444444,
              "#bd3786"
             ],
             [
              0.5555555555555556,
              "#d8576b"
             ],
             [
              0.6666666666666666,
              "#ed7953"
             ],
             [
              0.7777777777777778,
              "#fb9f3a"
             ],
             [
              0.8888888888888888,
              "#fdca26"
             ],
             [
              1,
              "#f0f921"
             ]
            ],
            "type": "histogram2dcontour"
           }
          ],
          "mesh3d": [
           {
            "colorbar": {
             "outlinewidth": 0,
             "ticks": ""
            },
            "type": "mesh3d"
           }
          ],
          "parcoords": [
           {
            "line": {
             "colorbar": {
              "outlinewidth": 0,
              "ticks": ""
             }
            },
            "type": "parcoords"
           }
          ],
          "pie": [
           {
            "automargin": true,
            "type": "pie"
           }
          ],
          "scatter": [
           {
            "fillpattern": {
             "fillmode": "overlay",
             "size": 10,
             "solidity": 0.2
            },
            "type": "scatter"
           }
          ],
          "scatter3d": [
           {
            "line": {
             "colorbar": {
              "outlinewidth": 0,
              "ticks": ""
             }
            },
            "marker": {
             "colorbar": {
              "outlinewidth": 0,
              "ticks": ""
             }
            },
            "type": "scatter3d"
           }
          ],
          "scattercarpet": [
           {
            "marker": {
             "colorbar": {
              "outlinewidth": 0,
              "ticks": ""
             }
            },
            "type": "scattercarpet"
           }
          ],
          "scattergeo": [
           {
            "marker": {
             "colorbar": {
              "outlinewidth": 0,
              "ticks": ""
             }
            },
            "type": "scattergeo"
           }
          ],
          "scattergl": [
           {
            "marker": {
             "colorbar": {
              "outlinewidth": 0,
              "ticks": ""
             }
            },
            "type": "scattergl"
           }
          ],
          "scattermapbox": [
           {
            "marker": {
             "colorbar": {
              "outlinewidth": 0,
              "ticks": ""
             }
            },
            "type": "scattermapbox"
           }
          ],
          "scatterpolar": [
           {
            "marker": {
             "colorbar": {
              "outlinewidth": 0,
              "ticks": ""
             }
            },
            "type": "scatterpolar"
           }
          ],
          "scatterpolargl": [
           {
            "marker": {
             "colorbar": {
              "outlinewidth": 0,
              "ticks": ""
             }
            },
            "type": "scatterpolargl"
           }
          ],
          "scatterternary": [
           {
            "marker": {
             "colorbar": {
              "outlinewidth": 0,
              "ticks": ""
             }
            },
            "type": "scatterternary"
           }
          ],
          "surface": [
           {
            "colorbar": {
             "outlinewidth": 0,
             "ticks": ""
            },
            "colorscale": [
             [
              0,
              "#0d0887"
             ],
             [
              0.1111111111111111,
              "#46039f"
             ],
             [
              0.2222222222222222,
              "#7201a8"
             ],
             [
              0.3333333333333333,
              "#9c179e"
             ],
             [
              0.4444444444444444,
              "#bd3786"
             ],
             [
              0.5555555555555556,
              "#d8576b"
             ],
             [
              0.6666666666666666,
              "#ed7953"
             ],
             [
              0.7777777777777778,
              "#fb9f3a"
             ],
             [
              0.8888888888888888,
              "#fdca26"
             ],
             [
              1,
              "#f0f921"
             ]
            ],
            "type": "surface"
           }
          ],
          "table": [
           {
            "cells": {
             "fill": {
              "color": "#EBF0F8"
             },
             "line": {
              "color": "white"
             }
            },
            "header": {
             "fill": {
              "color": "#C8D4E3"
             },
             "line": {
              "color": "white"
             }
            },
            "type": "table"
           }
          ]
         },
         "layout": {
          "annotationdefaults": {
           "arrowcolor": "#2a3f5f",
           "arrowhead": 0,
           "arrowwidth": 1
          },
          "autotypenumbers": "strict",
          "coloraxis": {
           "colorbar": {
            "outlinewidth": 0,
            "ticks": ""
           }
          },
          "colorscale": {
           "diverging": [
            [
             0,
             "#8e0152"
            ],
            [
             0.1,
             "#c51b7d"
            ],
            [
             0.2,
             "#de77ae"
            ],
            [
             0.3,
             "#f1b6da"
            ],
            [
             0.4,
             "#fde0ef"
            ],
            [
             0.5,
             "#f7f7f7"
            ],
            [
             0.6,
             "#e6f5d0"
            ],
            [
             0.7,
             "#b8e186"
            ],
            [
             0.8,
             "#7fbc41"
            ],
            [
             0.9,
             "#4d9221"
            ],
            [
             1,
             "#276419"
            ]
           ],
           "sequential": [
            [
             0,
             "#0d0887"
            ],
            [
             0.1111111111111111,
             "#46039f"
            ],
            [
             0.2222222222222222,
             "#7201a8"
            ],
            [
             0.3333333333333333,
             "#9c179e"
            ],
            [
             0.4444444444444444,
             "#bd3786"
            ],
            [
             0.5555555555555556,
             "#d8576b"
            ],
            [
             0.6666666666666666,
             "#ed7953"
            ],
            [
             0.7777777777777778,
             "#fb9f3a"
            ],
            [
             0.8888888888888888,
             "#fdca26"
            ],
            [
             1,
             "#f0f921"
            ]
           ],
           "sequentialminus": [
            [
             0,
             "#0d0887"
            ],
            [
             0.1111111111111111,
             "#46039f"
            ],
            [
             0.2222222222222222,
             "#7201a8"
            ],
            [
             0.3333333333333333,
             "#9c179e"
            ],
            [
             0.4444444444444444,
             "#bd3786"
            ],
            [
             0.5555555555555556,
             "#d8576b"
            ],
            [
             0.6666666666666666,
             "#ed7953"
            ],
            [
             0.7777777777777778,
             "#fb9f3a"
            ],
            [
             0.8888888888888888,
             "#fdca26"
            ],
            [
             1,
             "#f0f921"
            ]
           ]
          },
          "colorway": [
           "#636efa",
           "#EF553B",
           "#00cc96",
           "#ab63fa",
           "#FFA15A",
           "#19d3f3",
           "#FF6692",
           "#B6E880",
           "#FF97FF",
           "#FECB52"
          ],
          "font": {
           "color": "#2a3f5f"
          },
          "geo": {
           "bgcolor": "white",
           "lakecolor": "white",
           "landcolor": "#E5ECF6",
           "showlakes": true,
           "showland": true,
           "subunitcolor": "white"
          },
          "hoverlabel": {
           "align": "left"
          },
          "hovermode": "closest",
          "mapbox": {
           "style": "light"
          },
          "paper_bgcolor": "white",
          "plot_bgcolor": "#E5ECF6",
          "polar": {
           "angularaxis": {
            "gridcolor": "white",
            "linecolor": "white",
            "ticks": ""
           },
           "bgcolor": "#E5ECF6",
           "radialaxis": {
            "gridcolor": "white",
            "linecolor": "white",
            "ticks": ""
           }
          },
          "scene": {
           "xaxis": {
            "backgroundcolor": "#E5ECF6",
            "gridcolor": "white",
            "gridwidth": 2,
            "linecolor": "white",
            "showbackground": true,
            "ticks": "",
            "zerolinecolor": "white"
           },
           "yaxis": {
            "backgroundcolor": "#E5ECF6",
            "gridcolor": "white",
            "gridwidth": 2,
            "linecolor": "white",
            "showbackground": true,
            "ticks": "",
            "zerolinecolor": "white"
           },
           "zaxis": {
            "backgroundcolor": "#E5ECF6",
            "gridcolor": "white",
            "gridwidth": 2,
            "linecolor": "white",
            "showbackground": true,
            "ticks": "",
            "zerolinecolor": "white"
           }
          },
          "shapedefaults": {
           "line": {
            "color": "#2a3f5f"
           }
          },
          "ternary": {
           "aaxis": {
            "gridcolor": "white",
            "linecolor": "white",
            "ticks": ""
           },
           "baxis": {
            "gridcolor": "white",
            "linecolor": "white",
            "ticks": ""
           },
           "bgcolor": "#E5ECF6",
           "caxis": {
            "gridcolor": "white",
            "linecolor": "white",
            "ticks": ""
           }
          },
          "title": {
           "x": 0.05
          },
          "xaxis": {
           "automargin": true,
           "gridcolor": "white",
           "linecolor": "white",
           "ticks": "",
           "title": {
            "standoff": 15
           },
           "zerolinecolor": "white",
           "zerolinewidth": 2
          },
          "yaxis": {
           "automargin": true,
           "gridcolor": "white",
           "linecolor": "white",
           "ticks": "",
           "title": {
            "standoff": 15
           },
           "zerolinecolor": "white",
           "zerolinewidth": 2
          }
         }
        },
        "title": {
         "text": "Países con Más Empresas Nuevas en el Top"
        },
        "xaxis": {
         "anchor": "y",
         "domain": [
          0,
          1
         ],
         "title": {
          "text": "count"
         }
        },
        "yaxis": {
         "anchor": "x",
         "domain": [
          0,
          1
         ],
         "title": {
          "text": "País"
         }
        }
       }
      }
     },
     "metadata": {},
     "output_type": "display_data"
    }
   ],
   "source": [
    "\n",
    "# Crear un gráfico de barras horizontales para la distribución de empresas por país en la actualidad\n",
    "fig_actual_bar = px.bar(\n",
    "    df_2023, \n",
    "    y='pais',  # La columna que representa los países\n",
    "    orientation='h',  # Barra horizontal\n",
    "    title='Países con Más Empresas Nuevas en el Top',\n",
    "    labels={'cantidad_empresas': 'Cantidad de Empresas', 'pais': 'País'},\n",
    "    template='plotly'\n",
    ")\n",
    "\n",
    "# Mostrar el gráfico de barras horizontales para empresas nuevas\n",
    "fig_actual_bar.show()\n"
   ]
  },
  {
   "cell_type": "markdown",
   "metadata": {},
   "source": [
    "***Conclusiones***\n",
    "\n",
    "\n",
    "En la primera gráfica, se observa que las empresas del sector tecnológico, como Apple y Microsoft, se destacan por sus altos beneficios. Esto se debe a que estas empresas operan en mercados globales y tienen una gran cuota de mercado. Por otro lado, empresas como Walmart, que se centran en el comercio minorista, tienen altos niveles de ventas, pero sus beneficios son menores. Esto se debe a que el comercio minorista es un mercado más competitivo y las empresas tienen que invertir más en infraestructura y marketing.\n",
    "\n",
    "La segunda gráfica muestra que un pequeño número de empresas concentran un gran volumen de activos. Esto se debe a que estas empresas son las más grandes y tienen una presencia global.\n",
    "\n",
    "La tercera gráfica muestra que alrededor del 75% de las empresas de la lista Forbes Global 2001 y 2023 tienen sede en 11 países. Estados Unidos y China son los países con más empresas, seguidos de Japón, Reino Unido y Corea del Sur.\n",
    "\n",
    "La cuarta gráfica muestra un aumento en el número de empresas estadounidenses en la lista. En 2023, Estados Unidos tenía 611 empresas en la lista, lo que representa un aumento del 2,5% respecto a 2022. China, por otro lado, perdió 15 empresas en la lista, lo que representa una disminución del 2,2%.\n",
    "\n",
    "En general, los gráficos de Forbes Global 2000 muestran que las empresas tecnológicas, las empresas con sede en Estados Unidos y las empresas de los sectores energéticos y de consumo son las más grandes y rentables del mundo."
   ]
  }
 ],
 "metadata": {
  "kernelspec": {
   "display_name": "mi_entorno_python37",
   "language": "python",
   "name": "mi_entorno_python37"
  },
  "language_info": {
   "codemirror_mode": {
    "name": "ipython",
    "version": 3
   },
   "file_extension": ".py",
   "mimetype": "text/x-python",
   "name": "python",
   "nbconvert_exporter": "python",
   "pygments_lexer": "ipython3",
   "version": "3.7.17"
  }
 },
 "nbformat": 4,
 "nbformat_minor": 4
}
